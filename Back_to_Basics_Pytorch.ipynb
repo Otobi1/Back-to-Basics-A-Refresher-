{
  "nbformat": 4,
  "nbformat_minor": 0,
  "metadata": {
    "colab": {
      "name": "Back to Basics: Pytorch",
      "provenance": [],
      "authorship_tag": "ABX9TyOUWlo96YUlgKDMZQ5gIqCV",
      "include_colab_link": true
    },
    "kernelspec": {
      "name": "python3",
      "display_name": "Python 3"
    }
  },
  "cells": [
    {
      "cell_type": "markdown",
      "metadata": {
        "id": "view-in-github",
        "colab_type": "text"
      },
      "source": [
        "<a href=\"https://colab.research.google.com/github/Otobi1/Back-to-Basics-A-Refresher-/blob/master/Back_to_Basics_Pytorch.ipynb\" target=\"_parent\"><img src=\"https://colab.research.google.com/assets/colab-badge.svg\" alt=\"Open In Colab\"/></a>"
      ]
    },
    {
      "cell_type": "code",
      "metadata": {
        "id": "9Kw8KMAaGe3_",
        "colab": {
          "base_uri": "https://localhost:8080/"
        },
        "outputId": "4414a4c0-9b79-461c-926b-2eaefcaaa79b"
      },
      "source": [
        "# Importing the needed libraries \r\n",
        "\r\n",
        "import numpy as np\r\n",
        "import torch \r\n",
        "\r\n",
        "print (\"Libraries successfully imported!\")"
      ],
      "execution_count": 1,
      "outputs": [
        {
          "output_type": "stream",
          "text": [
            "Libraries successfully imported!\n"
          ],
          "name": "stdout"
        }
      ]
    },
    {
      "cell_type": "code",
      "metadata": {
        "colab": {
          "base_uri": "https://localhost:8080/"
        },
        "id": "nhdAyzfKgJWR",
        "outputId": "972c36b3-6b51-4448-c375-1660c312e487"
      },
      "source": [
        "# Set seed for reproducibility \r\n",
        "\r\n",
        "SEED = 1234\r\n",
        "np.random.seed(seed = SEED)\r\n",
        "torch.manual_seed(SEED)"
      ],
      "execution_count": 2,
      "outputs": [
        {
          "output_type": "execute_result",
          "data": {
            "text/plain": [
              "<torch._C.Generator at 0x7f5ae9692b70>"
            ]
          },
          "metadata": {
            "tags": []
          },
          "execution_count": 2
        }
      ]
    },
    {
      "cell_type": "code",
      "metadata": {
        "colab": {
          "base_uri": "https://localhost:8080/"
        },
        "id": "VRDnoRqfgbYI",
        "outputId": "e38923b6-b0d9-4abb-b13e-c0581e0fe1f6"
      },
      "source": [
        "# Creating a random tensor \r\n",
        "\r\n",
        "x = torch.randn(2,3) # normal distribution (rand(2,3) -> uniform distribution)\r\n",
        "\r\n",
        "print (f\"Type: {x.type()}\")\r\n",
        "print (f\"Size: {x.shape}\")\r\n",
        "print (f\"Values: \\n{x}\")"
      ],
      "execution_count": 3,
      "outputs": [
        {
          "output_type": "stream",
          "text": [
            "Type: torch.FloatTensor\n",
            "Size: torch.Size([2, 3])\n",
            "Values: \n",
            "tensor([[ 0.0461,  0.4024, -1.0115],\n",
            "        [ 0.2167, -0.6123,  0.5036]])\n"
          ],
          "name": "stdout"
        }
      ]
    },
    {
      "cell_type": "code",
      "metadata": {
        "colab": {
          "base_uri": "https://localhost:8080/"
        },
        "id": "dYzdq6nPg99G",
        "outputId": "ea044c39-375f-41a9-9ef6-2aeb6bbce469"
      },
      "source": [
        "# Zero and ones tensor \r\n",
        "\r\n",
        "x = torch.zeros(2,3)\r\n",
        "print(x)\r\n",
        "x = torch.ones(2,3)\r\n",
        "print (x)"
      ],
      "execution_count": 4,
      "outputs": [
        {
          "output_type": "stream",
          "text": [
            "tensor([[0., 0., 0.],\n",
            "        [0., 0., 0.]])\n",
            "tensor([[1., 1., 1.],\n",
            "        [1., 1., 1.]])\n"
          ],
          "name": "stdout"
        }
      ]
    },
    {
      "cell_type": "code",
      "metadata": {
        "colab": {
          "base_uri": "https://localhost:8080/"
        },
        "id": "Ii2_nSydhMYz",
        "outputId": "dcd49ba9-ffb3-4224-fbec-21cc751cb68f"
      },
      "source": [
        "# List -> Tensor\r\n",
        "x = torch.Tensor([[1,2,3], [4,5,6]])\r\n",
        "\r\n",
        "print (f\"Size: {x.shape}\")\r\n",
        "print (f\"Values: \\n{x}\")"
      ],
      "execution_count": 5,
      "outputs": [
        {
          "output_type": "stream",
          "text": [
            "Size: torch.Size([2, 3])\n",
            "Values: \n",
            "tensor([[1., 2., 3.],\n",
            "        [4., 5., 6.]])\n"
          ],
          "name": "stdout"
        }
      ]
    },
    {
      "cell_type": "code",
      "metadata": {
        "colab": {
          "base_uri": "https://localhost:8080/"
        },
        "id": "5jzYGrsJhjcA",
        "outputId": "9212ad25-9753-4da2-e554-0e7a33d15e82"
      },
      "source": [
        "# Numpy array -> Tensor\r\n",
        "\r\n",
        "x = torch.Tensor(np.random.rand(2,3))\r\n",
        "\r\n",
        "print (f\"Size: {x.shape}\")\r\n",
        "print (f\"Values: \\n{x}\")"
      ],
      "execution_count": 6,
      "outputs": [
        {
          "output_type": "stream",
          "text": [
            "Size: torch.Size([2, 3])\n",
            "Values: \n",
            "tensor([[0.1915, 0.6221, 0.4377],\n",
            "        [0.7854, 0.7800, 0.2726]])\n"
          ],
          "name": "stdout"
        }
      ]
    },
    {
      "cell_type": "code",
      "metadata": {
        "colab": {
          "base_uri": "https://localhost:8080/"
        },
        "id": "KUTlNVvziZYT",
        "outputId": "cff34e76-0804-40aa-cc37-0ec6c0ebab00"
      },
      "source": [
        "# Changing tensor type\r\n",
        "\r\n",
        "x = torch.Tensor(3,4)\r\n",
        "print (f\"Type: {x.type()}\")\r\n",
        "x = x.long()\r\n",
        "print (f\"Type: {x.type()}\")"
      ],
      "execution_count": 7,
      "outputs": [
        {
          "output_type": "stream",
          "text": [
            "Type: torch.FloatTensor\n",
            "Type: torch.LongTensor\n"
          ],
          "name": "stdout"
        }
      ]
    },
    {
      "cell_type": "code",
      "metadata": {
        "colab": {
          "base_uri": "https://localhost:8080/"
        },
        "id": "xbY2oZqLi4Yx",
        "outputId": "cb4faaec-bcc4-44d0-8e2e-6329f6977d30"
      },
      "source": [
        "## Operations \r\n",
        "# - Addition\r\n",
        "\r\n",
        "x = torch.randn(2,3)\r\n",
        "y = torch.randn(2,3)\r\n",
        "\r\n",
        "z = x + y\r\n",
        "\r\n",
        "print (f\"Size: {z.shape}\")\r\n",
        "print (f\"Values: \\n{z}\")"
      ],
      "execution_count": 8,
      "outputs": [
        {
          "output_type": "stream",
          "text": [
            "Size: torch.Size([2, 3])\n",
            "Values: \n",
            "tensor([[ 0.0761, -0.6775, -0.3988],\n",
            "        [ 3.0633, -0.1589,  0.3514]])\n"
          ],
          "name": "stdout"
        }
      ]
    },
    {
      "cell_type": "code",
      "metadata": {
        "colab": {
          "base_uri": "https://localhost:8080/"
        },
        "id": "Ip-DCDw7jaXv",
        "outputId": "715ca315-30e8-41f1-9759-a9e9ba6f840f"
      },
      "source": [
        "# - Dot product\r\n",
        "\r\n",
        "x = torch.randn(2,3)\r\n",
        "y = torch.randn(3,2)\r\n",
        "z = torch.mm(x, y)\r\n",
        "\r\n",
        "print (f\"Size: {z.shape}\")\r\n",
        "print (f\"Values: \\n{z}\")"
      ],
      "execution_count": 9,
      "outputs": [
        {
          "output_type": "stream",
          "text": [
            "Size: torch.Size([2, 2])\n",
            "Values: \n",
            "tensor([[ 1.0796, -0.0759],\n",
            "        [ 1.2746, -0.5134]])\n"
          ],
          "name": "stdout"
        }
      ]
    },
    {
      "cell_type": "code",
      "metadata": {
        "colab": {
          "base_uri": "https://localhost:8080/"
        },
        "id": "4Xi7ICmuj43b",
        "outputId": "9dc71274-a4c3-489c-e06d-7173b8e8c7d1"
      },
      "source": [
        "# - Transpose\r\n",
        "\r\n",
        "x = torch.randn(2,3)\r\n",
        "\r\n",
        "print (f\"Size: {x.shape}\")\r\n",
        "print (f\"Values: \\n{x}\")\r\n",
        "\r\n",
        "y = torch.t(x)\r\n",
        "\r\n",
        "print (f\"Size: {y.shape}\")\r\n",
        "print (f\"Values: \\n{y}\")"
      ],
      "execution_count": 10,
      "outputs": [
        {
          "output_type": "stream",
          "text": [
            "Size: torch.Size([2, 3])\n",
            "Values: \n",
            "tensor([[ 0.8042, -0.1383,  0.3196],\n",
            "        [-1.0187, -1.3147,  2.5228]])\n",
            "Size: torch.Size([3, 2])\n",
            "Values: \n",
            "tensor([[ 0.8042, -1.0187],\n",
            "        [-0.1383, -1.3147],\n",
            "        [ 0.3196,  2.5228]])\n"
          ],
          "name": "stdout"
        }
      ]
    },
    {
      "cell_type": "code",
      "metadata": {
        "colab": {
          "base_uri": "https://localhost:8080/"
        },
        "id": "h8wXZxspkhZJ",
        "outputId": "da827070-59b1-42f1-baac-6a4756b4c403"
      },
      "source": [
        "# - Reshape\r\n",
        "\r\n",
        "x = torch.randn(2,3)\r\n",
        "z = x.view(3,2)\r\n",
        "\r\n",
        "print (f\"Size: {z.shape}\")\r\n",
        "print (f\"Values: \\n{z}\")"
      ],
      "execution_count": 11,
      "outputs": [
        {
          "output_type": "stream",
          "text": [
            "Size: torch.Size([3, 2])\n",
            "Values: \n",
            "tensor([[ 0.4501,  0.2709],\n",
            "        [-0.8087, -0.0217],\n",
            "        [-1.0413,  0.0702]])\n"
          ],
          "name": "stdout"
        }
      ]
    },
    {
      "cell_type": "code",
      "metadata": {
        "id": "9lJWs5wklBtk"
      },
      "source": [
        "# - Dangers of reshaping (unintended consequences)\r\n",
        "\r\n",
        "# https://madewithml.com/courses/ml-foundations/pytorch/"
      ],
      "execution_count": 12,
      "outputs": []
    },
    {
      "cell_type": "code",
      "metadata": {
        "colab": {
          "base_uri": "https://localhost:8080/"
        },
        "id": "_eJQZwg9lVQB",
        "outputId": "09e295db-b19f-4624-899e-b717a143625d"
      },
      "source": [
        "# - Dimensional operations \r\n",
        "\r\n",
        "x = torch.randn(2,3)\r\n",
        "\r\n",
        "print (f\"Values: \\n{x}\")\r\n",
        "y = torch.sum(x, dim = 0) # add each row's value for every column\r\n",
        "print (f\"Values: \\n{y}\")\r\n",
        "z = torch.sum(x, dim = 1) # add each columns value for every row\r\n",
        "print (f\"Values: \\n{z}\")"
      ],
      "execution_count": 13,
      "outputs": [
        {
          "output_type": "stream",
          "text": [
            "Values: \n",
            "tensor([[ 0.5797, -0.0599,  0.1816],\n",
            "        [-0.6797, -0.2567, -1.8189]])\n",
            "Values: \n",
            "tensor([-0.1000, -0.3166, -1.6373])\n",
            "Values: \n",
            "tensor([ 0.7013, -2.7553])\n"
          ],
          "name": "stdout"
        }
      ]
    },
    {
      "cell_type": "code",
      "metadata": {
        "colab": {
          "base_uri": "https://localhost:8080/"
        },
        "id": "br3oP5z2mhXZ",
        "outputId": "d74f3bc5-6fb6-4d37-c163-91ca22253f98"
      },
      "source": [
        "# Indexing, Slicing and Joining \r\n",
        "\r\n",
        "# - Here we review how to extract, separate and join values with tensors \r\n",
        "\r\n",
        "x = torch.randn(3,4)\r\n",
        "\r\n",
        "print (f\"x: \\n{x}\")\r\n",
        "print (f\"x[:1]: \\n{x[:1]}\")\r\n",
        "print (f\"x[:1, 1:3]: \\n{x[:1, 1:3]} \")"
      ],
      "execution_count": 14,
      "outputs": [
        {
          "output_type": "stream",
          "text": [
            "x: \n",
            "tensor([[ 0.2111,  0.3372,  0.6638,  1.0397],\n",
            "        [ 1.8434,  0.6588, -0.2349, -0.0306],\n",
            "        [ 1.7462, -0.0722, -1.6794, -1.7010]])\n",
            "x[:1]: \n",
            "tensor([[0.2111, 0.3372, 0.6638, 1.0397]])\n",
            "x[:1, 1:3]: \n",
            "tensor([[0.3372, 0.6638]]) \n"
          ],
          "name": "stdout"
        }
      ]
    },
    {
      "cell_type": "code",
      "metadata": {
        "colab": {
          "base_uri": "https://localhost:8080/"
        },
        "id": "f1OcGVo1nrId",
        "outputId": "1bd7175f-adb2-43fa-f678-0bb14b551165"
      },
      "source": [
        "# Select with dimensional indices \r\n",
        "\r\n",
        "x = torch.randn(2,3)\r\n",
        "print (f\"Values: \\n{x}\")\r\n",
        "\r\n",
        "col_indices = torch.LongTensor([0,2])\r\n",
        "chosen = torch.index_select(x, dim = 1, index = col_indices) # values from col 0 & 2\r\n",
        "print(f\"Values: \\n{chosen}\")\r\n",
        "\r\n",
        "row_indices = torch.LongTensor([0,1])\r\n",
        "col_indices = torch.LongTensor([0,2])\r\n",
        "chosen = x[row_indices, col_indices] # values from (0,0) & (2,1)\r\n",
        "print (f\"Values: \\n{chosen}\")"
      ],
      "execution_count": 15,
      "outputs": [
        {
          "output_type": "stream",
          "text": [
            "Values: \n",
            "tensor([[ 0.6486,  1.7653,  1.0812],\n",
            "        [ 1.2436,  0.8971, -0.0784]])\n",
            "Values: \n",
            "tensor([[ 0.6486,  1.0812],\n",
            "        [ 1.2436, -0.0784]])\n",
            "Values: \n",
            "tensor([ 0.6486, -0.0784])\n"
          ],
          "name": "stdout"
        }
      ]
    },
    {
      "cell_type": "code",
      "metadata": {
        "id": "0Zy6yPSdp3Xj"
      },
      "source": [
        "# Concatenation"
      ],
      "execution_count": null,
      "outputs": []
    }
  ]
}