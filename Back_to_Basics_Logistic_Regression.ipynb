{
  "nbformat": 4,
  "nbformat_minor": 0,
  "metadata": {
    "colab": {
      "name": "Back to Basics: Logistic Regression ",
      "provenance": [],
      "authorship_tag": "ABX9TyPzuljzeeRI1gBKq9e39tDp",
      "include_colab_link": true
    },
    "kernelspec": {
      "name": "python3",
      "display_name": "Python 3"
    }
  },
  "cells": [
    {
      "cell_type": "markdown",
      "metadata": {
        "id": "view-in-github",
        "colab_type": "text"
      },
      "source": [
        "<a href=\"https://colab.research.google.com/github/Otobi1/Back-to-Basics-A-Refresher-/blob/master/Back_to_Basics_Logistic_Regression.ipynb\" target=\"_parent\"><img src=\"https://colab.research.google.com/assets/colab-badge.svg\" alt=\"Open In Colab\"/></a>"
      ]
    },
    {
      "cell_type": "code",
      "metadata": {
        "id": "8BbyHLCxn-Ve"
      },
      "source": [
        "## Logistic Regression \r\n",
        "# - in this lesson, we will implement a logistic regression for a classification task.\r\n",
        "# - we will probabilistically determine the outcome for a given set of inputs by understanding te math and implementing both in NumPy and PyTorch"
      ],
      "execution_count": 2,
      "outputs": []
    },
    {
      "cell_type": "code",
      "metadata": {
        "id": "5VjLRpAkp4PC"
      },
      "source": [
        "# Losgistic Regressio is an extension of linear regression (both are generalised linear methods)\r\n",
        "# We can still learn to model a line (plane) that models y given X.\r\n",
        "# - Except now, we are dealing with classification problems as opposed to regression problems so we'll be predicting probability distributions as opposed to discrete values.\r\n",
        "# - We will use the softmax operation to normalise our logits (XW) to derive the probabilities\r\n",
        "\r\n",
        "# - We will leave the bias weights out for now to avoid complicating the backpropagation"
      ],
      "execution_count": 3,
      "outputs": []
    },
    {
      "cell_type": "code",
      "metadata": {
        "id": "XNgMwz5ArRgy"
      },
      "source": [
        "# Objective - Predict the probability of class y given inputs X. The softmax classifier normalises the linear outputs to determine class probabilities\r\n",
        "# Advantages - Can predict class probabilities given a aset of inputs\r\n",
        "# Disadvantages  Sensitive to outliers since the obj., is to minimise cross entropy loss. SVMs are better.\r\n",
        "# Softmax classifier is used widely in neural network architectiers as the last layer since it produces class probabilities"
      ],
      "execution_count": 4,
      "outputs": []
    },
    {
      "cell_type": "code",
      "metadata": {
        "id": "Mxc2ez2cr6p5"
      },
      "source": [
        "## Set Up\r\n",
        "\r\n",
        "# Importing the necessary libraries \r\n",
        "\r\n",
        "import numpy as np\r\n",
        "import random"
      ],
      "execution_count": 5,
      "outputs": []
    },
    {
      "cell_type": "code",
      "metadata": {
        "id": "HTpcaJJ_sOgj"
      },
      "source": [
        "SEED = 1234"
      ],
      "execution_count": 6,
      "outputs": []
    },
    {
      "cell_type": "code",
      "metadata": {
        "id": "M_sUPx9JsQE3"
      },
      "source": [
        "# Set seed for reproducibility \r\n",
        "\r\n",
        "np.random.seed(SEED)\r\n",
        "random.seed(SEED)"
      ],
      "execution_count": 7,
      "outputs": []
    },
    {
      "cell_type": "code",
      "metadata": {
        "id": "oYMqfra-sX0N"
      },
      "source": [
        "# Load data \r\n",
        "# - We'll use some synthesised data (no clinical relevance). \r\n",
        "# - the task is to determine whether a tumor will be benign (harmless) or malignant(harmful) based on leukocyte (white blood cells) count and blood pressure. "
      ],
      "execution_count": 9,
      "outputs": []
    },
    {
      "cell_type": "code",
      "metadata": {
        "id": "yOtqrz1Assl8"
      },
      "source": [
        "# More libraries \r\n",
        "\r\n",
        "import matplotlib.pyplot as plt\r\n",
        "import pandas as pd\r\n",
        "from pandas.plotting import scatter_matrix"
      ],
      "execution_count": 10,
      "outputs": []
    },
    {
      "cell_type": "code",
      "metadata": {
        "id": "NX64obqPtRAf"
      },
      "source": [
        "np.random.seed(SEED)"
      ],
      "execution_count": 11,
      "outputs": []
    },
    {
      "cell_type": "code",
      "metadata": {
        "colab": {
          "base_uri": "https://localhost:8080/",
          "height": 200
        },
        "id": "apKFqxQotWGp",
        "outputId": "31735109-49d5-452b-ecc4-41619c32773a"
      },
      "source": [
        "# Reading the data from csv to pandas dataframe\r\n",
        "\r\n",
        "url = \"https://raw.githubusercontent.com/GokuMohandas/madewithml/main/datasets/tumors.csv\"\r\n",
        "df = pd.read_csv(url, header = 0) # load\r\n",
        "df = df.sample(frac = 1).reset_index(drop = True) # Shuffle\r\n",
        "df.head()"
      ],
      "execution_count": 12,
      "outputs": [
        {
          "output_type": "execute_result",
          "data": {
            "text/html": [
              "<div>\n",
              "<style scoped>\n",
              "    .dataframe tbody tr th:only-of-type {\n",
              "        vertical-align: middle;\n",
              "    }\n",
              "\n",
              "    .dataframe tbody tr th {\n",
              "        vertical-align: top;\n",
              "    }\n",
              "\n",
              "    .dataframe thead th {\n",
              "        text-align: right;\n",
              "    }\n",
              "</style>\n",
              "<table border=\"1\" class=\"dataframe\">\n",
              "  <thead>\n",
              "    <tr style=\"text-align: right;\">\n",
              "      <th></th>\n",
              "      <th>leukocyte_count</th>\n",
              "      <th>blood_pressure</th>\n",
              "      <th>tumor_class</th>\n",
              "    </tr>\n",
              "  </thead>\n",
              "  <tbody>\n",
              "    <tr>\n",
              "      <th>0</th>\n",
              "      <td>15.335860</td>\n",
              "      <td>14.637535</td>\n",
              "      <td>benign</td>\n",
              "    </tr>\n",
              "    <tr>\n",
              "      <th>1</th>\n",
              "      <td>9.857535</td>\n",
              "      <td>14.518942</td>\n",
              "      <td>malignant</td>\n",
              "    </tr>\n",
              "    <tr>\n",
              "      <th>2</th>\n",
              "      <td>17.632579</td>\n",
              "      <td>15.869585</td>\n",
              "      <td>benign</td>\n",
              "    </tr>\n",
              "    <tr>\n",
              "      <th>3</th>\n",
              "      <td>18.369174</td>\n",
              "      <td>14.774547</td>\n",
              "      <td>benign</td>\n",
              "    </tr>\n",
              "    <tr>\n",
              "      <th>4</th>\n",
              "      <td>14.509367</td>\n",
              "      <td>15.892224</td>\n",
              "      <td>malignant</td>\n",
              "    </tr>\n",
              "  </tbody>\n",
              "</table>\n",
              "</div>"
            ],
            "text/plain": [
              "   leukocyte_count  blood_pressure tumor_class\n",
              "0        15.335860       14.637535      benign\n",
              "1         9.857535       14.518942   malignant\n",
              "2        17.632579       15.869585      benign\n",
              "3        18.369174       14.774547      benign\n",
              "4        14.509367       15.892224   malignant"
            ]
          },
          "metadata": {
            "tags": []
          },
          "execution_count": 12
        }
      ]
    },
    {
      "cell_type": "code",
      "metadata": {
        "id": "ItY2loBJt4a8"
      },
      "source": [
        "# Defining the inputs X and output y\r\n",
        "\r\n",
        "X = df[[\"leukocyte_count\", \"blood_pressure\"]].values\r\n",
        "y = df[\"tumor_class\"].values"
      ],
      "execution_count": 14,
      "outputs": []
    },
    {
      "cell_type": "code",
      "metadata": {
        "colab": {
          "base_uri": "https://localhost:8080/",
          "height": 279
        },
        "id": "tBCSVZSAvcDY",
        "outputId": "3544d3e5-07bf-4430-e9d7-5c3183abdf97"
      },
      "source": [
        "# Plot data\r\n",
        "\r\n",
        "colours = {\"benign\": \"red\", \"malignant\": \"blue\"} \r\n",
        "plt.scatter(X[:,0], X[:,1], c = [colours[_y] for _y in y], s = 25, edgecolors = \"k\")\r\n",
        "plt.xlabel(\"leukocyte count\")\r\n",
        "plt.ylabel(\"blood pressure\")\r\n",
        "plt.legend([\"malignant\", \"benign\"], loc = \"upper right\")\r\n",
        "plt.show()"
      ],
      "execution_count": 16,
      "outputs": [
        {
          "output_type": "display_data",
          "data": {
            "image/png": "[encoded data removed]",
            "text/plain": [
              "<Figure size 432x288 with 1 Axes>"
            ]
          },
          "metadata": {
            "tags": [],
            "needs_background": "light"
          }
        }
      ]
    },
    {
      "cell_type": "code",
      "metadata": {
        "id": "cmx9__3twh55"
      },
      "source": [
        "# Splitting the data\r\n",
        "\r\n",
        "# - we need to split the data such that the three splits have the same distribution of classes to ensure proper training and evaluation\r\n",
        "\r\n",
        "# - using sklearn \r\n",
        "\r\n",
        "import collections\r\n",
        "from sklearn.model_selection import train_test_split"
      ],
      "execution_count": 17,
      "outputs": []
    },
    {
      "cell_type": "code",
      "metadata": {
        "id": "PU_xjFDSxOS8"
      },
      "source": [
        "TRAIN_SIZE = 0.7\r\n",
        "VAL_SIZE = 0.15 \r\n",
        "TEST_SIZE = 0.15"
      ],
      "execution_count": 18,
      "outputs": []
    },
    {
      "cell_type": "code",
      "metadata": {
        "id": "m0I77JNPy9BV"
      },
      "source": [
        "def train_val_test_split(X, y, train_size):\r\n",
        "  \"\"\"Split dataset into data splits.\"\"\"\r\n",
        "  X_train, X_, y_train, y_ = train_test_split(X, y, train_size = TRAIN_SIZE, stratify = y)\r\n",
        "  X_val, X_test, y_val, y_test = train_test_split(X_, y_, train_size = 0.5, stratify = y_)\r\n",
        "  return X_train, X_val, X_test, y_train, y_val, y_test"
      ],
      "execution_count": 20,
      "outputs": []
    },
    {
      "cell_type": "code",
      "metadata": {
        "colab": {
          "base_uri": "https://localhost:8080/"
        },
        "id": "kefts0zrz2eM",
        "outputId": "a848d744-fed5-41a5-c58b-139f0742e7b8"
      },
      "source": [
        "# Creating data splits\r\n",
        "\r\n",
        "X_train, X_val, X_test, y_train, y_val, y_test = train_val_test_split(\r\n",
        "    X = X, y = y, train_size = TRAIN_SIZE)\r\n",
        "\r\n",
        "print (f\"X_train: {X_train.shape}, y_train: {y_train.shape}\")\r\n",
        "print (f\"X_val: {X_val.shape}, y_val: {y_val.shape}\")\r\n",
        "print (f\"X_test: {X_test.shape}, y_test: {y_test.shape}\")\r\n",
        "print (f\"Sample point: {X_train[0]} -> {y_train[0]}\")"
      ],
      "execution_count": 21,
      "outputs": [
        {
          "output_type": "stream",
          "text": [
            "X_train: (700, 2), y_train: (700,)\n",
            "X_val: (150, 2), y_val: (150,)\n",
            "X_test: (150, 2), y_test: (150,)\n",
            "Sample point: [14.95081332 14.86441305] -> malignant\n"
          ],
          "name": "stdout"
        }
      ]
    },
    {
      "cell_type": "code",
      "metadata": {
        "colab": {
          "base_uri": "https://localhost:8080/"
        },
        "id": "OfDYmTYT2IlB",
        "outputId": "36a6b397-efbe-485f-df01-f9a7066eee5e"
      },
      "source": [
        "# Now lets check the number of samples per class within each data split \r\n",
        "\r\n",
        "# Overall class distribution \r\n",
        "\r\n",
        "class_counts = dict(collections.Counter(y))\r\n",
        "print (f\"Classes: {class_counts}\")\r\n",
        "print (f\"m:b = {class_counts['malignant']/class_counts['benign']:.2f}\")"
      ],
      "execution_count": 23,
      "outputs": [
        {
          "output_type": "stream",
          "text": [
            "Classes: {'benign': 389, 'malignant': 611}\n",
            "m:b = 1.57\n"
          ],
          "name": "stdout"
        }
      ]
    },
    {
      "cell_type": "code",
      "metadata": {
        "colab": {
          "base_uri": "https://localhost:8080/"
        },
        "id": "Ui7IpkE722Wr",
        "outputId": "8bdff16d-a781-4984-97e4-ff707dd8018b"
      },
      "source": [
        "# Per data split class distribution \r\n",
        "\r\n",
        "train_class_counts = dict(collections.Counter(y_train))\r\n",
        "val_class_counts = dict(collections.Counter(y_val))\r\n",
        "test_class_counts = dict(collections.Counter(y_test))\r\n",
        "\r\n",
        "print (f\"train m:b = {train_class_counts['malignant']/train_class_counts['benign']:.2f}\")\r\n",
        "print (f\"val m:b = {val_class_counts['malignant']/val_class_counts['benign']:.2f}\")\r\n",
        "print (f\"test m:b = {test_class_counts['malignant']/test_class_counts['benign']:.2f}\")"
      ],
      "execution_count": 24,
      "outputs": [
        {
          "output_type": "stream",
          "text": [
            "train m:b = 1.57\n",
            "val m:b = 1.54\n",
            "test m:b = 1.59\n"
          ],
          "name": "stdout"
        }
      ]
    },
    {
      "cell_type": "code",
      "metadata": {
        "id": "ONQLOJRCF-_D"
      },
      "source": [
        "# Label Encoding \r\n",
        "# - Notice our class labels are text, we need to encode them into integers so we can use them in our model\r\n",
        "# - We can use the sklearn's LabelEncoder to do this, but we will write our own simple label encoder class to see what is going on under the hood.\r\n"
      ],
      "execution_count": 25,
      "outputs": []
    },
    {
      "cell_type": "code",
      "metadata": {
        "id": "ZZE5LgZiGiPK"
      },
      "source": [
        "import itertools"
      ],
      "execution_count": 26,
      "outputs": []
    },
    {
      "cell_type": "code",
      "metadata": {
        "id": "pYkzXgfnGj1_"
      },
      "source": [
        "class LabelEncoder(object):\r\n",
        "  \"\"\"Label encoder for tag labels.\"\"\"\r\n",
        "  \r\n",
        "  def __init__(self, class_to_index = {}):\r\n",
        "    self.class_to_index = class_to_index\r\n",
        "    self.index_to_class = {v:k for k, v in self.class_to_index.items()}\r\n",
        "    self.classes = list(self.class_to_index.keys())\r\n",
        "\r\n",
        "  def __len__(self):\r\n",
        "    return len(self.class_to_index)\r\n",
        "  \r\n",
        "  def __str__(self):\r\n",
        "    return f\"<LabelEncoder(num_classes = {len(self)})>\"\r\n",
        "  \r\n",
        "  def fit(self, y):\r\n",
        "    classes = np.unique(y_train)\r\n",
        "    for i, class_ in enumerate(classes):\r\n",
        "      self.class_to_index[class_] = i\r\n",
        "    self.index_to_class = {v:k for k, v in self.class_to_index.items()}\r\n",
        "    self.classes = list(self.class_to_index.keys())\r\n",
        "    return self\r\n",
        "  \r\n",
        "  def encode(self, y):\r\n",
        "    encoded = np.zeros((len(y)), dtype = int)\r\n",
        "    for i, item in enumerate(y):\r\n",
        "      encoded[i] = self.class_to_index[item]\r\n",
        "    return encoded\r\n",
        "\r\n",
        "  def decode(self, y):\r\n",
        "    classes = []\r\n",
        "    for i, item in enumerate(y):\r\n",
        "      classes.append(self.index_to_class[item])\r\n",
        "    return classes\r\n",
        "\r\n",
        "  def save(self, fp):\r\n",
        "    with open(fp, 'w') as  fp:\r\n",
        "      contents = {\"class_to_index\": self.class_to_index}\r\n",
        "      json.dump(contents, fp, indent = 4, sort_keys = False)\r\n",
        "\r\n",
        "  @classmethod\r\n",
        "  def load(cls, fp):\r\n",
        "    with open(fp, 'r') as fp:\r\n",
        "      kwargs = json.load(fp = fp)\r\n",
        "    return cls(**kwargs)\r\n",
        "\r\n",
        "    "
      ],
      "execution_count": 27,
      "outputs": []
    },
    {
      "cell_type": "code",
      "metadata": {
        "colab": {
          "base_uri": "https://localhost:8080/"
        },
        "id": "_lSQJQDEJ3OO",
        "outputId": "0e14f9ae-a2a7-4497-b22f-6f454a1762fe"
      },
      "source": [
        "# Fit \r\n",
        "\r\n",
        "label_encoder = LabelEncoder()\r\n",
        "label_encoder.fit(y_train)\r\n",
        "label_encoder.class_to_index"
      ],
      "execution_count": 28,
      "outputs": [
        {
          "output_type": "execute_result",
          "data": {
            "text/plain": [
              "{'benign': 0, 'malignant': 1}"
            ]
          },
          "metadata": {
            "tags": []
          },
          "execution_count": 28
        }
      ]
    },
    {
      "cell_type": "code",
      "metadata": {
        "colab": {
          "base_uri": "https://localhost:8080/"
        },
        "id": "jPjjgvrVb9Ih",
        "outputId": "220934ec-3a06-4026-8432-eab481d98e7c"
      },
      "source": [
        "# Encoder \r\n",
        "print(f\"y_train[0]: {y_train[0]}\")\r\n",
        "\r\n",
        "y_train = label_encoder.encode(y_train)\r\n",
        "y_val = label_encoder.encode(y_val)\r\n",
        "y_test = label_encoder.encode(y_test)\r\n",
        "\r\n",
        "print(f\"y_train[0]: {y_train[0]}\")\r\n",
        "print(f\"decoded: {label_encoder.decode([y_train[0]])}\")"
      ],
      "execution_count": 29,
      "outputs": [
        {
          "output_type": "stream",
          "text": [
            "y_train[0]: malignant\n",
            "y_train[0]: 1\n",
            "decoded: ['malignant']\n"
          ],
          "name": "stdout"
        }
      ]
    },
    {
      "cell_type": "code",
      "metadata": {
        "id": "34EvnMyBcya6"
      },
      "source": [
        "# We also want to calculate the class weights, which are useful fro weighting the loss function during training. \r\n",
        "# it tells the models to focus on samples from an under-represented class\r\n",
        "# the loss section below will show how to incorporate these weights\r\n"
      ],
      "execution_count": 30,
      "outputs": []
    },
    {
      "cell_type": "code",
      "metadata": {
        "colab": {
          "base_uri": "https://localhost:8080/"
        },
        "id": "tclMxyo_nK1t",
        "outputId": "c83fa97f-08e6-45f1-eba2-c301235ee8b9"
      },
      "source": [
        "# Class weights \r\n",
        "\r\n",
        "counts = np.bincount(y_train)\r\n",
        "class_weights = {i:1.0/counts for i, count in enumerate(counts)}\r\n",
        "print (f\"counts: {counts}\\nweights: {class_weights}\")"
      ],
      "execution_count": 32,
      "outputs": [
        {
          "output_type": "stream",
          "text": [
            "counts: [272 428]\n",
            "weights: {0: array([0.00367647, 0.00233645]), 1: array([0.00367647, 0.00233645])}\n"
          ],
          "name": "stdout"
        }
      ]
    },
    {
      "cell_type": "code",
      "metadata": {
        "id": "hMquhMvInnSa"
      },
      "source": [
        "# Standardise data \r\n",
        "# - we need to standardise our data (zero mean and unit variance) so a specific features magnitude does not affect how the model learns its weights.\r\n",
        "# - we are only going to standardise the inputs X because our outputs y are class values.\r\n",
        "\r\n",
        "from sklearn.preprocessing import StandardScaler"
      ],
      "execution_count": 33,
      "outputs": []
    },
    {
      "cell_type": "code",
      "metadata": {
        "id": "L4djh_Bxtj6z"
      },
      "source": [
        "# Standardise the data (mean = 0, std = 1) using the traing data\r\n",
        "\r\n",
        "X_scaler = StandardScaler().fit(X_train)"
      ],
      "execution_count": 34,
      "outputs": []
    },
    {
      "cell_type": "code",
      "metadata": {
        "id": "FEE0srcdtwGu"
      },
      "source": [
        "# Apply scaler on training and test data (dont standardise the outputs)\r\n",
        "\r\n",
        "X_train = X_scaler.transform(X_train)\r\n",
        "X_val = X_scaler.transform(X_val)\r\n",
        "X_test = X_scaler.transform(X_test)"
      ],
      "execution_count": 36,
      "outputs": []
    },
    {
      "cell_type": "code",
      "metadata": {
        "colab": {
          "base_uri": "https://localhost:8080/"
        },
        "id": "N56pp8PVuEk1",
        "outputId": "ed1d41eb-b68f-4525-fa3a-498210c8f77d"
      },
      "source": [
        "# Check (mean should be  approx 0 and std approx 1)\r\n",
        "\r\n",
        "print (f\"X_test[0]: mean:{np.mean(X_test[:,0], axis = 0):.1f}, std: {np.std(X_test[:,0], axis = 0):.1f}\")\r\n",
        "print (f\"X_test[1]: mean:{np.mean(X_test[:,1], axis = 0):.1f}, std: {np.std(X_test[:,1], axis = 0):.1f}\")"
      ],
      "execution_count": 37,
      "outputs": [
        {
          "output_type": "stream",
          "text": [
            "X_test[0]: mean:-5.1, std: 0.3\n",
            "X_test[1]: mean:-14.2, std: 0.9\n"
          ],
          "name": "stdout"
        }
      ]
    },
    {
      "cell_type": "code",
      "metadata": {
        "id": "LmFIBb0lu-5i"
      },
      "source": [
        "## NumPy Implementation "
      ],
      "execution_count": null,
      "outputs": []
    }
  ]
}