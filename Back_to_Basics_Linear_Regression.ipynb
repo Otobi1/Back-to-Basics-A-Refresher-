{
  "nbformat": 4,
  "nbformat_minor": 0,
  "metadata": {
    "colab": {
      "name": "Back to Basics: Linear Regression ",
      "provenance": [],
      "authorship_tag": "ABX9TyOMyYmWkj1r/4elKJQmTrjF",
      "include_colab_link": true
    },
    "kernelspec": {
      "name": "python3",
      "display_name": "Python 3"
    }
  },
  "cells": [
    {
      "cell_type": "markdown",
      "metadata": {
        "id": "view-in-github",
        "colab_type": "text"
      },
      "source": [
        "<a href=\"https://colab.research.google.com/github/Otobi1/Back-to-Basics-A-Refresher-/blob/master/Back_to_Basics_Linear_Regression.ipynb\" target=\"_parent\"><img src=\"https://colab.research.google.com/assets/colab-badge.svg\" alt=\"Open In Colab\"/></a>"
      ]
    },
    {
      "cell_type": "code",
      "metadata": {
        "id": "Jhus7YXztS9o"
      },
      "source": [
        "## Understanding linear regression, the math, NumPy and PyTorch implementation \r\n",
        "\r\n",
        "# y = XW + b (linear model)\r\n",
        "\r\n",
        "# where y is the prediction, X is the input(s), W is the weight and b is the bias"
      ],
      "execution_count": 7,
      "outputs": []
    },
    {
      "cell_type": "code",
      "metadata": {
        "id": "lt3KwLZQWHvH"
      },
      "source": [
        "# the objective is to use the input X to predict the output y using a linear model.\r\n",
        "# the model will be a line of best fit that minimises the distance between the predicted (model output) and the target (ground truth) values \r\n",
        "\r\n",
        "# Training data (X, y) is used to train the model and learn the weights W using gradient descent."
      ],
      "execution_count": 8,
      "outputs": []
    },
    {
      "cell_type": "code",
      "metadata": {
        "id": "y2hEOiSdWnmf"
      },
      "source": [
        "# Generating the data\r\n",
        "\r\n",
        "# - for this exercise, we will generate some dummy data to apply linear regression on. \r\n",
        "# - it will create roughly linear data (y = 3.5x + noise)\r\n",
        "# - the random noise will be added to create realistic data that doesn't perfectly align in a line.\r\n",
        "# - there will be slight variance since we added some noise "
      ],
      "execution_count": 9,
      "outputs": []
    },
    {
      "cell_type": "code",
      "metadata": {
        "colab": {
          "base_uri": "https://localhost:8080/"
        },
        "id": "QsBIA_YlXN4d",
        "outputId": "8430c546-dc79-4463-c1e1-fc09b7554710"
      },
      "source": [
        "# Importing the necessary libraries \r\n",
        "\r\n",
        "import numpy as np\r\n",
        "import pandas as pd \r\n",
        "import matplotlib.pyplot as plt\r\n",
        "print (\"Libraries successfully imported\")"
      ],
      "execution_count": 18,
      "outputs": [
        {
          "output_type": "stream",
          "text": [
            "Libraries successfully imported\n"
          ],
          "name": "stdout"
        }
      ]
    },
    {
      "cell_type": "code",
      "metadata": {
        "id": "FTYLonQrXe1z"
      },
      "source": [
        "# set seed for reproducibility \r\n",
        "SEED = 1234\r\n",
        "NUM_SAMPLES = 50\r\n",
        "\r\n",
        "np.random.seed(SEED)"
      ],
      "execution_count": 19,
      "outputs": []
    },
    {
      "cell_type": "code",
      "metadata": {
        "id": "bntHexWeXsQ_"
      },
      "source": [
        "# Generating dummy data\r\n",
        "\r\n",
        "def generate_data(num_samples):\r\n",
        "  \"\"\"Generate dummy data for linear regression\"\"\"\r\n",
        "  X = np.array(range(num_samples))\r\n",
        "  random_noise = np.random.uniform(-10,20,size = num_samples)\r\n",
        "  y = 3.5 * X + random_noise # add some noise\r\n",
        "  return X, y"
      ],
      "execution_count": 20,
      "outputs": []
    },
    {
      "cell_type": "code",
      "metadata": {
        "id": "EBeaC_GUYY6h",
        "colab": {
          "base_uri": "https://localhost:8080/"
        },
        "outputId": "5bff2da4-ce06-4f44-ed92-5f3f4c990644"
      },
      "source": [
        "# Generate random (linear) data\r\n",
        "\r\n",
        "X, y = generate_data(num_samples = NUM_SAMPLES)\r\n",
        "data = np.vstack([X, y]).T\r\n",
        "print (data[:5])"
      ],
      "execution_count": 21,
      "outputs": [
        {
          "output_type": "stream",
          "text": [
            "[[ 0.         -4.25441649]\n",
            " [ 1.         12.16326313]\n",
            " [ 2.         10.13183217]\n",
            " [ 3.         24.06075751]\n",
            " [ 4.         27.39927424]]\n"
          ],
          "name": "stdout"
        }
      ]
    },
    {
      "cell_type": "code",
      "metadata": {
        "colab": {
          "base_uri": "https://localhost:8080/",
          "height": 200
        },
        "id": "4byZ4RdscYJs",
        "outputId": "777bb47a-e0ad-42cc-8744-5c4629f91f4b"
      },
      "source": [
        "# Loading data into the Pandas DataFrame\r\n",
        "\r\n",
        "df = pd.DataFrame(data, columns = [\"X\", \"y\"])\r\n",
        "X = df[[\"X\"]].values\r\n",
        "y = df[[\"y\"]].values\r\n",
        "df.head()"
      ],
      "execution_count": 23,
      "outputs": [
        {
          "output_type": "execute_result",
          "data": {
            "text/html": [
              "<div>\n",
              "<style scoped>\n",
              "    .dataframe tbody tr th:only-of-type {\n",
              "        vertical-align: middle;\n",
              "    }\n",
              "\n",
              "    .dataframe tbody tr th {\n",
              "        vertical-align: top;\n",
              "    }\n",
              "\n",
              "    .dataframe thead th {\n",
              "        text-align: right;\n",
              "    }\n",
              "</style>\n",
              "<table border=\"1\" class=\"dataframe\">\n",
              "  <thead>\n",
              "    <tr style=\"text-align: right;\">\n",
              "      <th></th>\n",
              "      <th>X</th>\n",
              "      <th>y</th>\n",
              "    </tr>\n",
              "  </thead>\n",
              "  <tbody>\n",
              "    <tr>\n",
              "      <th>0</th>\n",
              "      <td>0.0</td>\n",
              "      <td>-4.254416</td>\n",
              "    </tr>\n",
              "    <tr>\n",
              "      <th>1</th>\n",
              "      <td>1.0</td>\n",
              "      <td>12.163263</td>\n",
              "    </tr>\n",
              "    <tr>\n",
              "      <th>2</th>\n",
              "      <td>2.0</td>\n",
              "      <td>10.131832</td>\n",
              "    </tr>\n",
              "    <tr>\n",
              "      <th>3</th>\n",
              "      <td>3.0</td>\n",
              "      <td>24.060758</td>\n",
              "    </tr>\n",
              "    <tr>\n",
              "      <th>4</th>\n",
              "      <td>4.0</td>\n",
              "      <td>27.399274</td>\n",
              "    </tr>\n",
              "  </tbody>\n",
              "</table>\n",
              "</div>"
            ],
            "text/plain": [
              "     X          y\n",
              "0  0.0  -4.254416\n",
              "1  1.0  12.163263\n",
              "2  2.0  10.131832\n",
              "3  3.0  24.060758\n",
              "4  4.0  27.399274"
            ]
          },
          "metadata": {
            "tags": []
          },
          "execution_count": 23
        }
      ]
    },
    {
      "cell_type": "code",
      "metadata": {
        "colab": {
          "base_uri": "https://localhost:8080/",
          "height": 281
        },
        "id": "JPPeCW0Ac0FK",
        "outputId": "2a1048fa-263a-4adc-f0cb-d4daf9d7b5d1"
      },
      "source": [
        "# Making a scatter plot \r\n",
        "plt.title(\"Generated data\")\r\n",
        "plt.scatter(x = df[\"X\"], y = df[\"y\"])\r\n",
        "plt.show()"
      ],
      "execution_count": 24,
      "outputs": [
        {
          "output_type": "display_data",
          "data": {
            "image/png": "[encoded data removed]",
            "text/plain": [
              "<Figure size 432x288 with 1 Axes>"
            ]
          },
          "metadata": {
            "tags": [],
            "needs_background": "light"
          }
        }
      ]
    },
    {
      "cell_type": "code",
      "metadata": {
        "id": "WOKxe8OYdrpp"
      },
      "source": [
        "## Numpy implementation \r\n",
        "# - Splitting the data \r\n",
        "# -- Here, we will randomly split the dataset into three sets: train, validation and test data\r\n",
        "# train - used to train the model \r\n",
        "# val - used to validate models performance during training \r\n",
        "# test - used to evaluate the fully trained model"
      ],
      "execution_count": 25,
      "outputs": []
    },
    {
      "cell_type": "code",
      "metadata": {
        "id": "7XBUha_vgrf5"
      },
      "source": [
        "TRAIN_SIZE = 0.7\r\n",
        "VAL_SIZE = 0.15\r\n",
        "TEST_SIZE = 0.15"
      ],
      "execution_count": 26,
      "outputs": []
    },
    {
      "cell_type": "code",
      "metadata": {
        "id": "oj18BNGYh8uj"
      },
      "source": [
        "# Shuffling the data \r\n",
        "# be care not to shuffle X and y separately because then the inputs will not correspond to the outputs\r\n",
        "\r\n",
        "indices = list(range(NUM_SAMPLES))\r\n",
        "np.random.shuffle(indices)\r\n",
        "\r\n",
        "X = X[indices]\r\n",
        "y = y[indices]"
      ],
      "execution_count": 28,
      "outputs": []
    },
    {
      "cell_type": "code",
      "metadata": {
        "id": "HJbKie78iOrl"
      },
      "source": [
        "# Split indices \r\n",
        "\r\n",
        "train_start = 0\r\n",
        "train_end = int(0.7 * NUM_SAMPLES)\r\n",
        "val_start = train_end\r\n",
        "val_end = int((TRAIN_SIZE + VAL_SIZE) * NUM_SAMPLES)\r\n",
        "test_start = val_end"
      ],
      "execution_count": 29,
      "outputs": []
    },
    {
      "cell_type": "code",
      "metadata": {
        "colab": {
          "base_uri": "https://localhost:8080/"
        },
        "id": "qK8nYPU-j7xS",
        "outputId": "339c2a7c-036b-4b77-89bb-3a974243ddb7"
      },
      "source": [
        "# Splitting data \r\n",
        "\r\n",
        "X_train = X[train_start:train_end]\r\n",
        "y_train = y[train_start:train_end]\r\n",
        "\r\n",
        "X_val = X[val_start:val_end]\r\n",
        "y_val = y[val_start:val_end]\r\n",
        "\r\n",
        "X_test = X[test_start:]\r\n",
        "y_test = y[test_start:]\r\n",
        "\r\n",
        "print (f\"X_train: {X_train.shape}, y_train: {y_train.shape}\")\r\n",
        "print (f\"X_val: {X_val.shape}, y_val: {y_val.shape}\")\r\n",
        "print (f\"X_test: {X_test.shape}, y_test: {y_test.shape}\")"
      ],
      "execution_count": 31,
      "outputs": [
        {
          "output_type": "stream",
          "text": [
            "X_train: (35, 1), y_train: (35, 1)\n",
            "X_val: (7, 1), y_val: (7, 1)\n",
            "X_test: (8, 1), y_test: (8, 1)\n"
          ],
          "name": "stdout"
        }
      ]
    },
    {
      "cell_type": "code",
      "metadata": {
        "id": "uMDakBznlGKJ"
      },
      "source": [
        "# Standardising the data\r\n",
        "# - this implies making it have a zero mean and unit magnitude such that the magnitude of a specific feature will not affect how the model learns its weights.\r\n",
        "\r\n",
        "# Using the formular (standardised value = (inputs - mean)/standard deviation)\r\n",
        "\r\n",
        "def standardise_data(data, mean, std):\r\n",
        "  return(data - mean)/std"
      ],
      "execution_count": 32,
      "outputs": []
    },
    {
      "cell_type": "code",
      "metadata": {
        "colab": {
          "base_uri": "https://localhost:8080/"
        },
        "id": "Tp4bnwG1l9NB",
        "outputId": "6d28169e-2d82-4e51-d956-96224bba57ae"
      },
      "source": [
        "# Determining the means and the stds \r\n",
        "# We need to treat the validation and test datasets as it they are hidden \r\n",
        "# - So we only use the train set to determing the mean and std to avoid biasing the training process\r\n",
        "\r\n",
        "X_mean = np.mean(X_train)\r\n",
        "X_std = np.std(X_train)\r\n",
        "y_mean = np.mean(y_train)\r\n",
        "y_std = np.std(y_train)\r\n",
        "\r\n",
        "print (X_mean, X_std, y_mean, y_std)"
      ],
      "execution_count": 34,
      "outputs": [
        {
          "output_type": "stream",
          "text": [
            "23.742857142857144 14.263525625360167 90.0159460487698 49.02826239495899\n"
          ],
          "name": "stdout"
        }
      ]
    },
    {
      "cell_type": "code",
      "metadata": {
        "id": "-O9RHzC_mnqm"
      },
      "source": [
        "# Standardise \r\n",
        "\r\n",
        "X_train = standardise_data(X_train, X_mean, X_std)\r\n",
        "y_train = standardise_data(y_train, y_mean, y_std)\r\n",
        "\r\n",
        "X_val = standardise_data(X_val, X_mean, X_std)\r\n",
        "y_val = standardise_data(y_val, y_mean, y_std)\r\n",
        "\r\n",
        "X_test = standardise_data(X_test, X_mean, X_std)\r\n",
        "y_test = standardise_data(y_test, y_mean, y_std)"
      ],
      "execution_count": 35,
      "outputs": []
    },
    {
      "cell_type": "code",
      "metadata": {
        "colab": {
          "base_uri": "https://localhost:8080/"
        },
        "id": "RNHTZOeko1Bl",
        "outputId": "7b774417-2a72-4c52-f6da-a58e8bdcdc28"
      },
      "source": [
        "# Check (mean should be approx 0 and std should be approx 1)\r\n",
        "\r\n",
        "print (f\"mean: {np.mean(X_test, axis = 0)[0]:.1f}, std: {np.std(X_test, axis = 0)[0]:.1f}\")\r\n",
        "print (f\"mean: {np.mean(y_test, axis = 0)[0]:.1f}, std: {np.std(y_test, axis = 0)[0]:.1f}\")"
      ],
      "execution_count": 37,
      "outputs": [
        {
          "output_type": "stream",
          "text": [
            "mean: 0.9, std: 0.5\n",
            "mean: 0.8, std: 0.4\n"
          ],
          "name": "stdout"
        }
      ]
    },
    {
      "cell_type": "code",
      "metadata": {
        "id": "0hVlomDzpwKI"
      },
      "source": [
        "# Weights \r\n",
        "# the goal is to learn a linear model that predicts y given X using weights W and bias b\r\n",
        "\r\n",
        "# Step 1 - Randomly initialise the models weights W\r\n",
        "\r\n",
        "INPUT_DIM = X_train.shape[1] # X is 1-dimensional\r\n",
        "OUTPUT_DIM = y_train.shape[1] # y is 1-dimensional"
      ],
      "execution_count": 38,
      "outputs": []
    },
    {
      "cell_type": "code",
      "metadata": {
        "colab": {
          "base_uri": "https://localhost:8080/"
        },
        "id": "QnZdXK-0rHmP",
        "outputId": "a1181327-e9e6-4a72-87d3-3baa07a1b22a"
      },
      "source": [
        "# Initialise random weights \r\n",
        "\r\n",
        "W = 0.01 * np.random.randn(INPUT_DIM, OUTPUT_DIM)\r\n",
        "b = np.zeros((1,1))\r\n",
        "\r\n",
        "print (f\"W: {W.shape}\")\r\n",
        "print (f\"b: {b.shape}\")"
      ],
      "execution_count": 39,
      "outputs": [
        {
          "output_type": "stream",
          "text": [
            "W: (1, 1)\n",
            "b: (1, 1)\n"
          ],
          "name": "stdout"
        }
      ]
    },
    {
      "cell_type": "code",
      "metadata": {
        "colab": {
          "base_uri": "https://localhost:8080/"
        },
        "id": "ghUBhR5Ere4p",
        "outputId": "24882d88-7441-420d-a683-fd6056c597bf"
      },
      "source": [
        "# Model \r\n",
        "# Step 2 - feed inputs X into the model to receive predictions y\r\n",
        "\r\n",
        "# Forward pass [NX1] * [1X1] = [NX1]\r\n",
        "\r\n",
        "y_pred = np.dot(X_train, W) + b\r\n",
        "\r\n",
        "print (f\"y_pred: {y_pred.shape}\")"
      ],
      "execution_count": 40,
      "outputs": [
        {
          "output_type": "stream",
          "text": [
            "y_pred: (35, 1)\n"
          ],
          "name": "stdout"
        }
      ]
    },
    {
      "cell_type": "code",
      "metadata": {
        "colab": {
          "base_uri": "https://localhost:8080/"
        },
        "id": "BHVnUA3ZsBkP",
        "outputId": "259eefa9-5500-4c02-91d4-946fe6e5ea32"
      },
      "source": [
        "# Loss \r\n",
        "# Step 3 -  compare predictions y wiht the actual target values y using the objective (cost) function to determne the loss J.\r\n",
        "# - A common objective function for linear regression is the mean squarred error (MSE)\r\n",
        "# - this function calculates the difference between the predicted and the target values and squares it\r\n",
        "\r\n",
        "N = len(y_train)\r\n",
        "loss = (1/N) * np.sum((y_train - y_pred) ** 2)\r\n",
        "\r\n",
        "print (f\"loss: {loss:.2f}\")"
      ],
      "execution_count": 41,
      "outputs": [
        {
          "output_type": "stream",
          "text": [
            "loss: 0.98\n"
          ],
          "name": "stdout"
        }
      ]
    },
    {
      "cell_type": "code",
      "metadata": {
        "colab": {
          "base_uri": "https://localhost:8080/"
        },
        "id": "kpI4GPDhsslp",
        "outputId": "0f989bdc-1fc4-424b-819f-04fc68073dff"
      },
      "source": [
        "# Gradients \r\n",
        "# Step 4 - calculate the gradient of the loss w.r.t the models weights \r\n",
        "# - the gradient is a derivative or the rate of change of a function. \r\n",
        "# - it is a vector that points in the direction of greatest increase of a function. \r\n",
        "# - For e.g, the gradient of our loss function (J) w.r.t the weights (W) will inform how to change W so we can maximise J\r\n",
        "# - However, we want to minimise the loss so we subtract the gradient from W\r\n",
        "\r\n",
        "# Backpropagation \r\n",
        "\r\n",
        "dW = -(2/N) * np.sum((y_train - y_pred) * X_train)\r\n",
        "db = -(2/N) * np.sum((y_train - y_pred) * 1)\r\n",
        "\r\n",
        "print (dW, db)"
      ],
      "execution_count": 43,
      "outputs": [
        {
          "output_type": "stream",
          "text": [
            "-1.9551728358043143 -7.612957883143931e-17\n"
          ],
          "name": "stdout"
        }
      ]
    },
    {
      "cell_type": "code",
      "metadata": {
        "id": "xAYYELvjw8Yz"
      },
      "source": [
        "# Update weights \r\n",
        "# Step 5 - Update the weights using a small learning rate alpha*\r\n",
        "# - the learning rate is a way to control how much we update the weights by. \r\n",
        "# - choosing a small learning rate means a longer time for the model to train \r\n",
        "# - choosing a large learning rate could lead to an overshoot and the traing may never converge\r\n",
        "# the specific learning rate depends on the data and the type of model being used.\r\n",
        "# typically, learning rate ranges around 1e-8 to 1e-1\r\n",
        "\r\n",
        "LEARNING_RATE = 1e-1"
      ],
      "execution_count": 44,
      "outputs": []
    },
    {
      "cell_type": "code",
      "metadata": {
        "id": "2AX-IcGJxOhF"
      },
      "source": [
        "# Update weight -- \r\n",
        "W += - LEARNING_RATE * dW\r\n",
        "b += - LEARNING_RATE * db"
      ],
      "execution_count": 45,
      "outputs": []
    },
    {
      "cell_type": "code",
      "metadata": {
        "id": "tG_iuB5fxb63"
      },
      "source": [
        "# Training \r\n",
        "# Step 6 - Repeat steps 2 - 5 to minimise the loss and train the model\r\n",
        "\r\n",
        "NUM_EPOCHS = 100"
      ],
      "execution_count": 46,
      "outputs": []
    },
    {
      "cell_type": "code",
      "metadata": {
        "colab": {
          "base_uri": "https://localhost:8080/"
        },
        "id": "7ZtPkGK2ySMc",
        "outputId": "f3e58359-9be4-46f7-a50c-2111e23cd9f3"
      },
      "source": [
        "# Initialise random weights \r\n",
        "\r\n",
        "W = 0.01 * np.random.randn(INPUT_DIM, OUTPUT_DIM)\r\n",
        "b = np.zeros((1,))\r\n",
        "\r\n",
        "# Training Loop\r\n",
        "\r\n",
        "for epoch_num in range (NUM_EPOCHS):\r\n",
        "\r\n",
        "  # Forward pass [NX1] * [1X1] = [NX1]\r\n",
        "  y_pred = np.dot(X_train, W) + b\r\n",
        "\r\n",
        "  # Loss\r\n",
        "  loss = (1/len(y_train)) * np.sum((y_train - y_pred) ** 2)\r\n",
        "\r\n",
        "  # Show progress \r\n",
        "  if epoch_num%10 == 0:\r\n",
        "    print (f\"Epoch: {epoch_num}, loss:{loss:.3f}\")\r\n",
        "\r\n",
        "  # Backpropagation \r\n",
        "  dW = -(2/N) * np.sum((y_train - y_pred) * X_train)\r\n",
        "  db = -(2/N) * np.sum((y_train - y_pred) * 1)\r\n",
        "\r\n",
        "  # Update weights \r\n",
        "  W += - LEARNING_RATE * dW\r\n",
        "  b += - LEARNING_RATE * db"
      ],
      "execution_count": 50,
      "outputs": [
        {
          "output_type": "stream",
          "text": [
            "Epoch: 0, loss:0.996\n",
            "Epoch: 10, loss:0.035\n",
            "Epoch: 20, loss:0.024\n",
            "Epoch: 30, loss:0.024\n",
            "Epoch: 40, loss:0.024\n",
            "Epoch: 50, loss:0.024\n",
            "Epoch: 60, loss:0.024\n",
            "Epoch: 70, loss:0.024\n",
            "Epoch: 80, loss:0.024\n",
            "Epoch: 90, loss:0.024\n"
          ],
          "name": "stdout"
        }
      ]
    },
    {
      "cell_type": "code",
      "metadata": {
        "colab": {
          "base_uri": "https://localhost:8080/"
        },
        "id": "bmCliCTjy5dk",
        "outputId": "cd32b2a8-db60-4976-a8c6-65ab1257a00d"
      },
      "source": [
        "# Evaluation \r\n",
        "# - Here we explore how well the trained model will perform on the test dataset\r\n",
        "# - this will be the best measure on how well the model will perform in the real world as our test datset is close to unseen data\r\n",
        "\r\n",
        "# Predictions\r\n",
        " \r\n",
        "pred_train = W * X_train + b\r\n",
        "pred_test = W * X_test + b \r\n",
        "\r\n",
        "print (pred_train, pred_test)"
      ],
      "execution_count": 55,
      "outputs": [
        {
          "output_type": "stream",
          "text": [
            "[[ 0.36412141]\n",
            " [-0.67481196]\n",
            " [ 0.08707251]\n",
            " [ 1.61084146]\n",
            " [-1.09038531]\n",
            " [ 0.50264586]\n",
            " [ 1.74936591]\n",
            " [-0.74407419]\n",
            " [ 1.26453033]\n",
            " [-0.88259864]\n",
            " [-0.46702529]\n",
            " [-0.25923861]\n",
            " [-1.50595866]\n",
            " [ 0.01781029]\n",
            " [ 1.68010368]\n",
            " [-0.81333641]\n",
            " [ 0.84895699]\n",
            " [ 0.64117031]\n",
            " [-0.12071416]\n",
            " [ 0.77969476]\n",
            " [-0.18997639]\n",
            " [-1.36743421]\n",
            " [-0.53628751]\n",
            " [ 1.47231701]\n",
            " [-0.60554974]\n",
            " [-0.95186086]\n",
            " [ 0.91821921]\n",
            " [-1.02112309]\n",
            " [ 1.40305478]\n",
            " [-0.32850084]\n",
            " [-1.57522089]\n",
            " [-0.39776306]\n",
            " [ 1.05674366]\n",
            " [ 0.57190809]\n",
            " [-1.43669644]] [[1.54157923]\n",
            " [1.19526811]\n",
            " [0.43338364]\n",
            " [0.22559696]\n",
            " [0.29485919]\n",
            " [1.12600588]\n",
            " [1.33379256]\n",
            " [0.98748143]]\n"
          ],
          "name": "stdout"
        }
      ]
    },
    {
      "cell_type": "code",
      "metadata": {
        "colab": {
          "base_uri": "https://localhost:8080/"
        },
        "id": "Xp5NUhhT2Vgo",
        "outputId": "d9923cba-20a1-4adc-b9e8-354f4f1a05ea"
      },
      "source": [
        "# Train and test MSE\r\n",
        "\r\n",
        "train_mse = np.mean((y_train - pred_train) ** 2)\r\n",
        "test_mse = np.mean((y_test - pred_test) ** 2)\r\n",
        "\r\n",
        "print(f\"train_MSE: {train_mse: .2f}, test_MSE: {test_mse:.2f}\")"
      ],
      "execution_count": 56,
      "outputs": [
        {
          "output_type": "stream",
          "text": [
            "train_MSE:  0.02, test_MSE: 0.04\n"
          ],
          "name": "stdout"
        }
      ]
    },
    {
      "cell_type": "code",
      "metadata": {
        "colab": {
          "base_uri": "https://localhost:8080/",
          "height": 244
        },
        "id": "e5odZ9eH3LY8",
        "outputId": "5bc83477-6495-419b-d1ac-71d7647ad259"
      },
      "source": [
        "# Plotting the train and test data \r\n",
        "\r\n",
        "plt.figure(figsize = (15, 5))\r\n",
        "\r\n",
        "# plot train data \r\n",
        "plt.subplot(1,2,1)\r\n",
        "plt.title(\"Train\")\r\n",
        "plt.scatter(X_train, y_train, label = \"y_train\")\r\n",
        "plt.plot(X_train,pred_train, color = \"red\", linewidth = 1, linestyle = \"-\", label = \"model\")\r\n",
        "plt.legend(loc = \"lower right\")\r\n",
        "\r\n",
        "# plot test data\r\n",
        "plt.subplot(1,2,2)\r\n",
        "plt.title(\"Test\")\r\n",
        "plt.scatter(X_test, y_test, label = \"y_test\")\r\n",
        "plt.plot(X_test, pred_test, color = \"red\", linewidth = 1, linestyle = \"-\", label = \"model\")\r\n",
        "plt.legend(loc = \"lower right\")\r\n",
        "\r\n",
        "# Show plots \r\n",
        "plt.show()"
      ],
      "execution_count": 59,
      "outputs": [
        {
          "output_type": "display_data",
          "data": {
            "image/png": "[encoded data removed]",
            "text/plain": [
              "<Figure size 1080x360 with 2 Axes>"
            ]
          },
          "metadata": {
            "tags": [],
            "needs_background": "light"
          }
        }
      ]
    },
    {
      "cell_type": "code",
      "metadata": {
        "colab": {
          "base_uri": "https://localhost:8080/"
        },
        "id": "BOvNhh6i67_O",
        "outputId": "cdca3fae-c8de-4caf-e704-642356e32c8b"
      },
      "source": [
        "# Unscaled weights\r\n",
        "W_unscaled = W * (y_std/X_std)\r\n",
        "b_unscaled = b * y_std + y_mean - np.sum(W_unscaled * X_mean)\r\n",
        "\r\n",
        "print (\"[actual] y = 3.5X + noise\")\r\n",
        "print (f\"[model] y_hat = {W_unscaled[0][0]:.1f} X + {b_unscaled[0]:.1f}\")"
      ],
      "execution_count": 60,
      "outputs": [
        {
          "output_type": "stream",
          "text": [
            "[actual] y = 3.5X + noise\n",
            "[model] y_hat = 3.4 X + 9.4\n"
          ],
          "name": "stdout"
        }
      ]
    },
    {
      "cell_type": "code",
      "metadata": {
        "id": "28avPofa71M8"
      },
      "source": [
        "## Pytorch Implementation \r\n"
      ],
      "execution_count": 61,
      "outputs": []
    },
    {
      "cell_type": "code",
      "metadata": {
        "id": "JDEv07JJRGbA"
      },
      "source": [
        "# Importing the necessary libraries \r\n",
        "\r\n",
        "import torch"
      ],
      "execution_count": 62,
      "outputs": []
    },
    {
      "cell_type": "code",
      "metadata": {
        "colab": {
          "base_uri": "https://localhost:8080/"
        },
        "id": "GxGyl_izRNdO",
        "outputId": "2b9179f5-8efa-4cc4-aeed-ee16ea7dfa8f"
      },
      "source": [
        "# Set seed for reproducibiity \r\n",
        "torch.manual_seed(SEED)"
      ],
      "execution_count": 63,
      "outputs": [
        {
          "output_type": "execute_result",
          "data": {
            "text/plain": [
              "<torch._C.Generator at 0x7f1926470c90>"
            ]
          },
          "metadata": {
            "tags": []
          },
          "execution_count": 63
        }
      ]
    },
    {
      "cell_type": "code",
      "metadata": {
        "id": "_WNnooHURUOx"
      },
      "source": [
        "# Splitting data \r\n",
        "# - this time, instead of splitting the data with the indices, we will use scikit learns built in train_test_split fucntion \r\n",
        "\r\n",
        "from sklearn.model_selection import train_test_split"
      ],
      "execution_count": 64,
      "outputs": []
    },
    {
      "cell_type": "code",
      "metadata": {
        "id": "VBYxSaRsRzlf"
      },
      "source": [
        "TRAIN_SIZE = 0.7\r\n",
        "VAL_SIZE = 0.15\r\n",
        "TEST_SIZE = 0.15"
      ],
      "execution_count": 65,
      "outputs": []
    },
    {
      "cell_type": "code",
      "metadata": {
        "id": "4mwJrG_pR6WD"
      },
      "source": [
        "# Split (train)\r\n",
        "X_train, X_, y_train, y_ = train_test_split(X, y, train_size = TRAIN_SIZE)"
      ],
      "execution_count": 66,
      "outputs": []
    },
    {
      "cell_type": "code",
      "metadata": {
        "colab": {
          "base_uri": "https://localhost:8080/"
        },
        "id": "_ssteTxbSqhs",
        "outputId": "25cc9520-5756-4998-f48f-2f5b045f5cd2"
      },
      "source": [
        "print (f\"train: {len(X_train)} ({(len(X_train) / len(X)):.2f})\\n\"\r\n",
        "      f\"remaining: {len(X_)} ({(len(X_) / len(X)):.2f})\")"
      ],
      "execution_count": 67,
      "outputs": [
        {
          "output_type": "stream",
          "text": [
            "train: 35 (0.70)\n",
            "remaining: 15 (0.30)\n"
          ],
          "name": "stdout"
        }
      ]
    },
    {
      "cell_type": "code",
      "metadata": {
        "id": "x4l8awMIUDjg"
      },
      "source": [
        "# Split (test)\r\n",
        "\r\n",
        "X_val, X_test, y_val, y_test = train_test_split(\r\n",
        "    X_, y_, train_size = 0.5)"
      ],
      "execution_count": 68,
      "outputs": []
    },
    {
      "cell_type": "code",
      "metadata": {
        "colab": {
          "base_uri": "https://localhost:8080/"
        },
        "id": "eowovp94UZqE",
        "outputId": "aa4afd4b-caef-4c8f-b731-fa4c89efde12"
      },
      "source": [
        "print (f\"train: {len(X_train)} ({len(X_train) / len(X):.2f})\\n\"\r\n",
        "      f\"val: {len(X_val)} ({len(X_val) / len(X):.2f})\\n\"\r\n",
        "      f\"test: {len(X_test)} ({len(X_test) / len(X):.2f})\")"
      ],
      "execution_count": 74,
      "outputs": [
        {
          "output_type": "stream",
          "text": [
            "train: 35 (0.70)\n",
            "val: 7 (0.14)\n",
            "test: 8 (0.16)\n"
          ],
          "name": "stdout"
        }
      ]
    },
    {
      "cell_type": "code",
      "metadata": {
        "id": "xvJpOF9pVKb6"
      },
      "source": [
        "# Standardising the data \r\n",
        "# this time we wil use sklearns \"StandardScaler\" to standardise the data\r\n",
        "\r\n",
        "from sklearn.preprocessing import StandardScaler"
      ],
      "execution_count": 75,
      "outputs": []
    },
    {
      "cell_type": "code",
      "metadata": {
        "id": "Zo2PXtkbWEkp"
      },
      "source": [
        "# Standardise the data (mean = 0, std = 1) using training data\r\n",
        "\r\n",
        "X_scaler = StandardScaler().fit(X_train)\r\n",
        "y_scaler = StandardScaler().fit(y_train)"
      ],
      "execution_count": 77,
      "outputs": []
    },
    {
      "cell_type": "code",
      "metadata": {
        "id": "mmFsXjfXWXwJ"
      },
      "source": [
        "# Apply scaler on the training and test data \r\n",
        "\r\n",
        "X_train = X_scaler.transform(X_train)\r\n",
        "y_train = y_scaler.transform(y_train).ravel().reshape(-1,1)\r\n",
        "\r\n",
        "X_val = X_scaler.transform(X_val)\r\n",
        "y_val = y_scaler.transform(y_val).ravel().reshape(-1,1)\r\n",
        "\r\n",
        "X_test = X_scaler.transform(X_test)\r\n",
        "y_test = y_scaler.transform(y_test).ravel().reshape(-1,1)"
      ],
      "execution_count": 78,
      "outputs": []
    },
    {
      "cell_type": "code",
      "metadata": {
        "colab": {
          "base_uri": "https://localhost:8080/"
        },
        "id": "Zu40wbizXWo4",
        "outputId": "01b9d415-fd1f-45a6-ea2d-cad89049bb72"
      },
      "source": [
        "# Check (means should be approx 0 and std should be approx 1)\r\n",
        "\r\n",
        "print (f\"mean: {np.mean(X_test, axis = 0)[0]:.1f}, std: {np.std(X_test, axis = 0)[0]:.1f}\")\r\n",
        "print (f\"mean: {np.mean(y_test, axis = 0)[0]:.1f}, std: {np.std(y_test, axis = 0)[0]:.1f}\")"
      ],
      "execution_count": 79,
      "outputs": [
        {
          "output_type": "stream",
          "text": [
            "mean: -0.2, std: 0.7\n",
            "mean: -0.2, std: 0.7\n"
          ],
          "name": "stdout"
        }
      ]
    },
    {
      "cell_type": "code",
      "metadata": {
        "id": "WwLrLPGRYvQf"
      },
      "source": [
        "# Weights \r\n",
        "\r\n",
        "from torch import nn "
      ],
      "execution_count": 80,
      "outputs": []
    },
    {
      "cell_type": "code",
      "metadata": {
        "colab": {
          "base_uri": "https://localhost:8080/"
        },
        "id": "qETXXEYpY09K",
        "outputId": "baf0733e-e89e-488d-cd29-9413173fa0a6"
      },
      "source": [
        "# Inputs \r\n",
        "N = 3 # num samples \r\n",
        "x = torch.randn(N, INPUT_DIM)\r\n",
        "\r\n",
        "print (x.shape)\r\n",
        "print (x.numpy())"
      ],
      "execution_count": 81,
      "outputs": [
        {
          "output_type": "stream",
          "text": [
            "torch.Size([3, 1])\n",
            "[[ 0.04613046]\n",
            " [ 0.40240282]\n",
            " [-1.0115291 ]]\n"
          ],
          "name": "stdout"
        }
      ]
    },
    {
      "cell_type": "code",
      "metadata": {
        "colab": {
          "base_uri": "https://localhost:8080/"
        },
        "id": "0GDBXmKZZBUQ",
        "outputId": "10a5d64b-8222-466c-9885-a58d3f222e28"
      },
      "source": [
        "# Weights \r\n",
        "\r\n",
        "m = nn.Linear(INPUT_DIM, OUTPUT_DIM)\r\n",
        "\r\n",
        "print (m)\r\n",
        "print (f\"weights ({m.weight.shape}): {m.weight[0][0]}\")\r\n",
        "print (f\"bias ({m.bias.shape}): {m.bias[0]}\")"
      ],
      "execution_count": 82,
      "outputs": [
        {
          "output_type": "stream",
          "text": [
            "Linear(in_features=1, out_features=1, bias=True)\n",
            "weights (torch.Size([1, 1])): 0.34761226177215576\n",
            "bias (torch.Size([1])): -0.3370760679244995\n"
          ],
          "name": "stdout"
        }
      ]
    },
    {
      "cell_type": "code",
      "metadata": {
        "colab": {
          "base_uri": "https://localhost:8080/"
        },
        "id": "5mg6cijmZhlh",
        "outputId": "3409452d-16ab-4730-c69f-a68aad4ff61e"
      },
      "source": [
        "# Forward pass \r\n",
        "\r\n",
        "z = m(x)\r\n",
        "print (z.shape)\r\n",
        "print (z.detach().numpy())"
      ],
      "execution_count": 83,
      "outputs": [
        {
          "output_type": "stream",
          "text": [
            "torch.Size([3, 1])\n",
            "[[-0.32104054]\n",
            " [-0.19719592]\n",
            " [-0.68869597]]\n"
          ],
          "name": "stdout"
        }
      ]
    },
    {
      "cell_type": "code",
      "metadata": {
        "id": "Hj13VrOqZtDJ"
      },
      "source": [
        "# Model \r\n",
        "\r\n",
        "class LinearRegression(nn.Module):\r\n",
        "  def __init__(self, input_dim, output_dim):\r\n",
        "    super(LinearRegression, self).__init__()\r\n",
        "    self.fcl = nn.Linear(input_dim, output_dim)\r\n",
        "\r\n",
        "  def forward(self, x_in):\r\n",
        "    y_pred = self.fcl(x_in)\r\n",
        "    return y_pred"
      ],
      "execution_count": 84,
      "outputs": []
    },
    {
      "cell_type": "code",
      "metadata": {
        "colab": {
          "base_uri": "https://localhost:8080/"
        },
        "id": "bqVbsrf5aPP8",
        "outputId": "7c6e9e82-2a01-4735-d653-8cb6bd202e78"
      },
      "source": [
        "# Initialise model \r\n",
        "\r\n",
        "model = LinearRegression(input_dim = INPUT_DIM, output_dim = OUTPUT_DIM)\r\n",
        "print (model.named_parameters)"
      ],
      "execution_count": 85,
      "outputs": [
        {
          "output_type": "stream",
          "text": [
            "<bound method Module.named_parameters of LinearRegression(\n",
            "  (fcl): Linear(in_features=1, out_features=1, bias=True)\n",
            ")>\n"
          ],
          "name": "stdout"
        }
      ]
    },
    {
      "cell_type": "code",
      "metadata": {
        "colab": {
          "base_uri": "https://localhost:8080/"
        },
        "id": "bkeMmvxnbCcg",
        "outputId": "c2d8433e-8f42-4ab7-ce13-e09062fa3120"
      },
      "source": [
        "# Loss \r\n",
        "# - this time we use the PyTorch's loss function specifically MSELoss\r\n",
        "\r\n",
        "loss_fn = nn.MSELoss()\r\n",
        "y_pred = torch.Tensor([0., 0., 1., 1.])\r\n",
        "y_true = torch.Tensor([1., 1., 1., 0.])\r\n",
        "\r\n",
        "loss = loss_fn(y_pred, y_true)\r\n",
        "print (\"Loss: \", loss.numpy())"
      ],
      "execution_count": 86,
      "outputs": [
        {
          "output_type": "stream",
          "text": [
            "Loss:  0.75\n"
          ],
          "name": "stdout"
        }
      ]
    },
    {
      "cell_type": "code",
      "metadata": {
        "id": "L7iEwRcHbwVe"
      },
      "source": [
        "# Optimiser \r\n",
        "\r\n",
        "# - When we used NumPy to implement the Linear Regression earlier, we used the batch gradient descent to update the weights.\r\n",
        "\r\n",
        "# -- but there are many different types of gradient descent optimisation algos to choose from\r\n",
        "\r\n",
        "## -- the ADAM optimiser has become a standard algo for most cases"
      ],
      "execution_count": 87,
      "outputs": []
    },
    {
      "cell_type": "code",
      "metadata": {
        "id": "1gLMQRM1c8T5"
      },
      "source": [
        "from torch.optim import Adam"
      ],
      "execution_count": 88,
      "outputs": []
    },
    {
      "cell_type": "code",
      "metadata": {
        "id": "wGY3_1fhdATo"
      },
      "source": [
        "# Optimiser \r\n",
        "\r\n",
        "optimiser = Adam(model.parameters(), lr = LEARNING_RATE)"
      ],
      "execution_count": 89,
      "outputs": []
    },
    {
      "cell_type": "code",
      "metadata": {
        "id": "LbokZAktdJ-C"
      },
      "source": [
        "# Training \r\n",
        "# - Convert data to tensors\r\n",
        "\r\n",
        "X_train = torch.Tensor(X_train)\r\n",
        "y_train = torch.Tensor(y_train)\r\n",
        "\r\n",
        "X_val = torch.Tensor(X_val)\r\n",
        "y_val = torch.Tensor(y_val)\r\n",
        "\r\n",
        "X_test = torch.Tensor(X_test)\r\n",
        "y_test = torch.Tensor(y_test)"
      ],
      "execution_count": 90,
      "outputs": []
    },
    {
      "cell_type": "code",
      "metadata": {
        "colab": {
          "base_uri": "https://localhost:8080/"
        },
        "id": "J12OlczPdr8l",
        "outputId": "27f255c2-7420-430d-e13f-6e58bcf205c2"
      },
      "source": [
        "# Training\r\n",
        "\r\n",
        "for epoch in range(NUM_EPOCHS):\r\n",
        "\r\n",
        "  # Forward pass \r\n",
        "  y_pred = model(X_train)\r\n",
        "\r\n",
        "  # Loss\r\n",
        "  loss = loss_fn(y_pred, y_train)\r\n",
        "\r\n",
        "  # Zero all gradients\r\n",
        "  optimiser.zero_grad()\r\n",
        "\r\n",
        "  # Backward pass \r\n",
        "  loss.backward()\r\n",
        "\r\n",
        "  # Update weights\r\n",
        "  optimiser.step()\r\n",
        "\r\n",
        "  if epoch%20 == 0:\r\n",
        "    print (f\"Epoch: {epoch} | loss: {loss:.2f}\")"
      ],
      "execution_count": 91,
      "outputs": [
        {
          "output_type": "stream",
          "text": [
            "Epoch: 0 | loss: 0.22\n",
            "Epoch: 20 | loss: 0.03\n",
            "Epoch: 40 | loss: 0.03\n",
            "Epoch: 60 | loss: 0.03\n",
            "Epoch: 80 | loss: 0.03\n"
          ],
          "name": "stdout"
        }
      ]
    },
    {
      "cell_type": "code",
      "metadata": {
        "id": "bWww_FRWedBx"
      },
      "source": [
        "# Evaluation \r\n",
        "\r\n",
        "# - Prediction \r\n",
        "\r\n",
        "pred_train = model(X_train)\r\n",
        "pred_test = model(X_test)"
      ],
      "execution_count": 92,
      "outputs": []
    },
    {
      "cell_type": "code",
      "metadata": {
        "colab": {
          "base_uri": "https://localhost:8080/"
        },
        "id": "CgY1Qe3kepnf",
        "outputId": "e3c176e6-a01f-41b5-f520-e74d03d14e52"
      },
      "source": [
        "# - Performance \r\n",
        "\r\n",
        "train_error = loss_fn(pred_train, y_train)\r\n",
        "test_error = loss_fn(pred_test, y_test)\r\n",
        "\r\n",
        "print (f\"train_error: {train_error:.2f}\")\r\n",
        "print (f\"test_error: {test_error:.2f}\")"
      ],
      "execution_count": 93,
      "outputs": [
        {
          "output_type": "stream",
          "text": [
            "train_error: 0.03\n",
            "test_error: 0.01\n"
          ],
          "name": "stdout"
        }
      ]
    },
    {
      "cell_type": "code",
      "metadata": {
        "colab": {
          "base_uri": "https://localhost:8080/",
          "height": 244
        },
        "id": "JZnr6vDmfKUo",
        "outputId": "ec8d1985-6ed2-4833-f55c-707ed06eb54f"
      },
      "source": [
        "# Plotting the Training and test data \r\n",
        "\r\n",
        "# Figure size \r\n",
        "plt.figure(figsize = (15,5))\r\n",
        "\r\n",
        "# Plot train data\r\n",
        "plt.subplot(1,2,1)\r\n",
        "plt.title(\"Train\")\r\n",
        "plt.scatter(X_train, y_train, label = \"y_train\")\r\n",
        "plt.plot(X_train, pred_train.detach().numpy(), color = \"red\", linewidth = 1, linestyle = \"-\", label = \"model\")\r\n",
        "plt.legend(loc = \"lower right\")\r\n",
        "\r\n",
        "plt.subplot(1,2,2)\r\n",
        "plt.title(\"Test\")\r\n",
        "plt.scatter(X_test, y_test, label = \"y_test\")\r\n",
        "plt.plot(X_test, pred_test.detach().numpy(), color = \"red\", linewidth = 1, linestyle = \"-\", label = \"model\")\r\n",
        "plt.legend(loc = \"lower right\")\r\n",
        "\r\n",
        "# Show plots \r\n",
        "plt.show()"
      ],
      "execution_count": 94,
      "outputs": [
        {
          "output_type": "display_data",
          "data": {
            "image/png": "[encoded data removed]",
            "text/plain": [
              "<Figure size 1080x360 with 2 Axes>"
            ]
          },
          "metadata": {
            "tags": [],
            "needs_background": "light"
          }
        }
      ]
    },
    {
      "cell_type": "code",
      "metadata": {
        "id": "7pnRSLkmhUpc"
      },
      "source": [
        "# Inference\r\n",
        "\r\n",
        "# - After traing a model, we can use it to predict on new data \r\n",
        "\r\n",
        "# - Feed in your inputs\r\n",
        "\r\n",
        "sample_indices = [10,15,25]\r\n",
        "\r\n",
        "X_infer = np.array(sample_indices, dtype = np.float32)\r\n",
        "X_infer = torch.Tensor(X_scaler.transform(X_infer.reshape(-1,1)))"
      ],
      "execution_count": 95,
      "outputs": []
    },
    {
      "cell_type": "code",
      "metadata": {
        "colab": {
          "base_uri": "https://localhost:8080/"
        },
        "id": "kDPk5nhRh1e5",
        "outputId": "70c75f5e-adc8-4e1c-b22b-0e8ac1cbd5c7"
      },
      "source": [
        "# Unstandardise predictions\r\n",
        "\r\n",
        "pred_infer = model(X_infer).detach().numpy() * np.sqrt(y_scaler.var_) + y_scaler.mean_\r\n",
        "\r\n",
        "for i, index in enumerate(sample_indices):\r\n",
        "  print (f\"{df.iloc[index]['y']:.2f} (actual) -> {pred_infer[i][0]:.2f} (predicted)\")"
      ],
      "execution_count": 98,
      "outputs": [
        {
          "output_type": "stream",
          "text": [
            "35.73 (actual) -> 41.28 (predicted)\n",
            "59.34 (actual) -> 58.22 (predicted)\n",
            "97.04 (actual) -> 92.09 (predicted)\n"
          ],
          "name": "stdout"
        }
      ]
    },
    {
      "cell_type": "code",
      "metadata": {
        "id": "IY3rzRb0iq1c"
      },
      "source": [
        "# Interpretability \r\n",
        "\r\n",
        "# Linear regressions are highly interpretable\r\n",
        "# Each feature has a coefficient that signifies its importance/impact on the output variable y. \r\n",
        "# We can interprete our coefficient as follows: by increasing X by 1 unit, we increase y by W(approx 3.65) units"
      ],
      "execution_count": 99,
      "outputs": []
    },
    {
      "cell_type": "code",
      "metadata": {
        "colab": {
          "base_uri": "https://localhost:8080/"
        },
        "id": "B1AXL1jQjqqz",
        "outputId": "01e517e7-fab2-41d0-a3a7-edf5635fd45c"
      },
      "source": [
        "# Unstandardise coefficient \r\n",
        "\r\n",
        "W = model.fcl.weight.data.numpy()[0][0]\r\n",
        "b = model.fcl.bias.data.numpy() [0]\r\n",
        "W_unscaled = W * (y_scaler.scale_/X_scaler.scale_)\r\n",
        "b_unscaled = b * y_scaler.scale_ + y_scaler.mean_ - np.sum(W_unscaled * X_scaler.mean_)\r\n",
        "\r\n",
        "print (\"[actual] y = 3.5X + noise\")\r\n",
        "print (f\"[model] y_hat = {W_unscaled[0]:.1f}X + {b_unscaled[0]:.1f}\")"
      ],
      "execution_count": 101,
      "outputs": [
        {
          "output_type": "stream",
          "text": [
            "[actual] y = 3.5X + noise\n",
            "[model] y_hat = 3.4X + 7.4\n"
          ],
          "name": "stdout"
        }
      ]
    },
    {
      "cell_type": "code",
      "metadata": {
        "id": "Vm1BEzaDk87v"
      },
      "source": [
        "# Regularisation \r\n",
        "# - Helps decrease overfitting \r\n",
        "# - there are many forms of regularisation but they all work to reduce overfitting the models\r\n",
        "# - Here we implement \"L2(ridge regression)\" regularisation where we penalise the weights with high magnitudes by decaying them. \r\n",
        "\r\n",
        "# - Having weights with high magnitude will lead to preferential bias with the inputs and we want the model to work with all the inputs and not a select few"
      ],
      "execution_count": 103,
      "outputs": []
    },
    {
      "cell_type": "code",
      "metadata": {
        "id": "bAnODaSflxPQ"
      },
      "source": [
        "L2_LAMBDA = 1e-2"
      ],
      "execution_count": 104,
      "outputs": []
    },
    {
      "cell_type": "code",
      "metadata": {
        "id": "V56CPkKEl1tV"
      },
      "source": [
        "# Initialise model \r\n",
        "model = LinearRegression(input_dim = INPUT_DIM, output_dim = OUTPUT_DIM)"
      ],
      "execution_count": 105,
      "outputs": []
    },
    {
      "cell_type": "code",
      "metadata": {
        "id": "d2GTjtrWmCFs"
      },
      "source": [
        "# Optimiser (w L2 regularisation)\r\n",
        "\r\n",
        "optimiser = Adam(model.parameters(), lr = LEARNING_RATE, weight_decay = L2_LAMBDA)"
      ],
      "execution_count": 106,
      "outputs": []
    },
    {
      "cell_type": "code",
      "metadata": {
        "colab": {
          "base_uri": "https://localhost:8080/"
        },
        "id": "PEmrAqP5mVJL",
        "outputId": "34708017-e100-44f8-82ac-98dba9205238"
      },
      "source": [
        "# Training\r\n",
        "\r\n",
        "for epoch in range(NUM_EPOCHS):\r\n",
        "\r\n",
        "  # Forward pass \r\n",
        "  y_pred = model(X_train)\r\n",
        "\r\n",
        "  # Loss\r\n",
        "  loss = loss_fn(y_pred, y_train)\r\n",
        "\r\n",
        "  # Zero all gradients\r\n",
        "  optimiser.zero_grad()\r\n",
        "\r\n",
        "  # Backward pass \r\n",
        "  loss.backward()\r\n",
        "\r\n",
        "  # Update weights\r\n",
        "  optimiser.step()\r\n",
        "\r\n",
        "  if epoch%20 == 0:\r\n",
        "    print (f\"Epoch: {epoch} | loss: {loss:.2f}\")"
      ],
      "execution_count": 107,
      "outputs": [
        {
          "output_type": "stream",
          "text": [
            "Epoch: 0 | loss: 0.63\n",
            "Epoch: 20 | loss: 0.04\n",
            "Epoch: 40 | loss: 0.03\n",
            "Epoch: 60 | loss: 0.03\n",
            "Epoch: 80 | loss: 0.03\n"
          ],
          "name": "stdout"
        }
      ]
    },
    {
      "cell_type": "code",
      "metadata": {
        "id": "kZKbZxpTmg0C"
      },
      "source": [
        "# Predictions\r\n",
        "\r\n",
        "pred_train = model(X_train)\r\n",
        "pred_test = model(X_test)"
      ],
      "execution_count": 108,
      "outputs": []
    },
    {
      "cell_type": "code",
      "metadata": {
        "colab": {
          "base_uri": "https://localhost:8080/"
        },
        "id": "1aBBO396mwQq",
        "outputId": "ce8cb7ea-5779-4caa-8c87-19b74cc25752"
      },
      "source": [
        "# Performance \r\n",
        "## -- regularisation didnt make a difference in this example because the data is generated from a perfect linear equation\r\n",
        "## -- for a large realistic data, regularisation can help the model generalise well\r\n",
        "\r\n",
        "train_error = loss_fn(pred_train, y_train)\r\n",
        "test_error = loss_fn(pred_test, y_test)\r\n",
        "\r\n",
        "print (f\"train_error: {train_error:.2f}\")\r\n",
        "print (f\"test_error: {test_error:.2f}\")"
      ],
      "execution_count": 110,
      "outputs": [
        {
          "output_type": "stream",
          "text": [
            "train_error: 0.03\n",
            "test_error: 0.01\n"
          ],
          "name": "stdout"
        }
      ]
    },
    {
      "cell_type": "code",
      "metadata": {
        "id": "ABwUW5obnOnN"
      },
      "source": [
        ""
      ],
      "execution_count": null,
      "outputs": []
    }
  ]
}