{
  "nbformat": 4,
  "nbformat_minor": 0,
  "metadata": {
    "colab": {
      "name": "End to End ML: Tags",
      "provenance": [],
      "authorship_tag": "ABX9TyPoxW+7NqxDoUWSsUxvWJP9",
      "include_colab_link": true
    },
    "kernelspec": {
      "name": "python3",
      "display_name": "Python 3"
    },
    "widgets": {
      "application/vnd.jupyter.widget-state+json": {
        "9584556c3f2e4d43a9ade6133f53d298": {
          "model_module": "@jupyter-widgets/controls",
          "model_name": "VBoxModel",
          "state": {
            "_view_name": "VBoxView",
            "_dom_classes": [
              "widget-interact"
            ],
            "_model_name": "VBoxModel",
            "_view_module": "@jupyter-widgets/controls",
            "_model_module_version": "1.5.0",
            "_view_count": null,
            "_view_module_version": "1.5.0",
            "box_style": "",
            "layout": "IPY_MODEL_32df1de978ae4a5d8bd78aa809a8a93a",
            "_model_module": "@jupyter-widgets/controls",
            "children": [
              "IPY_MODEL_0c3930ff93174c1c88db97c8a6d00f51",
              "IPY_MODEL_006c862cca5a437f948f9f7e73036bf9"
            ]
          }
        },
        "32df1de978ae4a5d8bd78aa809a8a93a": {
          "model_module": "@jupyter-widgets/base",
          "model_name": "LayoutModel",
          "state": {
            "_view_name": "LayoutView",
            "grid_template_rows": null,
            "right": null,
            "justify_content": null,
            "_view_module": "@jupyter-widgets/base",
            "overflow": null,
            "_model_module_version": "1.2.0",
            "_view_count": null,
            "flex_flow": null,
            "width": null,
            "min_width": null,
            "border": null,
            "align_items": null,
            "bottom": null,
            "_model_module": "@jupyter-widgets/base",
            "top": null,
            "grid_column": null,
            "overflow_y": null,
            "overflow_x": null,
            "grid_auto_flow": null,
            "grid_area": null,
            "grid_template_columns": null,
            "flex": null,
            "_model_name": "LayoutModel",
            "justify_items": null,
            "grid_row": null,
            "max_height": null,
            "align_content": null,
            "visibility": null,
            "align_self": null,
            "height": null,
            "min_height": null,
            "padding": null,
            "grid_auto_rows": null,
            "grid_gap": null,
            "max_width": null,
            "order": null,
            "_view_module_version": "1.2.0",
            "grid_template_areas": null,
            "object_position": null,
            "object_fit": null,
            "grid_auto_columns": null,
            "margin": null,
            "display": null,
            "left": null
          }
        },
        "0c3930ff93174c1c88db97c8a6d00f51": {
          "model_module": "@jupyter-widgets/controls",
          "model_name": "DropdownModel",
          "state": {
            "_options_labels": [
              "3d",
              "action-localization",
              "action-recognition",
              "active-learning",
              "activity-recognition",
              "adversarial-attacks",
              "adversarial-defense",
              "adversarial-image-detection",
              "adversarial-learning",
              "adversarial-text",
              "angular",
              "animations",
              "annotation",
              "anomaly-detection",
              "arima",
              "artificial-general-intelligence",
              "attention",
              "audio-classification",
              "audio-generation",
              "audio-tagging",
              "autoencoders",
              "automl",
              "autonomous-vehicles",
              "aws",
              "azure",
              "backend",
              "bayesian-deep-learning",
              "bayesian-inference",
              "bidaf",
              "boundary-detection",
              "c",
              "c#",
              "c++",
              "caffe",
              "calibration",
              "camera-localization",
              "captioning",
              "causal-inference",
              "chainer",
              "character-embeddings",
              "chunking",
              "ci-cd",
              "classification",
              "clustering",
              "code-generation",
              "code-summarization",
              "collaborative-filtering",
              "collaborative-ranking",
              "colorization",
              "common-sense-reasoning",
              "computer-vision",
              "conditional-random-fields",
              "conditional-variational-autoencoders",
              "constituency-parsing",
              "contextualized-embeddings",
              "contour-detection",
              "contrastive-loss",
              "conversational-ai",
              "convolutional-neural-networks",
              "coreference-resolution",
              "coreml",
              "counterfactuals",
              "cropping",
              "cross-lingual",
              "crowd-counting",
              "css",
              "d3",
              "data-augmentation",
              "data-mining",
              "data-science",
              "data-summarization",
              "databases",
              "deblurring",
              "decision-making",
              "decision-trees",
              "deconvolution",
              "deep-learning",
              "deep-q-networks",
              "denoising",
              "density-estimation",
              "dependency-parsing",
              "depth-completion",
              "depth-estimation",
              "devops",
              "dialogue",
              "dictionary-learning",
              "dimensionality-reduction",
              "disease-prediction",
              "disparity-estimation",
              "distributed-training",
              "django",
              "dl4j",
              "dlib",
              "docker",
              "document-classification",
              "document-embeddings",
              "document-ranking",
              "domain-adaptation",
              "drug-discovery",
              "dynet",
              "edge-detection",
              "embeddings",
              "emotion-recognition",
              "enhancement",
              "entity-alignment",
              "entity-disambiguation",
              "entity-extraction",
              "entity-linking",
              "entity-resolution",
              "entity-typing",
              "expectation-maximization",
              "experiment-tracking",
              "exploratory-data-analysis",
              "face-detection",
              "face-generation",
              "face-reconstruction",
              "fake-news-detection",
              "fastai",
              "fastapi",
              "fasttext",
              "feature-engineering",
              "feature-importance",
              "feature-selection",
              "few-shot-learning",
              "fine-tuning",
              "flask",
              "forecasting",
              "fraud-detection",
              "frontend",
              "gated-recurrent-units",
              "gaussian-processes",
              "gaze-estimation",
              "generation",
              "generative-adversarial-networks",
              "geometric-deep-learning",
              "gesture-recognition",
              "git",
              "gluon",
              "go",
              "gpt",
              "gradient-boosting",
              "graph-classification",
              "graph-clustering",
              "graph-construction",
              "graph-convolutional-networks",
              "graph-embedding",
              "graph-neural-networks",
              "graph-representation-learning",
              "graph-similarity",
              "graphql",
              "graphs",
              "grasping",
              "h2o",
              "hand-pose-estimation",
              "haskell",
              "hidden-markov-models",
              "hierarchical-reinforcement-learning",
              "highway-networks",
              "html",
              "huggingface",
              "human-detection",
              "hyperparameter-optimization",
              "image-captioning",
              "image-categorization",
              "image-classification",
              "image-clustering",
              "image-compression",
              "image-enhancement",
              "image-generation",
              "image-imputation",
              "image-recognition",
              "image-reconstruction",
              "image-restoration",
              "image-similarity-search",
              "image-to-image-translation",
              "imitation-learning",
              "imputation",
              "inference",
              "information-extraction",
              "information-retrieval",
              "instance-segmentation",
              "integration-tests",
              "intent-classification",
              "intent-detection",
              "interpretability",
              "java",
              "javascript",
              "jax",
              "julia",
              "k-nearest-neighbors",
              "keras",
              "keyword-extraction",
              "keyword-spotting",
              "knowledge-base",
              "knowledge-base-question-answering",
              "knowledge-distillation",
              "knowledge-graphs",
              "kuberflow",
              "kubernetes",
              "language-identification",
              "language-modeling",
              "latent-dirichlet-allocation",
              "learning-rates",
              "lemmatization",
              "lexical-simplification",
              "linear-discriminant-analysis",
              "linear-regression",
              "linguistic-acceptability",
              "logistic-regression",
              "lstm",
              "machine-learning",
              "machine-translation",
              "matplotlib",
              "medical-imaging",
              "meta-learning",
              "metrics",
              "mlops",
              "model-compression",
              "model-management",
              "model-selection",
              "morphological-analysis",
              "morphological-inflection",
              "morphological-tagging",
              "mortality-prediction",
              "motion-capture",
              "motion-estimation",
              "motion-planning",
              "motion-segmentation",
              "multi-agent-reinforcement-learning",
              "multi-armed-bandits",
              "multi-modal",
              "multi-task-learning",
              "multilayer-perceptrons",
              "multilingual",
              "multinomial-regression",
              "music-generation",
              "mxnet",
              "naive-bayes",
              "named-entity-recognition",
              "natural-language-inference",
              "natural-language-processing",
              "natural-language-understanding",
              "navigation",
              "neural-networks",
              "node-classification",
              "node-js",
              "object-classification",
              "object-counting",
              "object-detection",
              "object-localization",
              "object-recognition",
              "object-reconstruction",
              "object-tracking",
              "one-shot-learning",
              "onnx",
              "open-refine",
              "optical-character-recognition",
              "optical-flow-estimation",
              "optimizer",
              "outlier-detection",
              "paddlepaddle",
              "paraphrase-identification",
              "part-of-speech-tagging",
              "passage-re-ranking",
              "phenotyping",
              "php",
              "phrase-grounding",
              "point-cloud-generation",
              "policy-gradient-methods",
              "pose-estimation",
              "pose-tracking",
              "preprocessing",
              "pretraining",
              "principal-component-analysis",
              "privacy",
              "production",
              "pruning",
              "python",
              "pytorch",
              "q-learning",
              "quantization",
              "quantum-machine-learning",
              "quasi-recurrent-neural-networks",
              "question-answering",
              "question-generation",
              "question-similarity",
              "r",
              "random-forests",
              "react",
              "reading-comprehension",
              "recommendation-systems",
              "recurrent-neural-networks",
              "recursive-neural-networks",
              "regression",
              "reinforcement-learning",
              "relation-classification",
              "relation-extraction",
              "relational-reasoning",
              "representation-learning",
              "residual-networks",
              "robotics",
              "ruby",
              "saas",
              "safe-exploration",
              "sarcasm-detection",
              "scala",
              "scene-classification",
              "scene-generation",
              "scikit-learn",
              "search",
              "segmentation",
              "self-attention",
              "self-supervised-learning",
              "semantic-composition",
              "semantic-parsing",
              "semantic-role-labeling",
              "semantic-segmentation",
              "semi-supervised-learning",
              "sentence-embeddings",
              "sentiment-analysis",
              "sequence-to-sequence",
              "siamese-networks",
              "similarity-search",
              "slot-filling",
              "sonnet",
              "spacy",
              "spark",
              "spatial-temporal-cnn",
              "speaker-diarization",
              "speaker-identification",
              "speaker-separation",
              "speaker-verification",
              "speech",
              "speech-enhancement",
              "speech-recognition",
              "speech-separation",
              "speech-synthesis",
              "spoken-dialogue-systems",
              "sql",
              "stance-detection",
              "stata",
              "stereo-matching",
              "stochastic-optimization",
              "streaming-data",
              "streamlit",
              "style-transfer",
              "subjectivity-analysis",
              "super-resolution",
              "support-vector-machines",
              "surveillance",
              "survival-analysis",
              "swift",
              "systems-design",
              "tabular",
              "temporal-cnn",
              "tensor-networks",
              "tensorflow",
              "tensorflow-js",
              "tensorflow-lite",
              "text-attribute-transfer",
              "text-classification",
              "text-generation",
              "text-matching",
              "text-similarity",
              "text-simplification",
              "text-summarization",
              "text-to-speech-synthesis",
              "theano",
              "time-series",
              "time-series-classification",
              "time-series-clustering",
              "time-series-forecasting",
              "time-series-prediction",
              "tokenization",
              "topic-modeling",
              "torch",
              "transfer-learning",
              "transformers",
              "unit-tests",
              "unsupervised-learning",
              "variational-autoencoders",
              "video-captioning",
              "video-classification",
              "video-question-answering",
              "video-semantic-segmentation",
              "video-summarization",
              "visual-navigation",
              "visual-odometry",
              "visual-question-answering",
              "visual-reasoning",
              "visual-tracking",
              "visualization",
              "wandb",
              "word-alignment",
              "word-embeddings",
              "word-sense-disambiguation",
              "word-sense-induction",
              "xgboost",
              "xlnet",
              "zero-shot-learning"
            ],
            "_view_name": "DropdownView",
            "style": "IPY_MODEL_deaf9f8ce4fe42f591177c9440d65a09",
            "_dom_classes": [],
            "description": "tag",
            "_model_name": "DropdownModel",
            "index": 283,
            "_view_module": "@jupyter-widgets/controls",
            "_model_module_version": "1.5.0",
            "_view_count": null,
            "disabled": false,
            "_view_module_version": "1.5.0",
            "description_tooltip": null,
            "_model_module": "@jupyter-widgets/controls",
            "layout": "IPY_MODEL_32d31a4103504137a099b7a40e881e45"
          }
        },
        "006c862cca5a437f948f9f7e73036bf9": {
          "model_module": "@jupyter-widgets/output",
          "model_name": "OutputModel",
          "state": {
            "_view_name": "OutputView",
            "msg_id": "",
            "_dom_classes": [],
            "_model_name": "OutputModel",
            "outputs": [
              {
                "output_type": "stream",
                "metadata": {
                  "tags": []
                },
                "text": "{\n  \"aliases\": [\n    \"qa\"\n  ],\n  \"parents\": [\n    \"natural-language-processing\"\n  ]\n}\n",
                "stream": "stdout"
              }
            ],
            "_view_module": "@jupyter-widgets/output",
            "_model_module_version": "1.0.0",
            "_view_count": null,
            "_view_module_version": "1.0.0",
            "layout": "IPY_MODEL_0ad89ff07e224ae4ac2d32a35b7b03fa",
            "_model_module": "@jupyter-widgets/output"
          }
        },
        "deaf9f8ce4fe42f591177c9440d65a09": {
          "model_module": "@jupyter-widgets/controls",
          "model_name": "DescriptionStyleModel",
          "state": {
            "_view_name": "StyleView",
            "_model_name": "DescriptionStyleModel",
            "description_width": "",
            "_view_module": "@jupyter-widgets/base",
            "_model_module_version": "1.5.0",
            "_view_count": null,
            "_view_module_version": "1.2.0",
            "_model_module": "@jupyter-widgets/controls"
          }
        },
        "32d31a4103504137a099b7a40e881e45": {
          "model_module": "@jupyter-widgets/base",
          "model_name": "LayoutModel",
          "state": {
            "_view_name": "LayoutView",
            "grid_template_rows": null,
            "right": null,
            "justify_content": null,
            "_view_module": "@jupyter-widgets/base",
            "overflow": null,
            "_model_module_version": "1.2.0",
            "_view_count": null,
            "flex_flow": null,
            "width": null,
            "min_width": null,
            "border": null,
            "align_items": null,
            "bottom": null,
            "_model_module": "@jupyter-widgets/base",
            "top": null,
            "grid_column": null,
            "overflow_y": null,
            "overflow_x": null,
            "grid_auto_flow": null,
            "grid_area": null,
            "grid_template_columns": null,
            "flex": null,
            "_model_name": "LayoutModel",
            "justify_items": null,
            "grid_row": null,
            "max_height": null,
            "align_content": null,
            "visibility": null,
            "align_self": null,
            "height": null,
            "min_height": null,
            "padding": null,
            "grid_auto_rows": null,
            "grid_gap": null,
            "max_width": null,
            "order": null,
            "_view_module_version": "1.2.0",
            "grid_template_areas": null,
            "object_position": null,
            "object_fit": null,
            "grid_auto_columns": null,
            "margin": null,
            "display": null,
            "left": null
          }
        },
        "0ad89ff07e224ae4ac2d32a35b7b03fa": {
          "model_module": "@jupyter-widgets/base",
          "model_name": "LayoutModel",
          "state": {
            "_view_name": "LayoutView",
            "grid_template_rows": null,
            "right": null,
            "justify_content": null,
            "_view_module": "@jupyter-widgets/base",
            "overflow": null,
            "_model_module_version": "1.2.0",
            "_view_count": null,
            "flex_flow": null,
            "width": null,
            "min_width": null,
            "border": null,
            "align_items": null,
            "bottom": null,
            "_model_module": "@jupyter-widgets/base",
            "top": null,
            "grid_column": null,
            "overflow_y": null,
            "overflow_x": null,
            "grid_auto_flow": null,
            "grid_area": null,
            "grid_template_columns": null,
            "flex": null,
            "_model_name": "LayoutModel",
            "justify_items": null,
            "grid_row": null,
            "max_height": null,
            "align_content": null,
            "visibility": null,
            "align_self": null,
            "height": null,
            "min_height": null,
            "padding": null,
            "grid_auto_rows": null,
            "grid_gap": null,
            "max_width": null,
            "order": null,
            "_view_module_version": "1.2.0",
            "grid_template_areas": null,
            "object_position": null,
            "object_fit": null,
            "grid_auto_columns": null,
            "margin": null,
            "display": null,
            "left": null
          }
        },
        "2feb35a5f201451cba55564345bebf1f": {
          "model_module": "@jupyter-widgets/controls",
          "model_name": "VBoxModel",
          "state": {
            "_view_name": "VBoxView",
            "_dom_classes": [
              "widget-interact"
            ],
            "_model_name": "VBoxModel",
            "_view_module": "@jupyter-widgets/controls",
            "_model_module_version": "1.5.0",
            "_view_count": null,
            "_view_module_version": "1.5.0",
            "box_style": "",
            "layout": "IPY_MODEL_d06cccac5c3144f080533435a0c2e603",
            "_model_module": "@jupyter-widgets/controls",
            "children": [
              "IPY_MODEL_89e8b41698d54787b7e1a112e96904bc",
              "IPY_MODEL_df27f2366b374fe4896e684639666454"
            ]
          }
        },
        "d06cccac5c3144f080533435a0c2e603": {
          "model_module": "@jupyter-widgets/base",
          "model_name": "LayoutModel",
          "state": {
            "_view_name": "LayoutView",
            "grid_template_rows": null,
            "right": null,
            "justify_content": null,
            "_view_module": "@jupyter-widgets/base",
            "overflow": null,
            "_model_module_version": "1.2.0",
            "_view_count": null,
            "flex_flow": null,
            "width": null,
            "min_width": null,
            "border": null,
            "align_items": null,
            "bottom": null,
            "_model_module": "@jupyter-widgets/base",
            "top": null,
            "grid_column": null,
            "overflow_y": null,
            "overflow_x": null,
            "grid_auto_flow": null,
            "grid_area": null,
            "grid_template_columns": null,
            "flex": null,
            "_model_name": "LayoutModel",
            "justify_items": null,
            "grid_row": null,
            "max_height": null,
            "align_content": null,
            "visibility": null,
            "align_self": null,
            "height": null,
            "min_height": null,
            "padding": null,
            "grid_auto_rows": null,
            "grid_gap": null,
            "max_width": null,
            "order": null,
            "_view_module_version": "1.2.0",
            "grid_template_areas": null,
            "object_position": null,
            "object_fit": null,
            "grid_auto_columns": null,
            "margin": null,
            "display": null,
            "left": null
          }
        },
        "89e8b41698d54787b7e1a112e96904bc": {
          "model_module": "@jupyter-widgets/controls",
          "model_name": "IntSliderModel",
          "state": {
            "_view_name": "IntSliderView",
            "style": "IPY_MODEL_7a920b220f9f4faaba378daf993d35d8",
            "_dom_classes": [],
            "description": "min_tag_freq",
            "step": 1,
            "_model_name": "IntSliderModel",
            "orientation": "horizontal",
            "max": 429,
            "_view_module": "@jupyter-widgets/controls",
            "_model_module_version": "1.5.0",
            "value": 30,
            "_view_count": null,
            "disabled": false,
            "_view_module_version": "1.5.0",
            "min": 0,
            "continuous_update": true,
            "readout_format": "d",
            "description_tooltip": null,
            "readout": true,
            "_model_module": "@jupyter-widgets/controls",
            "layout": "IPY_MODEL_33e0dc414270423faf3cb693db89fed4"
          }
        },
        "df27f2366b374fe4896e684639666454": {
          "model_module": "@jupyter-widgets/output",
          "model_name": "OutputModel",
          "state": {
            "_view_name": "OutputView",
            "msg_id": "",
            "_dom_classes": [],
            "_model_name": "OutputModel",
            "outputs": [
              {
                "output_type": "stream",
                "metadata": {
                  "tags": []
                },
                "text": "Most popular tags:\n [('natural-language-processing', 429), ('computer-vision', 388), ('pytorch', 258), ('tensorflow', 213), ('transformers', 196)]\n\nTags that just made the cut:\n [('time-series', 34), ('flask', 34), ('node-classification', 33), ('question-answering', 32), ('pretraining', 30)]\n\nTags that just missed the cut:\n [('model-compression', 29), ('fastai', 29), ('graph-classification', 29), ('recurrent-neural-networks', 28), ('adversarial-learning', 28)]\n",
                "stream": "stdout"
              }
            ],
            "_view_module": "@jupyter-widgets/output",
            "_model_module_version": "1.0.0",
            "_view_count": null,
            "_view_module_version": "1.0.0",
            "layout": "IPY_MODEL_103dcf696978456db7e1ff4f05e532be",
            "_model_module": "@jupyter-widgets/output"
          }
        },
        "7a920b220f9f4faaba378daf993d35d8": {
          "model_module": "@jupyter-widgets/controls",
          "model_name": "SliderStyleModel",
          "state": {
            "_view_name": "StyleView",
            "handle_color": null,
            "_model_name": "SliderStyleModel",
            "description_width": "",
            "_view_module": "@jupyter-widgets/base",
            "_model_module_version": "1.5.0",
            "_view_count": null,
            "_view_module_version": "1.2.0",
            "_model_module": "@jupyter-widgets/controls"
          }
        },
        "33e0dc414270423faf3cb693db89fed4": {
          "model_module": "@jupyter-widgets/base",
          "model_name": "LayoutModel",
          "state": {
            "_view_name": "LayoutView",
            "grid_template_rows": null,
            "right": null,
            "justify_content": null,
            "_view_module": "@jupyter-widgets/base",
            "overflow": null,
            "_model_module_version": "1.2.0",
            "_view_count": null,
            "flex_flow": null,
            "width": null,
            "min_width": null,
            "border": null,
            "align_items": null,
            "bottom": null,
            "_model_module": "@jupyter-widgets/base",
            "top": null,
            "grid_column": null,
            "overflow_y": null,
            "overflow_x": null,
            "grid_auto_flow": null,
            "grid_area": null,
            "grid_template_columns": null,
            "flex": null,
            "_model_name": "LayoutModel",
            "justify_items": null,
            "grid_row": null,
            "max_height": null,
            "align_content": null,
            "visibility": null,
            "align_self": null,
            "height": null,
            "min_height": null,
            "padding": null,
            "grid_auto_rows": null,
            "grid_gap": null,
            "max_width": null,
            "order": null,
            "_view_module_version": "1.2.0",
            "grid_template_areas": null,
            "object_position": null,
            "object_fit": null,
            "grid_auto_columns": null,
            "margin": null,
            "display": null,
            "left": null
          }
        },
        "103dcf696978456db7e1ff4f05e532be": {
          "model_module": "@jupyter-widgets/base",
          "model_name": "LayoutModel",
          "state": {
            "_view_name": "LayoutView",
            "grid_template_rows": null,
            "right": null,
            "justify_content": null,
            "_view_module": "@jupyter-widgets/base",
            "overflow": null,
            "_model_module_version": "1.2.0",
            "_view_count": null,
            "flex_flow": null,
            "width": null,
            "min_width": null,
            "border": null,
            "align_items": null,
            "bottom": null,
            "_model_module": "@jupyter-widgets/base",
            "top": null,
            "grid_column": null,
            "overflow_y": null,
            "overflow_x": null,
            "grid_auto_flow": null,
            "grid_area": null,
            "grid_template_columns": null,
            "flex": null,
            "_model_name": "LayoutModel",
            "justify_items": null,
            "grid_row": null,
            "max_height": null,
            "align_content": null,
            "visibility": null,
            "align_self": null,
            "height": null,
            "min_height": null,
            "padding": null,
            "grid_auto_rows": null,
            "grid_gap": null,
            "max_width": null,
            "order": null,
            "_view_module_version": "1.2.0",
            "grid_template_areas": null,
            "object_position": null,
            "object_fit": null,
            "grid_auto_columns": null,
            "margin": null,
            "display": null,
            "left": null
          }
        },
        "0e199e0d047e45b2a1d3fa5d05a0479d": {
          "model_module": "@jupyter-widgets/controls",
          "model_name": "VBoxModel",
          "state": {
            "_view_name": "VBoxView",
            "_dom_classes": [
              "widget-interact"
            ],
            "_model_name": "VBoxModel",
            "_view_module": "@jupyter-widgets/controls",
            "_model_module_version": "1.5.0",
            "_view_count": null,
            "_view_module_version": "1.5.0",
            "box_style": "",
            "layout": "IPY_MODEL_865fdaf962384a109bb89f01ecc11bd6",
            "_model_module": "@jupyter-widgets/controls",
            "children": [
              "IPY_MODEL_5739893597114214820a2a35cae6396a",
              "IPY_MODEL_24d567038a904dcfa92ee10b1124b6ce"
            ]
          }
        },
        "865fdaf962384a109bb89f01ecc11bd6": {
          "model_module": "@jupyter-widgets/base",
          "model_name": "LayoutModel",
          "state": {
            "_view_name": "LayoutView",
            "grid_template_rows": null,
            "right": null,
            "justify_content": null,
            "_view_module": "@jupyter-widgets/base",
            "overflow": null,
            "_model_module_version": "1.2.0",
            "_view_count": null,
            "flex_flow": null,
            "width": null,
            "min_width": null,
            "border": null,
            "align_items": null,
            "bottom": null,
            "_model_module": "@jupyter-widgets/base",
            "top": null,
            "grid_column": null,
            "overflow_y": null,
            "overflow_x": null,
            "grid_auto_flow": null,
            "grid_area": null,
            "grid_template_columns": null,
            "flex": null,
            "_model_name": "LayoutModel",
            "justify_items": null,
            "grid_row": null,
            "max_height": null,
            "align_content": null,
            "visibility": null,
            "align_self": null,
            "height": null,
            "min_height": null,
            "padding": null,
            "grid_auto_rows": null,
            "grid_gap": null,
            "max_width": null,
            "order": null,
            "_view_module_version": "1.2.0",
            "grid_template_areas": null,
            "object_position": null,
            "object_fit": null,
            "grid_auto_columns": null,
            "margin": null,
            "display": null,
            "left": null
          }
        },
        "5739893597114214820a2a35cae6396a": {
          "model_module": "@jupyter-widgets/controls",
          "model_name": "DropdownModel",
          "state": {
            "_options_labels": [
              "natural-language-processing",
              "computer-vision",
              "pytorch",
              "tensorflow",
              "transformers",
              "attention",
              "convolutional-neural-networks",
              "keras",
              "graphs",
              "embeddings",
              "generative-adversarial-networks",
              "object-detection",
              "huggingface",
              "scikit-learn",
              "reinforcement-learning",
              "representation-learning",
              "interpretability",
              "image-classification",
              "production",
              "language-modeling",
              "graph-neural-networks",
              "regression",
              "segmentation",
              "transfer-learning",
              "data-augmentation",
              "autoencoders",
              "self-supervised-learning",
              "tensorflow-js",
              "unsupervised-learning",
              "wandb",
              "time-series",
              "flask",
              "node-classification",
              "question-answering",
              "pretraining"
            ],
            "_view_name": "DropdownView",
            "style": "IPY_MODEL_04b70cbcd3c449138d3ef81ed079348c",
            "_dom_classes": [],
            "description": "tag",
            "_model_name": "DropdownModel",
            "index": 2,
            "_view_module": "@jupyter-widgets/controls",
            "_model_module_version": "1.5.0",
            "_view_count": null,
            "disabled": false,
            "_view_module_version": "1.5.0",
            "description_tooltip": null,
            "_model_module": "@jupyter-widgets/controls",
            "layout": "IPY_MODEL_85a29f88c447403381576d50f086ec15"
          }
        },
        "24d567038a904dcfa92ee10b1124b6ce": {
          "model_module": "@jupyter-widgets/output",
          "model_name": "OutputModel",
          "state": {
            "_view_name": "OutputView",
            "msg_id": "",
            "_dom_classes": [],
            "_model_name": "OutputModel",
            "outputs": [
              {
                "output_type": "display_data",
                "metadata": {
                  "tags": [],
                  "needs_background": "light"
                },
                "image/png": "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\n",
                "text/plain": "<Figure size 2160x360 with 1 Axes>"
              }
            ],
            "_view_module": "@jupyter-widgets/output",
            "_model_module_version": "1.0.0",
            "_view_count": null,
            "_view_module_version": "1.0.0",
            "layout": "IPY_MODEL_e2c6a5717a5c40c58830ff9639525036",
            "_model_module": "@jupyter-widgets/output"
          }
        },
        "04b70cbcd3c449138d3ef81ed079348c": {
          "model_module": "@jupyter-widgets/controls",
          "model_name": "DescriptionStyleModel",
          "state": {
            "_view_name": "StyleView",
            "_model_name": "DescriptionStyleModel",
            "description_width": "",
            "_view_module": "@jupyter-widgets/base",
            "_model_module_version": "1.5.0",
            "_view_count": null,
            "_view_module_version": "1.2.0",
            "_model_module": "@jupyter-widgets/controls"
          }
        },
        "85a29f88c447403381576d50f086ec15": {
          "model_module": "@jupyter-widgets/base",
          "model_name": "LayoutModel",
          "state": {
            "_view_name": "LayoutView",
            "grid_template_rows": null,
            "right": null,
            "justify_content": null,
            "_view_module": "@jupyter-widgets/base",
            "overflow": null,
            "_model_module_version": "1.2.0",
            "_view_count": null,
            "flex_flow": null,
            "width": null,
            "min_width": null,
            "border": null,
            "align_items": null,
            "bottom": null,
            "_model_module": "@jupyter-widgets/base",
            "top": null,
            "grid_column": null,
            "overflow_y": null,
            "overflow_x": null,
            "grid_auto_flow": null,
            "grid_area": null,
            "grid_template_columns": null,
            "flex": null,
            "_model_name": "LayoutModel",
            "justify_items": null,
            "grid_row": null,
            "max_height": null,
            "align_content": null,
            "visibility": null,
            "align_self": null,
            "height": null,
            "min_height": null,
            "padding": null,
            "grid_auto_rows": null,
            "grid_gap": null,
            "max_width": null,
            "order": null,
            "_view_module_version": "1.2.0",
            "grid_template_areas": null,
            "object_position": null,
            "object_fit": null,
            "grid_auto_columns": null,
            "margin": null,
            "display": null,
            "left": null
          }
        },
        "e2c6a5717a5c40c58830ff9639525036": {
          "model_module": "@jupyter-widgets/base",
          "model_name": "LayoutModel",
          "state": {
            "_view_name": "LayoutView",
            "grid_template_rows": null,
            "right": null,
            "justify_content": null,
            "_view_module": "@jupyter-widgets/base",
            "overflow": null,
            "_model_module_version": "1.2.0",
            "_view_count": null,
            "flex_flow": null,
            "width": null,
            "min_width": null,
            "border": null,
            "align_items": null,
            "bottom": null,
            "_model_module": "@jupyter-widgets/base",
            "top": null,
            "grid_column": null,
            "overflow_y": null,
            "overflow_x": null,
            "grid_auto_flow": null,
            "grid_area": null,
            "grid_template_columns": null,
            "flex": null,
            "_model_name": "LayoutModel",
            "justify_items": null,
            "grid_row": null,
            "max_height": null,
            "align_content": null,
            "visibility": null,
            "align_self": null,
            "height": null,
            "min_height": null,
            "padding": null,
            "grid_auto_rows": null,
            "grid_gap": null,
            "max_width": null,
            "order": null,
            "_view_module_version": "1.2.0",
            "grid_template_areas": null,
            "object_position": null,
            "object_fit": null,
            "grid_auto_columns": null,
            "margin": null,
            "display": null,
            "left": null
          }
        },
        "13382e6b50334d81b3e955274fa8c417": {
          "model_module": "@jupyter-widgets/controls",
          "model_name": "VBoxModel",
          "state": {
            "_view_name": "VBoxView",
            "_dom_classes": [
              "widget-interact"
            ],
            "_model_name": "VBoxModel",
            "_view_module": "@jupyter-widgets/controls",
            "_model_module_version": "1.5.0",
            "_view_count": null,
            "_view_module_version": "1.5.0",
            "box_style": "",
            "layout": "IPY_MODEL_13cff4579df84d4a9f4676660480afc2",
            "_model_module": "@jupyter-widgets/controls",
            "children": [
              "IPY_MODEL_3e8c58bc5197405ab3749e61782b1dc7",
              "IPY_MODEL_6f536eef92e24f7bbfe7e74186307e86",
              "IPY_MODEL_fdf215dcbf64496e92c232520cccef5c"
            ]
          }
        },
        "13cff4579df84d4a9f4676660480afc2": {
          "model_module": "@jupyter-widgets/base",
          "model_name": "LayoutModel",
          "state": {
            "_view_name": "LayoutView",
            "grid_template_rows": null,
            "right": null,
            "justify_content": null,
            "_view_module": "@jupyter-widgets/base",
            "overflow": null,
            "_model_module_version": "1.2.0",
            "_view_count": null,
            "flex_flow": null,
            "width": null,
            "min_width": null,
            "border": null,
            "align_items": null,
            "bottom": null,
            "_model_module": "@jupyter-widgets/base",
            "top": null,
            "grid_column": null,
            "overflow_y": null,
            "overflow_x": null,
            "grid_auto_flow": null,
            "grid_area": null,
            "grid_template_columns": null,
            "flex": null,
            "_model_name": "LayoutModel",
            "justify_items": null,
            "grid_row": null,
            "max_height": null,
            "align_content": null,
            "visibility": null,
            "align_self": null,
            "height": null,
            "min_height": null,
            "padding": null,
            "grid_auto_rows": null,
            "grid_gap": null,
            "max_width": null,
            "order": null,
            "_view_module_version": "1.2.0",
            "grid_template_areas": null,
            "object_position": null,
            "object_fit": null,
            "grid_auto_columns": null,
            "margin": null,
            "display": null,
            "left": null
          }
        },
        "3e8c58bc5197405ab3749e61782b1dc7": {
          "model_module": "@jupyter-widgets/controls",
          "model_name": "CheckboxModel",
          "state": {
            "_view_name": "CheckboxView",
            "style": "IPY_MODEL_c500f93ad42142a8ba697967d4f301b2",
            "_dom_classes": [],
            "description": "lower",
            "_model_name": "CheckboxModel",
            "_view_module": "@jupyter-widgets/controls",
            "_model_module_version": "1.5.0",
            "value": true,
            "_view_count": null,
            "disabled": false,
            "_view_module_version": "1.5.0",
            "indent": true,
            "description_tooltip": null,
            "_model_module": "@jupyter-widgets/controls",
            "layout": "IPY_MODEL_bb634c34443a40bc9169e0aade7af029"
          }
        },
        "6f536eef92e24f7bbfe7e74186307e86": {
          "model_module": "@jupyter-widgets/controls",
          "model_name": "CheckboxModel",
          "state": {
            "_view_name": "CheckboxView",
            "style": "IPY_MODEL_3e3aa68843364286b3407801b6fa892e",
            "_dom_classes": [],
            "description": "stem",
            "_model_name": "CheckboxModel",
            "_view_module": "@jupyter-widgets/controls",
            "_model_module_version": "1.5.0",
            "value": false,
            "_view_count": null,
            "disabled": false,
            "_view_module_version": "1.5.0",
            "indent": true,
            "description_tooltip": null,
            "_model_module": "@jupyter-widgets/controls",
            "layout": "IPY_MODEL_2482affc8cfe4d48bbb031fdde0428c8"
          }
        },
        "fdf215dcbf64496e92c232520cccef5c": {
          "model_module": "@jupyter-widgets/output",
          "model_name": "OutputModel",
          "state": {
            "_view_name": "OutputView",
            "msg_id": "",
            "_dom_classes": [],
            "_model_name": "OutputModel",
            "outputs": [
              {
                "output_type": "stream",
                "metadata": {
                  "tags": []
                },
                "text": "conditional image generation using variational autoencoders gans\n",
                "stream": "stdout"
              }
            ],
            "_view_module": "@jupyter-widgets/output",
            "_model_module_version": "1.0.0",
            "_view_count": null,
            "_view_module_version": "1.0.0",
            "layout": "IPY_MODEL_32cfaebf82994ccba5795d9f7388327e",
            "_model_module": "@jupyter-widgets/output"
          }
        },
        "c500f93ad42142a8ba697967d4f301b2": {
          "model_module": "@jupyter-widgets/controls",
          "model_name": "DescriptionStyleModel",
          "state": {
            "_view_name": "StyleView",
            "_model_name": "DescriptionStyleModel",
            "description_width": "",
            "_view_module": "@jupyter-widgets/base",
            "_model_module_version": "1.5.0",
            "_view_count": null,
            "_view_module_version": "1.2.0",
            "_model_module": "@jupyter-widgets/controls"
          }
        },
        "bb634c34443a40bc9169e0aade7af029": {
          "model_module": "@jupyter-widgets/base",
          "model_name": "LayoutModel",
          "state": {
            "_view_name": "LayoutView",
            "grid_template_rows": null,
            "right": null,
            "justify_content": null,
            "_view_module": "@jupyter-widgets/base",
            "overflow": null,
            "_model_module_version": "1.2.0",
            "_view_count": null,
            "flex_flow": null,
            "width": null,
            "min_width": null,
            "border": null,
            "align_items": null,
            "bottom": null,
            "_model_module": "@jupyter-widgets/base",
            "top": null,
            "grid_column": null,
            "overflow_y": null,
            "overflow_x": null,
            "grid_auto_flow": null,
            "grid_area": null,
            "grid_template_columns": null,
            "flex": null,
            "_model_name": "LayoutModel",
            "justify_items": null,
            "grid_row": null,
            "max_height": null,
            "align_content": null,
            "visibility": null,
            "align_self": null,
            "height": null,
            "min_height": null,
            "padding": null,
            "grid_auto_rows": null,
            "grid_gap": null,
            "max_width": null,
            "order": null,
            "_view_module_version": "1.2.0",
            "grid_template_areas": null,
            "object_position": null,
            "object_fit": null,
            "grid_auto_columns": null,
            "margin": null,
            "display": null,
            "left": null
          }
        },
        "3e3aa68843364286b3407801b6fa892e": {
          "model_module": "@jupyter-widgets/controls",
          "model_name": "DescriptionStyleModel",
          "state": {
            "_view_name": "StyleView",
            "_model_name": "DescriptionStyleModel",
            "description_width": "",
            "_view_module": "@jupyter-widgets/base",
            "_model_module_version": "1.5.0",
            "_view_count": null,
            "_view_module_version": "1.2.0",
            "_model_module": "@jupyter-widgets/controls"
          }
        },
        "2482affc8cfe4d48bbb031fdde0428c8": {
          "model_module": "@jupyter-widgets/base",
          "model_name": "LayoutModel",
          "state": {
            "_view_name": "LayoutView",
            "grid_template_rows": null,
            "right": null,
            "justify_content": null,
            "_view_module": "@jupyter-widgets/base",
            "overflow": null,
            "_model_module_version": "1.2.0",
            "_view_count": null,
            "flex_flow": null,
            "width": null,
            "min_width": null,
            "border": null,
            "align_items": null,
            "bottom": null,
            "_model_module": "@jupyter-widgets/base",
            "top": null,
            "grid_column": null,
            "overflow_y": null,
            "overflow_x": null,
            "grid_auto_flow": null,
            "grid_area": null,
            "grid_template_columns": null,
            "flex": null,
            "_model_name": "LayoutModel",
            "justify_items": null,
            "grid_row": null,
            "max_height": null,
            "align_content": null,
            "visibility": null,
            "align_self": null,
            "height": null,
            "min_height": null,
            "padding": null,
            "grid_auto_rows": null,
            "grid_gap": null,
            "max_width": null,
            "order": null,
            "_view_module_version": "1.2.0",
            "grid_template_areas": null,
            "object_position": null,
            "object_fit": null,
            "grid_auto_columns": null,
            "margin": null,
            "display": null,
            "left": null
          }
        },
        "32cfaebf82994ccba5795d9f7388327e": {
          "model_module": "@jupyter-widgets/base",
          "model_name": "LayoutModel",
          "state": {
            "_view_name": "LayoutView",
            "grid_template_rows": null,
            "right": null,
            "justify_content": null,
            "_view_module": "@jupyter-widgets/base",
            "overflow": null,
            "_model_module_version": "1.2.0",
            "_view_count": null,
            "flex_flow": null,
            "width": null,
            "min_width": null,
            "border": null,
            "align_items": null,
            "bottom": null,
            "_model_module": "@jupyter-widgets/base",
            "top": null,
            "grid_column": null,
            "overflow_y": null,
            "overflow_x": null,
            "grid_auto_flow": null,
            "grid_area": null,
            "grid_template_columns": null,
            "flex": null,
            "_model_name": "LayoutModel",
            "justify_items": null,
            "grid_row": null,
            "max_height": null,
            "align_content": null,
            "visibility": null,
            "align_self": null,
            "height": null,
            "min_height": null,
            "padding": null,
            "grid_auto_rows": null,
            "grid_gap": null,
            "max_width": null,
            "order": null,
            "_view_module_version": "1.2.0",
            "grid_template_areas": null,
            "object_position": null,
            "object_fit": null,
            "grid_auto_columns": null,
            "margin": null,
            "display": null,
            "left": null
          }
        },
        "c2b7ca07755b419ebe97514c0b644b42": {
          "model_module": "@jupyter-widgets/controls",
          "model_name": "VBoxModel",
          "state": {
            "_view_name": "VBoxView",
            "_dom_classes": [
              "widget-interact"
            ],
            "_model_name": "VBoxModel",
            "_view_module": "@jupyter-widgets/controls",
            "_model_module_version": "1.5.0",
            "_view_count": null,
            "_view_module_version": "1.5.0",
            "box_style": "",
            "layout": "IPY_MODEL_b9a3223c868744f99f099f4101d7665e",
            "_model_module": "@jupyter-widgets/controls",
            "children": [
              "IPY_MODEL_6c329101995f4e7c815dbddb70e2c00f",
              "IPY_MODEL_dfd280f9250e48a5bd839888c7ac4cc1"
            ]
          }
        },
        "b9a3223c868744f99f099f4101d7665e": {
          "model_module": "@jupyter-widgets/base",
          "model_name": "LayoutModel",
          "state": {
            "_view_name": "LayoutView",
            "grid_template_rows": null,
            "right": null,
            "justify_content": null,
            "_view_module": "@jupyter-widgets/base",
            "overflow": null,
            "_model_module_version": "1.2.0",
            "_view_count": null,
            "flex_flow": null,
            "width": null,
            "min_width": null,
            "border": null,
            "align_items": null,
            "bottom": null,
            "_model_module": "@jupyter-widgets/base",
            "top": null,
            "grid_column": null,
            "overflow_y": null,
            "overflow_x": null,
            "grid_auto_flow": null,
            "grid_area": null,
            "grid_template_columns": null,
            "flex": null,
            "_model_name": "LayoutModel",
            "justify_items": null,
            "grid_row": null,
            "max_height": null,
            "align_content": null,
            "visibility": null,
            "align_self": null,
            "height": null,
            "min_height": null,
            "padding": null,
            "grid_auto_rows": null,
            "grid_gap": null,
            "max_width": null,
            "order": null,
            "_view_module_version": "1.2.0",
            "grid_template_areas": null,
            "object_position": null,
            "object_fit": null,
            "grid_auto_columns": null,
            "margin": null,
            "display": null,
            "left": null
          }
        },
        "6c329101995f4e7c815dbddb70e2c00f": {
          "model_module": "@jupyter-widgets/controls",
          "model_name": "DropdownModel",
          "state": {
            "_options_labels": [
              "language-modeling",
              "autoencoders",
              "time-series",
              "scikit-learn",
              "segmentation",
              "question-answering",
              "interpretability",
              "graphs",
              "tensorflow",
              "embeddings",
              "pytorch",
              "generative-adversarial-networks",
              "graph-neural-networks",
              "keras",
              "reinforcement-learning",
              "self-supervised-learning",
              "transfer-learning",
              "flask",
              "image-classification",
              "natural-language-processing",
              "transformers",
              "production",
              "convolutional-neural-networks",
              "data-augmentation",
              "object-detection",
              "regression",
              "tensorflow-js",
              "unsupervised-learning",
              "huggingface",
              "computer-vision",
              "representation-learning",
              "attention",
              "node-classification",
              "pretraining",
              "wandb"
            ],
            "_view_name": "DropdownView",
            "style": "IPY_MODEL_149965ffd1b546c2b4ffba3daca61711",
            "_dom_classes": [],
            "description": "tag",
            "_model_name": "DropdownModel",
            "index": 20,
            "_view_module": "@jupyter-widgets/controls",
            "_model_module_version": "1.5.0",
            "_view_count": null,
            "disabled": false,
            "_view_module_version": "1.5.0",
            "description_tooltip": null,
            "_model_module": "@jupyter-widgets/controls",
            "layout": "IPY_MODEL_4c01217675144444aa744a8bd24538dd"
          }
        },
        "dfd280f9250e48a5bd839888c7ac4cc1": {
          "model_module": "@jupyter-widgets/output",
          "model_name": "OutputModel",
          "state": {
            "_view_name": "OutputView",
            "msg_id": "",
            "_dom_classes": [],
            "_model_name": "OutputModel",
            "outputs": [
              {
                "output_type": "stream",
                "metadata": {
                  "tags": []
                },
                "text": "{\n  \"precision\": 0.9166666666666666,\n  \"recall\": 0.4230769230769231,\n  \"f1\": 0.5789473684210527,\n  \"num_samples\": 26.0\n}\n\n=== True positives ===\n\n imag gpt gener pretrain pixel transform train pixel sequenc gener coher imag complet sampl\n true: ['computer-vision', 'convolutional-neural-networks', 'natural-language-processing', 'transformers', 'unsupervised-learning']\n pred: ['natural-language-processing', 'pretraining', 'transformers']\n\n summari transform model high level summari differ model huggingfacetransform librari\n true: ['huggingface', 'natural-language-processing', 'transformers']\n pred: ['huggingface', 'natural-language-processing', 'transformers']\n\n train new languag model scratch use transform post demo train small model 84 paramet 6 layer 768 hidden size 12 attent head\n true: ['attention', 'huggingface', 'language-modeling', 'natural-language-processing', 'transformers']\n pred: ['attention', 'language-modeling', 'natural-language-processing', 'transformers']\n\n=== False postives ===\n\n scikit learn advanc featur data scienc demonstr use scikit learn concept transform featur pipelin grid search much\n true: ['scikit-learn']\n pred: ['natural-language-processing', 'scikit-learn', 'transformers']\n\n=== False negatives ===\n\n scikit learn advanc featur data scienc demonstr use scikit learn concept transform featur pipelin grid search much\n true: ['scikit-learn']\n pred: ['natural-language-processing', 'scikit-learn', 'transformers']\n\n",
                "stream": "stdout"
              }
            ],
            "_view_module": "@jupyter-widgets/output",
            "_model_module_version": "1.0.0",
            "_view_count": null,
            "_view_module_version": "1.0.0",
            "layout": "IPY_MODEL_20bc8379fdb14d7f88e95d2cfb568f4b",
            "_model_module": "@jupyter-widgets/output"
          }
        },
        "149965ffd1b546c2b4ffba3daca61711": {
          "model_module": "@jupyter-widgets/controls",
          "model_name": "DescriptionStyleModel",
          "state": {
            "_view_name": "StyleView",
            "_model_name": "DescriptionStyleModel",
            "description_width": "",
            "_view_module": "@jupyter-widgets/base",
            "_model_module_version": "1.5.0",
            "_view_count": null,
            "_view_module_version": "1.2.0",
            "_model_module": "@jupyter-widgets/controls"
          }
        },
        "4c01217675144444aa744a8bd24538dd": {
          "model_module": "@jupyter-widgets/base",
          "model_name": "LayoutModel",
          "state": {
            "_view_name": "LayoutView",
            "grid_template_rows": null,
            "right": null,
            "justify_content": null,
            "_view_module": "@jupyter-widgets/base",
            "overflow": null,
            "_model_module_version": "1.2.0",
            "_view_count": null,
            "flex_flow": null,
            "width": null,
            "min_width": null,
            "border": null,
            "align_items": null,
            "bottom": null,
            "_model_module": "@jupyter-widgets/base",
            "top": null,
            "grid_column": null,
            "overflow_y": null,
            "overflow_x": null,
            "grid_auto_flow": null,
            "grid_area": null,
            "grid_template_columns": null,
            "flex": null,
            "_model_name": "LayoutModel",
            "justify_items": null,
            "grid_row": null,
            "max_height": null,
            "align_content": null,
            "visibility": null,
            "align_self": null,
            "height": null,
            "min_height": null,
            "padding": null,
            "grid_auto_rows": null,
            "grid_gap": null,
            "max_width": null,
            "order": null,
            "_view_module_version": "1.2.0",
            "grid_template_areas": null,
            "object_position": null,
            "object_fit": null,
            "grid_auto_columns": null,
            "margin": null,
            "display": null,
            "left": null
          }
        },
        "20bc8379fdb14d7f88e95d2cfb568f4b": {
          "model_module": "@jupyter-widgets/base",
          "model_name": "LayoutModel",
          "state": {
            "_view_name": "LayoutView",
            "grid_template_rows": null,
            "right": null,
            "justify_content": null,
            "_view_module": "@jupyter-widgets/base",
            "overflow": null,
            "_model_module_version": "1.2.0",
            "_view_count": null,
            "flex_flow": null,
            "width": null,
            "min_width": null,
            "border": null,
            "align_items": null,
            "bottom": null,
            "_model_module": "@jupyter-widgets/base",
            "top": null,
            "grid_column": null,
            "overflow_y": null,
            "overflow_x": null,
            "grid_auto_flow": null,
            "grid_area": null,
            "grid_template_columns": null,
            "flex": null,
            "_model_name": "LayoutModel",
            "justify_items": null,
            "grid_row": null,
            "max_height": null,
            "align_content": null,
            "visibility": null,
            "align_self": null,
            "height": null,
            "min_height": null,
            "padding": null,
            "grid_auto_rows": null,
            "grid_gap": null,
            "max_width": null,
            "order": null,
            "_view_module_version": "1.2.0",
            "grid_template_areas": null,
            "object_position": null,
            "object_fit": null,
            "grid_auto_columns": null,
            "margin": null,
            "display": null,
            "left": null
          }
        },
        "cf5eb230de0e4266a74f16ea27ab2456": {
          "model_module": "@jupyter-widgets/controls",
          "model_name": "VBoxModel",
          "state": {
            "_view_name": "VBoxView",
            "_dom_classes": [
              "widget-interact"
            ],
            "_model_name": "VBoxModel",
            "_view_module": "@jupyter-widgets/controls",
            "_model_module_version": "1.5.0",
            "_view_count": null,
            "_view_module_version": "1.5.0",
            "box_style": "",
            "layout": "IPY_MODEL_7a29386837b7447090b2e8bb364e892e",
            "_model_module": "@jupyter-widgets/controls",
            "children": [
              "IPY_MODEL_c8ab918a5b9342098b7088747016b14b",
              "IPY_MODEL_465161fddf204703a6c323ae1b240379"
            ]
          }
        },
        "7a29386837b7447090b2e8bb364e892e": {
          "model_module": "@jupyter-widgets/base",
          "model_name": "LayoutModel",
          "state": {
            "_view_name": "LayoutView",
            "grid_template_rows": null,
            "right": null,
            "justify_content": null,
            "_view_module": "@jupyter-widgets/base",
            "overflow": null,
            "_model_module_version": "1.2.0",
            "_view_count": null,
            "flex_flow": null,
            "width": null,
            "min_width": null,
            "border": null,
            "align_items": null,
            "bottom": null,
            "_model_module": "@jupyter-widgets/base",
            "top": null,
            "grid_column": null,
            "overflow_y": null,
            "overflow_x": null,
            "grid_auto_flow": null,
            "grid_area": null,
            "grid_template_columns": null,
            "flex": null,
            "_model_name": "LayoutModel",
            "justify_items": null,
            "grid_row": null,
            "max_height": null,
            "align_content": null,
            "visibility": null,
            "align_self": null,
            "height": null,
            "min_height": null,
            "padding": null,
            "grid_auto_rows": null,
            "grid_gap": null,
            "max_width": null,
            "order": null,
            "_view_module_version": "1.2.0",
            "grid_template_areas": null,
            "object_position": null,
            "object_fit": null,
            "grid_auto_columns": null,
            "margin": null,
            "display": null,
            "left": null
          }
        },
        "c8ab918a5b9342098b7088747016b14b": {
          "model_module": "@jupyter-widgets/controls",
          "model_name": "DropdownModel",
          "state": {
            "_options_labels": [
              "language-modeling",
              "autoencoders",
              "time-series",
              "scikit-learn",
              "segmentation",
              "question-answering",
              "interpretability",
              "graphs",
              "tensorflow",
              "embeddings",
              "pytorch",
              "generative-adversarial-networks",
              "graph-neural-networks",
              "keras",
              "reinforcement-learning",
              "self-supervised-learning",
              "transfer-learning",
              "flask",
              "image-classification",
              "natural-language-processing",
              "transformers",
              "production",
              "convolutional-neural-networks",
              "data-augmentation",
              "object-detection",
              "regression",
              "tensorflow-js",
              "unsupervised-learning",
              "huggingface",
              "computer-vision",
              "representation-learning",
              "attention",
              "node-classification",
              "pretraining",
              "wandb"
            ],
            "_view_name": "DropdownView",
            "style": "IPY_MODEL_dbb9e81c278643c18ea96abc1c1b6c6c",
            "_dom_classes": [],
            "description": "tag",
            "_model_name": "DropdownModel",
            "index": 16,
            "_view_module": "@jupyter-widgets/controls",
            "_model_module_version": "1.5.0",
            "_view_count": null,
            "disabled": false,
            "_view_module_version": "1.5.0",
            "description_tooltip": null,
            "_model_module": "@jupyter-widgets/controls",
            "layout": "IPY_MODEL_87eb12ed0e1148ccbcabc7460768a67c"
          }
        },
        "465161fddf204703a6c323ae1b240379": {
          "model_module": "@jupyter-widgets/output",
          "model_name": "OutputModel",
          "state": {
            "_view_name": "OutputView",
            "msg_id": "",
            "_dom_classes": [],
            "_model_name": "OutputModel",
            "outputs": [
              {
                "output_type": "stream",
                "metadata": {
                  "tags": []
                },
                "text": "{\n  \"precision\": 0.8,\n  \"recall\": 0.4,\n  \"f1\": 0.5333333333333333,\n  \"num_samples\": 10.0\n}\n\n=== True positives ===\n\n illustrated bert elmo co nlp cracked transfer learning\n true: ['attention', 'embeddings', 'language-modeling', 'natural-language-processing', 'transfer-learning', 'transformers']\n pred: ['attention', 'natural-language-processing', 'transfer-learning', 'transformers']\n\n farm framework adapting representation models fast easy transfer learning nlp harvesting language models industry\n true: ['huggingface', 'language-modeling', 'natural-language-processing', 'transfer-learning', 'transformers']\n pred: ['language-modeling', 'natural-language-processing', 'transfer-learning', 'transformers']\n\n glue explained understanding bert benchmarks post take look important nlp benchmark used evaluate bert transfer learning models\n true: ['attention', 'natural-language-processing', 'transfer-learning', 'transformers']\n pred: ['attention', 'natural-language-processing', 'transfer-learning', 'transformers']\n\n=== False postives ===\n\n knowledge transfer self supervised learning general framework transfer knowledge deep self supervised models shallow task specific models\n true: ['self-supervised-learning']\n pred: ['computer-vision', 'natural-language-processing', 'transfer-learning']\n\n=== False negatives ===\n\n knowledge transfer self supervised learning general framework transfer knowledge deep self supervised models shallow task specific models\n true: ['self-supervised-learning']\n pred: ['computer-vision', 'natural-language-processing', 'transfer-learning']\n\n",
                "stream": "stdout"
              }
            ],
            "_view_module": "@jupyter-widgets/output",
            "_model_module_version": "1.0.0",
            "_view_count": null,
            "_view_module_version": "1.0.0",
            "layout": "IPY_MODEL_52158413486141e9b72189b790e3ca13",
            "_model_module": "@jupyter-widgets/output"
          }
        },
        "dbb9e81c278643c18ea96abc1c1b6c6c": {
          "model_module": "@jupyter-widgets/controls",
          "model_name": "DescriptionStyleModel",
          "state": {
            "_view_name": "StyleView",
            "_model_name": "DescriptionStyleModel",
            "description_width": "",
            "_view_module": "@jupyter-widgets/base",
            "_model_module_version": "1.5.0",
            "_view_count": null,
            "_view_module_version": "1.2.0",
            "_model_module": "@jupyter-widgets/controls"
          }
        },
        "87eb12ed0e1148ccbcabc7460768a67c": {
          "model_module": "@jupyter-widgets/base",
          "model_name": "LayoutModel",
          "state": {
            "_view_name": "LayoutView",
            "grid_template_rows": null,
            "right": null,
            "justify_content": null,
            "_view_module": "@jupyter-widgets/base",
            "overflow": null,
            "_model_module_version": "1.2.0",
            "_view_count": null,
            "flex_flow": null,
            "width": null,
            "min_width": null,
            "border": null,
            "align_items": null,
            "bottom": null,
            "_model_module": "@jupyter-widgets/base",
            "top": null,
            "grid_column": null,
            "overflow_y": null,
            "overflow_x": null,
            "grid_auto_flow": null,
            "grid_area": null,
            "grid_template_columns": null,
            "flex": null,
            "_model_name": "LayoutModel",
            "justify_items": null,
            "grid_row": null,
            "max_height": null,
            "align_content": null,
            "visibility": null,
            "align_self": null,
            "height": null,
            "min_height": null,
            "padding": null,
            "grid_auto_rows": null,
            "grid_gap": null,
            "max_width": null,
            "order": null,
            "_view_module_version": "1.2.0",
            "grid_template_areas": null,
            "object_position": null,
            "object_fit": null,
            "grid_auto_columns": null,
            "margin": null,
            "display": null,
            "left": null
          }
        },
        "52158413486141e9b72189b790e3ca13": {
          "model_module": "@jupyter-widgets/base",
          "model_name": "LayoutModel",
          "state": {
            "_view_name": "LayoutView",
            "grid_template_rows": null,
            "right": null,
            "justify_content": null,
            "_view_module": "@jupyter-widgets/base",
            "overflow": null,
            "_model_module_version": "1.2.0",
            "_view_count": null,
            "flex_flow": null,
            "width": null,
            "min_width": null,
            "border": null,
            "align_items": null,
            "bottom": null,
            "_model_module": "@jupyter-widgets/base",
            "top": null,
            "grid_column": null,
            "overflow_y": null,
            "overflow_x": null,
            "grid_auto_flow": null,
            "grid_area": null,
            "grid_template_columns": null,
            "flex": null,
            "_model_name": "LayoutModel",
            "justify_items": null,
            "grid_row": null,
            "max_height": null,
            "align_content": null,
            "visibility": null,
            "align_self": null,
            "height": null,
            "min_height": null,
            "padding": null,
            "grid_auto_rows": null,
            "grid_gap": null,
            "max_width": null,
            "order": null,
            "_view_module_version": "1.2.0",
            "grid_template_areas": null,
            "object_position": null,
            "object_fit": null,
            "grid_auto_columns": null,
            "margin": null,
            "display": null,
            "left": null
          }
        },
        "c8b698b7af8e45db8aec34dea259e02b": {
          "model_module": "@jupyter-widgets/controls",
          "model_name": "VBoxModel",
          "state": {
            "_view_name": "VBoxView",
            "_dom_classes": [
              "widget-interact"
            ],
            "_model_name": "VBoxModel",
            "_view_module": "@jupyter-widgets/controls",
            "_model_module_version": "1.5.0",
            "_view_count": null,
            "_view_module_version": "1.5.0",
            "box_style": "",
            "layout": "IPY_MODEL_74aa174187024859bf6bf998f0c7dec8",
            "_model_module": "@jupyter-widgets/controls",
            "children": [
              "IPY_MODEL_9db727a8e5c94d05b9e1165834f817b1",
              "IPY_MODEL_647b77f0dcdc433583874fca8d07344c"
            ]
          }
        },
        "74aa174187024859bf6bf998f0c7dec8": {
          "model_module": "@jupyter-widgets/base",
          "model_name": "LayoutModel",
          "state": {
            "_view_name": "LayoutView",
            "grid_template_rows": null,
            "right": null,
            "justify_content": null,
            "_view_module": "@jupyter-widgets/base",
            "overflow": null,
            "_model_module_version": "1.2.0",
            "_view_count": null,
            "flex_flow": null,
            "width": null,
            "min_width": null,
            "border": null,
            "align_items": null,
            "bottom": null,
            "_model_module": "@jupyter-widgets/base",
            "top": null,
            "grid_column": null,
            "overflow_y": null,
            "overflow_x": null,
            "grid_auto_flow": null,
            "grid_area": null,
            "grid_template_columns": null,
            "flex": null,
            "_model_name": "LayoutModel",
            "justify_items": null,
            "grid_row": null,
            "max_height": null,
            "align_content": null,
            "visibility": null,
            "align_self": null,
            "height": null,
            "min_height": null,
            "padding": null,
            "grid_auto_rows": null,
            "grid_gap": null,
            "max_width": null,
            "order": null,
            "_view_module_version": "1.2.0",
            "grid_template_areas": null,
            "object_position": null,
            "object_fit": null,
            "grid_auto_columns": null,
            "margin": null,
            "display": null,
            "left": null
          }
        },
        "9db727a8e5c94d05b9e1165834f817b1": {
          "model_module": "@jupyter-widgets/controls",
          "model_name": "DropdownModel",
          "state": {
            "_options_labels": [
              "language-modeling",
              "autoencoders",
              "time-series",
              "scikit-learn",
              "segmentation",
              "question-answering",
              "interpretability",
              "graphs",
              "tensorflow",
              "embeddings",
              "pytorch",
              "generative-adversarial-networks",
              "graph-neural-networks",
              "keras",
              "reinforcement-learning",
              "self-supervised-learning",
              "transfer-learning",
              "flask",
              "image-classification",
              "natural-language-processing",
              "transformers",
              "production",
              "convolutional-neural-networks",
              "data-augmentation",
              "object-detection",
              "regression",
              "tensorflow-js",
              "unsupervised-learning",
              "huggingface",
              "computer-vision",
              "representation-learning",
              "attention",
              "node-classification",
              "pretraining",
              "wandb"
            ],
            "_view_name": "DropdownView",
            "style": "IPY_MODEL_657c1ee3430c4a08882fd559687cb7cd",
            "_dom_classes": [],
            "description": "tag",
            "_model_name": "DropdownModel",
            "index": 20,
            "_view_module": "@jupyter-widgets/controls",
            "_model_module_version": "1.5.0",
            "_view_count": null,
            "disabled": false,
            "_view_module_version": "1.5.0",
            "description_tooltip": null,
            "_model_module": "@jupyter-widgets/controls",
            "layout": "IPY_MODEL_f2bf345c691140148c7bfcdfd35ca783"
          }
        },
        "647b77f0dcdc433583874fca8d07344c": {
          "model_module": "@jupyter-widgets/output",
          "model_name": "OutputModel",
          "state": {
            "_view_name": "OutputView",
            "msg_id": "",
            "_dom_classes": [],
            "_model_name": "OutputModel",
            "outputs": [
              {
                "output_type": "stream",
                "metadata": {
                  "tags": []
                },
                "text": "{\n  \"precision\": 0.13043478260869565,\n  \"recall\": 0.3103448275862069,\n  \"f1\": 0.18367346938775508,\n  \"num_samples\": 29.0\n}\n\n=== True positives ===\n\n long form question answering eli5 model open domain long form question answering\n true: ['huggingface', 'natural-language-processing', 'question-answering', 'transformers']\n pred: ['computer-vision', 'natural-language-processing', 'pytorch', 'transformers']\n\n visualizing memorization rnns inspecting gradient magnitudes context powerful tool see recurrent units use short term long term contextual understanding\n true: ['attention', 'interpretability', 'natural-language-processing', 'transformers']\n pred: ['computer-vision', 'natural-language-processing', 'pytorch', 'transformers']\n\n tips successfully training transformers small datasets turns easily train transformers small datasets use tricks patience train long time\n true: ['data-augmentation', 'embeddings', 'natural-language-processing', 'transformers']\n pred: ['computer-vision', 'natural-language-processing', 'transformers']\n\n=== False postives ===\n\n nsfw image moderation admin app reactjs fully functional nsfw admin application simplified image classification moderation built node js tensorflow js react\n true: ['computer-vision', 'convolutional-neural-networks', 'image-classification', 'object-detection', 'pretraining', 'tensorflow', 'tensorflow-js']\n pred: ['attention', 'computer-vision', 'natural-language-processing', 'pytorch', 'transformers']\n\n selfie2anime tflite end end tutorial tensorflow lite selfie2anime u gat\n true: ['computer-vision', 'generative-adversarial-networks', 'tensorflow']\n pred: ['computer-vision', 'natural-language-processing', 'transformers']\n\n easy street parking using region proposal networks get text phone whenever nearby parking spot need free\n true: ['computer-vision', 'pytorch']\n pred: ['computer-vision', 'natural-language-processing', 'tensorflow', 'transformers']\n\n=== False negatives ===\n\n nsfw image moderation admin app reactjs fully functional nsfw admin application simplified image classification moderation built node js tensorflow js react\n true: ['computer-vision', 'convolutional-neural-networks', 'image-classification', 'object-detection', 'pretraining', 'tensorflow', 'tensorflow-js']\n pred: ['attention', 'computer-vision', 'natural-language-processing', 'pytorch', 'transformers']\n\n selfie2anime tflite end end tutorial tensorflow lite selfie2anime u gat\n true: ['computer-vision', 'generative-adversarial-networks', 'tensorflow']\n pred: ['computer-vision', 'natural-language-processing', 'transformers']\n\n easy street parking using region proposal networks get text phone whenever nearby parking spot need free\n true: ['computer-vision', 'pytorch']\n pred: ['computer-vision', 'natural-language-processing', 'tensorflow', 'transformers']\n\n",
                "stream": "stdout"
              }
            ],
            "_view_module": "@jupyter-widgets/output",
            "_model_module_version": "1.0.0",
            "_view_count": null,
            "_view_module_version": "1.0.0",
            "layout": "IPY_MODEL_a058d5569e7a49bcaab2ea80159a1a9d",
            "_model_module": "@jupyter-widgets/output"
          }
        },
        "657c1ee3430c4a08882fd559687cb7cd": {
          "model_module": "@jupyter-widgets/controls",
          "model_name": "DescriptionStyleModel",
          "state": {
            "_view_name": "StyleView",
            "_model_name": "DescriptionStyleModel",
            "description_width": "",
            "_view_module": "@jupyter-widgets/base",
            "_model_module_version": "1.5.0",
            "_view_count": null,
            "_view_module_version": "1.2.0",
            "_model_module": "@jupyter-widgets/controls"
          }
        },
        "f2bf345c691140148c7bfcdfd35ca783": {
          "model_module": "@jupyter-widgets/base",
          "model_name": "LayoutModel",
          "state": {
            "_view_name": "LayoutView",
            "grid_template_rows": null,
            "right": null,
            "justify_content": null,
            "_view_module": "@jupyter-widgets/base",
            "overflow": null,
            "_model_module_version": "1.2.0",
            "_view_count": null,
            "flex_flow": null,
            "width": null,
            "min_width": null,
            "border": null,
            "align_items": null,
            "bottom": null,
            "_model_module": "@jupyter-widgets/base",
            "top": null,
            "grid_column": null,
            "overflow_y": null,
            "overflow_x": null,
            "grid_auto_flow": null,
            "grid_area": null,
            "grid_template_columns": null,
            "flex": null,
            "_model_name": "LayoutModel",
            "justify_items": null,
            "grid_row": null,
            "max_height": null,
            "align_content": null,
            "visibility": null,
            "align_self": null,
            "height": null,
            "min_height": null,
            "padding": null,
            "grid_auto_rows": null,
            "grid_gap": null,
            "max_width": null,
            "order": null,
            "_view_module_version": "1.2.0",
            "grid_template_areas": null,
            "object_position": null,
            "object_fit": null,
            "grid_auto_columns": null,
            "margin": null,
            "display": null,
            "left": null
          }
        },
        "a058d5569e7a49bcaab2ea80159a1a9d": {
          "model_module": "@jupyter-widgets/base",
          "model_name": "LayoutModel",
          "state": {
            "_view_name": "LayoutView",
            "grid_template_rows": null,
            "right": null,
            "justify_content": null,
            "_view_module": "@jupyter-widgets/base",
            "overflow": null,
            "_model_module_version": "1.2.0",
            "_view_count": null,
            "flex_flow": null,
            "width": null,
            "min_width": null,
            "border": null,
            "align_items": null,
            "bottom": null,
            "_model_module": "@jupyter-widgets/base",
            "top": null,
            "grid_column": null,
            "overflow_y": null,
            "overflow_x": null,
            "grid_auto_flow": null,
            "grid_area": null,
            "grid_template_columns": null,
            "flex": null,
            "_model_name": "LayoutModel",
            "justify_items": null,
            "grid_row": null,
            "max_height": null,
            "align_content": null,
            "visibility": null,
            "align_self": null,
            "height": null,
            "min_height": null,
            "padding": null,
            "grid_auto_rows": null,
            "grid_gap": null,
            "max_width": null,
            "order": null,
            "_view_module_version": "1.2.0",
            "grid_template_areas": null,
            "object_position": null,
            "object_fit": null,
            "grid_auto_columns": null,
            "margin": null,
            "display": null,
            "left": null
          }
        }
      }
    }
  },
  "cells": [
    {
      "cell_type": "markdown",
      "metadata": {
        "id": "view-in-github",
        "colab_type": "text"
      },
      "source": [
        "<a href=\"https://colab.research.google.com/github/Otobi1/Back-to-Basics-A-Refresher-/blob/master/End_to_End_ML_Tags.ipynb\" target=\"_parent\"><img src=\"https://colab.research.google.com/assets/colab-badge.svg\" alt=\"Open In Colab\"/></a>"
      ]
    },
    {
      "cell_type": "code",
      "metadata": {
        "colab": {
          "base_uri": "https://localhost:8080/",
          "height": 35
        },
        "id": "dAz_Nz3kQFPA",
        "outputId": "907d239e-1b0c-4e2f-ee31-a29b131150f1"
      },
      "source": [
        "\"\"\"Annotation\"\"\""
      ],
      "execution_count": 556,
      "outputs": [
        {
          "output_type": "execute_result",
          "data": {
            "application/vnd.google.colaboratory.intrinsic+json": {
              "type": "string"
            },
            "text/plain": [
              "'Annotation'"
            ]
          },
          "metadata": {
            "tags": []
          },
          "execution_count": 556
        }
      ]
    },
    {
      "cell_type": "code",
      "metadata": {
        "colab": {
          "base_uri": "https://localhost:8080/"
        },
        "id": "yZnu5cemn-Nu",
        "outputId": "c11891f6-935b-4c30-9d33-23bc6f221926"
      },
      "source": [
        "# Import Library\n",
        "\n",
        "from collections import Counter, OrderedDict\n",
        "import ipywidgets as widgets\n",
        "import itertools\n",
        "import json\n",
        "import pandas as pd\n",
        "from urllib.request import urlopen\n",
        "import requests\n",
        "\n",
        "print(\"Libraries Successfully Imported!\")"
      ],
      "execution_count": 557,
      "outputs": [
        {
          "output_type": "stream",
          "text": [
            "Libraries Successfully Imported!\n"
          ],
          "name": "stdout"
        }
      ]
    },
    {
      "cell_type": "code",
      "metadata": {
        "colab": {
          "base_uri": "https://localhost:8080/"
        },
        "id": "1fU3KW1jpC5Y",
        "outputId": "24e4b423-9292-49b5-8d49-73e3931a6830"
      },
      "source": [
        "# Load projects\n",
        "\n",
        "url = \"https://raw.githubusercontent.com/GokuMohandas/applied-ml/main/datasets/projects.json\"\n",
        "\n",
        "projects = json.loads(urlopen(url).read())\n",
        "\n",
        "print (json.dumps(projects[-305], indent=2))"
      ],
      "execution_count": 558,
      "outputs": [
        {
          "output_type": "stream",
          "text": [
            "{\n",
            "  \"id\": 324,\n",
            "  \"title\": \"AdverTorch\",\n",
            "  \"description\": \"A Toolbox for Adversarial Robustness Research\",\n",
            "  \"tags\": [\n",
            "    \"code\",\n",
            "    \"library\",\n",
            "    \"security\",\n",
            "    \"adversarial-learning\",\n",
            "    \"adversarial-attacks\",\n",
            "    \"adversarial-perturbations\"\n",
            "  ]\n",
            "}\n"
          ],
          "name": "stdout"
        }
      ]
    },
    {
      "cell_type": "code",
      "metadata": {
        "colab": {
          "base_uri": "https://localhost:8080/"
        },
        "id": "BK9A5s8wpu2W",
        "outputId": "32db660e-c735-4b26-b1c3-ddd62e8acf3b"
      },
      "source": [
        "# Load Tags \n",
        "\n",
        "url = \"https://raw.githubusercontent.com/GokuMohandas/applied-ml/main/datasets/tags.json\"\n",
        "\n",
        "tags_dict = OrderedDict(json.loads(urlopen(url).read()))\n",
        "\n",
        "print(f\"{len(tags_dict)} tags\")"
      ],
      "execution_count": 559,
      "outputs": [
        {
          "output_type": "stream",
          "text": [
            "400 tags\n"
          ],
          "name": "stdout"
        }
      ]
    },
    {
      "cell_type": "code",
      "metadata": {
        "colab": {
          "base_uri": "https://localhost:8080/",
          "height": 191,
          "referenced_widgets": [
            "9584556c3f2e4d43a9ade6133f53d298",
            "32df1de978ae4a5d8bd78aa809a8a93a",
            "0c3930ff93174c1c88db97c8a6d00f51",
            "006c862cca5a437f948f9f7e73036bf9",
            "deaf9f8ce4fe42f591177c9440d65a09",
            "32d31a4103504137a099b7a40e881e45",
            "0ad89ff07e224ae4ac2d32a35b7b03fa"
          ]
        },
        "id": "5chAsnSyqPYs",
        "outputId": "fe16f8d8-15f5-4f96-8dae-a0341e5f4722"
      },
      "source": [
        "@widgets.interact(tag = list(tags_dict.keys()))\n",
        "\n",
        "def display_tag_details(tag = \"question-answering\"):\n",
        "  \n",
        "  print(json.dumps(tags_dict[tag], indent = 2))"
      ],
      "execution_count": 560,
      "outputs": [
        {
          "output_type": "display_data",
          "data": {
            "application/vnd.jupyter.widget-view+json": {
              "model_id": "9584556c3f2e4d43a9ade6133f53d298",
              "version_minor": 0,
              "version_major": 2
            },
            "text/plain": [
              "interactive(children=(Dropdown(description='tag', index=283, options=('3d', 'action-localization', 'action-rec…"
            ]
          },
          "metadata": {
            "tags": []
          }
        }
      ]
    },
    {
      "cell_type": "code",
      "metadata": {
        "colab": {
          "base_uri": "https://localhost:8080/",
          "height": 218
        },
        "id": "swu_8Ia7quaT",
        "outputId": "42a11f46-e40c-4365-c5e8-addb1dd2989b"
      },
      "source": [
        "# Create Dataframe\n",
        "\n",
        "df = pd.DataFrame(projects)\n",
        "\n",
        "print (f\"{len(df)} projects\")\n",
        "\n",
        "df.head(5)"
      ],
      "execution_count": 561,
      "outputs": [
        {
          "output_type": "stream",
          "text": [
            "2032 projects\n"
          ],
          "name": "stdout"
        },
        {
          "output_type": "execute_result",
          "data": {
            "text/html": [
              "<div>\n",
              "<style scoped>\n",
              "    .dataframe tbody tr th:only-of-type {\n",
              "        vertical-align: middle;\n",
              "    }\n",
              "\n",
              "    .dataframe tbody tr th {\n",
              "        vertical-align: top;\n",
              "    }\n",
              "\n",
              "    .dataframe thead th {\n",
              "        text-align: right;\n",
              "    }\n",
              "</style>\n",
              "<table border=\"1\" class=\"dataframe\">\n",
              "  <thead>\n",
              "    <tr style=\"text-align: right;\">\n",
              "      <th></th>\n",
              "      <th>id</th>\n",
              "      <th>title</th>\n",
              "      <th>description</th>\n",
              "      <th>tags</th>\n",
              "    </tr>\n",
              "  </thead>\n",
              "  <tbody>\n",
              "    <tr>\n",
              "      <th>0</th>\n",
              "      <td>2438</td>\n",
              "      <td>How to Deal with Files in Google Colab: What Y...</td>\n",
              "      <td>How to supercharge your Google Colab experienc...</td>\n",
              "      <td>[article, google-colab, colab, file-system]</td>\n",
              "    </tr>\n",
              "    <tr>\n",
              "      <th>1</th>\n",
              "      <td>2437</td>\n",
              "      <td>Rasoee</td>\n",
              "      <td>A powerful web and mobile application that ide...</td>\n",
              "      <td>[api, article, code, dataset, paper, research,...</td>\n",
              "    </tr>\n",
              "    <tr>\n",
              "      <th>2</th>\n",
              "      <td>2436</td>\n",
              "      <td>Machine Learning Methods Explained (+ Examples)</td>\n",
              "      <td>Most common techniques used in data science pr...</td>\n",
              "      <td>[article, deep-learning, machine-learning, dim...</td>\n",
              "    </tr>\n",
              "    <tr>\n",
              "      <th>3</th>\n",
              "      <td>2435</td>\n",
              "      <td>Top “Applied Data Science” Papers from ECML-PK...</td>\n",
              "      <td>Explore the innovative world of Machine Learni...</td>\n",
              "      <td>[article, deep-learning, machine-learning, adv...</td>\n",
              "    </tr>\n",
              "    <tr>\n",
              "      <th>4</th>\n",
              "      <td>2434</td>\n",
              "      <td>OpenMMLab Computer Vision</td>\n",
              "      <td>MMCV is a python library for CV research and s...</td>\n",
              "      <td>[article, code, pytorch, library, 3d, computer...</td>\n",
              "    </tr>\n",
              "  </tbody>\n",
              "</table>\n",
              "</div>"
            ],
            "text/plain": [
              "     id  ...                                               tags\n",
              "0  2438  ...        [article, google-colab, colab, file-system]\n",
              "1  2437  ...  [api, article, code, dataset, paper, research,...\n",
              "2  2436  ...  [article, deep-learning, machine-learning, dim...\n",
              "3  2435  ...  [article, deep-learning, machine-learning, adv...\n",
              "4  2434  ...  [article, code, pytorch, library, 3d, computer...\n",
              "\n",
              "[5 rows x 4 columns]"
            ]
          },
          "metadata": {
            "tags": []
          },
          "execution_count": 561
        }
      ]
    },
    {
      "cell_type": "code",
      "metadata": {
        "id": "6Det3z01rPaT"
      },
      "source": [
        "# Input \n",
        "# - here, we are using the projects title and description combined as one input feature\n",
        "\n",
        "df[\"text\"] = df.title + \" \" +df.description"
      ],
      "execution_count": 562,
      "outputs": []
    },
    {
      "cell_type": "code",
      "metadata": {
        "id": "nJ3qF3gstUVL"
      },
      "source": [
        "def filter(l, include = [], exclude = []):\n",
        "  \"\"\"Filter a list using inclusion and exclusion lists of items. \"\"\"\n",
        "  \n",
        "  filtered = [item for item in l if item in include and item not in exclude]\n",
        "  return filtered"
      ],
      "execution_count": 563,
      "outputs": []
    },
    {
      "cell_type": "code",
      "metadata": {
        "id": "qITVy9ngtsA-"
      },
      "source": [
        "# Inclusion/Exclusion Criteria for Tags\n",
        "\n",
        "include = list(tags_dict.keys())\n",
        "\n",
        "exclude = [\"machine-learning\", \"deep-learning\", \"data-science\", \"neural-networks\", \n",
        "           \"python\", \"r\", \"visualization\"]"
      ],
      "execution_count": 564,
      "outputs": []
    },
    {
      "cell_type": "code",
      "metadata": {
        "id": "tZLHFj9IuPOQ"
      },
      "source": [
        "# Filter tags for each project\n",
        "\n",
        "df.tags = df.tags.apply(filter, include = include, exclude = exclude)\n",
        "\n",
        "tags = Counter(itertools.chain.from_iterable(df.tags.values))"
      ],
      "execution_count": 565,
      "outputs": []
    },
    {
      "cell_type": "code",
      "metadata": {
        "colab": {
          "base_uri": "https://localhost:8080/",
          "height": 191,
          "referenced_widgets": [
            "2feb35a5f201451cba55564345bebf1f",
            "d06cccac5c3144f080533435a0c2e603",
            "89e8b41698d54787b7e1a112e96904bc",
            "df27f2366b374fe4896e684639666454",
            "7a920b220f9f4faaba378daf993d35d8",
            "33e0dc414270423faf3cb693db89fed4",
            "103dcf696978456db7e1ff4f05e532be"
          ]
        },
        "id": "Piff_NU2vZ-a",
        "outputId": "763bfd86-6cde-49e3-e144-b8895c84d110"
      },
      "source": [
        "# Here, we will restrict the mapping only to tags that are above a certain frequency threshold\n",
        "# - the tags that do not have enough projects will not have enough samples to model their relationships\n",
        "\n",
        "@widgets.interact(min_tag_freq = (0, tags.most_common() [0][1]))\n",
        "\n",
        "def separate_tags_by_freq(min_tag_freq = 30):\n",
        "  tags_above_freq = Counter(tag for tag in tags.elements()\n",
        "                                  if tags[tag] >= min_tag_freq)\n",
        "  \n",
        "  tags_below_freq = Counter(tag for tag in tags.elements()\n",
        "                                  if tags[tag] < min_tag_freq)\n",
        "  \n",
        "  print(\"Most popular tags:\\n\", tags_above_freq.most_common(5))   \n",
        "\n",
        "  print(\"\\nTags that just made the cut:\\n\", tags_above_freq.most_common()[-5:])\n",
        "\n",
        "  print(\"\\nTags that just missed the cut:\\n\", tags_below_freq.most_common(5))"
      ],
      "execution_count": 566,
      "outputs": [
        {
          "output_type": "display_data",
          "data": {
            "application/vnd.jupyter.widget-view+json": {
              "model_id": "2feb35a5f201451cba55564345bebf1f",
              "version_minor": 0,
              "version_major": 2
            },
            "text/plain": [
              "interactive(children=(IntSlider(value=30, description='min_tag_freq', max=429), Output()), _dom_classes=('widg…"
            ]
          },
          "metadata": {
            "tags": []
          }
        }
      ]
    },
    {
      "cell_type": "code",
      "metadata": {
        "id": "vpX0Z6QuxluX"
      },
      "source": [
        "# Filter tags that have fewer tha <min_tag_freq> occurences\n",
        "\n",
        "min_tag_freq = 30\n",
        "\n",
        "tags_above_freq = Counter(tag for tag in tags.elements()\n",
        "                                if tags[tag] >= min_tag_freq)\n",
        "\n",
        "df.tags = df.tags.apply(filter, include = list(tags_above_freq.keys()))"
      ],
      "execution_count": 567,
      "outputs": []
    },
    {
      "cell_type": "code",
      "metadata": {
        "colab": {
          "base_uri": "https://localhost:8080/"
        },
        "id": "dVa2NotByhsJ",
        "outputId": "ed4c7cc5-4014-476b-adf6-7eba5971de8e"
      },
      "source": [
        "# Remove Projects with no more remaining relevant tags\n",
        "\n",
        "df = df[df.tags.map(len) > 0]\n",
        "\n",
        "print(f\"{len(df)} projects\")"
      ],
      "execution_count": 568,
      "outputs": [
        {
          "output_type": "stream",
          "text": [
            "1444 projects\n"
          ],
          "name": "stdout"
        }
      ]
    },
    {
      "cell_type": "code",
      "metadata": {
        "colab": {
          "base_uri": "https://localhost:8080/",
          "height": 53
        },
        "id": "zbigN9TZy4kq",
        "outputId": "f91335ed-fbf6-4f4b-c996-80f2902e292f"
      },
      "source": [
        "\"\"\" Exploratory Data Analysis\\n\r\n",
        "the goal of EDA is not just to plot interesting charts and graphs, raher it \\n\r\n",
        "serves to facilitate an inquiry on the problem at hand, and if the available data\\n\r\n",
        "is sufficient for the task. Ideally EDA should iterative, you should revisit it\\n\r\n",
        "as your data increases.\r\n",
        " \"\"\""
      ],
      "execution_count": 569,
      "outputs": [
        {
          "output_type": "execute_result",
          "data": {
            "application/vnd.google.colaboratory.intrinsic+json": {
              "type": "string"
            },
            "text/plain": [
              "' Exploratory Data Analysis\\n\\nthe goal of EDA is not just to plot interesting charts and graphs, raher it \\n\\nserves to facilitate an inquiry on the problem at hand, and if the available data\\n\\nis sufficient for the task. Ideally EDA should iterative, you should revisit it\\n\\nas your data increases.\\n '"
            ]
          },
          "metadata": {
            "tags": []
          },
          "execution_count": 569
        }
      ]
    },
    {
      "cell_type": "code",
      "metadata": {
        "colab": {
          "base_uri": "https://localhost:8080/"
        },
        "id": "V6bcDMzoQSgg",
        "outputId": "b41b5bb2-0067-4a9a-faa9-0b1de57ee12b"
      },
      "source": [
        "# Importing Libraries \n",
        "\n",
        "import matplotlib.pyplot as plt\n",
        "import seaborn as sns\n",
        "import warnings\n",
        "from wordcloud import WordCloud, STOPWORDS\n",
        "warnings.filterwarnings(\"ignore\")\n",
        "\n",
        "print(\"Libraries Successfully Imported!\")"
      ],
      "execution_count": 570,
      "outputs": [
        {
          "output_type": "stream",
          "text": [
            "Libraries Successfully Imported!\n"
          ],
          "name": "stdout"
        }
      ]
    },
    {
      "cell_type": "code",
      "metadata": {
        "colab": {
          "base_uri": "https://localhost:8080/",
          "height": 251
        },
        "id": "ITZEm1uEQoVB",
        "outputId": "529a151d-15c3-4a9e-8cd2-b410fc85a684"
      },
      "source": [
        "# Number of Tags per Project - How many tags do the projects have? (we dont want to overwhelm the user with too many tags)\n",
        "\n",
        "num_tags_per_project = [len(tags) for tags in df.tags]\n",
        "num_tags, num_projects = zip(*Counter(num_tags_per_project).items())\n",
        "plt.figure(figsize = (10, 3))\n",
        "ax = sns.barplot(list(num_tags), list(num_projects))\n",
        "plt.title(\"Tags per project\", fontsize = 16)\n",
        "plt.xlabel(\"Number of tags\", fontsize = 12)\n",
        "ax.set_xticklabels(range(1, len(num_tags) + 1), rotation = 0, fontsize = 16)\n",
        "plt.ylabel(\"Number of projects\", fontsize = 12)\n",
        "plt.show()"
      ],
      "execution_count": 571,
      "outputs": [
        {
          "output_type": "display_data",
          "data": {
            "image/png": "[encoded data removed]",
            "text/plain": [
              "<Figure size 720x216 with 1 Axes>"
            ]
          },
          "metadata": {
            "tags": [],
            "needs_background": "light"
          }
        }
      ]
    },
    {
      "cell_type": "code",
      "metadata": {
        "colab": {
          "base_uri": "https://localhost:8080/",
          "height": 457
        },
        "id": "rmrOt_QsRQGn",
        "outputId": "b98bcee0-9416-4f0d-dfd6-5351008f7f21"
      },
      "source": [
        "# Distribution of Tags - What are the most common tags?\n",
        "\n",
        "all_tags = list(itertools.chain.from_iterable(df.tags.values))\n",
        "tags, tag_counts = zip(*Counter(all_tags).most_common())\n",
        "plt.figure(figsize = (25, 5))\n",
        "ax = sns.barplot(list(tags), list(tag_counts))\n",
        "plt.title(\"tag distribution\", fontsize = 16)\n",
        "plt.xlabel(\"Tag\", fontsize = 12)\n",
        "ax.set_xticklabels(tags, rotation = 90, fontsize = 10)\n",
        "plt.ylabel(\"Number of projects\", fontsize = 12)\n",
        "plt.show()"
      ],
      "execution_count": 572,
      "outputs": [
        {
          "output_type": "display_data",
          "data": {
            "image/png": "[encoded data removed]",
            "text/plain": [
              "<Figure size 1800x360 with 1 Axes>"
            ]
          },
          "metadata": {
            "tags": [],
            "needs_background": "light"
          }
        }
      ]
    },
    {
      "cell_type": "code",
      "metadata": {
        "colab": {
          "base_uri": "https://localhost:8080/",
          "height": 335,
          "referenced_widgets": [
            "0e199e0d047e45b2a1d3fa5d05a0479d",
            "865fdaf962384a109bb89f01ecc11bd6",
            "5739893597114214820a2a35cae6396a",
            "24d567038a904dcfa92ee10b1124b6ce",
            "04b70cbcd3c449138d3ef81ed079348c",
            "85a29f88c447403381576d50f086ec15",
            "e2c6a5717a5c40c58830ff9639525036"
          ]
        },
        "id": "HByZS64-TRql",
        "outputId": "7741d6f8-a51a-45f5-8f91-2561eb63f933"
      },
      "source": [
        "# Wordcloud - is there enough signal in the title and description that is unique to each tag\n",
        "\n",
        "# - this is important because we want to know if the projects title and description are highly influential features\n",
        "\n",
        "@widgets.interact(tag = list(tags))\n",
        "def display_word_cloud(tag = \"pytorch\"):\n",
        "\n",
        "  # Plot word cloud of top tags\n",
        "  \n",
        "  plt.figure(figsize = (30, 5))\n",
        "  subset = df[df.tags.apply(lambda tags: tag in tags)]\n",
        "  text = subset.text.values\n",
        "  cloud = WordCloud(\n",
        "      stopwords = STOPWORDS, background_color = \"black\", collocations = False,\n",
        "      width = 1500, height = 500).generate(\" \".join(text))\n",
        "  plt.axis(\"off\")\n",
        "  plt.imshow(cloud)"
      ],
      "execution_count": 573,
      "outputs": [
        {
          "output_type": "display_data",
          "data": {
            "application/vnd.jupyter.widget-view+json": {
              "model_id": "0e199e0d047e45b2a1d3fa5d05a0479d",
              "version_minor": 0,
              "version_major": 2
            },
            "text/plain": [
              "interactive(children=(Dropdown(description='tag', index=2, options=('natural-language-processing', 'computer-v…"
            ]
          },
          "metadata": {
            "tags": []
          }
        }
      ]
    },
    {
      "cell_type": "code",
      "metadata": {
        "colab": {
          "base_uri": "https://localhost:8080/",
          "height": 35
        },
        "id": "J_LbP-TZUc2J",
        "outputId": "8a6bd4cc-5a37-428c-b239-17abf3f2e393"
      },
      "source": [
        "\"\"\"Splitting\"\"\"\r\n",
        "\r\n",
        "# to determine the effectiveness of our model, we need to have an unbiased measureing approach\r\n",
        "# - to do this, we split the dataset into training, validation and test data split. \r\n",
        "\r\n",
        "# -- use the training split to train the model (here the model will have access to both the inputs and outputs to optimise its internal weights)\r\n",
        "# -- after each loop (epoch) of the training split, we will use the validation split to determine the model performance\r\n",
        "# --** here the model will not use the outputs to optimise the weights, rather, it will use performance to optimise training hyperparameters such as learning rate\r\n",
        "# -- after the training stops, we will use the testing split to perform a one-time assessment of the model\r\n",
        "# --** this is the best measure of how the model may behave on new unseen data. \r\n",
        "# --** training stops when the performance improvement is not significant or any other stopping criteria that we specified\r\n"
      ],
      "execution_count": 574,
      "outputs": [
        {
          "output_type": "execute_result",
          "data": {
            "application/vnd.google.colaboratory.intrinsic+json": {
              "type": "string"
            },
            "text/plain": [
              "'Splitting'"
            ]
          },
          "metadata": {
            "tags": []
          },
          "execution_count": 574
        }
      ]
    },
    {
      "cell_type": "code",
      "metadata": {
        "colab": {
          "base_uri": "https://localhost:8080/"
        },
        "id": "yi_kG8JiVeRP",
        "outputId": "6af23867-34b5-4b9a-c9ca-16f5d8112710"
      },
      "source": [
        "# Before splitting the dataset, we need to encode the output labels, essentially assigning each tag a unique index\n",
        "\n",
        "import numpy as np\n",
        "import random\n",
        "\n",
        "print(\"Libraries Successfully Imported!\")"
      ],
      "execution_count": 575,
      "outputs": [
        {
          "output_type": "stream",
          "text": [
            "Libraries Successfully Imported!\n"
          ],
          "name": "stdout"
        }
      ]
    },
    {
      "cell_type": "code",
      "metadata": {
        "id": "epZ5sW5yVnml"
      },
      "source": [
        "# Set seed for reproducibility \n",
        "\n",
        "seed = 1234\n",
        "np.random.seed(seed)\n",
        "random.seed(seed)"
      ],
      "execution_count": 576,
      "outputs": []
    },
    {
      "cell_type": "code",
      "metadata": {
        "id": "JA2pM84uVyl2"
      },
      "source": [
        "# Shuffle - because latest projects are upfront and certain tags are trending\n",
        "# - if we dont shuffle before creating the data split, the model will only be trained on earlier tags and perform poorly on others\n",
        "\n",
        "df = df.sample(frac = 1).reset_index(drop = True)"
      ],
      "execution_count": 577,
      "outputs": []
    },
    {
      "cell_type": "code",
      "metadata": {
        "id": "vEFuJAAfV50O"
      },
      "source": [
        "# Get Data\n",
        "\n",
        "X = df.text.to_numpy()\n",
        "y = df.tags"
      ],
      "execution_count": 578,
      "outputs": []
    },
    {
      "cell_type": "code",
      "metadata": {
        "colab": {
          "base_uri": "https://localhost:8080/"
        },
        "id": "RWNCW2kCWJw8",
        "outputId": "afda542e-944e-4d0c-afdb-2beafee2d6a3"
      },
      "source": [
        "X, y"
      ],
      "execution_count": 579,
      "outputs": [
        {
          "output_type": "execute_result",
          "data": {
            "text/plain": [
              "(array(['NBA k-means Extraction of NBA statistics from \"basketball-reference.com\" to visualise them and detect trends and patterns. Clustering of the top players using KMeans.',\n",
              "        'AI Basketball Analysis 🏀   AI web app and API to analyze basketball shots and shooting pose. ',\n",
              "        'NSFW Image Moderation Admin App with ReactJS A fully-functional NSFW Admin Application for simplified image classification & moderation built with Node.js, TensorFlow.js, and React',\n",
              "        ...,\n",
              "        'Tutorials | TensorFlow Core The TensorFlow tutorials are written as Jupyter notebooks and run directly in Google Colab—a hosted notebook environment that requires no setup. ',\n",
              "        'Document search engine NLP based search engine for single page pdf files.',\n",
              "        'BiT: Exploring Large-Scale Pre-training for Compute We are excited to share the best BiT models pre-trained on public datasets, along with code in TF2, Jax, and PyTorch. '],\n",
              "       dtype=object), 0                                          [scikit-learn]\n",
              " 1        [convolutional-neural-networks, computer-vision]\n",
              " 2       [tensorflow, tensorflow-js, convolutional-neur...\n",
              " 3                                               [pytorch]\n",
              " 4       [huggingface, attention, transformers, natural...\n",
              "                               ...                        \n",
              " 1439                    [pytorch, reinforcement-learning]\n",
              " 1440          [computer-vision, self-supervised-learning]\n",
              " 1441                                         [tensorflow]\n",
              " 1442            [tensorflow, natural-language-processing]\n",
              " 1443    [pytorch, tensorflow, computer-vision, object-...\n",
              " Name: tags, Length: 1444, dtype: object)"
            ]
          },
          "metadata": {
            "tags": []
          },
          "execution_count": 579
        }
      ]
    },
    {
      "cell_type": "code",
      "metadata": {
        "id": "5E5eSeItWLHT"
      },
      "source": [
        "class LabelEncoder(object):\n",
        "    \"\"\"Label encoder for tag labels.\"\"\"\n",
        "    def __init__(self, class_to_index={}):\n",
        "        self.class_to_index = class_to_index\n",
        "        self.index_to_class = {v: k for k, v in self.class_to_index.items()}\n",
        "        self.classes = list(self.class_to_index.keys())\n",
        "\n",
        "    def __len__(self):\n",
        "        return len(self.class_to_index)\n",
        "\n",
        "    def __str__(self):\n",
        "        return f\"<LabelEncoder(num_classes={len(self)})>\"\n",
        "\n",
        "    def fit(self, y):\n",
        "        classes = np.unique(list(itertools.chain.from_iterable(y)))\n",
        "        for i, class_ in enumerate(classes):\n",
        "            self.class_to_index[class_] = i\n",
        "        self.index_to_class = {v: k for k, v in self.class_to_index.items()}\n",
        "        self.classes = list(self.class_to_index.keys())\n",
        "        return self\n",
        "\n",
        "    def encode(self, y):\n",
        "        y_one_hot = np.zeros((len(y), len(self.class_to_index)), dtype=int)\n",
        "        for i, item in enumerate(y):\n",
        "            for class_ in item:\n",
        "                y_one_hot[i][self.class_to_index[class_]] = 1\n",
        "        return y_one_hot\n",
        "\n",
        "    def decode(self, y):\n",
        "        classes = []\n",
        "        for i, item in enumerate(y):\n",
        "            indices = np.where(item == 1)[0]\n",
        "            classes.append([self.index_to_class[index] for index in indices])\n",
        "        return classes\n",
        "\n",
        "    def save(self, fp):\n",
        "        with open(fp, 'w') as fp:\n",
        "            contents = {'class_to_index': self.class_to_index}\n",
        "            json.dump(contents, fp, indent=4, sort_keys=False)\n",
        "\n",
        "    @classmethod\n",
        "    def load(cls, fp):\n",
        "        with open(fp, 'r') as fp:\n",
        "            kwargs = json.load(fp=fp)\n",
        "        return cls(**kwargs)"
      ],
      "execution_count": 580,
      "outputs": []
    },
    {
      "cell_type": "code",
      "metadata": {
        "id": "dPKtZAeuakkv"
      },
      "source": [
        "# Encode\n",
        "\n",
        "label_encoder = LabelEncoder()\n",
        "label_encoder.fit(y)\n",
        "num_classes = len(label_encoder)"
      ],
      "execution_count": 581,
      "outputs": []
    },
    {
      "cell_type": "code",
      "metadata": {
        "colab": {
          "base_uri": "https://localhost:8080/"
        },
        "id": "YsIptaWBawi_",
        "outputId": "7a5ddf90-eae9-4c26-e5c7-6fa1a2a2341b"
      },
      "source": [
        "label_encoder.class_to_index"
      ],
      "execution_count": 582,
      "outputs": [
        {
          "output_type": "execute_result",
          "data": {
            "text/plain": [
              "{'attention': 0,\n",
              " 'autoencoders': 1,\n",
              " 'computer-vision': 2,\n",
              " 'convolutional-neural-networks': 3,\n",
              " 'data-augmentation': 4,\n",
              " 'embeddings': 5,\n",
              " 'flask': 6,\n",
              " 'generative-adversarial-networks': 7,\n",
              " 'graph-neural-networks': 8,\n",
              " 'graphs': 9,\n",
              " 'huggingface': 10,\n",
              " 'image-classification': 11,\n",
              " 'interpretability': 12,\n",
              " 'keras': 13,\n",
              " 'language-modeling': 14,\n",
              " 'natural-language-processing': 15,\n",
              " 'node-classification': 16,\n",
              " 'object-detection': 17,\n",
              " 'pretraining': 18,\n",
              " 'production': 19,\n",
              " 'pytorch': 20,\n",
              " 'question-answering': 21,\n",
              " 'regression': 22,\n",
              " 'reinforcement-learning': 23,\n",
              " 'representation-learning': 24,\n",
              " 'scikit-learn': 25,\n",
              " 'segmentation': 26,\n",
              " 'self-supervised-learning': 27,\n",
              " 'tensorflow': 28,\n",
              " 'tensorflow-js': 29,\n",
              " 'time-series': 30,\n",
              " 'transfer-learning': 31,\n",
              " 'transformers': 32,\n",
              " 'unsupervised-learning': 33,\n",
              " 'wandb': 34}"
            ]
          },
          "metadata": {
            "tags": []
          },
          "execution_count": 582
        }
      ]
    },
    {
      "cell_type": "code",
      "metadata": {
        "colab": {
          "base_uri": "https://localhost:8080/"
        },
        "id": "7yeGSeDUcCxb",
        "outputId": "8a586348-76c3-407b-c7a3-18b9d5f931c3"
      },
      "source": [
        "# Since we are dealing with a multilabel classification, we're going to convert our label indices into one-hot representation where each input' set is represented by a binary array\r\n",
        "\r\n",
        "# - Sample\r\n",
        "\r\n",
        "label_encoder.encode([[\"attention\", \"data-augmentation\"]])"
      ],
      "execution_count": 583,
      "outputs": [
        {
          "output_type": "execute_result",
          "data": {
            "text/plain": [
              "array([[1, 0, 0, 0, 1, 0, 0, 0, 0, 0, 0, 0, 0, 0, 0, 0, 0, 0, 0, 0, 0, 0,\n",
              "        0, 0, 0, 0, 0, 0, 0, 0, 0, 0, 0, 0, 0]])"
            ]
          },
          "metadata": {
            "tags": []
          },
          "execution_count": 583
        }
      ]
    },
    {
      "cell_type": "code",
      "metadata": {
        "id": "AYeriMFKfRMm"
      },
      "source": [
        "# Encode all out labels\r\n",
        "\r\n",
        "y = label_encoder.encode(y)"
      ],
      "execution_count": 584,
      "outputs": []
    },
    {
      "cell_type": "code",
      "metadata": {
        "colab": {
          "base_uri": "https://localhost:8080/",
          "height": 35
        },
        "id": "a-OvxQlNfVmr",
        "outputId": "d46a394d-c0ff-47ce-8067-7df0fa4cf16a"
      },
      "source": [
        "\"\"\" Splitting\"\"\"\n",
        "# Naive Split"
      ],
      "execution_count": 585,
      "outputs": [
        {
          "output_type": "execute_result",
          "data": {
            "application/vnd.google.colaboratory.intrinsic+json": {
              "type": "string"
            },
            "text/plain": [
              "' Splitting'"
            ]
          },
          "metadata": {
            "tags": []
          },
          "execution_count": 585
        }
      ]
    },
    {
      "cell_type": "code",
      "metadata": {
        "colab": {
          "base_uri": "https://localhost:8080/"
        },
        "id": "tdKdWOWPgCbv",
        "outputId": "8de094ae-cca9-44d4-9d1f-f6374597a0b1"
      },
      "source": [
        "!pip install scikit-multilearn "
      ],
      "execution_count": 586,
      "outputs": [
        {
          "output_type": "stream",
          "text": [
            "Requirement already satisfied: scikit-multilearn in /usr/local/lib/python3.6/dist-packages (0.2.0)\n"
          ],
          "name": "stdout"
        }
      ]
    },
    {
      "cell_type": "code",
      "metadata": {
        "colab": {
          "base_uri": "https://localhost:8080/"
        },
        "id": "gkox9kr9fZb6",
        "outputId": "53d08a0f-c6ed-4bb8-c52e-ce0704f18a6a"
      },
      "source": [
        "from sklearn.model_selection import train_test_split\n",
        "from skmultilearn.model_selection.measures import get_combination_wise_output_matrix\n",
        "\n",
        "print(\"Libraries Successfully Imported!\")"
      ],
      "execution_count": 587,
      "outputs": [
        {
          "output_type": "stream",
          "text": [
            "Libraries Successfully Imported!\n"
          ],
          "name": "stdout"
        }
      ]
    },
    {
      "cell_type": "code",
      "metadata": {
        "id": "oJIzef1Yfwmj"
      },
      "source": [
        "# Split sizes\n",
        "\n",
        "train_size = 0.7\n",
        "val_size = 0.15\n",
        "test_size = 0.15"
      ],
      "execution_count": 588,
      "outputs": []
    },
    {
      "cell_type": "code",
      "metadata": {
        "id": "mqCaQZbYhZSG"
      },
      "source": [
        "# Split (train)\n",
        "\n",
        "X_train, X_, y_train, y_ = train_test_split(X, y, train_size = train_size)"
      ],
      "execution_count": 589,
      "outputs": []
    },
    {
      "cell_type": "code",
      "metadata": {
        "colab": {
          "base_uri": "https://localhost:8080/"
        },
        "id": "cpryKLAFjGGg",
        "outputId": "f90c281b-64a6-4fa2-f343-c36478936611"
      },
      "source": [
        "print (f\"train: {len(X_train)} ({(len(X_train) / len(X)):.2f}) \\n\"\n",
        "      f\"remaining: {len(X_)} ({(len(X_) / len(X)):.2f})\")"
      ],
      "execution_count": 590,
      "outputs": [
        {
          "output_type": "stream",
          "text": [
            "train: 1010 (0.70) \n",
            "remaining: 434 (0.30)\n"
          ],
          "name": "stdout"
        }
      ]
    },
    {
      "cell_type": "code",
      "metadata": {
        "id": "i4P23EE7kXgt"
      },
      "source": [
        "# Split (test)\n",
        "\n",
        "X_val, X_test, y_val, y_test = train_test_split(X_, y_, train_size = 0.5)"
      ],
      "execution_count": 591,
      "outputs": []
    },
    {
      "cell_type": "code",
      "metadata": {
        "colab": {
          "base_uri": "https://localhost:8080/"
        },
        "id": "5M5G6boRhvQr",
        "outputId": "a8d4a7e5-4ace-47f0-91a7-a16ed1f87548"
      },
      "source": [
        "print(f\"train: {len(X_train)} ({(len(X_train) / len(X)): 2f})\\n\"\n",
        "      f\"val: {len(X_val)} ({len(X_val) / len(X):.2f})\\n\"\n",
        "      f\"test: {len(X_test)} ({len(X_test) / len(X):.2f})\")"
      ],
      "execution_count": 592,
      "outputs": [
        {
          "output_type": "stream",
          "text": [
            "train: 1010 ( 0.699446)\n",
            "val: 217 (0.15)\n",
            "test: 217 (0.15)\n"
          ],
          "name": "stdout"
        }
      ]
    },
    {
      "cell_type": "code",
      "metadata": {
        "id": "s0TtK9Rxi9ma"
      },
      "source": [
        "# Get counts for each class \n",
        "\n",
        "counts = {}\n",
        "counts[\"train_counts\"] = Counter(str(combination) for row in \n",
        "                                 get_combination_wise_output_matrix(\n",
        "                                     y_train, order = 1) for combination in row)\n",
        "counts[\"val_counts\"] = Counter(str(combination) for row in \n",
        "                               get_combination_wise_output_matrix(\n",
        "                                   y_val, order = 1) for combination in row)\n",
        "counts[\"test_counts\"] = Counter(str(combination) for row in \n",
        "                                get_combination_wise_output_matrix(\n",
        "                                    y_test, order = 1) for  combination in row)"
      ],
      "execution_count": 593,
      "outputs": []
    },
    {
      "cell_type": "code",
      "metadata": {
        "colab": {
          "base_uri": "https://localhost:8080/",
          "height": 159
        },
        "id": "wfAQTnfYmDJT",
        "outputId": "ad7def07-5e85-4e42-b36a-67eb962a0e29"
      },
      "source": [
        "# View distributions \n",
        "\n",
        "pd.DataFrame({\n",
        "    \"train\": counts[\"train_counts\"], \n",
        "    \"val\": counts[\"val_counts\"],\n",
        "    \"test\": counts[\"test_counts\"]\n",
        "}).T.fillna(0)\n",
        "\n",
        "# Its hard to compare this because our train and test proportions are different. \n",
        "# - Lets see what the distribution will look like once we balance it out."
      ],
      "execution_count": 594,
      "outputs": [
        {
          "output_type": "execute_result",
          "data": {
            "text/html": [
              "<div>\n",
              "<style scoped>\n",
              "    .dataframe tbody tr th:only-of-type {\n",
              "        vertical-align: middle;\n",
              "    }\n",
              "\n",
              "    .dataframe tbody tr th {\n",
              "        vertical-align: top;\n",
              "    }\n",
              "\n",
              "    .dataframe thead th {\n",
              "        text-align: right;\n",
              "    }\n",
              "</style>\n",
              "<table border=\"1\" class=\"dataframe\">\n",
              "  <thead>\n",
              "    <tr style=\"text-align: right;\">\n",
              "      <th></th>\n",
              "      <th>(19,)</th>\n",
              "      <th>(25,)</th>\n",
              "      <th>(2,)</th>\n",
              "      <th>(3,)</th>\n",
              "      <th>(15,)</th>\n",
              "      <th>(32,)</th>\n",
              "      <th>(18,)</th>\n",
              "      <th>(14,)</th>\n",
              "      <th>(26,)</th>\n",
              "      <th>(0,)</th>\n",
              "      <th>(4,)</th>\n",
              "      <th>(30,)</th>\n",
              "      <th>(22,)</th>\n",
              "      <th>(6,)</th>\n",
              "      <th>(17,)</th>\n",
              "      <th>(27,)</th>\n",
              "      <th>(33,)</th>\n",
              "      <th>(20,)</th>\n",
              "      <th>(1,)</th>\n",
              "      <th>(31,)</th>\n",
              "      <th>(28,)</th>\n",
              "      <th>(5,)</th>\n",
              "      <th>(11,)</th>\n",
              "      <th>(23,)</th>\n",
              "      <th>(7,)</th>\n",
              "      <th>(8,)</th>\n",
              "      <th>(9,)</th>\n",
              "      <th>(13,)</th>\n",
              "      <th>(10,)</th>\n",
              "      <th>(12,)</th>\n",
              "      <th>(21,)</th>\n",
              "      <th>(29,)</th>\n",
              "      <th>(16,)</th>\n",
              "      <th>(24,)</th>\n",
              "      <th>(34,)</th>\n",
              "    </tr>\n",
              "  </thead>\n",
              "  <tbody>\n",
              "    <tr>\n",
              "      <th>train</th>\n",
              "      <td>32</td>\n",
              "      <td>40</td>\n",
              "      <td>266</td>\n",
              "      <td>73</td>\n",
              "      <td>289</td>\n",
              "      <td>129</td>\n",
              "      <td>16</td>\n",
              "      <td>36</td>\n",
              "      <td>32</td>\n",
              "      <td>81</td>\n",
              "      <td>25</td>\n",
              "      <td>26</td>\n",
              "      <td>36</td>\n",
              "      <td>26</td>\n",
              "      <td>45</td>\n",
              "      <td>28</td>\n",
              "      <td>32</td>\n",
              "      <td>179</td>\n",
              "      <td>31</td>\n",
              "      <td>35</td>\n",
              "      <td>149</td>\n",
              "      <td>54</td>\n",
              "      <td>36</td>\n",
              "      <td>44</td>\n",
              "      <td>49</td>\n",
              "      <td>39</td>\n",
              "      <td>56</td>\n",
              "      <td>64</td>\n",
              "      <td>38</td>\n",
              "      <td>44</td>\n",
              "      <td>27</td>\n",
              "      <td>28</td>\n",
              "      <td>22</td>\n",
              "      <td>40</td>\n",
              "      <td>28</td>\n",
              "    </tr>\n",
              "    <tr>\n",
              "      <th>val</th>\n",
              "      <td>11</td>\n",
              "      <td>11</td>\n",
              "      <td>54</td>\n",
              "      <td>16</td>\n",
              "      <td>69</td>\n",
              "      <td>36</td>\n",
              "      <td>5</td>\n",
              "      <td>9</td>\n",
              "      <td>12</td>\n",
              "      <td>20</td>\n",
              "      <td>10</td>\n",
              "      <td>3</td>\n",
              "      <td>10</td>\n",
              "      <td>4</td>\n",
              "      <td>13</td>\n",
              "      <td>5</td>\n",
              "      <td>4</td>\n",
              "      <td>44</td>\n",
              "      <td>5</td>\n",
              "      <td>4</td>\n",
              "      <td>26</td>\n",
              "      <td>7</td>\n",
              "      <td>5</td>\n",
              "      <td>7</td>\n",
              "      <td>9</td>\n",
              "      <td>3</td>\n",
              "      <td>9</td>\n",
              "      <td>13</td>\n",
              "      <td>16</td>\n",
              "      <td>4</td>\n",
              "      <td>2</td>\n",
              "      <td>3</td>\n",
              "      <td>5</td>\n",
              "      <td>7</td>\n",
              "      <td>7</td>\n",
              "    </tr>\n",
              "    <tr>\n",
              "      <th>test</th>\n",
              "      <td>8</td>\n",
              "      <td>9</td>\n",
              "      <td>68</td>\n",
              "      <td>17</td>\n",
              "      <td>71</td>\n",
              "      <td>31</td>\n",
              "      <td>9</td>\n",
              "      <td>6</td>\n",
              "      <td>4</td>\n",
              "      <td>19</td>\n",
              "      <td>6</td>\n",
              "      <td>5</td>\n",
              "      <td>3</td>\n",
              "      <td>4</td>\n",
              "      <td>11</td>\n",
              "      <td>7</td>\n",
              "      <td>3</td>\n",
              "      <td>35</td>\n",
              "      <td>5</td>\n",
              "      <td>7</td>\n",
              "      <td>38</td>\n",
              "      <td>14</td>\n",
              "      <td>10</td>\n",
              "      <td>8</td>\n",
              "      <td>15</td>\n",
              "      <td>9</td>\n",
              "      <td>13</td>\n",
              "      <td>16</td>\n",
              "      <td>10</td>\n",
              "      <td>7</td>\n",
              "      <td>3</td>\n",
              "      <td>9</td>\n",
              "      <td>6</td>\n",
              "      <td>10</td>\n",
              "      <td>4</td>\n",
              "    </tr>\n",
              "  </tbody>\n",
              "</table>\n",
              "</div>"
            ],
            "text/plain": [
              "       (19,)  (25,)  (2,)  (3,)  (15,)  ...  (21,)  (29,)  (16,)  (24,)  (34,)\n",
              "train     32     40   266    73    289  ...     27     28     22     40     28\n",
              "val       11     11    54    16     69  ...      2      3      5      7      7\n",
              "test       8      9    68    17     71  ...      3      9      6     10      4\n",
              "\n",
              "[3 rows x 35 columns]"
            ]
          },
          "metadata": {
            "tags": []
          },
          "execution_count": 594
        }
      ]
    },
    {
      "cell_type": "code",
      "metadata": {
        "id": "Gfnte2NSmeC1"
      },
      "source": [
        "# Adjust counts across splits \n",
        "\n",
        "for k in counts[\"val_counts\"].keys():\n",
        "  counts[\"val_counts\"][k] = int(counts[\"val_counts\"][k] * \\\n",
        "                                (train_size/val_size))  \n",
        "\n",
        "for k in counts[\"test_counts\"].keys():\n",
        "  counts[\"test_counts\"][k] = int(counts[\"test_counts\"][k] * \\\n",
        "                                 (train_size/test_size))"
      ],
      "execution_count": 595,
      "outputs": []
    },
    {
      "cell_type": "code",
      "metadata": {
        "colab": {
          "base_uri": "https://localhost:8080/",
          "height": 159
        },
        "id": "WUpdWBujorT5",
        "outputId": "21b4329e-1ca4-4169-b822-26c0574024fb"
      },
      "source": [
        "dist_df = pd.DataFrame({\n",
        "    \"train\": counts[\"train_counts\"], \n",
        "    \"val\": counts[\"val_counts\"], \n",
        "    \"test\": counts[\"test_counts\"]\n",
        "}).T.fillna(0)\n",
        "\n",
        "dist_df"
      ],
      "execution_count": 596,
      "outputs": [
        {
          "output_type": "execute_result",
          "data": {
            "text/html": [
              "<div>\n",
              "<style scoped>\n",
              "    .dataframe tbody tr th:only-of-type {\n",
              "        vertical-align: middle;\n",
              "    }\n",
              "\n",
              "    .dataframe tbody tr th {\n",
              "        vertical-align: top;\n",
              "    }\n",
              "\n",
              "    .dataframe thead th {\n",
              "        text-align: right;\n",
              "    }\n",
              "</style>\n",
              "<table border=\"1\" class=\"dataframe\">\n",
              "  <thead>\n",
              "    <tr style=\"text-align: right;\">\n",
              "      <th></th>\n",
              "      <th>(19,)</th>\n",
              "      <th>(25,)</th>\n",
              "      <th>(2,)</th>\n",
              "      <th>(3,)</th>\n",
              "      <th>(15,)</th>\n",
              "      <th>(32,)</th>\n",
              "      <th>(18,)</th>\n",
              "      <th>(14,)</th>\n",
              "      <th>(26,)</th>\n",
              "      <th>(0,)</th>\n",
              "      <th>(4,)</th>\n",
              "      <th>(30,)</th>\n",
              "      <th>(22,)</th>\n",
              "      <th>(6,)</th>\n",
              "      <th>(17,)</th>\n",
              "      <th>(27,)</th>\n",
              "      <th>(33,)</th>\n",
              "      <th>(20,)</th>\n",
              "      <th>(1,)</th>\n",
              "      <th>(31,)</th>\n",
              "      <th>(28,)</th>\n",
              "      <th>(5,)</th>\n",
              "      <th>(11,)</th>\n",
              "      <th>(23,)</th>\n",
              "      <th>(7,)</th>\n",
              "      <th>(8,)</th>\n",
              "      <th>(9,)</th>\n",
              "      <th>(13,)</th>\n",
              "      <th>(10,)</th>\n",
              "      <th>(12,)</th>\n",
              "      <th>(21,)</th>\n",
              "      <th>(29,)</th>\n",
              "      <th>(16,)</th>\n",
              "      <th>(24,)</th>\n",
              "      <th>(34,)</th>\n",
              "    </tr>\n",
              "  </thead>\n",
              "  <tbody>\n",
              "    <tr>\n",
              "      <th>train</th>\n",
              "      <td>32</td>\n",
              "      <td>40</td>\n",
              "      <td>266</td>\n",
              "      <td>73</td>\n",
              "      <td>289</td>\n",
              "      <td>129</td>\n",
              "      <td>16</td>\n",
              "      <td>36</td>\n",
              "      <td>32</td>\n",
              "      <td>81</td>\n",
              "      <td>25</td>\n",
              "      <td>26</td>\n",
              "      <td>36</td>\n",
              "      <td>26</td>\n",
              "      <td>45</td>\n",
              "      <td>28</td>\n",
              "      <td>32</td>\n",
              "      <td>179</td>\n",
              "      <td>31</td>\n",
              "      <td>35</td>\n",
              "      <td>149</td>\n",
              "      <td>54</td>\n",
              "      <td>36</td>\n",
              "      <td>44</td>\n",
              "      <td>49</td>\n",
              "      <td>39</td>\n",
              "      <td>56</td>\n",
              "      <td>64</td>\n",
              "      <td>38</td>\n",
              "      <td>44</td>\n",
              "      <td>27</td>\n",
              "      <td>28</td>\n",
              "      <td>22</td>\n",
              "      <td>40</td>\n",
              "      <td>28</td>\n",
              "    </tr>\n",
              "    <tr>\n",
              "      <th>val</th>\n",
              "      <td>51</td>\n",
              "      <td>51</td>\n",
              "      <td>252</td>\n",
              "      <td>74</td>\n",
              "      <td>322</td>\n",
              "      <td>168</td>\n",
              "      <td>23</td>\n",
              "      <td>42</td>\n",
              "      <td>56</td>\n",
              "      <td>93</td>\n",
              "      <td>46</td>\n",
              "      <td>14</td>\n",
              "      <td>46</td>\n",
              "      <td>18</td>\n",
              "      <td>60</td>\n",
              "      <td>23</td>\n",
              "      <td>18</td>\n",
              "      <td>205</td>\n",
              "      <td>23</td>\n",
              "      <td>18</td>\n",
              "      <td>121</td>\n",
              "      <td>32</td>\n",
              "      <td>23</td>\n",
              "      <td>32</td>\n",
              "      <td>42</td>\n",
              "      <td>14</td>\n",
              "      <td>42</td>\n",
              "      <td>60</td>\n",
              "      <td>74</td>\n",
              "      <td>18</td>\n",
              "      <td>9</td>\n",
              "      <td>14</td>\n",
              "      <td>23</td>\n",
              "      <td>32</td>\n",
              "      <td>32</td>\n",
              "    </tr>\n",
              "    <tr>\n",
              "      <th>test</th>\n",
              "      <td>37</td>\n",
              "      <td>42</td>\n",
              "      <td>317</td>\n",
              "      <td>79</td>\n",
              "      <td>331</td>\n",
              "      <td>144</td>\n",
              "      <td>42</td>\n",
              "      <td>28</td>\n",
              "      <td>18</td>\n",
              "      <td>88</td>\n",
              "      <td>28</td>\n",
              "      <td>23</td>\n",
              "      <td>14</td>\n",
              "      <td>18</td>\n",
              "      <td>51</td>\n",
              "      <td>32</td>\n",
              "      <td>14</td>\n",
              "      <td>163</td>\n",
              "      <td>23</td>\n",
              "      <td>32</td>\n",
              "      <td>177</td>\n",
              "      <td>65</td>\n",
              "      <td>46</td>\n",
              "      <td>37</td>\n",
              "      <td>70</td>\n",
              "      <td>42</td>\n",
              "      <td>60</td>\n",
              "      <td>74</td>\n",
              "      <td>46</td>\n",
              "      <td>32</td>\n",
              "      <td>14</td>\n",
              "      <td>42</td>\n",
              "      <td>28</td>\n",
              "      <td>46</td>\n",
              "      <td>18</td>\n",
              "    </tr>\n",
              "  </tbody>\n",
              "</table>\n",
              "</div>"
            ],
            "text/plain": [
              "       (19,)  (25,)  (2,)  (3,)  (15,)  ...  (21,)  (29,)  (16,)  (24,)  (34,)\n",
              "train     32     40   266    73    289  ...     27     28     22     40     28\n",
              "val       51     51   252    74    322  ...      9     14     23     32     32\n",
              "test      37     42   317    79    331  ...     14     42     28     46     18\n",
              "\n",
              "[3 rows x 35 columns]"
            ]
          },
          "metadata": {
            "tags": []
          },
          "execution_count": 596
        }
      ]
    },
    {
      "cell_type": "code",
      "metadata": {
        "colab": {
          "base_uri": "https://localhost:8080/"
        },
        "id": "siiP25tfpjby",
        "outputId": "628cb561-82f2-4640-e28b-ec05e1a9475b"
      },
      "source": [
        "# Standard deviation \n",
        "\n",
        "np.mean(np.std(dist_df.to_numpy(), axis = 0))"
      ],
      "execution_count": 597,
      "outputs": [
        {
          "output_type": "execute_result",
          "data": {
            "text/plain": [
              "9.73409905933911"
            ]
          },
          "metadata": {
            "tags": []
          },
          "execution_count": 597
        }
      ]
    },
    {
      "cell_type": "code",
      "metadata": {
        "id": "ENp36u60pv9t"
      },
      "source": [
        "# Stratified Split \r\n",
        "\r\n",
        "# some of the distribution under the naive split are not impressive, we will balance them out a bit better using stratified split\r\n",
        "\r\n",
        "# iterative stratification via skmultilearn essentially splits each input into subsets and then distributes the samples starting with the fewest positive samples and working up to the inputs with the most labels"
      ],
      "execution_count": 598,
      "outputs": []
    },
    {
      "cell_type": "code",
      "metadata": {
        "id": "HoBLBKUWp4uU"
      },
      "source": [
        "from skmultilearn.model_selection import IterativeStratification"
      ],
      "execution_count": 599,
      "outputs": []
    },
    {
      "cell_type": "code",
      "metadata": {
        "id": "4wuYrhuZp_m2"
      },
      "source": [
        "def iterative_train_test_split(X, y, train_size):\n",
        "\n",
        "  \"\"\" Custome iterative train test split which maintains balanced \n",
        "  representation with respect to order-th label combinations.\"\"\"\n",
        "  \n",
        "  stratifier = IterativeStratification(\n",
        "      n_splits = 2, order = 1, sample_distribution_per_fold = [1.0-train_size, train_size])\n",
        "  train_indices, test_indices = next(stratifier.split(X, y))\n",
        "  X_train, y_train = X[train_indices], y[train_indices]\n",
        "  X_test, y_test = X[test_indices], y[test_indices]\n",
        "  return X_train, X_test, y_train, y_test"
      ],
      "execution_count": 600,
      "outputs": []
    },
    {
      "cell_type": "code",
      "metadata": {
        "id": "tk4ihvdkjimt"
      },
      "source": [
        "# Get data\n",
        "\n",
        "X = df.text.to_numpy()\n",
        "y = df.tags"
      ],
      "execution_count": 601,
      "outputs": []
    },
    {
      "cell_type": "code",
      "metadata": {
        "id": "yS416_4NjpbX"
      },
      "source": [
        "# Binarize y\n",
        "\n",
        "label_encoder = LabelEncoder()\n",
        "label_encoder.fit(y)\n",
        "y = label_encoder.encode(y)"
      ],
      "execution_count": 602,
      "outputs": []
    },
    {
      "cell_type": "code",
      "metadata": {
        "id": "KxShUN79j0dV"
      },
      "source": [
        "# Split\n",
        "\n",
        "X_train, X_, y_train, y_ = iterative_train_test_split(\n",
        "    X, y, train_size = train_size)\n",
        "X_val, X_test, y_val, y_test = iterative_train_test_split(\n",
        "    X_, y_, train_size = 0.5)"
      ],
      "execution_count": 603,
      "outputs": []
    },
    {
      "cell_type": "code",
      "metadata": {
        "colab": {
          "base_uri": "https://localhost:8080/"
        },
        "id": "4xzmeMn8kOGd",
        "outputId": "b7ea7e09-24f7-4b69-f18c-57aff87bdb2c"
      },
      "source": [
        "print(f\"train: {len(X_train)} ({len(X_train) / len(X):.2f})\\n\"\n",
        "      f\"val: {len(X_val)} ({len(X_val) / len(X):.2f})\\n\"\n",
        "      f\"test: {len(X_test)} ({len(X_test) / len(X):.2f})\")"
      ],
      "execution_count": 604,
      "outputs": [
        {
          "output_type": "stream",
          "text": [
            "train: 1008 (0.70)\n",
            "val: 219 (0.15)\n",
            "test: 217 (0.15)\n"
          ],
          "name": "stdout"
        }
      ]
    },
    {
      "cell_type": "code",
      "metadata": {
        "id": "y5DW3g4AlZHT"
      },
      "source": [
        "# Get counts for each class\n",
        "\n",
        "counts = {}\n",
        "counts[\"train_counts\"] = Counter(str(combination) for row in \n",
        "                                 get_combination_wise_output_matrix(\n",
        "                                     y_train, order = 1) for combination in row)\n",
        "counts[\"val_counts\"] = Counter(str(combination) for row in \n",
        "                               get_combination_wise_output_matrix(\n",
        "                                   y_val, order = 1) for combination in row)\n",
        "counts[\"test_counts\"] = Counter(str(combination) for row in \n",
        "                                get_combination_wise_output_matrix(\n",
        "                                    y_test, order = 1) for combination in row)"
      ],
      "execution_count": 605,
      "outputs": []
    },
    {
      "cell_type": "code",
      "metadata": {
        "id": "QfPkTybAmfV3"
      },
      "source": [
        "for k in counts[\"val_counts\"].keys():\n",
        "  counts[\"val_counts\"][k] = int(counts[\"val_counts\"][k] *\\\n",
        "                                (train_size/val_size))\n",
        "for k in counts[\"test_counts\"].keys():\n",
        "  counts[\"test_counts\"][k] = int(counts[\"test_counts\"][k] *\\\n",
        "                                 (train_size/test_size))"
      ],
      "execution_count": 606,
      "outputs": []
    },
    {
      "cell_type": "code",
      "metadata": {
        "colab": {
          "base_uri": "https://localhost:8080/",
          "height": 159
        },
        "id": "-y4vQfw7nzLr",
        "outputId": "eca1883b-9acb-466a-a824-adb32775dcea"
      },
      "source": [
        "# View distributions\n",
        "\n",
        "pd.DataFrame({\n",
        "    \"train\": counts[\"train_counts\"], \n",
        "    \"val\": counts[\"val_counts\"],\n",
        "    \"test\": counts[\"test_counts\"]\n",
        "}).T.fillna(0)"
      ],
      "execution_count": 607,
      "outputs": [
        {
          "output_type": "execute_result",
          "data": {
            "text/html": [
              "<div>\n",
              "<style scoped>\n",
              "    .dataframe tbody tr th:only-of-type {\n",
              "        vertical-align: middle;\n",
              "    }\n",
              "\n",
              "    .dataframe tbody tr th {\n",
              "        vertical-align: top;\n",
              "    }\n",
              "\n",
              "    .dataframe thead th {\n",
              "        text-align: right;\n",
              "    }\n",
              "</style>\n",
              "<table border=\"1\" class=\"dataframe\">\n",
              "  <thead>\n",
              "    <tr style=\"text-align: right;\">\n",
              "      <th></th>\n",
              "      <th>(25,)</th>\n",
              "      <th>(2,)</th>\n",
              "      <th>(3,)</th>\n",
              "      <th>(20,)</th>\n",
              "      <th>(15,)</th>\n",
              "      <th>(10,)</th>\n",
              "      <th>(32,)</th>\n",
              "      <th>(0,)</th>\n",
              "      <th>(8,)</th>\n",
              "      <th>(9,)</th>\n",
              "      <th>(12,)</th>\n",
              "      <th>(30,)</th>\n",
              "      <th>(28,)</th>\n",
              "      <th>(1,)</th>\n",
              "      <th>(6,)</th>\n",
              "      <th>(13,)</th>\n",
              "      <th>(26,)</th>\n",
              "      <th>(17,)</th>\n",
              "      <th>(23,)</th>\n",
              "      <th>(18,)</th>\n",
              "      <th>(19,)</th>\n",
              "      <th>(27,)</th>\n",
              "      <th>(11,)</th>\n",
              "      <th>(31,)</th>\n",
              "      <th>(34,)</th>\n",
              "      <th>(29,)</th>\n",
              "      <th>(22,)</th>\n",
              "      <th>(4,)</th>\n",
              "      <th>(21,)</th>\n",
              "      <th>(24,)</th>\n",
              "      <th>(5,)</th>\n",
              "      <th>(14,)</th>\n",
              "      <th>(16,)</th>\n",
              "      <th>(7,)</th>\n",
              "      <th>(33,)</th>\n",
              "    </tr>\n",
              "  </thead>\n",
              "  <tbody>\n",
              "    <tr>\n",
              "      <th>train</th>\n",
              "      <td>42</td>\n",
              "      <td>272</td>\n",
              "      <td>74</td>\n",
              "      <td>181</td>\n",
              "      <td>300</td>\n",
              "      <td>45</td>\n",
              "      <td>140</td>\n",
              "      <td>84</td>\n",
              "      <td>36</td>\n",
              "      <td>55</td>\n",
              "      <td>38</td>\n",
              "      <td>24</td>\n",
              "      <td>149</td>\n",
              "      <td>29</td>\n",
              "      <td>24</td>\n",
              "      <td>65</td>\n",
              "      <td>33</td>\n",
              "      <td>48</td>\n",
              "      <td>41</td>\n",
              "      <td>21</td>\n",
              "      <td>36</td>\n",
              "      <td>28</td>\n",
              "      <td>33</td>\n",
              "      <td>31</td>\n",
              "      <td>27</td>\n",
              "      <td>28</td>\n",
              "      <td>34</td>\n",
              "      <td>28</td>\n",
              "      <td>24</td>\n",
              "      <td>42</td>\n",
              "      <td>52</td>\n",
              "      <td>32</td>\n",
              "      <td>25</td>\n",
              "      <td>51</td>\n",
              "      <td>27</td>\n",
              "    </tr>\n",
              "    <tr>\n",
              "      <th>val</th>\n",
              "      <td>42</td>\n",
              "      <td>270</td>\n",
              "      <td>74</td>\n",
              "      <td>182</td>\n",
              "      <td>303</td>\n",
              "      <td>42</td>\n",
              "      <td>116</td>\n",
              "      <td>79</td>\n",
              "      <td>32</td>\n",
              "      <td>56</td>\n",
              "      <td>37</td>\n",
              "      <td>23</td>\n",
              "      <td>149</td>\n",
              "      <td>28</td>\n",
              "      <td>23</td>\n",
              "      <td>65</td>\n",
              "      <td>46</td>\n",
              "      <td>46</td>\n",
              "      <td>42</td>\n",
              "      <td>23</td>\n",
              "      <td>37</td>\n",
              "      <td>28</td>\n",
              "      <td>32</td>\n",
              "      <td>28</td>\n",
              "      <td>18</td>\n",
              "      <td>28</td>\n",
              "      <td>37</td>\n",
              "      <td>32</td>\n",
              "      <td>9</td>\n",
              "      <td>51</td>\n",
              "      <td>51</td>\n",
              "      <td>23</td>\n",
              "      <td>28</td>\n",
              "      <td>51</td>\n",
              "      <td>28</td>\n",
              "    </tr>\n",
              "    <tr>\n",
              "      <th>test</th>\n",
              "      <td>42</td>\n",
              "      <td>270</td>\n",
              "      <td>74</td>\n",
              "      <td>177</td>\n",
              "      <td>298</td>\n",
              "      <td>46</td>\n",
              "      <td>144</td>\n",
              "      <td>88</td>\n",
              "      <td>37</td>\n",
              "      <td>51</td>\n",
              "      <td>42</td>\n",
              "      <td>23</td>\n",
              "      <td>149</td>\n",
              "      <td>28</td>\n",
              "      <td>23</td>\n",
              "      <td>65</td>\n",
              "      <td>23</td>\n",
              "      <td>51</td>\n",
              "      <td>42</td>\n",
              "      <td>18</td>\n",
              "      <td>32</td>\n",
              "      <td>28</td>\n",
              "      <td>51</td>\n",
              "      <td>42</td>\n",
              "      <td>37</td>\n",
              "      <td>28</td>\n",
              "      <td>32</td>\n",
              "      <td>28</td>\n",
              "      <td>28</td>\n",
              "      <td>18</td>\n",
              "      <td>56</td>\n",
              "      <td>65</td>\n",
              "      <td>9</td>\n",
              "      <td>51</td>\n",
              "      <td>28</td>\n",
              "    </tr>\n",
              "  </tbody>\n",
              "</table>\n",
              "</div>"
            ],
            "text/plain": [
              "       (25,)  (2,)  (3,)  (20,)  (15,)  ...  (5,)  (14,)  (16,)  (7,)  (33,)\n",
              "train     42   272    74    181    300  ...    52     32     25    51     27\n",
              "val       42   270    74    182    303  ...    51     23     28    51     28\n",
              "test      42   270    74    177    298  ...    56     65      9    51     28\n",
              "\n",
              "[3 rows x 35 columns]"
            ]
          },
          "metadata": {
            "tags": []
          },
          "execution_count": 607
        }
      ]
    },
    {
      "cell_type": "code",
      "metadata": {
        "id": "XhY3fSjQoNMJ"
      },
      "source": [
        "dist_df = pd.DataFrame({\n",
        "    \"train\": counts[\"train_counts\"], \n",
        "    \"val\": counts[\"val_counts\"],\n",
        "    \"test\": counts[\"test_counts\"]\n",
        "}).T.fillna(0)"
      ],
      "execution_count": 608,
      "outputs": []
    },
    {
      "cell_type": "code",
      "metadata": {
        "colab": {
          "base_uri": "https://localhost:8080/"
        },
        "id": "kNrfuS4npBY8",
        "outputId": "6996bc14-1578-409e-89b4-9c1ebb9b3f6a"
      },
      "source": [
        "# Standard Deviation \n",
        "\n",
        "np.mean(np.std(dist_df.to_numpy(), axis = 0))\n",
        "\n",
        "# the standardard deviation is much better but not 0 (perfect splits). Although the std of my lesson material is 3.1423 and mine is 1.6858 (omo, e don change o)"
      ],
      "execution_count": 609,
      "outputs": [
        {
          "output_type": "execute_result",
          "data": {
            "text/plain": [
              "3.5582992220732566"
            ]
          },
          "metadata": {
            "tags": []
          },
          "execution_count": 609
        }
      ]
    },
    {
      "cell_type": "code",
      "metadata": {
        "colab": {
          "base_uri": "https://localhost:8080/",
          "height": 107
        },
        "id": "T-4rOcljpNBf",
        "outputId": "8fc792f3-e1c1-42a0-ea59-c35dec474628"
      },
      "source": [
        "\"\"\"Preprocessing - these are categorised into preparation and transformation\n",
        "Certain preprocessing steps are global (don't depend on our dataset) \n",
        "and others are local (constructs are learned from the training splits). \n",
        "For the local, dataset-dependent preprocessing steps, we want to ensure t\n",
        "hat we split the data first before preprocessing to avoid data leaks.\n",
        "\n",
        "We covered splitting first since many preprocessing transformations depend\n",
        " on the training split and our data splits were dependent only on the target \n",
        " labels (tags) which were already cleaned. However, you need to clean your \n",
        " data first before splitting, at least for the features that splitting \n",
        " depends on. So the process is more like: \n",
        " preprocessing (global, cleaning) → splitting → preprocessing (local, transformations).\n",
        "\"\"\""
      ],
      "execution_count": 610,
      "outputs": [
        {
          "output_type": "execute_result",
          "data": {
            "application/vnd.google.colaboratory.intrinsic+json": {
              "type": "string"
            },
            "text/plain": [
              "\"Preprocessing - these are categorised into preparation and transformation\\nCertain preprocessing steps are global (don't depend on our dataset) \\nand others are local (constructs are learned from the training splits). \\nFor the local, dataset-dependent preprocessing steps, we want to ensure t\\nhat we split the data first before preprocessing to avoid data leaks.\\n\\nWe covered splitting first since many preprocessing transformations depend\\n on the training split and our data splits were dependent only on the target \\n labels (tags) which were already cleaned. However, you need to clean your \\n data first before splitting, at least for the features that splitting \\n depends on. So the process is more like: \\n preprocessing (global, cleaning) → splitting → preprocessing (local, transformations).\\n\""
            ]
          },
          "metadata": {
            "tags": []
          },
          "execution_count": 610
        }
      ]
    },
    {
      "cell_type": "code",
      "metadata": {
        "id": "xnLirmM5urZI"
      },
      "source": [
        "# Data Preparation typically involves \r\n",
        "# - Joins, - performing sql joins with existing tables to organise all the relevant data into one view\r\n",
        "# - Typing, - ensuring all values for a specific feature are of the same data type, otherwise you can't compare them\r\n",
        "# - Missing values, - omit, samples with missing values, if a small subset is missing it\r\n",
        "                  # - omit the entire feature, if too many samples are missing the val\r\n",
        "                  # - fill in missing values for features (using domain knowledge, heuristics etc)\r\n",
        "                  # - may not always seem missing, e.g 0, null, NA\r\n",
        "# Outliers, - craft assumptions about what is a normal expected value\r\n",
        "          # - be careful about removing important outliers e.g fraud\r\n",
        "          # - annomalies can be global (point) contextual (conditional) or collective \r\n",
        "# Clean,  - use domain expertise and EDA\r\n",
        "        # - images (crop, resize, clip etc)\r\n",
        "        # - text (lower, stem, lemmatize, regex etc)    "
      ],
      "execution_count": 611,
      "outputs": []
    },
    {
      "cell_type": "code",
      "metadata": {
        "id": "IR7ueKEHvpar"
      },
      "source": [
        "# Data Transformation involves feature encoding and engineering\r\n",
        "# See https://madewithml.com/courses/applied-ml/preprocessing/ for more details on preprocessing "
      ],
      "execution_count": 612,
      "outputs": []
    },
    {
      "cell_type": "code",
      "metadata": {
        "colab": {
          "base_uri": "https://localhost:8080/"
        },
        "id": "pm_2JYc_q5um",
        "outputId": "394107d8-4c07-4c32-c90a-07f05e147a0f"
      },
      "source": [
        "import nltk\n",
        "from nltk.corpus import stopwords\n",
        "from nltk.stem import PorterStemmer\n",
        "import re\n",
        "\n",
        "print(\"Libraries Successfully Imported\")"
      ],
      "execution_count": 613,
      "outputs": [
        {
          "output_type": "stream",
          "text": [
            "Libraries Successfully Imported\n"
          ],
          "name": "stdout"
        }
      ]
    },
    {
      "cell_type": "code",
      "metadata": {
        "colab": {
          "base_uri": "https://localhost:8080/"
        },
        "id": "1dVw1cz9qtFS",
        "outputId": "eebac7ef-4abd-41bb-fd93-24c8d0cf8583"
      },
      "source": [
        "nltk.download(\"stopwords\")\n",
        "STOPWORDS = stopwords.words(\"english\")\n",
        "porter = PorterStemmer()"
      ],
      "execution_count": 614,
      "outputs": [
        {
          "output_type": "stream",
          "text": [
            "[nltk_data] Downloading package stopwords to /root/nltk_data...\n",
            "[nltk_data]   Package stopwords is already up-to-date!\n"
          ],
          "name": "stdout"
        }
      ]
    },
    {
      "cell_type": "code",
      "metadata": {
        "id": "HziQvJlrrouG"
      },
      "source": [
        "def preprocess(text, lower = True, stem = False,\n",
        "               filters = \"[!\\\"'#$%&()*\\+,-./:;<=>?@\\\\\\[\\]^_`{|}~]\", stopwords = STOPWORDS):\n",
        "  \n",
        "  \"\"\"Conditional preprocessing on our text, unique to our task\"\"\"\n",
        "\n",
        "  # Lower\n",
        "  if lower:\n",
        "    text = text.lower()\n",
        "\n",
        "  # Remove stopwords using the nltk package\n",
        "  pattern = re.compile(r'\\b(' + r'|'.join(stopwords) + r')\\b\\s*')\n",
        "  text = pattern.sub('', text)\n",
        "\n",
        "  # Space and filters\n",
        "  text = re.sub(r\"([-;;.,!?<=>])\", r\" \\1 \", text)\n",
        "  text = re.sub(filters, r\"\", text)\n",
        "  text = re.sub('[^A-Za-z0-9]+', ' ', text) # remove non alphanumeric chars\n",
        "  text = re.sub(' +', ' ', text) # remove multiple spaces\n",
        "  text = text.strip()\n",
        "\n",
        "  # Remove links (urls)\n",
        "  text = re.sub(r'http\\S+', '', text)\n",
        "\n",
        "  # Stemming (conditional)\n",
        "  if stem:\n",
        "    text = \" \".join([porter.stem(word) for word in text.split(' ')])\n",
        "  return text"
      ],
      "execution_count": 615,
      "outputs": []
    },
    {
      "cell_type": "code",
      "metadata": {
        "colab": {
          "base_uri": "https://localhost:8080/",
          "height": 98,
          "referenced_widgets": [
            "13382e6b50334d81b3e955274fa8c417",
            "13cff4579df84d4a9f4676660480afc2",
            "3e8c58bc5197405ab3749e61782b1dc7",
            "6f536eef92e24f7bbfe7e74186307e86",
            "fdf215dcbf64496e92c232520cccef5c",
            "c500f93ad42142a8ba697967d4f301b2",
            "bb634c34443a40bc9169e0aade7af029",
            "3e3aa68843364286b3407801b6fa892e",
            "2482affc8cfe4d48bbb031fdde0428c8",
            "32cfaebf82994ccba5795d9f7388327e"
          ]
        },
        "id": "EVddxxYWths7",
        "outputId": "bd845234-ae1d-43fe-d78f-5304dfc62a87"
      },
      "source": [
        "@widgets.interact(lower = True, stem = False)\n",
        "\n",
        "def display_preprocessed_text(lower, stem):\n",
        "  # filters = \"[!\\\"'#$%&()*\\+,-./:;<=>?@\\\\\\[\\]^_`{|}~]\" we didnt need to add the filter here since we added it to the preprocess function above\n",
        "  text = \"Conditional Image Generation using Variational Autoencoders and GANs.\"\n",
        "  preprocessed_text = preprocess(text = text, lower = lower, stem = stem)\n",
        "  print(preprocessed_text)"
      ],
      "execution_count": 616,
      "outputs": [
        {
          "output_type": "display_data",
          "data": {
            "application/vnd.jupyter.widget-view+json": {
              "model_id": "13382e6b50334d81b3e955274fa8c417",
              "version_minor": 0,
              "version_major": 2
            },
            "text/plain": [
              "interactive(children=(Checkbox(value=True, description='lower'), Checkbox(value=False, description='stem'), Ou…"
            ]
          },
          "metadata": {
            "tags": []
          }
        }
      ]
    },
    {
      "cell_type": "code",
      "metadata": {
        "id": "wP1rolrYvLpV",
        "colab": {
          "base_uri": "https://localhost:8080/"
        },
        "outputId": "73295c7a-068a-444d-e4d9-b4adbcf02ee4"
      },
      "source": [
        "# Apply preprocess steps to the dataframe \r\n",
        "\r\n",
        "preprocessed_df = df.copy()\r\n",
        "\r\n",
        "preprocessed_df.text = preprocessed_df.text.apply(preprocess, lower = True, stem = False)\r\n",
        "\r\n",
        "print (f\"{df.text.values[0]}\\n\\n{preprocessed_df.text.values[0]}\")"
      ],
      "execution_count": 617,
      "outputs": [
        {
          "output_type": "stream",
          "text": [
            "NBA k-means Extraction of NBA statistics from \"basketball-reference.com\" to visualise them and detect trends and patterns. Clustering of the top players using KMeans.\n",
            "\n",
            "nba k means extraction nba statistics basketball reference com visualise detect trends patterns clustering top players using kmeans\n"
          ],
          "name": "stdout"
        }
      ]
    },
    {
      "cell_type": "code",
      "metadata": {
        "colab": {
          "base_uri": "https://localhost:8080/",
          "height": 35
        },
        "id": "c8QN0r4m3_Lp",
        "outputId": "bb52fcd2-4ab4-4f8e-bcf3-c7ad5fa68807"
      },
      "source": [
        "\"\"\" Baselines\"\"\""
      ],
      "execution_count": 618,
      "outputs": [
        {
          "output_type": "execute_result",
          "data": {
            "application/vnd.google.colaboratory.intrinsic+json": {
              "type": "string"
            },
            "text/plain": [
              "' Baselines'"
            ]
          },
          "metadata": {
            "tags": []
          },
          "execution_count": 618
        }
      ]
    },
    {
      "cell_type": "code",
      "metadata": {
        "id": "NtgtwtAYb-Tc"
      },
      "source": [
        "# Modelling \r\n",
        "\r\n",
        "# - we'll begin modelling by starting with the simplest baseline and slowly adding complexity in the following order \r\n",
        "\r\n",
        "# - Random, Rule-based, Simple ML, CNN w/ embeddings, RNN w/ embeddings and Transformers w/embeddings"
      ],
      "execution_count": 619,
      "outputs": []
    },
    {
      "cell_type": "code",
      "metadata": {
        "colab": {
          "base_uri": "https://localhost:8080/"
        },
        "id": "bH3l406LdV2I",
        "outputId": "52529133-a2f6-42ab-ad3a-46840c4369e9"
      },
      "source": [
        "# Random\r\n",
        "\r\n",
        "# - Import the necessary libraries \r\n",
        "\r\n",
        "from sklearn.metrics import precision_recall_fscore_support\r\n",
        "import torch\r\n",
        "\r\n",
        "print (\"Libraries successfully imported!!\")"
      ],
      "execution_count": 620,
      "outputs": [
        {
          "output_type": "stream",
          "text": [
            "Libraries successfully imported!!\n"
          ],
          "name": "stdout"
        }
      ]
    },
    {
      "cell_type": "code",
      "metadata": {
        "id": "GVg2M4BidfRo"
      },
      "source": [
        "# Set seed for reproducibility \r\n",
        "\r\n",
        "def set_seeds(seed = 1234):\r\n",
        "  np.random.seed(seed)\r\n",
        "  random.seed(seed)\r\n",
        "  torch.manual_seed(seed)\r\n",
        "  torch.cuda.manual_seed(seed)\r\n",
        "  torch.cuda.manual_seed_all(seed) # multi-GPU"
      ],
      "execution_count": 621,
      "outputs": []
    },
    {
      "cell_type": "code",
      "metadata": {
        "id": "viaO3gNWd_sM"
      },
      "source": [
        "# Getting the data splits\r\n",
        "\r\n",
        "def get_data_splits(df, train_size = 0.7):\r\n",
        "\r\n",
        "  # Get data\r\n",
        "  X = df.text.to_numpy()\r\n",
        "  y = df.tags\r\n",
        "\r\n",
        "  # Binarise y \r\n",
        "  label_encoder = LabelEncoder()\r\n",
        "  label_encoder.fit(y)\r\n",
        "  y = label_encoder.encode(y)\r\n",
        "\r\n",
        "  # Split\r\n",
        "  X_train, X_, y_train, y_ = iterative_train_test_split(X, y, train_size = train_size)\r\n",
        "  X_val, X_test, y_val, y_test = iterative_train_test_split(X_, y_, train_size = 0.5)\r\n",
        "\r\n",
        "  return X_train, X_val, X_test, y_train, y_val, y_test, label_encoder"
      ],
      "execution_count": 622,
      "outputs": []
    },
    {
      "cell_type": "code",
      "metadata": {
        "id": "FwMasYVXfou2"
      },
      "source": [
        "# Defining a trainer object to be used in traing, validation and inference \r\n",
        "\r\n",
        "class Trainer(object):\r\n",
        "  \r\n",
        "  def __init__(self, model, device, loss = None, optimiser = None, scheduler = None):\r\n",
        "\r\n",
        "    # Set parameters\r\n",
        "    self.model = model \r\n",
        "    self.device = device \r\n",
        "    self.loss = loss\r\n",
        "    self.optimiser = optimiser\r\n",
        "    self.scheduler = scheduler\r\n",
        "\r\n",
        "  # Defining the training step function\r\n",
        "  def train_step(self, dataloader):\r\n",
        "    \r\n",
        "    # Set the model to train mode\r\n",
        "    self.model.train()\r\n",
        "    loss = 0.0\r\n",
        "\r\n",
        "    # Iterate over the training batches \r\n",
        "    for i, batch in enumerate(dataloader):\r\n",
        "\r\n",
        "      # Step\r\n",
        "      batch = [item.to(self.device) for item in batch] # set device\r\n",
        "      inputs, targets = batch[:-1], batch[-1]\r\n",
        "      self.optimiser.zero_grad() # Reset gradients\r\n",
        "      z = self.model(inputs) # Forward pass\r\n",
        "      J = self.loss(z, targets) # Define loss\r\n",
        "      J.backward() # Backward pass\r\n",
        "      self.optimiser.step() # Update weights\r\n",
        "\r\n",
        "      # Cumulative Metrics\r\n",
        "      loss += (J.detach().item() - loss) / (i + 1)\r\n",
        "      \r\n",
        "    return loss  \r\n",
        "\r\n",
        "  # Defining the validation or test step function\r\n",
        "  def eval_step(self, dataloader):\r\n",
        "\r\n",
        "    # Set model to eval mode\r\n",
        "    self.model.eval()\r\n",
        "    loss = 0.0\r\n",
        "    y_trues, y_probs = [], []\r\n",
        "\r\n",
        "    # Iterate over val batches \r\n",
        "    with torch.no_grad():\r\n",
        "      for i, batch in enumerate(dataloader):\r\n",
        "        \r\n",
        "        # Step\r\n",
        "        batch = [item.to(self.device) for item in batch] # Set device\r\n",
        "        inputs, y_true = batch[:-1], batch[-1]\r\n",
        "        z = self.model(inputs) # forward pass\r\n",
        "        J = self.loss(z, y_true).item()\r\n",
        "\r\n",
        "        # Cumulative Metrics\r\n",
        "        loss += (J - loss) / (i + 1)\r\n",
        "\r\n",
        "        # Store outputs \r\n",
        "        y_prob = torch.sigmoid(z).cpu().numpy()\r\n",
        "        y_probs.extend(y_prob)\r\n",
        "        y_trues.extend(y_true.cpu().numpy())\r\n",
        "\r\n",
        "    return loss, np.vstack(y_trues), np.vstack(y_probs)\r\n",
        "\r\n",
        "  # Defining the prediction step function \r\n",
        "  def predict_step(self, dataloader):\r\n",
        "\r\n",
        "    # Set model to eval mode\r\n",
        "    self.model.eval()\r\n",
        "    y_probs = []\r\n",
        "\r\n",
        "    # iterate over val batches\r\n",
        "    with torch.no_grad():\r\n",
        "      for i, batch in enumerate(dataloader):\r\n",
        "\r\n",
        "        # Forward pass w/ inputs\r\n",
        "        inputs, targets = batch[:-1], batch[-1]\r\n",
        "        y_prob = self.model(inputs)\r\n",
        "\r\n",
        "        # Store outputs\r\n",
        "        y_probs.extend(y_prob)\r\n",
        "\r\n",
        "    return np.vstack(y_prob)\r\n",
        "\r\n",
        "  def train(self, num_epochs, patience, train_dataloader, val_dataloader):\r\n",
        "    best_val_loss = np.inf\r\n",
        "    for epoch in range(num_epochs):\r\n",
        "\r\n",
        "      # Steps\r\n",
        "      train_loss = self.train_step(dataloader = train_dataloader)\r\n",
        "      val_loss, _, _ = self.eval_step(dataloader = val_dataloader)\r\n",
        "      self.scheduler.step(val_loss)\r\n",
        "\r\n",
        "      # Early stopping\r\n",
        "      if val_loss < best_val_loss:\r\n",
        "        best_val_loss = val_loss\r\n",
        "        best_model = self.model\r\n",
        "        _patience = patience # resent _patience\r\n",
        "      else:\r\n",
        "        _patience -= 1\r\n",
        "      if not _patience: # 0\r\n",
        "        print (\"Stopping early fa!\")\r\n",
        "        break\r\n",
        "        \r\n",
        "      # Logging\r\n",
        "      print (\r\n",
        "          f\"Epoch: {epoch + 1} |\"\r\n",
        "          f\"train_loss: {train_loss:.5f}, \"\r\n",
        "          f\"val_loss: {val_loss:.5f}, \"\r\n",
        "          f\"lr: {self.optimiser.param_groups[0]['lr']:.2E}, \"\r\n",
        "          f\"_patience: {_patience}\"\r\n",
        "        )\r\n",
        "    return best_model"
      ],
      "execution_count": 623,
      "outputs": []
    },
    {
      "cell_type": "code",
      "metadata": {
        "id": "p62HvJZvym7a"
      },
      "source": [
        "# Per class performance metrics \r\n",
        "\r\n",
        "def get_performance(y_true, y_pred, classes):\r\n",
        "\r\n",
        "  # Get metrics \r\n",
        "  performance = {'overall': {}, 'class': {}}\r\n",
        "  metrics = precision_recall_fscore_support(y_true, y_pred)\r\n",
        "\r\n",
        "  # Overall performance \r\n",
        "  performance['overall']['precision'] = np.mean(metrics[0])\r\n",
        "  performance['overall']['recall'] = np.mean(metrics[1])\r\n",
        "  performance['overall']['f1'] = np.mean(metrics[2])\r\n",
        "  performance['overall']['num_samples'] = np.float64(np.sum(metrics[3]))\r\n",
        "\r\n",
        "  # Per class performance\r\n",
        "  for i in range(len(classes)):\r\n",
        "    performance['class'][classes[i]] = {\r\n",
        "        \"precision\": metrics[0][i], \r\n",
        "        \"recall\": metrics[1][i], \r\n",
        "        \"f1\": metrics[2][i], \r\n",
        "        \"num_samples\": np.float64(metrics[3][i])\r\n",
        "    }\r\n",
        "  return performance"
      ],
      "execution_count": 624,
      "outputs": []
    },
    {
      "cell_type": "code",
      "metadata": {
        "id": "LLBfz6tWz4qC"
      },
      "source": [
        "# Implementing Random\r\n",
        "\r\n",
        "# - Essentially, we want to know what random chance looks like. \r\n",
        "# ** all of our efforts should be well above this**\r\n",
        "\r\n",
        "# Set seeds \r\n",
        "\r\n",
        "set_seeds()"
      ],
      "execution_count": 625,
      "outputs": []
    },
    {
      "cell_type": "code",
      "metadata": {
        "colab": {
          "base_uri": "https://localhost:8080/"
        },
        "id": "TkoluZez0D-o",
        "outputId": "099a0e0b-754a-4068-ec70-f193ecfffc5d"
      },
      "source": [
        "# Get data splits \r\n",
        "\r\n",
        "preprocessed_df = df.copy()\r\n",
        "preprocessed_df.text = preprocessed_df.text.apply(preprocess, lower = True, stem = True)\r\n",
        "\r\n",
        "X_train, X_val, X_test, y_train, y_val, y_test,label_encoder = get_data_splits(preprocessed_df)\r\n",
        "\r\n",
        "print (f\"X_train: {X_train.shape}, y_train: {y_train.shape}\")\r\n",
        "print (f\"X_val: {X_val.shape}, y_val: {y_val.shape}\")\r\n",
        "print (f\"X_test: {X_test.shape}, y_test: {y_test.shape}\")"
      ],
      "execution_count": 626,
      "outputs": [
        {
          "output_type": "stream",
          "text": [
            "X_train: (1008,), y_train: (1008, 35)\n",
            "X_val: (213,), y_val: (213, 35)\n",
            "X_test: (223,), y_test: (223, 35)\n"
          ],
          "name": "stdout"
        }
      ]
    },
    {
      "cell_type": "code",
      "metadata": {
        "colab": {
          "base_uri": "https://localhost:8080/"
        },
        "id": "srtW-9m-6IPI",
        "outputId": "c9970a58-6530-40a1-c7ba-1108be5484a5"
      },
      "source": [
        "# Label encoder \r\n",
        "\r\n",
        "print (label_encoder)\r\n",
        "print (label_encoder.classes)"
      ],
      "execution_count": 627,
      "outputs": [
        {
          "output_type": "stream",
          "text": [
            "<LabelEncoder(num_classes=35)>\n",
            "['attention', 'autoencoders', 'computer-vision', 'convolutional-neural-networks', 'data-augmentation', 'embeddings', 'flask', 'generative-adversarial-networks', 'graph-neural-networks', 'graphs', 'huggingface', 'image-classification', 'interpretability', 'keras', 'language-modeling', 'natural-language-processing', 'node-classification', 'object-detection', 'pretraining', 'production', 'pytorch', 'question-answering', 'regression', 'reinforcement-learning', 'representation-learning', 'scikit-learn', 'segmentation', 'self-supervised-learning', 'tensorflow', 'tensorflow-js', 'time-series', 'transfer-learning', 'transformers', 'unsupervised-learning', 'wandb']\n"
          ],
          "name": "stdout"
        }
      ]
    },
    {
      "cell_type": "code",
      "metadata": {
        "colab": {
          "base_uri": "https://localhost:8080/"
        },
        "id": "zPdIjh0-6SQ3",
        "outputId": "40460eb6-5d04-47a6-e4dd-903d0e4138b6"
      },
      "source": [
        "# Generate random predictions \r\n",
        "\r\n",
        "y_pred = np.random.randint(low = 0, high = 2, size = (len(y_test), len(label_encoder.classes)))\r\n",
        "\r\n",
        "print (y_pred.shape)\r\n",
        "print (y_pred[0:5])"
      ],
      "execution_count": 628,
      "outputs": [
        {
          "output_type": "stream",
          "text": [
            "(223, 35)\n",
            "[[0 1 1 1 0 0 1 1 1 0 0 0 1 1 0 0 1 1 1 0 1 1 1 1 1 1 0 0 1 0 1 1 0 1 1]\n",
            " [0 0 0 1 0 1 0 0 0 0 0 1 1 1 1 1 0 1 1 1 1 0 1 1 1 1 1 0 1 1 0 1 0 0 0]\n",
            " [0 1 1 1 1 1 0 1 0 0 0 1 1 1 0 0 1 1 1 0 0 1 0 0 1 1 1 1 1 0 1 1 0 0 1]\n",
            " [0 0 1 1 0 1 1 0 1 1 0 0 1 1 0 1 1 0 1 1 1 0 0 0 1 1 1 0 1 1 0 0 0 1 0]\n",
            " [0 1 1 0 0 0 1 1 1 0 1 1 0 1 0 1 1 0 1 1 1 0 0 1 0 1 1 1 1 1 1 1 0 0 0]]\n"
          ],
          "name": "stdout"
        }
      ]
    },
    {
      "cell_type": "code",
      "metadata": {
        "colab": {
          "base_uri": "https://localhost:8080/"
        },
        "id": "x6WyXIbl74g5",
        "outputId": "540e0213-43bb-44d8-f5ff-ea2d24aad6d7"
      },
      "source": [
        "# Evaluate\r\n",
        "\r\n",
        "performance = get_performance(y_true = y_test, y_pred = y_pred, classes = label_encoder.classes)\r\n",
        "\r\n",
        "print (json.dumps(performance['overall'], indent = 2))"
      ],
      "execution_count": 629,
      "outputs": [
        {
          "output_type": "stream",
          "text": [
            "{\n",
            "  \"precision\": 0.06763293351390938,\n",
            "  \"recall\": 0.5201279436901358,\n",
            "  \"f1\": 0.11036841738864332,\n",
            "  \"num_samples\": 488.0\n",
            "}\n"
          ],
          "name": "stdout"
        }
      ]
    },
    {
      "cell_type": "code",
      "metadata": {
        "colab": {
          "base_uri": "https://localhost:8080/"
        },
        "id": "EAFzWd-d8Upg",
        "outputId": "805cb788-ade1-438c-c27b-e9ac77bbcb7a"
      },
      "source": [
        "# We made the assumption that there is an equal probabiltiy for whether an input has a tag or not, but this isnt true\r\n",
        "# Lets use the train split to figure out what the true probability is\r\n",
        "\r\n",
        "# Percentage of 1s (tag presence)\r\n",
        "\r\n",
        "tag_p = np.sum(np.sum(y_train)) / (len(y_train) * len(label_encoder.classes))\r\n",
        "\r\n",
        "print (tag_p)"
      ],
      "execution_count": 630,
      "outputs": [
        {
          "output_type": "stream",
          "text": [
            "0.06232993197278912\n"
          ],
          "name": "stdout"
        }
      ]
    },
    {
      "cell_type": "code",
      "metadata": {
        "id": "6HmITg-M_-YP"
      },
      "source": [
        "# Generate weighted random predictions \r\n",
        "\r\n",
        "y_pred = np.random.choice(\r\n",
        "    np.arange(0, 2), size = (len(y_test), len(label_encoder.classes)), p = [1 - tag_p, tag_p])"
      ],
      "execution_count": 631,
      "outputs": []
    },
    {
      "cell_type": "code",
      "metadata": {
        "colab": {
          "base_uri": "https://localhost:8080/"
        },
        "id": "nt5FWSUxAuF3",
        "outputId": "9a277322-7bb3-449a-d58f-4937f46b29af"
      },
      "source": [
        "# Validate percentage \r\n",
        "\r\n",
        "np.sum(np.sum(y_pred)) / (len(y_pred) * len(label_encoder.classes))"
      ],
      "execution_count": 632,
      "outputs": [
        {
          "output_type": "execute_result",
          "data": {
            "text/plain": [
              "0.061242793081358105"
            ]
          },
          "metadata": {
            "tags": []
          },
          "execution_count": 632
        }
      ]
    },
    {
      "cell_type": "code",
      "metadata": {
        "colab": {
          "base_uri": "https://localhost:8080/"
        },
        "id": "ly4iYkeEA8kO",
        "outputId": "3bf26b81-b972-489d-8629-296c78f4704e"
      },
      "source": [
        "# Evaluate\r\n",
        "\r\n",
        "performance = get_performance(y_true = y_test, y_pred = y_pred, classes = label_encoder.classes)\r\n",
        "\r\n",
        "print (json.dumps(performance['overall'], indent = 2))\r\n",
        "\r\n",
        "# Conclusion - we didnt use the tokens in our inputs to influence the prediction, so nothing was learned."
      ],
      "execution_count": 633,
      "outputs": [
        {
          "output_type": "stream",
          "text": [
            "{\n",
            "  \"precision\": 0.05139707398110759,\n",
            "  \"recall\": 0.0525282107055506,\n",
            "  \"f1\": 0.04248785604937336,\n",
            "  \"num_samples\": 488.0\n",
            "}\n"
          ],
          "name": "stdout"
        }
      ]
    },
    {
      "cell_type": "code",
      "metadata": {
        "id": "b3wCnOpRBS8h"
      },
      "source": [
        "## Rule based\r\n",
        "# - Now, we will use the signals in the inputs with domain expertise and aux data to determine the labels \r\n",
        "\r\n",
        "# Set seeds \r\n",
        "\r\n",
        "set_seeds()"
      ],
      "execution_count": 634,
      "outputs": []
    },
    {
      "cell_type": "code",
      "metadata": {
        "id": "1kfeh7Bis6F1"
      },
      "source": [
        "# Unstemmed \r\n",
        "\r\n",
        "# Get data splits \r\n",
        "\r\n",
        "preprocessed_df = df.copy()\r\n",
        "\r\n",
        "preprocessed_df.text = preprocessed_df.text.apply(preprocess, lower = True)\r\n",
        "\r\n",
        "X_train, X_val, X_test, y_train, y_val, y_test, label_encoder = get_data_splits(preprocessed_df)"
      ],
      "execution_count": 635,
      "outputs": []
    },
    {
      "cell_type": "code",
      "metadata": {
        "colab": {
          "base_uri": "https://localhost:8080/"
        },
        "id": "N1cTgIgitz88",
        "outputId": "4cdf12cf-373a-4bfa-f803-4d94d9452c3c"
      },
      "source": [
        "# Restrict to relevant tags\r\n",
        "\r\n",
        "print (len(tags_dict))\r\n",
        "tags_dict = {tag: tags_dict[tag] for tag in label_encoder.classes}\r\n",
        "\r\n",
        "print (len(tags_dict))"
      ],
      "execution_count": 636,
      "outputs": [
        {
          "output_type": "stream",
          "text": [
            "400\n",
            "35\n"
          ],
          "name": "stdout"
        }
      ]
    },
    {
      "cell_type": "code",
      "metadata": {
        "colab": {
          "base_uri": "https://localhost:8080/"
        },
        "id": "SuT2tB1auh5Z",
        "outputId": "0c3cbc72-1c14-433f-811f-153b1ec5e5e7"
      },
      "source": [
        "# Map aliases\r\n",
        "\r\n",
        "aliases = {}\r\n",
        "\r\n",
        "for tag, values in tags_dict.items():\r\n",
        "  aliases[preprocess(tag)] = tag\r\n",
        "  for alias in values[\"aliases\"]:\r\n",
        "    aliases[preprocess(alias)] = tag\r\n",
        "\r\n",
        "aliases"
      ],
      "execution_count": 637,
      "outputs": [
        {
          "output_type": "execute_result",
          "data": {
            "text/plain": [
              "{'ae': 'autoencoders',\n",
              " 'attention': 'attention',\n",
              " 'autoencoders': 'autoencoders',\n",
              " 'cnn': 'convolutional-neural-networks',\n",
              " 'computer vision': 'computer-vision',\n",
              " 'convolutional neural networks': 'convolutional-neural-networks',\n",
              " 'cv': 'computer-vision',\n",
              " 'data augmentation': 'data-augmentation',\n",
              " 'embeddings': 'embeddings',\n",
              " 'flask': 'flask',\n",
              " 'gan': 'generative-adversarial-networks',\n",
              " 'generative adversarial networks': 'generative-adversarial-networks',\n",
              " 'gnn': 'graph-neural-networks',\n",
              " 'graph neural networks': 'graph-neural-networks',\n",
              " 'graphs': 'graphs',\n",
              " 'huggingface': 'huggingface',\n",
              " 'image classification': 'image-classification',\n",
              " 'image segmentation': 'segmentation',\n",
              " 'interpretability': 'interpretability',\n",
              " 'keras': 'keras',\n",
              " 'language modeling': 'language-modeling',\n",
              " 'lm': 'language-modeling',\n",
              " 'natural language processing': 'natural-language-processing',\n",
              " 'nlp': 'natural-language-processing',\n",
              " 'nlproc': 'natural-language-processing',\n",
              " 'node classification': 'node-classification',\n",
              " 'object detection': 'object-detection',\n",
              " 'pre training': 'pretraining',\n",
              " 'pretraining': 'pretraining',\n",
              " 'production': 'production',\n",
              " 'pytorch': 'pytorch',\n",
              " 'qa': 'question-answering',\n",
              " 'question answering': 'question-answering',\n",
              " 'regression': 'regression',\n",
              " 'reinforcement learning': 'reinforcement-learning',\n",
              " 'representation learning': 'representation-learning',\n",
              " 'rl': 'reinforcement-learning',\n",
              " 'scikit learn': 'scikit-learn',\n",
              " 'segmentation': 'segmentation',\n",
              " 'self supervised learning': 'self-supervised-learning',\n",
              " 'sklearn': 'scikit-learn',\n",
              " 'tensorflow': 'tensorflow',\n",
              " 'tensorflow js': 'tensorflow-js',\n",
              " 'tf': 'tensorflow',\n",
              " 'tf js': 'tensorflow-js',\n",
              " 'time series': 'time-series',\n",
              " 'time series analysis': 'time-series',\n",
              " 'transfer learning': 'transfer-learning',\n",
              " 'transformers': 'transformers',\n",
              " 'unsupervised learning': 'unsupervised-learning',\n",
              " 'vision': 'computer-vision',\n",
              " 'wandb': 'wandb',\n",
              " 'weights biases': 'wandb'}"
            ]
          },
          "metadata": {
            "tags": []
          },
          "execution_count": 637
        }
      ]
    },
    {
      "cell_type": "code",
      "metadata": {
        "id": "xmdB8hZdu_Su"
      },
      "source": [
        "# if token matches an alias, then add the corresponding tag class and parent tags if any\r\n",
        "\r\n",
        "def get_classes(text, aliases, tags_dict):\r\n",
        "\r\n",
        "  classes = []\r\n",
        "  for alias, tag in aliases.items():\r\n",
        "    if alias in text:\r\n",
        "      classes.append(tag)\r\n",
        "      for parent in tags_dict[tag][\"parents\"]:\r\n",
        "        classes.append(parent)\r\n",
        "  return list(set(classes))"
      ],
      "execution_count": 638,
      "outputs": []
    },
    {
      "cell_type": "code",
      "metadata": {
        "colab": {
          "base_uri": "https://localhost:8080/"
        },
        "id": "KWWuUSeHxsLM",
        "outputId": "2e54e30b-51e5-4331-b315-432da05d7507"
      },
      "source": [
        "# Sample \r\n",
        "\r\n",
        "text = \"This project extends gans for data augmentation specifically for object detection tasks.\"\r\n",
        "\r\n",
        "get_classes(text = preprocess(text), aliases = aliases, tags_dict = tags_dict)"
      ],
      "execution_count": 639,
      "outputs": [
        {
          "output_type": "execute_result",
          "data": {
            "text/plain": [
              "['object-detection',\n",
              " 'generative-adversarial-networks',\n",
              " 'computer-vision',\n",
              " 'data-augmentation']"
            ]
          },
          "metadata": {
            "tags": []
          },
          "execution_count": 639
        }
      ]
    },
    {
      "cell_type": "code",
      "metadata": {
        "id": "E2BCr0K6x_BK"
      },
      "source": [
        "# Prediction \r\n",
        "\r\n",
        "y_pred = []\r\n",
        "for text in X_test:\r\n",
        "  classes = get_classes(text, aliases, tags_dict)\r\n",
        "  y_pred.append(classes)"
      ],
      "execution_count": 640,
      "outputs": []
    },
    {
      "cell_type": "code",
      "metadata": {
        "id": "N7QXgr9dYlcS"
      },
      "source": [
        "y_pred = label_encoder.encode(y_pred)"
      ],
      "execution_count": 641,
      "outputs": []
    },
    {
      "cell_type": "code",
      "metadata": {
        "colab": {
          "base_uri": "https://localhost:8080/"
        },
        "id": "X0PGcIu4fLmV",
        "outputId": "850d29ef-d8ce-42d2-8ceb-1ab9ef7423c8"
      },
      "source": [
        "# Evaluate\r\n",
        "\r\n",
        "performance = get_performance(y_true = y_test, y_pred = y_pred, classes = label_encoder.classes)\r\n",
        "\r\n",
        "print (json.dumps(performance[\"overall\"], indent = 4))"
      ],
      "execution_count": 642,
      "outputs": [
        {
          "output_type": "stream",
          "text": [
            "{\n",
            "    \"precision\": 0.8552670716380394,\n",
            "    \"recall\": 0.46130628300271154,\n",
            "    \"f1\": 0.5571173115985636,\n",
            "    \"num_samples\": 488.0\n",
            "}\n"
          ],
          "name": "stdout"
        }
      ]
    },
    {
      "cell_type": "code",
      "metadata": {
        "colab": {
          "base_uri": "https://localhost:8080/"
        },
        "id": "WWmjrgxNfL5k",
        "outputId": "e634b764-42db-42ba-c133-8ad45742ac1b"
      },
      "source": [
        "# inspection \r\n",
        "\r\n",
        "tag = \"transformers\"\r\n",
        "\r\n",
        "print (json.dumps(performance[\"class\"][tag], indent = 2))"
      ],
      "execution_count": 643,
      "outputs": [
        {
          "output_type": "stream",
          "text": [
            "{\n",
            "  \"precision\": 0.875,\n",
            "  \"recall\": 0.2413793103448276,\n",
            "  \"f1\": 0.3783783783783784,\n",
            "  \"num_samples\": 29.0\n",
            "}\n"
          ],
          "name": "stdout"
        }
      ]
    },
    {
      "cell_type": "code",
      "metadata": {
        "colab": {
          "base_uri": "https://localhost:8080/"
        },
        "id": "cFQ6sdmSWj-b",
        "outputId": "50a6aa97-ff1a-44d9-ff13-e037e8f53d7a"
      },
      "source": [
        "# Stemmed\r\n",
        "\r\n",
        "# - before we do more analysis, lets see if we can do better \r\n",
        "# we are looking for perfect matches in the aliases which is not always possible\r\n",
        "\r\n",
        "print (aliases[preprocess('gan')])\r\n",
        "# print (aliases[preprocess('gans')]) # this won't find any match\r\n",
        "print (aliases[preprocess('generative adversarial networks')])\r\n",
        "# print (aliases[preprocess('generative adversarial network')]) # this won't find any match"
      ],
      "execution_count": 644,
      "outputs": [
        {
          "output_type": "stream",
          "text": [
            "generative-adversarial-networks\n",
            "generative-adversarial-networks\n"
          ],
          "name": "stdout"
        }
      ]
    },
    {
      "cell_type": "code",
      "metadata": {
        "colab": {
          "base_uri": "https://localhost:8080/"
        },
        "id": "8jK4nSk2Yioy",
        "outputId": "483d2763-30c1-4d66-fffd-3579852fe686"
      },
      "source": [
        "## We dont want to keep adding explicit rules but we can use stemming to represent different forms of a word uniformly \r\n",
        "\r\n",
        "print (porter.stem(\"democracy\"))\r\n",
        "print (porter.stem(\"democracies\"))"
      ],
      "execution_count": 645,
      "outputs": [
        {
          "output_type": "stream",
          "text": [
            "democraci\n",
            "democraci\n"
          ],
          "name": "stdout"
        }
      ]
    },
    {
      "cell_type": "code",
      "metadata": {
        "id": "PYVxlcl0ZqsB"
      },
      "source": [
        "# Lets also stem the aliases as well as the tokens in our inpu text and then look for matches \r\n",
        "\r\n",
        "# Get data splits\r\n",
        "\r\n",
        "preprocessed_df = df.copy()\r\n",
        "preprocessed_df.text = preprocessed_df.text.apply(preprocess, lower = True, stem = True)\r\n",
        "X_train, X_val, X_test, y_train, y_val, y_test, label_encoder = get_data_splits(preprocessed_df)"
      ],
      "execution_count": 646,
      "outputs": []
    },
    {
      "cell_type": "code",
      "metadata": {
        "colab": {
          "base_uri": "https://localhost:8080/"
        },
        "id": "E11F-NMUaWrV",
        "outputId": "c9aa5e59-40d2-40f5-a8da-3fecf52b801c"
      },
      "source": [
        "# Map aliases \r\n",
        "\r\n",
        "aliases = {}\r\n",
        "\r\n",
        "for tag, values in tags_dict.items():\r\n",
        "  aliases[preprocess(tag, stem = True)] = tag\r\n",
        "  for alias in values[\"aliases\"]:\r\n",
        "    aliases[preprocess(alias, stem = True)] = tag\r\n",
        "\r\n",
        "aliases"
      ],
      "execution_count": 647,
      "outputs": [
        {
          "output_type": "execute_result",
          "data": {
            "text/plain": [
              "{'ae': 'autoencoders',\n",
              " 'attent': 'attention',\n",
              " 'autoencod': 'autoencoders',\n",
              " 'cnn': 'convolutional-neural-networks',\n",
              " 'comput vision': 'computer-vision',\n",
              " 'convolut neural network': 'convolutional-neural-networks',\n",
              " 'cv': 'computer-vision',\n",
              " 'data augment': 'data-augmentation',\n",
              " 'embed': 'embeddings',\n",
              " 'flask': 'flask',\n",
              " 'gan': 'generative-adversarial-networks',\n",
              " 'gener adversari network': 'generative-adversarial-networks',\n",
              " 'gnn': 'graph-neural-networks',\n",
              " 'graph': 'graphs',\n",
              " 'graph neural network': 'graph-neural-networks',\n",
              " 'huggingfac': 'huggingface',\n",
              " 'imag classif': 'image-classification',\n",
              " 'imag segment': 'segmentation',\n",
              " 'interpret': 'interpretability',\n",
              " 'kera': 'keras',\n",
              " 'languag model': 'language-modeling',\n",
              " 'lm': 'language-modeling',\n",
              " 'natur languag process': 'natural-language-processing',\n",
              " 'nlp': 'natural-language-processing',\n",
              " 'nlproc': 'natural-language-processing',\n",
              " 'node classif': 'node-classification',\n",
              " 'object detect': 'object-detection',\n",
              " 'pre train': 'pretraining',\n",
              " 'pretrain': 'pretraining',\n",
              " 'product': 'production',\n",
              " 'pytorch': 'pytorch',\n",
              " 'qa': 'question-answering',\n",
              " 'question answer': 'question-answering',\n",
              " 'regress': 'regression',\n",
              " 'reinforc learn': 'reinforcement-learning',\n",
              " 'represent learn': 'representation-learning',\n",
              " 'rl': 'reinforcement-learning',\n",
              " 'scikit learn': 'scikit-learn',\n",
              " 'segment': 'segmentation',\n",
              " 'self supervis learn': 'self-supervised-learning',\n",
              " 'sklearn': 'scikit-learn',\n",
              " 'tensorflow': 'tensorflow',\n",
              " 'tensorflow js': 'tensorflow-js',\n",
              " 'tf': 'tensorflow',\n",
              " 'tf js': 'tensorflow-js',\n",
              " 'time seri': 'time-series',\n",
              " 'time seri analysi': 'time-series',\n",
              " 'transfer learn': 'transfer-learning',\n",
              " 'transform': 'transformers',\n",
              " 'unsupervis learn': 'unsupervised-learning',\n",
              " 'vision': 'computer-vision',\n",
              " 'wandb': 'wandb',\n",
              " 'weight bias': 'wandb'}"
            ]
          },
          "metadata": {
            "tags": []
          },
          "execution_count": 647
        }
      ]
    },
    {
      "cell_type": "code",
      "metadata": {
        "colab": {
          "base_uri": "https://localhost:8080/"
        },
        "id": "XY_8HWqCa-L9",
        "outputId": "90c5cc09-8e11-4a13-a0f0-82029cbe0fb2"
      },
      "source": [
        "# Checks (we will write proper tests soon)\r\n",
        "\r\n",
        "print (aliases[preprocess('gan', stem=True)])\r\n",
        "print (aliases[preprocess('gans', stem=True)])\r\n",
        "print (aliases[preprocess('generative adversarial network', stem=True)])\r\n",
        "print (aliases[preprocess('generative adversarial networks', stem=True)])"
      ],
      "execution_count": 648,
      "outputs": [
        {
          "output_type": "stream",
          "text": [
            "generative-adversarial-networks\n",
            "generative-adversarial-networks\n",
            "generative-adversarial-networks\n",
            "generative-adversarial-networks\n"
          ],
          "name": "stdout"
        }
      ]
    },
    {
      "cell_type": "code",
      "metadata": {
        "colab": {
          "base_uri": "https://localhost:8080/"
        },
        "id": "Ef3X6SMobJte",
        "outputId": "f3373f97-d67a-4efe-c3fb-965aa9b38e64"
      },
      "source": [
        "# Sample\r\n",
        "\r\n",
        "text = \"This project extends gans for data augmentation specifically for object detection tasks.\"\r\n",
        "get_classes(text=preprocess(text, stem=True), aliases=aliases, tags_dict=tags_dict)"
      ],
      "execution_count": 649,
      "outputs": [
        {
          "output_type": "execute_result",
          "data": {
            "text/plain": [
              "['object-detection',\n",
              " 'generative-adversarial-networks',\n",
              " 'computer-vision',\n",
              " 'data-augmentation']"
            ]
          },
          "metadata": {
            "tags": []
          },
          "execution_count": 649
        }
      ]
    },
    {
      "cell_type": "code",
      "metadata": {
        "id": "m5VCmKYzbOk2"
      },
      "source": [
        "# Prediction\r\n",
        "y_pred = []\r\n",
        "for text in X_test:\r\n",
        "    classes = get_classes(text, aliases, tags_dict)\r\n",
        "    y_pred.append(classes)"
      ],
      "execution_count": 650,
      "outputs": []
    },
    {
      "cell_type": "code",
      "metadata": {
        "id": "WS0m58f7bRW4"
      },
      "source": [
        "# Encode labels\r\n",
        "y_pred = label_encoder.encode(y_pred)"
      ],
      "execution_count": 651,
      "outputs": []
    },
    {
      "cell_type": "code",
      "metadata": {
        "colab": {
          "base_uri": "https://localhost:8080/"
        },
        "id": "bCk_59OGbTT7",
        "outputId": "a10fea3a-fb0e-4033-a99f-5fd7cae981da"
      },
      "source": [
        "# Evaluate \r\n",
        "\r\n",
        "performance = get_performance(y_true = y_test, y_pred = y_pred, classes = label_encoder.classes)\r\n",
        "\r\n",
        "print (json.dumps(performance['overall'], indent = 4))"
      ],
      "execution_count": 652,
      "outputs": [
        {
          "output_type": "stream",
          "text": [
            "{\n",
            "    \"precision\": 0.8283699157984872,\n",
            "    \"recall\": 0.5008459138555391,\n",
            "    \"f1\": 0.59510939619819,\n",
            "    \"num_samples\": 462.0\n",
            "}\n"
          ],
          "name": "stdout"
        }
      ]
    },
    {
      "cell_type": "code",
      "metadata": {
        "colab": {
          "base_uri": "https://localhost:8080/"
        },
        "id": "FKeG3XBxggBu",
        "outputId": "319325ec-ec58-47bd-e919-9b327a4b28c4"
      },
      "source": [
        "# Inspection \r\n",
        "\r\n",
        "tag = \"transformers\"\r\n",
        "\r\n",
        "print (json.dumps(performance[\"class\"][tag], indent = 2))"
      ],
      "execution_count": 653,
      "outputs": [
        {
          "output_type": "stream",
          "text": [
            "{\n",
            "  \"precision\": 0.9166666666666666,\n",
            "  \"recall\": 0.4230769230769231,\n",
            "  \"f1\": 0.5789473684210527,\n",
            "  \"num_samples\": 26.0\n",
            "}\n"
          ],
          "name": "stdout"
        }
      ]
    },
    {
      "cell_type": "code",
      "metadata": {
        "id": "8rIJ-Eq0hl9x"
      },
      "source": [
        "# True Positives, False Positives, False Negative Samples \r\n",
        "\r\n",
        "index = label_encoder.class_to_index[tag]\r\n",
        "\r\n",
        "tp, fp, fn = [], [], []\r\n",
        "for i in range(len(y_test)):\r\n",
        "  true = y_test[i][index]\r\n",
        "  pred = y_pred[i][index]\r\n",
        "\r\n",
        "  if true and pred:\r\n",
        "    tp.append(i)\r\n",
        "  elif not true and pred:\r\n",
        "      fp.append(i)\r\n",
        "  elif true and not pred:\r\n",
        "        fn.append(i)"
      ],
      "execution_count": 654,
      "outputs": []
    },
    {
      "cell_type": "code",
      "metadata": {
        "colab": {
          "base_uri": "https://localhost:8080/"
        },
        "id": "U_fN7-fHit0P",
        "outputId": "6d44680d-c88f-47d3-8c70-97966209fd38"
      },
      "source": [
        "print (tp)\r\n",
        "print (fp)\r\n",
        "print (fn)"
      ],
      "execution_count": 655,
      "outputs": [
        {
          "output_type": "stream",
          "text": [
            "[11, 27, 32, 50, 53, 79, 157, 165, 170, 196, 198]\n",
            "[101]\n",
            "[5, 10, 13, 16, 17, 20, 39, 46, 116, 121, 123, 132, 158, 161, 206]\n"
          ],
          "name": "stdout"
        }
      ]
    },
    {
      "cell_type": "code",
      "metadata": {
        "colab": {
          "base_uri": "https://localhost:8080/"
        },
        "id": "5OE5pabvi5gi",
        "outputId": "271baf6e-b1ac-412b-bfc9-55973d4e5605"
      },
      "source": [
        "index = tp[0]\r\n",
        "\r\n",
        "print (X_test[index])\r\n",
        "print (f\"true: {label_encoder.decode([y_test[index]])[0]}\")\r\n",
        "print (f\"pred: {label_encoder.decode([y_pred[index]])[0]}\\n\")"
      ],
      "execution_count": 656,
      "outputs": [
        {
          "output_type": "stream",
          "text": [
            "imag gpt gener pretrain pixel transform train pixel sequenc gener coher imag complet sampl\n",
            "true: ['computer-vision', 'convolutional-neural-networks', 'natural-language-processing', 'transformers', 'unsupervised-learning']\n",
            "pred: ['natural-language-processing', 'pretraining', 'transformers']\n",
            "\n"
          ],
          "name": "stdout"
        }
      ]
    },
    {
      "cell_type": "code",
      "metadata": {
        "id": "Q5JKlJcRoA2n"
      },
      "source": [
        "# Sorted tags\r\n",
        "\r\n",
        "sorted_tags_by_f1 = OrderedDict(sorted(\r\n",
        "    performance[\"class\"].items(), key = lambda tag:tag[1][\"f1\"], reverse = True))"
      ],
      "execution_count": 657,
      "outputs": []
    },
    {
      "cell_type": "code",
      "metadata": {
        "colab": {
          "base_uri": "https://localhost:8080/",
          "height": 635,
          "referenced_widgets": [
            "c2b7ca07755b419ebe97514c0b644b42",
            "b9a3223c868744f99f099f4101d7665e",
            "6c329101995f4e7c815dbddb70e2c00f",
            "dfd280f9250e48a5bd839888c7ac4cc1",
            "149965ffd1b546c2b4ffba3daca61711",
            "4c01217675144444aa744a8bd24538dd",
            "20bc8379fdb14d7f88e95d2cfb568f4b"
          ]
        },
        "id": "B01GdqOMjYWj",
        "outputId": "feffc5cb-7c7a-4065-e40a-0cc6ebb63906"
      },
      "source": [
        "@widgets.interact(tag = list(sorted_tags_by_f1.keys()))\r\n",
        "def display_tag_analysis(tag = \"transformers\"):\r\n",
        "\r\n",
        "  # Performance \r\n",
        "  print (json.dumps(performance[\"class\"][tag], indent = 2))\r\n",
        "\r\n",
        "  # TP, FP, FN samples \r\n",
        "  index = label_encoder.class_to_index[tag]\r\n",
        "  tp, fp, fn = [], [], []\r\n",
        "  for i in range(len(y_test)):\r\n",
        "    true = y_test[i][index]\r\n",
        "    pred = y_pred[i][index]\r\n",
        "    if true and pred:\r\n",
        "      tp.append(i)\r\n",
        "    elif not true and pred:\r\n",
        "      fp.append(i)\r\n",
        "    elif true and not pred:\r\n",
        "      fn.append(i)\r\n",
        "\r\n",
        "  # Samples\r\n",
        "  num_samples = 3\r\n",
        "  if len(tp):\r\n",
        "    print (\"\\n=== True positives ===\\n\")\r\n",
        "    for i in tp[:num_samples]:\r\n",
        "      print (f\" {X_test[i]}\")\r\n",
        "      print (f\" true: {label_encoder.decode([y_test[i]])[0]}\")\r\n",
        "      print (f\" pred: {label_encoder.decode([y_pred[i]])[0]}\\n\")\r\n",
        "  if len(fp):\r\n",
        "    print (\"=== False postives ===\\n\")\r\n",
        "    for i in fp[:num_samples]:\r\n",
        "      print (f\" {X_test[i]}\")\r\n",
        "      print (f\" true: {label_encoder.decode([y_test[i]])[0]}\")\r\n",
        "      print (f\" pred: {label_encoder.decode([y_pred[i]])[0]}\\n\")\r\n",
        "  if len(fn):\r\n",
        "    print (\"=== False negatives ===\\n\")\r\n",
        "    for i in fp[:num_samples]:\r\n",
        "      print (f\" {X_test[i]}\")\r\n",
        "      print (f\" true: {label_encoder.decode([y_test[i]])[0]}\")\r\n",
        "      print (f\" pred: {label_encoder.decode([y_pred[i]])[0]}\\n\")"
      ],
      "execution_count": 658,
      "outputs": [
        {
          "output_type": "display_data",
          "data": {
            "application/vnd.jupyter.widget-view+json": {
              "model_id": "c2b7ca07755b419ebe97514c0b644b42",
              "version_minor": 0,
              "version_major": 2
            },
            "text/plain": [
              "interactive(children=(Dropdown(description='tag', index=20, options=('language-modeling', 'autoencoders', 'tim…"
            ]
          },
          "metadata": {
            "tags": []
          }
        }
      ]
    },
    {
      "cell_type": "code",
      "metadata": {
        "id": "nC4ApG-en7On"
      },
      "source": [
        "## You can use false positives/negatives to discover potential errors in annotation\r\n",
        "# Though we achieved decent precision, the recall is quite low. This is because rule-based approaches can yield labels with high uncertainty when there is an absolute condition match but it fails to generalise or learn implicit patterns"
      ],
      "execution_count": 659,
      "outputs": []
    },
    {
      "cell_type": "code",
      "metadata": {
        "colab": {
          "base_uri": "https://localhost:8080/"
        },
        "id": "n7YoWg0zr9ia",
        "outputId": "632f79e5-20b8-44f5-b20a-83244d131555"
      },
      "source": [
        "# Inference \r\n",
        "\r\n",
        "# Infer\r\n",
        "text = \"Transfer learning with transformers for self-supervised learning\"\r\n",
        "print (preprocess(text, stem=True))\r\n",
        "get_classes(text=preprocess(text, stem=True), aliases=aliases, tags_dict=tags_dict)"
      ],
      "execution_count": 660,
      "outputs": [
        {
          "output_type": "stream",
          "text": [
            "transfer learn transform self supervis learn\n"
          ],
          "name": "stdout"
        },
        {
          "output_type": "execute_result",
          "data": {
            "text/plain": [
              "['self-supervised-learning',\n",
              " 'transfer-learning',\n",
              " 'transformers',\n",
              " 'natural-language-processing']"
            ]
          },
          "metadata": {
            "tags": []
          },
          "execution_count": 660
        }
      ]
    },
    {
      "cell_type": "code",
      "metadata": {
        "colab": {
          "base_uri": "https://localhost:8080/"
        },
        "id": "EyKoZQ8ur_xZ",
        "outputId": "939fa9fd-e0b4-4183-d452-60ca1fac2b70"
      },
      "source": [
        "# Replacing the word transformers with BERT, lets see what happens\r\n",
        "\r\n",
        "# Infer\r\n",
        "text = \"Transfer learning with BERT for self-supervised learning\"\r\n",
        "print (preprocess(text, stem=True))\r\n",
        "get_classes(text=preprocess(text, stem=True), aliases=aliases, tags_dict=tags_dict)"
      ],
      "execution_count": 661,
      "outputs": [
        {
          "output_type": "stream",
          "text": [
            "transfer learn bert self supervis learn\n"
          ],
          "name": "stdout"
        },
        {
          "output_type": "execute_result",
          "data": {
            "text/plain": [
              "['self-supervised-learning', 'transfer-learning']"
            ]
          },
          "metadata": {
            "tags": []
          },
          "execution_count": 661
        }
      ]
    },
    {
      "cell_type": "code",
      "metadata": {
        "id": "UPf698MRsO0u"
      },
      "source": [
        "#  Conclusion: we failed to generalize or learn any implicit patterns to predict the labels because we treat the tokens in our input as isolated entities."
      ],
      "execution_count": 662,
      "outputs": []
    },
    {
      "cell_type": "code",
      "metadata": {
        "id": "PGKgDqfPsf_E"
      },
      "source": [
        "# Simple ML\r\n",
        "\r\n",
        "# - We use \"term frequency inverse document  frequency (TF-IDF)\" to capture the significance of a token to a particular input with respect to all the inputs\r\n",
        "# - as opposed to treating the words in our text as isolated tokens. \r\n",
        "# - architecture: we want our model to meaningfully extract the encoded signal to predict the output labels\r\n",
        "\r\n",
        "# **so far, we've treated the words in our input text as isolated text and haven't really captured any meaning between tokens \r\n",
        "# **we can use TF-IDF to capture the significance of a token to a particular input with respect to all the inputs"
      ],
      "execution_count": 663,
      "outputs": []
    },
    {
      "cell_type": "code",
      "metadata": {
        "id": "VW7zW4YiunS5"
      },
      "source": [
        "from sklearn.ensemble import RandomForestClassifier\r\n",
        "from sklearn.ensemble import GradientBoostingClassifier\r\n",
        "from sklearn.linear_model import LogisticRegression\r\n",
        "from sklearn.multiclass import OneVsRestClassifier\r\n",
        "from sklearn.neighbors import KNeighborsClassifier\r\n",
        "from sklearn.svm import LinearSVC"
      ],
      "execution_count": 664,
      "outputs": []
    },
    {
      "cell_type": "code",
      "metadata": {
        "id": "3ibkNBmavHiz"
      },
      "source": [
        "from sklearn import metrics\r\n",
        "from sklearn.feature_extraction.text import TfidfVectorizer\r\n",
        "from sklearn.metrics import accuracy_score, precision_score, recall_score\r\n",
        "from sklearn.metrics import precision_recall_curve\r\n",
        "from sklearn.preprocessing import MultiLabelBinarizer"
      ],
      "execution_count": 665,
      "outputs": []
    },
    {
      "cell_type": "code",
      "metadata": {
        "id": "nNVVDnU4vc0k"
      },
      "source": [
        "# Set Seeds \r\n",
        "\r\n",
        "set_seeds()"
      ],
      "execution_count": 666,
      "outputs": []
    },
    {
      "cell_type": "code",
      "metadata": {
        "id": "DYwSHscMvf3r"
      },
      "source": [
        "# Get data splits \r\n",
        "\r\n",
        "preprocessed_df = df.copy()\r\n",
        "\r\n",
        "preprocessed_df.text = preprocessed_df.text.apply(preprocess, lower = True, stem = True)\r\n",
        "\r\n",
        "X_train, X_val, X_test, y_train, y_val, y_test, label_encoder = get_data_splits(preprocessed_df)"
      ],
      "execution_count": 667,
      "outputs": []
    },
    {
      "cell_type": "code",
      "metadata": {
        "colab": {
          "base_uri": "https://localhost:8080/"
        },
        "id": "Ni22V98wv_Qy",
        "outputId": "80cdecd8-ba76-436b-c553-a43c403b4ae0"
      },
      "source": [
        "# Tf-idf\r\n",
        "\r\n",
        "vectoriser = TfidfVectorizer()\r\n",
        "\r\n",
        "print (X_train[0])\r\n",
        "\r\n",
        "X_train = vectoriser.fit_transform(X_train)\r\n",
        "X_val = vectoriser.transform(X_val)\r\n",
        "X_test = vectoriser.transform(X_test)\r\n",
        "\r\n",
        "print (X_train.shape)\r\n",
        "print (X_train[0]) # scipy.sparse.csr_matrix"
      ],
      "execution_count": 668,
      "outputs": [
        {
          "output_type": "stream",
          "text": [
            "nba k mean extract nba statist basketbal refer com visualis detect trend pattern cluster top player use kmean\n",
            "(1008, 2686)\n",
            "  (0, 1327)\t0.2548151229887669\n",
            "  (0, 2555)\t0.09231126063924368\n",
            "  (0, 1805)\t0.2548151229887669\n",
            "  (0, 2445)\t0.2000132411116928\n",
            "  (0, 452)\t0.18391345410856824\n",
            "  (0, 1751)\t0.22890991284241932\n",
            "  (0, 2489)\t0.2440634893513339\n",
            "  (0, 692)\t0.13604070589446196\n",
            "  (0, 2590)\t0.2440634893513339\n",
            "  (0, 473)\t0.2440634893513339\n",
            "  (0, 1972)\t0.22314879043274358\n",
            "  (0, 271)\t0.2548151229887669\n",
            "  (0, 2263)\t0.22314879043274358\n",
            "  (0, 883)\t0.18583045472182116\n",
            "  (0, 1484)\t0.2181582792049863\n",
            "  (0, 1594)\t0.539937398995363\n"
          ],
          "name": "stdout"
        }
      ]
    },
    {
      "cell_type": "code",
      "metadata": {
        "id": "ZR0GVVn3w20i"
      },
      "source": [
        "# Fit and evaluate each model \r\n",
        "\r\n",
        "def fit_and_evaluate(model):\r\n",
        "\r\n",
        "  model.fit(X_train, y_train)\r\n",
        "  y_pred = model.predict(X_test)\r\n",
        "  performance = get_performance(\r\n",
        "      y_true = y_test, y_pred = y_pred, classes = list(label_encoder.classes))\r\n",
        "  return performance[\"overall\"]"
      ],
      "execution_count": 669,
      "outputs": []
    },
    {
      "cell_type": "code",
      "metadata": {
        "colab": {
          "base_uri": "https://localhost:8080/"
        },
        "id": "3oDzyrwIx4A8",
        "outputId": "f84cf9ae-be44-4832-fbb1-5c43318e32db"
      },
      "source": [
        "# Models\r\n",
        "\r\n",
        "performance = {}\r\n",
        "\r\n",
        "performance[\"logistic-regression\"] = fit_and_evaluate(OneVsRestClassifier(LogisticRegression(), n_jobs = 1))\r\n",
        "\r\n",
        "performance[\"k-nearest-neighbors\"] = fit_and_evaluate(KNeighborsClassifier())\r\n",
        "\r\n",
        "performance[\"random-forest\"] = fit_and_evaluate(RandomForestClassifier(n_jobs = -1))\r\n",
        "\r\n",
        "performance[\"gradient-boosting-machine\"] = fit_and_evaluate(OneVsRestClassifier(GradientBoostingClassifier()))\r\n",
        "\r\n",
        "performance[\"support-vector-machine\"] = fit_and_evaluate(OneVsRestClassifier(LinearSVC(), n_jobs = -1))\r\n",
        "\r\n",
        "print (json.dumps(performance, indent = 2))"
      ],
      "execution_count": 670,
      "outputs": [
        {
          "output_type": "stream",
          "text": [
            "{\n",
            "  \"logistic-regression\": {\n",
            "    \"precision\": 0.3991071428571429,\n",
            "    \"recall\": 0.09221150155263455,\n",
            "    \"f1\": 0.1397647298399178,\n",
            "    \"num_samples\": 488.0\n",
            "  },\n",
            "  \"k-nearest-neighbors\": {\n",
            "    \"precision\": 0.8766684089903904,\n",
            "    \"recall\": 0.41742673172476125,\n",
            "    \"f1\": 0.5265465633014413,\n",
            "    \"num_samples\": 488.0\n",
            "  },\n",
            "  \"random-forest\": {\n",
            "    \"precision\": 0.60406162464986,\n",
            "    \"recall\": 0.25974057073195,\n",
            "    \"f1\": 0.34780100361897237,\n",
            "    \"num_samples\": 488.0\n",
            "  },\n",
            "  \"gradient-boosting-machine\": {\n",
            "    \"precision\": 0.7483245407449043,\n",
            "    \"recall\": 0.5672583908975535,\n",
            "    \"f1\": 0.6217154732412604,\n",
            "    \"num_samples\": 488.0\n",
            "  },\n",
            "  \"support-vector-machine\": {\n",
            "    \"precision\": 0.8806074481074481,\n",
            "    \"recall\": 0.46613724808306084,\n",
            "    \"f1\": 0.5828467964004358,\n",
            "    \"num_samples\": 488.0\n",
            "  }\n",
            "}\n"
          ],
          "name": "stdout"
        }
      ]
    },
    {
      "cell_type": "code",
      "metadata": {
        "id": "FHsyCeIKy91V"
      },
      "source": [
        "# Limitations \r\n",
        "\r\n",
        "# - representations - tfidf reps dont captuer much signal beyond frequency and we require more fine grained token reps\r\n",
        "# - architecture - we want to develop model that can use better represented encodings in a more contextual manner "
      ],
      "execution_count": 671,
      "outputs": []
    },
    {
      "cell_type": "code",
      "metadata": {
        "id": "CNXhRq_r02zS"
      },
      "source": [
        "# CNN w/ Embeddings \r\n",
        "\r\n",
        "# *rep: we need to have more robust (split tokens to chars) and meaningful embeddings reps for the input token\r\n",
        "# *archi: we will process the encoded inputs using convolutions(CNN) filters that can learn to analyse windows of embeddded tokens to extract meaningful signal\r\n",
        "\r\n",
        "# Set up\r\n",
        "\r\n",
        "import math\r\n",
        "import torch\r\n",
        "import torch.nn as nn\r\n",
        "import torch.nn.functional as F"
      ],
      "execution_count": 672,
      "outputs": []
    },
    {
      "cell_type": "code",
      "metadata": {
        "id": "n4KrXAmy15WW"
      },
      "source": [
        "# Set seeds \r\n",
        "\r\n",
        "set_seeds()"
      ],
      "execution_count": 673,
      "outputs": []
    },
    {
      "cell_type": "code",
      "metadata": {
        "id": "KFd2j32M18tY"
      },
      "source": [
        "# Get data splits\r\n",
        "\r\n",
        "preprocessed_df = df.copy()\r\n",
        "preprocessed_df.text = preprocessed_df.text.apply(preprocess, lower=True)\r\n",
        "X_train, X_val, X_test, y_train, y_val, y_test, label_encoder = get_data_splits(preprocessed_df)\r\n",
        "X_test_raw = X_test"
      ],
      "execution_count": 674,
      "outputs": []
    },
    {
      "cell_type": "code",
      "metadata": {
        "colab": {
          "base_uri": "https://localhost:8080/"
        },
        "id": "59mpRaCu1_7E",
        "outputId": "f3445b7c-2f6d-49ab-c0db-71a90b1cd5c7"
      },
      "source": [
        "# Set device\r\n",
        "\r\n",
        "cuda = True\r\n",
        "device = torch.device('cuda' if (\r\n",
        "    torch.cuda.is_available() and cuda) else 'cpu')\r\n",
        "torch.set_default_tensor_type('torch.FloatTensor')\r\n",
        "if device.type == 'cuda':\r\n",
        "    torch.set_default_tensor_type('torch.cuda.FloatTensor')\r\n",
        "print (device)"
      ],
      "execution_count": 675,
      "outputs": [
        {
          "output_type": "stream",
          "text": [
            "cpu\n"
          ],
          "name": "stdout"
        }
      ]
    },
    {
      "cell_type": "code",
      "metadata": {
        "id": "qIgD-O5a2CXh"
      },
      "source": [
        "# Tokenizer \r\n",
        "\r\n",
        "# - we will tokenise our input text as char tokens so we can be robust to spelling errors and learn to generalise across tags\r\n",
        "# e.g learning that RoBERTa or any other future BERT based archi will use the same tags as BERT**"
      ],
      "execution_count": 676,
      "outputs": []
    },
    {
      "cell_type": "code",
      "metadata": {
        "id": "yYstPzdK2inP"
      },
      "source": [
        "class Tokeniser(object):\r\n",
        "  def __init__(self, char_level, num_tokens = None, pad_token = '<PAD>', oov_token = '<UNK>', token_to_index = None):\r\n",
        "\r\n",
        "    self.char_level = char_level\r\n",
        "    self.separator = '' if self.char_level else ' '\r\n",
        "    if num_tokens: num_tokens -= 2 # pad + unk tokens\r\n",
        "    self.num_tokens = num_tokens\r\n",
        "    self.oov_token = oov_token\r\n",
        "    if not token_to_index:\r\n",
        "      token_to_index = {'<PAD>': 0, '<UNK>': 1}\r\n",
        "    self.token_to_index = token_to_index\r\n",
        "    self.index_to_token = {v: k for k, v in self.token_to_index.items()}\r\n",
        "\r\n",
        "  def __len__(self):\r\n",
        "    return len(self.token_to_index)   \r\n",
        "\r\n",
        "  def __str__(self):\r\n",
        "    return f\"<Tokeniser(num_tokens = {len(self)})>\"\r\n",
        "\r\n",
        "  def fit_on_texts(self, texts):\r\n",
        "    if self.char_level:\r\n",
        "      all_tokens = [token for text in texts for token in text]\r\n",
        "    if not self.char_level:\r\n",
        "      all_tokens = [token for text in texts for token in text.split(' ')]\r\n",
        "    counts = Counter(all_tokens).most_common(self.num_tokens)\r\n",
        "    self.min_token_freq = counts[-1][1]\r\n",
        "    for token, count in counts:\r\n",
        "      index = len(self)\r\n",
        "      self.token_to_index[token] = index\r\n",
        "      self.index_to_token[index] = token\r\n",
        "    return self\r\n",
        "\r\n",
        "  def texts_to_sequences(self, texts):\r\n",
        "    sequences = []\r\n",
        "    for text in texts:\r\n",
        "      if not self.char_level:\r\n",
        "        text = text.split(' ')\r\n",
        "      sequence = []\r\n",
        "      for token in text:\r\n",
        "        sequence.append(self.token_to_index.get(token, self.token_to_index[self.oov_token]))\r\n",
        "      sequences.append(np.asarray(sequence))\r\n",
        "    return sequences\r\n",
        "\r\n",
        "  def sequences_to_texts(self, sequences):\r\n",
        "    texts = []\r\n",
        "    for sequence in sequences:\r\n",
        "      text = []\r\n",
        "      for index in sequence:\r\n",
        "        text.append(self.index_to_token.get(index, self.oov_token))\r\n",
        "      texts.append(self.separator.join([token for token in text]))\r\n",
        "    return texts\r\n",
        "\r\n",
        "  def save(self, fp):\r\n",
        "    with open(fp, 'w') as fp:\r\n",
        "      contents = {\r\n",
        "          'char_level': self.char_level,\r\n",
        "          'oov_token': self.oov_token,\r\n",
        "          'token_to_index': self.token_to_index\r\n",
        "      }\r\n",
        "      json.dump(contents, fp, indent = 4, sort_keys = False)\r\n",
        "  \r\n",
        "  @classmethod\r\n",
        "  def load(cls, fp):\r\n",
        "    with open(fp, 'r') as fp:\r\n",
        "      kwargs = json.load(fp = fp)\r\n",
        "    return cls(**kwargs)\r\n",
        "    "
      ],
      "execution_count": 677,
      "outputs": []
    },
    {
      "cell_type": "code",
      "metadata": {
        "colab": {
          "base_uri": "https://localhost:8080/"
        },
        "id": "lfTsQm7X8BrS",
        "outputId": "30241a8e-00e8-4a73-a1fd-6842a3c17bc6"
      },
      "source": [
        "# Tokenise \r\n",
        "\r\n",
        "char_level = True\r\n",
        "tokeniser = Tokeniser(char_level = char_level)\r\n",
        "tokeniser.fit_on_texts(texts = X_train)\r\n",
        "vocab_size = len(tokeniser)\r\n",
        "\r\n",
        "print (tokeniser)"
      ],
      "execution_count": 678,
      "outputs": [
        {
          "output_type": "stream",
          "text": [
            "<Tokeniser(num_tokens = 39)>\n"
          ],
          "name": "stdout"
        }
      ]
    },
    {
      "cell_type": "code",
      "metadata": {
        "colab": {
          "base_uri": "https://localhost:8080/"
        },
        "id": "Y_4THlNi8jgs",
        "outputId": "cad9780c-f6b6-46a0-f9ce-f6fe31e435f1"
      },
      "source": [
        "tokeniser.token_to_index"
      ],
      "execution_count": 679,
      "outputs": [
        {
          "output_type": "execute_result",
          "data": {
            "text/plain": [
              "{' ': 2,\n",
              " '0': 29,\n",
              " '1': 31,\n",
              " '2': 26,\n",
              " '3': 32,\n",
              " '4': 36,\n",
              " '5': 34,\n",
              " '6': 38,\n",
              " '7': 37,\n",
              " '8': 35,\n",
              " '9': 33,\n",
              " '<PAD>': 0,\n",
              " '<UNK>': 1,\n",
              " 'a': 7,\n",
              " 'b': 20,\n",
              " 'c': 12,\n",
              " 'd': 13,\n",
              " 'e': 3,\n",
              " 'f': 19,\n",
              " 'g': 15,\n",
              " 'h': 18,\n",
              " 'i': 4,\n",
              " 'j': 27,\n",
              " 'k': 24,\n",
              " 'l': 11,\n",
              " 'm': 16,\n",
              " 'n': 5,\n",
              " 'o': 10,\n",
              " 'p': 14,\n",
              " 'q': 30,\n",
              " 'r': 8,\n",
              " 's': 9,\n",
              " 't': 6,\n",
              " 'u': 17,\n",
              " 'v': 21,\n",
              " 'w': 23,\n",
              " 'x': 25,\n",
              " 'y': 22,\n",
              " 'z': 28}"
            ]
          },
          "metadata": {
            "tags": []
          },
          "execution_count": 679
        }
      ]
    },
    {
      "cell_type": "code",
      "metadata": {
        "colab": {
          "base_uri": "https://localhost:8080/"
        },
        "id": "FFPsN8dK8pOz",
        "outputId": "cde8c35d-4dee-4d52-8ca4-a3c9f8bab587"
      },
      "source": [
        "# Convert texts to sequences of indices \r\n",
        "\r\n",
        "X_train = np.array(tokeniser.texts_to_sequences(X_train))\r\n",
        "X_val = np.array(tokeniser.texts_to_sequences(X_val))\r\n",
        "X_test = np.array(tokeniser.texts_to_sequences(X_test))\r\n",
        "\r\n",
        "preprocessed_text = tokeniser.sequences_to_texts([X_train[0]])[0]\r\n",
        "\r\n",
        "print (\"Text to indices: \\n\"\r\n",
        "f\" (preprocessed) -> {preprocessed_text}\\n\"\r\n",
        "f\" (tokenised) -> {X_train[0]}\")"
      ],
      "execution_count": 680,
      "outputs": [
        {
          "output_type": "stream",
          "text": [
            "Text to indices: \n",
            " (preprocessed) -> nba k means extraction nba statistics basketball reference com visualise detect trends patterns clustering top players using kmeans\n",
            " (tokenised) -> [ 5 20  7  2 24  2 16  3  7  5  9  2  3 25  6  8  7 12  6  4 10  5  2  5\n",
            " 20  7  2  9  6  7  6  4  9  6  4 12  9  2 20  7  9 24  3  6 20  7 11 11\n",
            "  2  8  3 19  3  8  3  5 12  3  2 12 10 16  2 21  4  9 17  7 11  4  9  3\n",
            "  2 13  3  6  3 12  6  2  6  8  3  5 13  9  2 14  7  6  6  3  8  5  9  2\n",
            " 12 11 17  9  6  3  8  4  5 15  2  6 10 14  2 14 11  7 22  3  8  9  2 17\n",
            "  9  4  5 15  2 24 16  3  7  5  9]\n"
          ],
          "name": "stdout"
        }
      ]
    },
    {
      "cell_type": "code",
      "metadata": {
        "colab": {
          "base_uri": "https://localhost:8080/"
        },
        "id": "UYvNDGI59lJx",
        "outputId": "92a9d22d-d5bd-40e0-90b5-6c170921aaed"
      },
      "source": [
        "# Data imbalance\r\n",
        "\r\n",
        "# - we'll factor in class weights in our objective function (binary cross entropy with logits) to help with class imbalance \r\n",
        "\r\n",
        "# #Other techniques include oversampling from underrepresented classes, undersampling\r\n",
        "\r\n",
        "# Class weights \r\n",
        "\r\n",
        "counts = np.bincount([label_encoder.class_to_index[class_] for class_ in all_tags])\r\n",
        "\r\n",
        "class_weights = {i: 1.0/count for i, count in enumerate(counts)}\r\n",
        "\r\n",
        "print (f\"class counts: {counts}, \\nclass weights: {class_weights}\")"
      ],
      "execution_count": 681,
      "outputs": [
        {
          "output_type": "stream",
          "text": [
            "class counts: [120  41 388 106  41  75  34  73  51  78  64  51  55  93  51 429  33  69\n",
            "  30  51 258  32  49  59  57  60  48  40 213  40  34  46 196  39  39], \n",
            "class weights: {0: 0.008333333333333333, 1: 0.024390243902439025, 2: 0.002577319587628866, 3: 0.009433962264150943, 4: 0.024390243902439025, 5: 0.013333333333333334, 6: 0.029411764705882353, 7: 0.0136986301369863, 8: 0.0196078431372549, 9: 0.01282051282051282, 10: 0.015625, 11: 0.0196078431372549, 12: 0.01818181818181818, 13: 0.010752688172043012, 14: 0.0196078431372549, 15: 0.002331002331002331, 16: 0.030303030303030304, 17: 0.014492753623188406, 18: 0.03333333333333333, 19: 0.0196078431372549, 20: 0.003875968992248062, 21: 0.03125, 22: 0.02040816326530612, 23: 0.01694915254237288, 24: 0.017543859649122806, 25: 0.016666666666666666, 26: 0.020833333333333332, 27: 0.025, 28: 0.004694835680751174, 29: 0.025, 30: 0.029411764705882353, 31: 0.021739130434782608, 32: 0.00510204081632653, 33: 0.02564102564102564, 34: 0.02564102564102564}\n"
          ],
          "name": "stdout"
        }
      ]
    },
    {
      "cell_type": "code",
      "metadata": {
        "id": "Gzp_HeQKAh4q"
      },
      "source": [
        "# Datasets \r\n",
        "\r\n",
        "# we will place the dataset into a dataset class and use a dataloader t efficiently create batches for training and evaluation"
      ],
      "execution_count": 682,
      "outputs": []
    },
    {
      "cell_type": "code",
      "metadata": {
        "id": "dfZmT9nCA0Y1"
      },
      "source": [
        "# Pad sequences to max length in sequence\r\n",
        "\r\n",
        "def pad_sequences(sequences, max_seq_len = 0):\r\n",
        "  max_seq_len = max(max_seq_len, max(len(sequence) for sequence in sequences))\r\n",
        "  padded_sequences = np.zeros((len(sequences), max_seq_len))\r\n",
        "  for i, sequence in enumerate(sequences):\r\n",
        "    padded_sequences[i][:len(sequence)] = sequence\r\n",
        "  return padded_sequences\r\n"
      ],
      "execution_count": 683,
      "outputs": []
    },
    {
      "cell_type": "code",
      "metadata": {
        "id": "zBBZwqvEBhBm"
      },
      "source": [
        "\r\n",
        "class CNNTextDataset(torch.utils.data.Dataset):\r\n",
        "  def __init__(self, X, y, max_filter_size):\r\n",
        "    self.X = X\r\n",
        "    self.y = y\r\n",
        "    self.max_filter_size = max_filter_size\r\n",
        "\r\n",
        "  def __len__(self):\r\n",
        "    return len(self.y)\r\n",
        "\r\n",
        "  def __str__(self):\r\n",
        "    return f\"<Dataset(N = {len(self)})>\"\r\n",
        "\r\n",
        "  def __getitem__(self, index):\r\n",
        "    X = self.X[index]\r\n",
        "    y = self.y[index]\r\n",
        "    return [X, y]\r\n",
        "\r\n",
        "  def collate_fn(self, batch):\r\n",
        "    \"\"\"Processing on a batch.\"\"\"\r\n",
        "\r\n",
        "    # Get inputs \r\n",
        "    X = np.array(batch, dtype = object)[:, 0]\r\n",
        "    y = np.stack(np.array(batch, dtype = object)[:, 1], axis = 0)\r\n",
        "\r\n",
        "    # Pad inputs \r\n",
        "    X = pad_sequences(sequences = X, max_seq_len = self.max_filter_size)\r\n",
        "\r\n",
        "    # Cast\r\n",
        "    X = torch.LongTensor(X.astype(np.int32))\r\n",
        "    y = torch.FloatTensor(y.astype(np.int32))\r\n",
        "\r\n",
        "    return X, y\r\n",
        "\r\n",
        "  def create_dataloader(self, batch_size, shuffle = False, drop_last = False):\r\n",
        "    return torch.utils.data.DataLoader(\r\n",
        "        dataset = self, \r\n",
        "        batch_size = batch_size, \r\n",
        "        collate_fn = self.collate_fn, \r\n",
        "        shuffle = shuffle, \r\n",
        "        drop_last = drop_last, \r\n",
        "        pin_memory = True)"
      ],
      "execution_count": 684,
      "outputs": []
    },
    {
      "cell_type": "code",
      "metadata": {
        "colab": {
          "base_uri": "https://localhost:8080/"
        },
        "id": "qoxaLXQAEmXf",
        "outputId": "cfd6524d-47ec-49df-e54b-ba85e9cd76a0"
      },
      "source": [
        "# Create datasets\r\n",
        "\r\n",
        "filter_sizes = list(range(1, 11))\r\n",
        "\r\n",
        "train_dataset = CNNTextDataset(X = X_train, y = y_train, max_filter_size = max(filter_sizes))\r\n",
        "\r\n",
        "val_dataset = CNNTextDataset(X = X_val, y = y_val, max_filter_size = max(filter_sizes))\r\n",
        "\r\n",
        "test_dataset = CNNTextDataset(X = X_test, y = y_test, max_filter_size = max(filter_sizes))\r\n",
        "\r\n",
        "print (\"Data splits: \\n\"\r\n",
        "     f\" Train dataset: {train_dataset.__str__()}\\n\"\r\n",
        "     f\" Val dataset: {val_dataset.__str__()}\\n\"\r\n",
        "     f\" Test dataset: {test_dataset.__str__()}\\n\"\r\n",
        "     \"Sample point: \\n\"\r\n",
        "     f\" X: {train_dataset[0][0]}\\n\"\r\n",
        "     f\" y: {train_dataset[0][1]}\")"
      ],
      "execution_count": 685,
      "outputs": [
        {
          "output_type": "stream",
          "text": [
            "Data splits: \n",
            " Train dataset: <Dataset(N = 1008)>\n",
            " Val dataset: <Dataset(N = 213)>\n",
            " Test dataset: <Dataset(N = 223)>\n",
            "Sample point: \n",
            " X: [ 5 20  7  2 24  2 16  3  7  5  9  2  3 25  6  8  7 12  6  4 10  5  2  5\n",
            " 20  7  2  9  6  7  6  4  9  6  4 12  9  2 20  7  9 24  3  6 20  7 11 11\n",
            "  2  8  3 19  3  8  3  5 12  3  2 12 10 16  2 21  4  9 17  7 11  4  9  3\n",
            "  2 13  3  6  3 12  6  2  6  8  3  5 13  9  2 14  7  6  6  3  8  5  9  2\n",
            " 12 11 17  9  6  3  8  4  5 15  2  6 10 14  2 14 11  7 22  3  8  9  2 17\n",
            "  9  4  5 15  2 24 16  3  7  5  9]\n",
            " y: [0 0 0 0 0 0 0 0 0 0 0 0 0 0 0 0 0 0 0 0 0 0 0 0 0 1 0 0 0 0 0 0 0 0 0]\n"
          ],
          "name": "stdout"
        }
      ]
    },
    {
      "cell_type": "code",
      "metadata": {
        "colab": {
          "base_uri": "https://localhost:8080/"
        },
        "id": "BqRjk9QyGGgA",
        "outputId": "2f5ae84f-1cae-499b-d32c-bfc34bab1665"
      },
      "source": [
        "# Create dataloaders \r\n",
        "\r\n",
        "batch_size = 64\r\n",
        "\r\n",
        "train_dataloader = train_dataset.create_dataloader(batch_size = batch_size)\r\n",
        "\r\n",
        "val_dataloader = val_dataset.create_dataloader(batch_size = batch_size)\r\n",
        "\r\n",
        "test_dataloader = test_dataset.create_dataloader(batch_size = batch_size)\r\n",
        "\r\n",
        "batch_X, batch_y = next(iter(train_dataloader))\r\n",
        "\r\n",
        "print (\"Sample batch: \\n\"\r\n",
        "     f\" X: {list(batch_X.size())}\\n\"\r\n",
        "     f\" y: {list(batch_y.size())}\")"
      ],
      "execution_count": 686,
      "outputs": [
        {
          "output_type": "stream",
          "text": [
            "Sample batch: \n",
            " X: [64, 176]\n",
            " y: [64, 35]\n"
          ],
          "name": "stdout"
        }
      ]
    },
    {
      "cell_type": "code",
      "metadata": {
        "colab": {
          "base_uri": "https://localhost:8080/",
          "height": 107
        },
        "id": "5bB2xlhPHM7w",
        "outputId": "3e2cf7fc-7bb0-45d7-cb12-9bea45c2039c"
      },
      "source": [
        "# Model \r\n",
        "\r\n",
        "# - we'll be using a CNN on top of the embedded tokens to extract meaningful spatial signal\r\n",
        "# - we'll use many filter widths to act as n-gram feature extractors\r\n",
        "\"\"\"\r\n",
        "Let's visualize the model's forward pass.\r\n",
        "\r\n",
        "We'll first tokenize our inputs (batch_size, max_seq_len).\r\n",
        "Then we'll embed our tokenized inputs (batch_size, max_seq_len, embedding_dim).\r\n",
        "We'll apply convolution via filters (filter_size, vocab_size, num_filters) followed by batch normalization. Our filters act as character level n-gram detecors. We have three different filter sizes (2, 3 and 4) and they will act as bi-gram, tri-gram and 4-gram feature extractors, respectivelyy.\r\n",
        "We'll apply 1D global max pooling which will extract the most relevant information from the feature maps for making the decision.\r\n",
        "We feed the pool outputs to a fully-connected (FC) layer (with dropout).\r\n",
        "We use one more FC layer with softmax to derive class probabilities.\r\n",
        "\r\n",
        "\"\"\"\r\n"
      ],
      "execution_count": 687,
      "outputs": [
        {
          "output_type": "execute_result",
          "data": {
            "application/vnd.google.colaboratory.intrinsic+json": {
              "type": "string"
            },
            "text/plain": [
              "\"\\nLet's visualize the model's forward pass.\\n\\nWe'll first tokenize our inputs (batch_size, max_seq_len).\\nThen we'll embed our tokenized inputs (batch_size, max_seq_len, embedding_dim).\\nWe'll apply convolution via filters (filter_size, vocab_size, num_filters) followed by batch normalization. Our filters act as character level n-gram detecors. We have three different filter sizes (2, 3 and 4) and they will act as bi-gram, tri-gram and 4-gram feature extractors, respectivelyy.\\nWe'll apply 1D global max pooling which will extract the most relevant information from the feature maps for making the decision.\\nWe feed the pool outputs to a fully-connected (FC) layer (with dropout).\\nWe use one more FC layer with softmax to derive class probabilities.\\n\\n\""
            ]
          },
          "metadata": {
            "tags": []
          },
          "execution_count": 687
        }
      ]
    },
    {
      "cell_type": "code",
      "metadata": {
        "id": "jCkkspPSN3t6"
      },
      "source": [
        "# Arguments \r\n",
        "\r\n",
        "embedding_dim = 128\r\n",
        "num_filters = 128\r\n",
        "hidden_dim = 128\r\n",
        "dropout_p = 0.5"
      ],
      "execution_count": 688,
      "outputs": []
    },
    {
      "cell_type": "code",
      "metadata": {
        "id": "g_aDTsyUOD_G"
      },
      "source": [
        "class CNN(nn.Module):\r\n",
        "  def __init__(self, embedding_dim, vocab_size, num_filters, filter_sizes,\r\n",
        "               hidden_dim, dropout_p, num_classes, padding_idx = 0):\r\n",
        "    \r\n",
        "    super(CNN, self).__init__()\r\n",
        "\r\n",
        "    # Initialise embeddings \r\n",
        "    self.embeddings = nn.Embedding(\r\n",
        "        embedding_dim = embedding_dim, num_embeddings = vocab_size,\r\n",
        "        padding_idx = padding_idx)\r\n",
        "    \r\n",
        "    # Conv weights \r\n",
        "    self.filter_sizes = filter_sizes\r\n",
        "    self.conv = nn.ModuleList(\r\n",
        "        [nn.Conv1d(in_channels = embedding_dim,\r\n",
        "                   out_channels = num_filters, \r\n",
        "                   kernel_size = f) for f in filter_sizes])\r\n",
        "    \r\n",
        "    # Fully connected weights \r\n",
        "    self.dropout = nn.Dropout(dropout_p)\r\n",
        "    self.fc1 = nn.Linear(num_filters * len(filter_sizes), hidden_dim)\r\n",
        "    self.fc2 = nn.Linear(hidden_dim, num_classes)\r\n",
        "\r\n",
        "  def forward(self, inputs, channel_first = False):\r\n",
        "\r\n",
        "    # Embed\r\n",
        "    x_in, = inputs\r\n",
        "    x_in = self.embeddings(x_in)\r\n",
        "    if not channel_first:\r\n",
        "      x_in = x_in.transpose(1, 2) # (N, channels, sequence length)\r\n",
        "\r\n",
        "    z = []\r\n",
        "    max_seq_len = x_in.shape[2]\r\n",
        "    for i, f in enumerate(self.filter_sizes):\r\n",
        "\r\n",
        "      # SAME padding \r\n",
        "      padding_left = int((self.conv[i].stride[0] * (max_seq_len -1) - max_seq_len + self.filter_sizes[i]) / 2)\r\n",
        "      padding_right = int(math.ceil(self.conv[i].stride[0] * (max_seq_len) - max_seq_len + self.filter_sizes[i]) / 2)\r\n",
        "\r\n",
        "      # Conv\r\n",
        "      _z = self.conv[i](F.pad(x_in, (padding_left, padding_right)))\r\n",
        "\r\n",
        "      # Pool\r\n",
        "      _z = F.max_pool1d(_z, _z.size(2)).squeeze(2)\r\n",
        "      z.append(_z)\r\n",
        "\r\n",
        "    # Concat outputs \r\n",
        "    z = torch.cat(z, 1)\r\n",
        "\r\n",
        "    # Fully connected \r\n",
        "    z = self.fc1(z)\r\n",
        "    z = self.dropout(z)\r\n",
        "    z = self.fc2(z)\r\n",
        "\r\n",
        "    return z"
      ],
      "execution_count": 689,
      "outputs": []
    },
    {
      "cell_type": "code",
      "metadata": {
        "id": "8WXwHc_YRRAA"
      },
      "source": [
        "# Valid - no padding: the filters only use the valid values in the input. it the filters cannot reach all the input values, the extra values are dropped \r\n",
        "\r\n",
        "# SAME - adds padding evenlyto the right(preferred choice) and left sides of the input so that all the values in the input are processed\r\n",
        "\r\n",
        "# for this case, we are using the SAME padding so that the convolutional outputs are the same as out inputs"
      ],
      "execution_count": 690,
      "outputs": []
    },
    {
      "cell_type": "code",
      "metadata": {
        "colab": {
          "base_uri": "https://localhost:8080/"
        },
        "id": "f__9D7Zrb5zi",
        "outputId": "7c0e62e6-a077-4907-a7e5-22bd230784e4"
      },
      "source": [
        "# Initialise model \r\n",
        "\r\n",
        "model = CNN(embedding_dim = embedding_dim, vocab_size = vocab_size, \r\n",
        "            num_filters = num_filters, filter_sizes = filter_sizes, \r\n",
        "            hidden_dim = hidden_dim, dropout_p = dropout_p, num_classes = num_classes)\r\n",
        "model = model.to(device)\r\n",
        "\r\n",
        "print (model.named_parameters)"
      ],
      "execution_count": 691,
      "outputs": [
        {
          "output_type": "stream",
          "text": [
            "<bound method Module.named_parameters of CNN(\n",
            "  (embeddings): Embedding(39, 128, padding_idx=0)\n",
            "  (conv): ModuleList(\n",
            "    (0): Conv1d(128, 128, kernel_size=(1,), stride=(1,))\n",
            "    (1): Conv1d(128, 128, kernel_size=(2,), stride=(1,))\n",
            "    (2): Conv1d(128, 128, kernel_size=(3,), stride=(1,))\n",
            "    (3): Conv1d(128, 128, kernel_size=(4,), stride=(1,))\n",
            "    (4): Conv1d(128, 128, kernel_size=(5,), stride=(1,))\n",
            "    (5): Conv1d(128, 128, kernel_size=(6,), stride=(1,))\n",
            "    (6): Conv1d(128, 128, kernel_size=(7,), stride=(1,))\n",
            "    (7): Conv1d(128, 128, kernel_size=(8,), stride=(1,))\n",
            "    (8): Conv1d(128, 128, kernel_size=(9,), stride=(1,))\n",
            "    (9): Conv1d(128, 128, kernel_size=(10,), stride=(1,))\n",
            "  )\n",
            "  (dropout): Dropout(p=0.5, inplace=False)\n",
            "  (fc1): Linear(in_features=1280, out_features=128, bias=True)\n",
            "  (fc2): Linear(in_features=128, out_features=35, bias=True)\n",
            ")>\n"
          ],
          "name": "stdout"
        }
      ]
    },
    {
      "cell_type": "code",
      "metadata": {
        "id": "3JNf041fcXUw"
      },
      "source": [
        "# Training \r\n",
        "\r\n",
        "# Arguments \r\n",
        "\r\n",
        "lr = 2e-4\r\n",
        "num_epochs = 200\r\n",
        "patience = 10"
      ],
      "execution_count": 692,
      "outputs": []
    },
    {
      "cell_type": "code",
      "metadata": {
        "id": "vMVRxCpagUTz"
      },
      "source": [
        "# Define loss \r\n",
        "class_weights_tensor = torch.Tensor(np.array(list(class_weights.values())))\r\n",
        "\r\n",
        "loss = nn.BCEWithLogitsLoss(weight = class_weights_tensor)"
      ],
      "execution_count": 693,
      "outputs": []
    },
    {
      "cell_type": "code",
      "metadata": {
        "id": "LR6efH3MgoXi"
      },
      "source": [
        "# Define optimiser and scheduler \r\n",
        "\r\n",
        "optimiser = torch.optim.Adam(model.parameters(), lr = lr)\r\n",
        "\r\n",
        "scheduler = torch.optim.lr_scheduler.ReduceLROnPlateau(optimiser, mode = \"min\", factor = 0.1, patience = 5)"
      ],
      "execution_count": 694,
      "outputs": []
    },
    {
      "cell_type": "code",
      "metadata": {
        "id": "vnIk5lmAhBzW"
      },
      "source": [
        "# Trainer module \r\n",
        "\r\n",
        "trainer = Trainer(model = model, device = device, loss = loss, optimiser = optimiser, scheduler = scheduler)"
      ],
      "execution_count": 695,
      "outputs": []
    },
    {
      "cell_type": "code",
      "metadata": {
        "colab": {
          "base_uri": "https://localhost:8080/"
        },
        "id": "6diQdzFohT2e",
        "outputId": "5fd12c7a-8ce2-4792-faf0-98b4f1cfe472"
      },
      "source": [
        "# Train\r\n",
        "\r\n",
        "best_model = trainer.train(num_epochs, patience, train_dataloader, val_dataloader)"
      ],
      "execution_count": 696,
      "outputs": [
        {
          "output_type": "stream",
          "text": [
            "Epoch: 1 |train_loss: 0.00576, val_loss: 0.00297, lr: 2.00E-04, _patience: 10\n",
            "Epoch: 2 |train_loss: 0.00385, val_loss: 0.00281, lr: 2.00E-04, _patience: 10\n",
            "Epoch: 3 |train_loss: 0.00350, val_loss: 0.00267, lr: 2.00E-04, _patience: 10\n",
            "Epoch: 4 |train_loss: 0.00325, val_loss: 0.00264, lr: 2.00E-04, _patience: 10\n",
            "Epoch: 5 |train_loss: 0.00314, val_loss: 0.00259, lr: 2.00E-04, _patience: 10\n",
            "Epoch: 6 |train_loss: 0.00297, val_loss: 0.00255, lr: 2.00E-04, _patience: 10\n",
            "Epoch: 7 |train_loss: 0.00287, val_loss: 0.00250, lr: 2.00E-04, _patience: 10\n",
            "Epoch: 8 |train_loss: 0.00272, val_loss: 0.00245, lr: 2.00E-04, _patience: 10\n",
            "Epoch: 9 |train_loss: 0.00262, val_loss: 0.00240, lr: 2.00E-04, _patience: 10\n",
            "Epoch: 10 |train_loss: 0.00253, val_loss: 0.00234, lr: 2.00E-04, _patience: 10\n",
            "Epoch: 11 |train_loss: 0.00241, val_loss: 0.00228, lr: 2.00E-04, _patience: 10\n",
            "Epoch: 12 |train_loss: 0.00231, val_loss: 0.00223, lr: 2.00E-04, _patience: 10\n",
            "Epoch: 13 |train_loss: 0.00218, val_loss: 0.00217, lr: 2.00E-04, _patience: 10\n",
            "Epoch: 14 |train_loss: 0.00211, val_loss: 0.00213, lr: 2.00E-04, _patience: 10\n",
            "Epoch: 15 |train_loss: 0.00202, val_loss: 0.00208, lr: 2.00E-04, _patience: 10\n",
            "Epoch: 16 |train_loss: 0.00195, val_loss: 0.00204, lr: 2.00E-04, _patience: 10\n",
            "Epoch: 17 |train_loss: 0.00185, val_loss: 0.00201, lr: 2.00E-04, _patience: 10\n",
            "Epoch: 18 |train_loss: 0.00179, val_loss: 0.00199, lr: 2.00E-04, _patience: 10\n",
            "Epoch: 19 |train_loss: 0.00173, val_loss: 0.00197, lr: 2.00E-04, _patience: 10\n",
            "Epoch: 20 |train_loss: 0.00164, val_loss: 0.00195, lr: 2.00E-04, _patience: 10\n",
            "Epoch: 21 |train_loss: 0.00159, val_loss: 0.00192, lr: 2.00E-04, _patience: 10\n",
            "Epoch: 22 |train_loss: 0.00151, val_loss: 0.00189, lr: 2.00E-04, _patience: 10\n",
            "Epoch: 23 |train_loss: 0.00148, val_loss: 0.00189, lr: 2.00E-04, _patience: 9\n",
            "Epoch: 24 |train_loss: 0.00144, val_loss: 0.00187, lr: 2.00E-04, _patience: 10\n",
            "Epoch: 25 |train_loss: 0.00133, val_loss: 0.00183, lr: 2.00E-04, _patience: 10\n",
            "Epoch: 26 |train_loss: 0.00131, val_loss: 0.00182, lr: 2.00E-04, _patience: 10\n",
            "Epoch: 27 |train_loss: 0.00127, val_loss: 0.00182, lr: 2.00E-04, _patience: 10\n",
            "Epoch: 28 |train_loss: 0.00121, val_loss: 0.00180, lr: 2.00E-04, _patience: 10\n",
            "Epoch: 29 |train_loss: 0.00116, val_loss: 0.00175, lr: 2.00E-04, _patience: 10\n",
            "Epoch: 30 |train_loss: 0.00113, val_loss: 0.00177, lr: 2.00E-04, _patience: 9\n",
            "Epoch: 31 |train_loss: 0.00106, val_loss: 0.00175, lr: 2.00E-04, _patience: 10\n",
            "Epoch: 32 |train_loss: 0.00105, val_loss: 0.00182, lr: 2.00E-04, _patience: 9\n",
            "Epoch: 33 |train_loss: 0.00098, val_loss: 0.00175, lr: 2.00E-04, _patience: 10\n",
            "Epoch: 34 |train_loss: 0.00096, val_loss: 0.00181, lr: 2.00E-04, _patience: 9\n",
            "Epoch: 35 |train_loss: 0.00092, val_loss: 0.00173, lr: 2.00E-04, _patience: 10\n",
            "Epoch: 36 |train_loss: 0.00088, val_loss: 0.00179, lr: 2.00E-04, _patience: 9\n",
            "Epoch: 37 |train_loss: 0.00088, val_loss: 0.00175, lr: 2.00E-04, _patience: 8\n",
            "Epoch: 38 |train_loss: 0.00083, val_loss: 0.00171, lr: 2.00E-04, _patience: 10\n",
            "Epoch: 39 |train_loss: 0.00080, val_loss: 0.00180, lr: 2.00E-04, _patience: 9\n",
            "Epoch: 40 |train_loss: 0.00078, val_loss: 0.00178, lr: 2.00E-04, _patience: 8\n",
            "Epoch: 41 |train_loss: 0.00075, val_loss: 0.00186, lr: 2.00E-04, _patience: 7\n",
            "Epoch: 42 |train_loss: 0.00074, val_loss: 0.00170, lr: 2.00E-04, _patience: 10\n",
            "Epoch: 43 |train_loss: 0.00069, val_loss: 0.00179, lr: 2.00E-04, _patience: 9\n",
            "Epoch: 44 |train_loss: 0.00069, val_loss: 0.00187, lr: 2.00E-04, _patience: 8\n",
            "Epoch: 45 |train_loss: 0.00069, val_loss: 0.00176, lr: 2.00E-04, _patience: 7\n",
            "Epoch: 46 |train_loss: 0.00066, val_loss: 0.00174, lr: 2.00E-04, _patience: 6\n",
            "Epoch: 47 |train_loss: 0.00063, val_loss: 0.00177, lr: 2.00E-04, _patience: 5\n",
            "Epoch: 48 |train_loss: 0.00062, val_loss: 0.00177, lr: 2.00E-05, _patience: 4\n",
            "Epoch: 49 |train_loss: 0.00060, val_loss: 0.00177, lr: 2.00E-05, _patience: 3\n",
            "Epoch: 50 |train_loss: 0.00056, val_loss: 0.00173, lr: 2.00E-05, _patience: 2\n",
            "Epoch: 51 |train_loss: 0.00057, val_loss: 0.00173, lr: 2.00E-05, _patience: 1\n",
            "Stopping early fa!\n"
          ],
          "name": "stdout"
        }
      ]
    },
    {
      "cell_type": "code",
      "metadata": {
        "id": "JKsUh89Oh_rH"
      },
      "source": [
        "# Evaluation \r\n",
        "\r\n",
        "from pathlib import Path\r\n",
        "from sklearn.metrics import precision_recall_curve"
      ],
      "execution_count": 705,
      "outputs": []
    },
    {
      "cell_type": "code",
      "metadata": {
        "colab": {
          "base_uri": "https://localhost:8080/",
          "height": 297
        },
        "id": "QTVN42wzmWB-",
        "outputId": "c6ff811a-6f11-4458-ded8-1b43cda7a3c5"
      },
      "source": [
        "# Threshold PR curve\r\n",
        "\r\n",
        "train_loss, y_true, y_prob = trainer.eval_step(dataloader = train_dataloader)\r\n",
        "\r\n",
        "precisions, recalls, thresholds = precision_recall_curve(y_true.ravel(), y_prob.ravel())\r\n",
        "\r\n",
        "plt.plot(thresholds, precisions[:-1], \"r--\", label = \"Precision\")\r\n",
        "\r\n",
        "plt.plot(thresholds, recalls[:-1], \"b--\", label = \"Recall\")\r\n",
        "\r\n",
        "plt.ylabel(\"Performance\")\r\n",
        "\r\n",
        "plt.xlabel(\"Threshold\")\r\n",
        "\r\n",
        "plt.legend(loc = \"best\")"
      ],
      "execution_count": 698,
      "outputs": [
        {
          "output_type": "execute_result",
          "data": {
            "text/plain": [
              "<matplotlib.legend.Legend at 0x7fac9f9a4be0>"
            ]
          },
          "metadata": {
            "tags": []
          },
          "execution_count": 698
        },
        {
          "output_type": "display_data",
          "data": {
            "image/png": "[encoded data removed]",
            "text/plain": [
              "<Figure size 432x288 with 1 Axes>"
            ]
          },
          "metadata": {
            "tags": [],
            "needs_background": "light"
          }
        }
      ]
    },
    {
      "cell_type": "code",
      "metadata": {
        "id": "p5NuhjBInNc5"
      },
      "source": [
        "# Determining the best threshold\r\n",
        "\r\n",
        "def find_best_threshold(y_true, y_prob):\r\n",
        "  \"\"\"\r\n",
        "  Find the best threshold for maximum F1.\"\"\"\r\n",
        "  precisions, recalls, thresholds = precision_recall_curve(y_true, y_prob)\r\n",
        "  f1s = (2 * precisions * recalls) / (precisions + recalls)\r\n",
        "\r\n",
        "  return thresholds[np.argmax(f1s)]\r\n"
      ],
      "execution_count": 699,
      "outputs": []
    },
    {
      "cell_type": "code",
      "metadata": {
        "colab": {
          "base_uri": "https://localhost:8080/"
        },
        "id": "tZ7yKIdIpbbj",
        "outputId": "4a5308a9-af3b-4d44-d956-3b830b8a6711"
      },
      "source": [
        "# Best threshold for f1\r\n",
        "\r\n",
        "threshold = find_best_threshold(y_true.ravel(), y_prob.ravel())\r\n",
        "\r\n",
        "threshold"
      ],
      "execution_count": 700,
      "outputs": [
        {
          "output_type": "execute_result",
          "data": {
            "text/plain": [
              "0.26187015"
            ]
          },
          "metadata": {
            "tags": []
          },
          "execution_count": 700
        }
      ]
    },
    {
      "cell_type": "code",
      "metadata": {
        "id": "Xpk_Zp3IpnyP"
      },
      "source": [
        "# Determining the predictions using the threshold \r\n",
        "\r\n",
        "test_loss, y_true, y_prob = trainer.eval_step(dataloader = test_dataloader)\r\n",
        "\r\n",
        "y_pred = np.array([np.where(prob >= threshold, 1, 0) for prob in y_prob])"
      ],
      "execution_count": 701,
      "outputs": []
    },
    {
      "cell_type": "code",
      "metadata": {
        "colab": {
          "base_uri": "https://localhost:8080/"
        },
        "id": "1f9WKm18p-kp",
        "outputId": "e5e1072f-fb06-4b40-e262-21879092a0f5"
      },
      "source": [
        "# Evaluate\r\n",
        "\r\n",
        "performance = get_performance(y_true = y_test, y_pred = y_pred, classes = label_encoder.classes)\r\n",
        "\r\n",
        "print (json.dumps(performance[\"overall\"], indent = 2))"
      ],
      "execution_count": 702,
      "outputs": [
        {
          "output_type": "stream",
          "text": [
            "{\n",
            "  \"precision\": 0.7854520633284119,\n",
            "  \"recall\": 0.5396706239163135,\n",
            "  \"f1\": 0.6219327610260815,\n",
            "  \"num_samples\": 488.0\n",
            "}\n"
          ],
          "name": "stdout"
        }
      ]
    },
    {
      "cell_type": "code",
      "metadata": {
        "colab": {
          "base_uri": "https://localhost:8080/",
          "height": 635,
          "referenced_widgets": [
            "cf5eb230de0e4266a74f16ea27ab2456",
            "7a29386837b7447090b2e8bb364e892e",
            "c8ab918a5b9342098b7088747016b14b",
            "465161fddf204703a6c323ae1b240379",
            "dbb9e81c278643c18ea96abc1c1b6c6c",
            "87eb12ed0e1148ccbcabc7460768a67c",
            "52158413486141e9b72189b790e3ca13"
          ]
        },
        "id": "mJ2tMygJqS6A",
        "outputId": "7ef443b2-50f9-4d73-fd8f-98618d9a249d"
      },
      "source": [
        "@widgets.interact(tag = list(sorted_tags_by_f1.keys()))\r\n",
        "\r\n",
        "def display_tag_analysis(tag = \"transformers\"):\r\n",
        "\r\n",
        "  # Performance \r\n",
        "  print (json.dumps(performance[\"class\"][tag], indent = 2))\r\n",
        "\r\n",
        "  # TP, FP, FN samples \r\n",
        "  index = label_encoder.class_to_index[tag]\r\n",
        "  tp, fp, fn = [], [], []\r\n",
        "  for i in range(len(y_test)):\r\n",
        "    true = y_test[i][index]\r\n",
        "    pred = y_pred[i][index]\r\n",
        "    if true and pred:\r\n",
        "      tp.append(i)\r\n",
        "    elif not true and pred:\r\n",
        "      fp.append(i)\r\n",
        "    elif true and not pred:\r\n",
        "      fn.append(i)\r\n",
        "\r\n",
        "  # Samples\r\n",
        "  num_samples = 3\r\n",
        "  if len(tp):\r\n",
        "    print (\"\\n=== True positives ===\\n\")\r\n",
        "    for i in tp[:num_samples]:\r\n",
        "      print (f\" {X_test_raw[i]}\")\r\n",
        "      print (f\" true: {label_encoder.decode([y_test[i]])[0]}\")\r\n",
        "      print (f\" pred: {label_encoder.decode([y_pred[i]])[0]}\\n\")\r\n",
        "\r\n",
        "  if len(fp):\r\n",
        "    print (\"=== False postives ===\\n\")\r\n",
        "    for i in fp[:num_samples]:\r\n",
        "      print (f\" {X_test_raw[i]}\")\r\n",
        "      print (f\" true: {label_encoder.decode([y_test[i]])[0]}\")\r\n",
        "      print (f\" pred: {label_encoder.decode([y_pred[i]])[0]}\\n\")\r\n",
        "\r\n",
        "  if len(fn):\r\n",
        "    print (\"=== False negatives ===\\n\")\r\n",
        "    for i in fp[:num_samples]:\r\n",
        "      print (f\" {X_test_raw[i]}\")\r\n",
        "      print (f\" true: {label_encoder.decode([y_test[i]])[0]}\")\r\n",
        "      print (f\" pred: {label_encoder.decode([y_pred[i]])[0]}\\n\")"
      ],
      "execution_count": 703,
      "outputs": [
        {
          "output_type": "display_data",
          "data": {
            "application/vnd.jupyter.widget-view+json": {
              "model_id": "cf5eb230de0e4266a74f16ea27ab2456",
              "version_minor": 0,
              "version_major": 2
            },
            "text/plain": [
              "interactive(children=(Dropdown(description='tag', index=20, options=('language-modeling', 'autoencoders', 'tim…"
            ]
          },
          "metadata": {
            "tags": []
          }
        }
      ]
    },
    {
      "cell_type": "code",
      "metadata": {
        "id": "8i6bfYUCrLJ9"
      },
      "source": [
        "# Save artifacts \r\n",
        "\r\n",
        "dir = Path(\"cnn\")\r\n",
        "\r\n",
        "dir.mkdir(parents = True, exist_ok = True)\r\n",
        "\r\n",
        "tokeniser.save(fp = Path(dir, \"tokeniser.json\"))\r\n",
        "label_encoder.save(fp = Path(dir, \"label_encoder.json\"))\r\n",
        "torch.save(best_model.state_dict(), Path(dir, \"model.pt\"))\r\n",
        "\r\n",
        "with open(Path(dir, \"Performance.json\"), \"w\") as fp:\r\n",
        "  json.dump(performance, indent = 2, sort_keys = False, fp = fp)"
      ],
      "execution_count": 706,
      "outputs": []
    },
    {
      "cell_type": "code",
      "metadata": {
        "colab": {
          "base_uri": "https://localhost:8080/"
        },
        "id": "6ikz2cCXsIEc",
        "outputId": "5629a0b7-3912-4abd-f6af-f741ad84a5f3"
      },
      "source": [
        "# Inference \r\n",
        "\r\n",
        "# - Load artificats \r\n",
        "\r\n",
        "device = torch.device(\"cpu\")\r\n",
        "\r\n",
        "tokeniser = tokeniser.load(fp = Path(dir, \"tokeniser.json\"))\r\n",
        "\r\n",
        "label_encoder = LabelEncoder.load(fp = Path(dir, \"label_encoder.json\"))\r\n",
        "\r\n",
        "model = CNN(\r\n",
        "    embedding_dim = embedding_dim, vocab_size = vocab_size, num_filters = num_filters, \r\n",
        "    filter_sizes = filter_sizes, hidden_dim = hidden_dim, dropout_p = dropout_p, num_classes = num_classes)\r\n",
        "\r\n",
        "model.load_state_dict(torch.load(Path(dir, \"model.pt\"), map_location = device))\r\n",
        "\r\n",
        "model.to(device)"
      ],
      "execution_count": 707,
      "outputs": [
        {
          "output_type": "execute_result",
          "data": {
            "text/plain": [
              "CNN(\n",
              "  (embeddings): Embedding(39, 128, padding_idx=0)\n",
              "  (conv): ModuleList(\n",
              "    (0): Conv1d(128, 128, kernel_size=(1,), stride=(1,))\n",
              "    (1): Conv1d(128, 128, kernel_size=(2,), stride=(1,))\n",
              "    (2): Conv1d(128, 128, kernel_size=(3,), stride=(1,))\n",
              "    (3): Conv1d(128, 128, kernel_size=(4,), stride=(1,))\n",
              "    (4): Conv1d(128, 128, kernel_size=(5,), stride=(1,))\n",
              "    (5): Conv1d(128, 128, kernel_size=(6,), stride=(1,))\n",
              "    (6): Conv1d(128, 128, kernel_size=(7,), stride=(1,))\n",
              "    (7): Conv1d(128, 128, kernel_size=(8,), stride=(1,))\n",
              "    (8): Conv1d(128, 128, kernel_size=(9,), stride=(1,))\n",
              "    (9): Conv1d(128, 128, kernel_size=(10,), stride=(1,))\n",
              "  )\n",
              "  (dropout): Dropout(p=0.5, inplace=False)\n",
              "  (fc1): Linear(in_features=1280, out_features=128, bias=True)\n",
              "  (fc2): Linear(in_features=128, out_features=35, bias=True)\n",
              ")"
            ]
          },
          "metadata": {
            "tags": []
          },
          "execution_count": 707
        }
      ]
    },
    {
      "cell_type": "code",
      "metadata": {
        "id": "9q2X3z8tt9Qe"
      },
      "source": [
        "# Initialise trainer \r\n",
        "\r\n",
        "trainer = Trainer(model = model, device = device)"
      ],
      "execution_count": 708,
      "outputs": []
    },
    {
      "cell_type": "code",
      "metadata": {
        "id": "piH9COGhuGlj"
      },
      "source": [
        "# Dataloader \r\n",
        "\r\n",
        "text = \"Transfer learning with BERT for self-supervised learning\"\r\n",
        "\r\n",
        "X = np.array(tokeniser.texts_to_sequences([preprocess(text)]))\r\n",
        "y_filler = label_encoder.encode([np.array([label_encoder.classes[0]] * len(X))])\r\n",
        "\r\n",
        "dataset = CNNTextDataset(X = X, y = y_filler, max_filter_size = max(filter_sizes))\r\n",
        "\r\n",
        "dataloader = dataset.create_dataloader(batch_size = batch_size)"
      ],
      "execution_count": 709,
      "outputs": []
    },
    {
      "cell_type": "code",
      "metadata": {
        "colab": {
          "base_uri": "https://localhost:8080/"
        },
        "id": "-Dr8aeJ9uztE",
        "outputId": "69ab7d11-023f-46d2-df4c-62cf2808f44b"
      },
      "source": [
        "# Inference\r\n",
        "\r\n",
        "y_prob = trainer.predict_step(dataloader)\r\n",
        "\r\n",
        "y_pred = np.array([np.where(prob >= threshold, 1, 0) for prob in y_prob])\r\n",
        "\r\n",
        "label_encoder.decode(y_pred)"
      ],
      "execution_count": 710,
      "outputs": [
        {
          "output_type": "execute_result",
          "data": {
            "text/plain": [
              "[['natural-language-processing',\n",
              "  'self-supervised-learning',\n",
              "  'transfer-learning']]"
            ]
          },
          "metadata": {
            "tags": []
          },
          "execution_count": 710
        }
      ]
    },
    {
      "cell_type": "code",
      "metadata": {
        "id": "HvFYk2hIvJNE"
      },
      "source": [
        "# limitations: \r\n",
        "# - rep - embeddings are not contextual\r\n",
        "# - archi - extracting signal from encoded inputs is limited by filter widths"
      ],
      "execution_count": 711,
      "outputs": []
    },
    {
      "cell_type": "code",
      "metadata": {
        "id": "eRuaFQylvpqh"
      },
      "source": [
        "# RNN w/ Embeddings \r\n",
        "\r\n",
        "# motivation - lets see if processing our embedded tokens in a sequential fashion using RNNs can yield better performance\r\n",
        "\r\n",
        "# Set seeds\r\n",
        "\r\n",
        "set_seeds()"
      ],
      "execution_count": 712,
      "outputs": []
    },
    {
      "cell_type": "code",
      "metadata": {
        "id": "oSkJUnZ24gGS"
      },
      "source": [
        "# Get data splits\r\n",
        "\r\n",
        "\r\n",
        "preprocessed_df = df.copy()\r\n",
        "preprocessed_df.text = preprocessed_df.text.apply(preprocess, lower=True)\r\n",
        "X_train, X_val, X_test, y_train, y_val, y_test, label_encoder = get_data_splits(preprocessed_df)\r\n",
        "X_test_raw = X_test"
      ],
      "execution_count": 713,
      "outputs": []
    },
    {
      "cell_type": "code",
      "metadata": {
        "colab": {
          "base_uri": "https://localhost:8080/"
        },
        "id": "ZF0shnRf5X-Z",
        "outputId": "d0c7743c-9fef-4244-f0ff-e0bb4eeb3ef1"
      },
      "source": [
        "# Set device\r\n",
        "\r\n",
        "cuda = True\r\n",
        "device = torch.device('cuda' if (\r\n",
        "    torch.cuda.is_available() and cuda) else 'cpu')\r\n",
        "torch.set_default_tensor_type('torch.FloatTensor')\r\n",
        "if device.type == 'cuda':\r\n",
        "    torch.set_default_tensor_type('torch.cuda.FloatTensor')\r\n",
        "print (device)"
      ],
      "execution_count": 714,
      "outputs": [
        {
          "output_type": "stream",
          "text": [
            "cpu\n"
          ],
          "name": "stdout"
        }
      ]
    },
    {
      "cell_type": "code",
      "metadata": {
        "colab": {
          "base_uri": "https://localhost:8080/"
        },
        "id": "sEdCbRNC5ldH",
        "outputId": "1709cf74-9876-488d-fac9-c922746e0853"
      },
      "source": [
        "# Tokenise \r\n",
        "\r\n",
        "char_level = True\r\n",
        "tokeniser = Tokeniser(char_level = char_level)\r\n",
        "tokeniser.fit_on_texts(texts = X_train)\r\n",
        "vocab_size = len(tokeniser)\r\n",
        "\r\n",
        "print (\"X tokeniser: \\n\"\r\n",
        "      f\" {tokeniser}\")"
      ],
      "execution_count": 716,
      "outputs": [
        {
          "output_type": "stream",
          "text": [
            "X tokeniser: \n",
            " <Tokeniser(num_tokens = 39)>\n"
          ],
          "name": "stdout"
        }
      ]
    },
    {
      "cell_type": "code",
      "metadata": {
        "colab": {
          "base_uri": "https://localhost:8080/"
        },
        "id": "ddcB1eLg6IQ-",
        "outputId": "d8da06e1-68e8-42e5-c768-3fdb9005d754"
      },
      "source": [
        "tokeniser.token_to_index"
      ],
      "execution_count": 717,
      "outputs": [
        {
          "output_type": "execute_result",
          "data": {
            "text/plain": [
              "{' ': 2,\n",
              " '0': 29,\n",
              " '1': 31,\n",
              " '2': 26,\n",
              " '3': 32,\n",
              " '4': 36,\n",
              " '5': 34,\n",
              " '6': 38,\n",
              " '7': 37,\n",
              " '8': 35,\n",
              " '9': 33,\n",
              " '<PAD>': 0,\n",
              " '<UNK>': 1,\n",
              " 'a': 7,\n",
              " 'b': 20,\n",
              " 'c': 12,\n",
              " 'd': 13,\n",
              " 'e': 3,\n",
              " 'f': 19,\n",
              " 'g': 15,\n",
              " 'h': 18,\n",
              " 'i': 4,\n",
              " 'j': 27,\n",
              " 'k': 24,\n",
              " 'l': 11,\n",
              " 'm': 16,\n",
              " 'n': 5,\n",
              " 'o': 10,\n",
              " 'p': 14,\n",
              " 'q': 30,\n",
              " 'r': 8,\n",
              " 's': 9,\n",
              " 't': 6,\n",
              " 'u': 17,\n",
              " 'v': 21,\n",
              " 'w': 23,\n",
              " 'x': 25,\n",
              " 'y': 22,\n",
              " 'z': 28}"
            ]
          },
          "metadata": {
            "tags": []
          },
          "execution_count": 717
        }
      ]
    },
    {
      "cell_type": "code",
      "metadata": {
        "colab": {
          "base_uri": "https://localhost:8080/"
        },
        "id": "-BWPfwYU6OQj",
        "outputId": "0dfd5015-bc0f-46ae-aea8-ab57c034c5e6"
      },
      "source": [
        "# Convert texts to sequences of indices\r\n",
        "\r\n",
        "X_train = np.array(tokeniser.texts_to_sequences(X_train))\r\n",
        "X_val = np.array(tokeniser.texts_to_sequences(X_val))\r\n",
        "X_test = np.array(tokeniser.texts_to_sequences(X_test))\r\n",
        "preprocessed_text = tokeniser.sequences_to_texts([X_train[0]])[0]\r\n",
        "print (\"Text to indices:\\n\"\r\n",
        "    f\"  (preprocessed) → {preprocessed_text}\\n\"\r\n",
        "    f\"  (tokenised) → {X_train[0]}\")"
      ],
      "execution_count": 718,
      "outputs": [
        {
          "output_type": "stream",
          "text": [
            "Text to indices:\n",
            "  (preprocessed) → nba k means extraction nba statistics basketball reference com visualise detect trends patterns clustering top players using kmeans\n",
            "  (tokenised) → [ 5 20  7  2 24  2 16  3  7  5  9  2  3 25  6  8  7 12  6  4 10  5  2  5\n",
            " 20  7  2  9  6  7  6  4  9  6  4 12  9  2 20  7  9 24  3  6 20  7 11 11\n",
            "  2  8  3 19  3  8  3  5 12  3  2 12 10 16  2 21  4  9 17  7 11  4  9  3\n",
            "  2 13  3  6  3 12  6  2  6  8  3  5 13  9  2 14  7  6  6  3  8  5  9  2\n",
            " 12 11 17  9  6  3  8  4  5 15  2  6 10 14  2 14 11  7 22  3  8  9  2 17\n",
            "  9  4  5 15  2 24 16  3  7  5  9]\n"
          ],
          "name": "stdout"
        }
      ]
    },
    {
      "cell_type": "code",
      "metadata": {
        "colab": {
          "base_uri": "https://localhost:8080/"
        },
        "id": "9p7hZEBq6Y_C",
        "outputId": "f7688169-dfef-4228-da28-7856a4e20bcb"
      },
      "source": [
        "# Class weights\r\n",
        "\r\n",
        "counts = np.bincount([label_encoder.class_to_index[class_] for class_ in all_tags])\r\n",
        "class_weights = {i: 1.0/count for i, count in enumerate(counts)}\r\n",
        "print (f\"class counts: {counts},\\nclass weights: {class_weights}\")"
      ],
      "execution_count": 719,
      "outputs": [
        {
          "output_type": "stream",
          "text": [
            "class counts: [120  41 388 106  41  75  34  73  51  78  64  51  55  93  51 429  33  69\n",
            "  30  51 258  32  49  59  57  60  48  40 213  40  34  46 196  39  39],\n",
            "class weights: {0: 0.008333333333333333, 1: 0.024390243902439025, 2: 0.002577319587628866, 3: 0.009433962264150943, 4: 0.024390243902439025, 5: 0.013333333333333334, 6: 0.029411764705882353, 7: 0.0136986301369863, 8: 0.0196078431372549, 9: 0.01282051282051282, 10: 0.015625, 11: 0.0196078431372549, 12: 0.01818181818181818, 13: 0.010752688172043012, 14: 0.0196078431372549, 15: 0.002331002331002331, 16: 0.030303030303030304, 17: 0.014492753623188406, 18: 0.03333333333333333, 19: 0.0196078431372549, 20: 0.003875968992248062, 21: 0.03125, 22: 0.02040816326530612, 23: 0.01694915254237288, 24: 0.017543859649122806, 25: 0.016666666666666666, 26: 0.020833333333333332, 27: 0.025, 28: 0.004694835680751174, 29: 0.025, 30: 0.029411764705882353, 31: 0.021739130434782608, 32: 0.00510204081632653, 33: 0.02564102564102564, 34: 0.02564102564102564}\n"
          ],
          "name": "stdout"
        }
      ]
    },
    {
      "cell_type": "code",
      "metadata": {
        "id": "7s_G62rN6e4q"
      },
      "source": [
        "# Datasets\r\n",
        "\r\n",
        "class RNNTextDataset(torch.utils.data.Dataset):\r\n",
        "  def __init__(self, X, y):\r\n",
        "    self.X = X\r\n",
        "    self.y = y\r\n",
        "\r\n",
        "  def __len__(self):\r\n",
        "    return len(self.y)\r\n",
        "\r\n",
        "  def __str__(self):\r\n",
        "    return f\"<Dataset(N = {len(self)})>\"\r\n",
        "\r\n",
        "  def __getitem__(self, index):\r\n",
        "    X = self.X[index]\r\n",
        "    y = self.y[index]\r\n",
        "    return [X, len(X), y]\r\n",
        "\r\n",
        "  def collate_fn(self, batch):\r\n",
        "    \"\"\"Processing on batch.\"\"\"\r\n",
        "\r\n",
        "    # Get inputs\r\n",
        "    X = np.array(batch, dtype = object)[:,0]\r\n",
        "    seq_lens = np.array(batch, dtype = object)[:, 1]\r\n",
        "    y = np.stack(np.array(batch, dtype = object)[:, 2], axis = 0)\r\n",
        "\r\n",
        "    # Pad inputs\r\n",
        "    X = pad_sequences(sequences = X)\r\n",
        "\r\n",
        "    # Cast\r\n",
        "    X = torch.LongTensor(X.astype(np.int32))\r\n",
        "    seq_lens = torch.LongTensor(seq_lens.astype(np.int32))\r\n",
        "    y = torch.FloatTensor(y.astype(np.int32))\r\n",
        "\r\n",
        "    return X, seq_lens, y\r\n",
        "  \r\n",
        "  def create_dataloader(self, batch_size, shuffle = False, drop_last = False):\r\n",
        "    return torch.utils.data.DataLoader(\r\n",
        "        dataset = self, \r\n",
        "        batch_size = batch_size, \r\n",
        "        collate_fn = self.collate_fn, \r\n",
        "        shuffle = shuffle, \r\n",
        "        drop_last = drop_last, \r\n",
        "        pin_memory = True)"
      ],
      "execution_count": 723,
      "outputs": []
    },
    {
      "cell_type": "code",
      "metadata": {
        "colab": {
          "base_uri": "https://localhost:8080/"
        },
        "id": "3yWRIef08-dM",
        "outputId": "9774d56c-9f0f-48a0-8a09-770a31f1f4cc"
      },
      "source": [
        "# Create datasets\r\n",
        "\r\n",
        "batch_size = 128\r\n",
        "\r\n",
        "train_dataset = RNNTextDataset(X = X_train, y = y_train)\r\n",
        "\r\n",
        "val_dataset = RNNTextDataset(X = X_val, y = y_val)\r\n",
        "\r\n",
        "test_dataset = RNNTextDataset(X = X_test, y = y_test)\r\n",
        "\r\n",
        "print (\"Data splits: \\n\"\r\n",
        "    f\"  Train dataset: {train_dataset.__str__()}\\n\"\r\n",
        "    f\"  Val dataset: {val_dataset.__str__()}\\n\"\r\n",
        "    f\"  Test dataset: {test_dataset.__str__()}\\n\"\r\n",
        "    \"Sample point: \\n\"\r\n",
        "    f\" X: {train_dataset[0][0]}\\n\"\r\n",
        "    f\" seq_len: {train_dataset[0][1]}\\n\"\r\n",
        "    f\" y: {train_dataset[0][2]}\")"
      ],
      "execution_count": 724,
      "outputs": [
        {
          "output_type": "stream",
          "text": [
            "Data splits: \n",
            "  Train dataset: <Dataset(N = 1008)>\n",
            "  Val dataset: <Dataset(N = 213)>\n",
            "  Test dataset: <Dataset(N = 223)>\n",
            "Sample point: \n",
            " X: [ 5 20  7  2 24  2 16  3  7  5  9  2  3 25  6  8  7 12  6  4 10  5  2  5\n",
            " 20  7  2  9  6  7  6  4  9  6  4 12  9  2 20  7  9 24  3  6 20  7 11 11\n",
            "  2  8  3 19  3  8  3  5 12  3  2 12 10 16  2 21  4  9 17  7 11  4  9  3\n",
            "  2 13  3  6  3 12  6  2  6  8  3  5 13  9  2 14  7  6  6  3  8  5  9  2\n",
            " 12 11 17  9  6  3  8  4  5 15  2  6 10 14  2 14 11  7 22  3  8  9  2 17\n",
            "  9  4  5 15  2 24 16  3  7  5  9]\n",
            " seq_len: 131\n",
            " y: [0 0 0 0 0 0 0 0 0 0 0 0 0 0 0 0 0 0 0 0 0 0 0 0 0 1 0 0 0 0 0 0 0 0 0]\n"
          ],
          "name": "stdout"
        }
      ]
    },
    {
      "cell_type": "code",
      "metadata": {
        "colab": {
          "base_uri": "https://localhost:8080/"
        },
        "id": "aWo-6P2l-MeY",
        "outputId": "c9a18d32-a1c8-4f5e-fa2a-46d3b0015095"
      },
      "source": [
        "# Create dataloaders\r\n",
        "\r\n",
        "train_dataloader = train_dataset.create_dataloader(batch_size = batch_size)\r\n",
        "\r\n",
        "val_dataloader = val_dataset.create_dataloader(batch_size = batch_size)\r\n",
        "\r\n",
        "test_dataloader = test_dataset.create_dataloader(batch_size = batch_size)\r\n",
        "\r\n",
        "batch_X, batch_seq_lens, batch_y = next(iter(train_dataloader))\r\n",
        "\r\n",
        "print (batch_X.shape)\r\n",
        "\r\n",
        "print (\"Sample batch: \\n\"\r\n",
        "    f\" X: {list(batch_X.size())}\\n\"\r\n",
        "    f\" seq_lens: {list(batch_seq_lens.size())}\\n\"\r\n",
        "    f\" y: {list(batch_y.size())}\")"
      ],
      "execution_count": 727,
      "outputs": [
        {
          "output_type": "stream",
          "text": [
            "torch.Size([128, 176])\n",
            "Sample batch: \n",
            " X: [128, 176]\n",
            " seq_lens: [128]\n",
            " y: [128, 35]\n"
          ],
          "name": "stdout"
        }
      ]
    },
    {
      "cell_type": "code",
      "metadata": {
        "id": "p3m5oyk7BDiz"
      },
      "source": [
        "# Arguments\r\n",
        "embedding_dim = 128\r\n",
        "rnn_hidden_dim = 128\r\n",
        "hidden_dim = 128\r\n",
        "dropout_p = 0.5"
      ],
      "execution_count": 728,
      "outputs": []
    },
    {
      "cell_type": "code",
      "metadata": {
        "id": "e6z1n8HiB6jm"
      },
      "source": [
        "def gather_last_relevant_hidden(hiddens, seq_lens):\r\n",
        "    \"\"\"Extract and collect the last relevant\r\n",
        "    hidden state based on the sequence length.\"\"\"\r\n",
        "    seq_lens = seq_lens.long().detach().cpu().numpy() - 1\r\n",
        "    out = []\r\n",
        "    for batch_index, column_index in enumerate(seq_lens):\r\n",
        "        out.append(hiddens[batch_index, column_index])\r\n",
        "    return torch.stack(out)"
      ],
      "execution_count": 729,
      "outputs": []
    },
    {
      "cell_type": "code",
      "metadata": {
        "id": "nlggWrO1B84N"
      },
      "source": [
        "class RNN(nn.Module):\r\n",
        "    def __init__(self, embedding_dim, vocab_size, rnn_hidden_dim,\r\n",
        "                 hidden_dim, dropout_p, num_classes, padding_idx=0):\r\n",
        "        super(RNN, self).__init__()\r\n",
        "\r\n",
        "        # Initialize embeddings\r\n",
        "        self.embeddings = nn.Embedding(embedding_dim=embedding_dim,\r\n",
        "                                       num_embeddings=vocab_size,\r\n",
        "                                       padding_idx=padding_idx)\r\n",
        "\r\n",
        "        # RNN\r\n",
        "        self.rnn = nn.GRU(embedding_dim, rnn_hidden_dim,\r\n",
        "                          batch_first=True, bidirectional=True)\r\n",
        "\r\n",
        "        # FC weights\r\n",
        "        self.dropout = nn.Dropout(dropout_p)\r\n",
        "        self.fc1 = nn.Linear(rnn_hidden_dim*2, hidden_dim)\r\n",
        "        self.fc2 = nn.Linear(hidden_dim, num_classes)\r\n",
        "\r\n",
        "    def forward(self, inputs):\r\n",
        "        # Inputs\r\n",
        "        x_in, seq_lens = inputs\r\n",
        "\r\n",
        "        # Embed\r\n",
        "        x_in = self.embeddings(x_in)\r\n",
        "\r\n",
        "        # Rnn outputs\r\n",
        "        out, h_n = self.rnn(x_in)\r\n",
        "        z = gather_last_relevant_hidden(hiddens=out, seq_lens=seq_lens)\r\n",
        "\r\n",
        "        # FC layers\r\n",
        "        z = self.fc1(z)\r\n",
        "        z = self.dropout(z)\r\n",
        "        z = self.fc2(z)\r\n",
        "\r\n",
        "        return z"
      ],
      "execution_count": 730,
      "outputs": []
    },
    {
      "cell_type": "code",
      "metadata": {
        "colab": {
          "base_uri": "https://localhost:8080/"
        },
        "id": "00FoaTDxCFNJ",
        "outputId": "2cfcbd3d-cd70-47d6-c5a0-ef2de9540337"
      },
      "source": [
        "# Initialize model\r\n",
        "\r\n",
        "model = RNN(\r\n",
        "    embedding_dim=embedding_dim, vocab_size=vocab_size,\r\n",
        "    rnn_hidden_dim=rnn_hidden_dim, hidden_dim=hidden_dim,\r\n",
        "    dropout_p=dropout_p, num_classes=num_classes)\r\n",
        "model = model.to(device)\r\n",
        "print (model.named_parameters)"
      ],
      "execution_count": 731,
      "outputs": [
        {
          "output_type": "stream",
          "text": [
            "<bound method Module.named_parameters of RNN(\n",
            "  (embeddings): Embedding(39, 128, padding_idx=0)\n",
            "  (rnn): GRU(128, 128, batch_first=True, bidirectional=True)\n",
            "  (dropout): Dropout(p=0.5, inplace=False)\n",
            "  (fc1): Linear(in_features=256, out_features=128, bias=True)\n",
            "  (fc2): Linear(in_features=128, out_features=35, bias=True)\n",
            ")>\n"
          ],
          "name": "stdout"
        }
      ]
    },
    {
      "cell_type": "code",
      "metadata": {
        "id": "fGrZJE-cCNjZ"
      },
      "source": [
        "# Arguments\r\n",
        "\r\n",
        "lr = 2e-3\r\n",
        "num_epochs = 200\r\n",
        "patience = 10"
      ],
      "execution_count": 732,
      "outputs": []
    },
    {
      "cell_type": "code",
      "metadata": {
        "id": "yw-Sx6eJCQ0Q"
      },
      "source": [
        "# Define loss\r\n",
        "\r\n",
        "class_weights_tensor = torch.Tensor(np.array(list(class_weights.values())))\r\n",
        "loss = nn.BCEWithLogitsLoss(weight=class_weights_tensor)"
      ],
      "execution_count": 733,
      "outputs": []
    },
    {
      "cell_type": "code",
      "metadata": {
        "id": "_X6sBSuaCT24"
      },
      "source": [
        "# Define optimizer & scheduler\r\n",
        "\r\n",
        "optimiser = torch.optim.Adam(model.parameters(), lr=lr)\r\n",
        "scheduler = torch.optim.lr_scheduler.ReduceLROnPlateau(\r\n",
        "    optimiser, mode='min', factor=0.1, patience=5)"
      ],
      "execution_count": 735,
      "outputs": []
    },
    {
      "cell_type": "code",
      "metadata": {
        "id": "ooymuVU5CYCk"
      },
      "source": [
        "# Trainer module\r\n",
        "\r\n",
        "trainer = Trainer(model = model, device = device, loss = loss, optimiser = optimiser, scheduler = scheduler)"
      ],
      "execution_count": 736,
      "outputs": []
    },
    {
      "cell_type": "code",
      "metadata": {
        "colab": {
          "base_uri": "https://localhost:8080/"
        },
        "id": "i-fH4EGmColP",
        "outputId": "597c75b0-d579-4c24-8f5c-0ccd813b68cc"
      },
      "source": [
        "# Train \r\n",
        "\r\n",
        "best_model = trainer.train(num_epochs, patience, train_dataloader, val_dataloader)"
      ],
      "execution_count": 737,
      "outputs": [
        {
          "output_type": "stream",
          "text": [
            "Epoch: 1 |train_loss: 0.00837, val_loss: 0.00308, lr: 2.00E-03, _patience: 10\n",
            "Epoch: 2 |train_loss: 0.00399, val_loss: 0.00344, lr: 2.00E-03, _patience: 9\n",
            "Epoch: 3 |train_loss: 0.00329, val_loss: 0.00288, lr: 2.00E-03, _patience: 10\n",
            "Epoch: 4 |train_loss: 0.00309, val_loss: 0.00275, lr: 2.00E-03, _patience: 10\n",
            "Epoch: 5 |train_loss: 0.00296, val_loss: 0.00269, lr: 2.00E-03, _patience: 10\n",
            "Epoch: 6 |train_loss: 0.00287, val_loss: 0.00267, lr: 2.00E-03, _patience: 10\n",
            "Epoch: 7 |train_loss: 0.00280, val_loss: 0.00267, lr: 2.00E-03, _patience: 9\n",
            "Epoch: 8 |train_loss: 0.00275, val_loss: 0.00266, lr: 2.00E-03, _patience: 10\n",
            "Epoch: 9 |train_loss: 0.00273, val_loss: 0.00266, lr: 2.00E-03, _patience: 10\n",
            "Epoch: 10 |train_loss: 0.00269, val_loss: 0.00265, lr: 2.00E-03, _patience: 10\n",
            "Epoch: 11 |train_loss: 0.00264, val_loss: 0.00266, lr: 2.00E-03, _patience: 9\n",
            "Epoch: 12 |train_loss: 0.00266, val_loss: 0.00266, lr: 2.00E-03, _patience: 8\n",
            "Epoch: 13 |train_loss: 0.00264, val_loss: 0.00267, lr: 2.00E-03, _patience: 7\n",
            "Epoch: 14 |train_loss: 0.00260, val_loss: 0.00266, lr: 2.00E-03, _patience: 6\n",
            "Epoch: 15 |train_loss: 0.00258, val_loss: 0.00266, lr: 2.00E-03, _patience: 5\n",
            "Epoch: 16 |train_loss: 0.00258, val_loss: 0.00266, lr: 2.00E-04, _patience: 4\n",
            "Epoch: 17 |train_loss: 0.00254, val_loss: 0.00266, lr: 2.00E-04, _patience: 3\n",
            "Epoch: 18 |train_loss: 0.00255, val_loss: 0.00266, lr: 2.00E-04, _patience: 2\n",
            "Epoch: 19 |train_loss: 0.00255, val_loss: 0.00266, lr: 2.00E-04, _patience: 1\n",
            "Stopping early fa!\n"
          ],
          "name": "stdout"
        }
      ]
    },
    {
      "cell_type": "code",
      "metadata": {
        "colab": {
          "base_uri": "https://localhost:8080/",
          "height": 297
        },
        "id": "9xDZbaTuCzV-",
        "outputId": "e1fcaaa0-edfb-4562-fa72-ce76026c307e"
      },
      "source": [
        "# Threshold-PR curve\r\n",
        "\r\n",
        "train_loss, y_true, y_prob = trainer.eval_step(dataloader=train_dataloader)\r\n",
        "\r\n",
        "precisions, recalls, thresholds = precision_recall_curve(y_true.ravel(), y_prob.ravel())\r\n",
        "\r\n",
        "plt.plot(thresholds, precisions[:-1], \"r--\", label=\"Precision\")\r\n",
        "\r\n",
        "plt.plot(thresholds, recalls[:-1], \"b-\", label=\"Recall\")\r\n",
        "\r\n",
        "plt.ylabel(\"Performance\")\r\n",
        "plt.xlabel(\"Threshold\")\r\n",
        "plt.legend(loc='best')"
      ],
      "execution_count": 738,
      "outputs": [
        {
          "output_type": "execute_result",
          "data": {
            "text/plain": [
              "<matplotlib.legend.Legend at 0x7fac9f9a94a8>"
            ]
          },
          "metadata": {
            "tags": []
          },
          "execution_count": 738
        },
        {
          "output_type": "display_data",
          "data": {
            "image/png": "[encoded data removed]",
            "text/plain": [
              "<Figure size 432x288 with 1 Axes>"
            ]
          },
          "metadata": {
            "tags": [],
            "needs_background": "light"
          }
        }
      ]
    },
    {
      "cell_type": "code",
      "metadata": {
        "colab": {
          "base_uri": "https://localhost:8080/"
        },
        "id": "UqerXM7kC9GW",
        "outputId": "20572da6-8c21-40c8-a135-b04ef5e4eda8"
      },
      "source": [
        "# Best threshold for f1\r\n",
        "\r\n",
        "threshold = find_best_threshold(y_true.ravel(), y_prob.ravel())\r\n",
        "threshold"
      ],
      "execution_count": 739,
      "outputs": [
        {
          "output_type": "execute_result",
          "data": {
            "text/plain": [
              "0.15217918"
            ]
          },
          "metadata": {
            "tags": []
          },
          "execution_count": 739
        }
      ]
    },
    {
      "cell_type": "code",
      "metadata": {
        "id": "Aumd3WZUFRq3"
      },
      "source": [
        "# Determine predictions using threshold\r\n",
        "\r\n",
        "test_loss, y_true, y_prob = trainer.eval_step(dataloader=test_dataloader)\r\n",
        "\r\n",
        "y_pred = np.array([np.where(prob >= threshold, 1, 0) for prob in y_prob])"
      ],
      "execution_count": 742,
      "outputs": []
    },
    {
      "cell_type": "code",
      "metadata": {
        "colab": {
          "base_uri": "https://localhost:8080/"
        },
        "id": "CnSVuB6UDBPK",
        "outputId": "321fc8f2-a998-4f69-b40a-0c6f6815ff84"
      },
      "source": [
        "# Evaluate\r\n",
        "\r\n",
        "performance = get_performance(y_true = y_test, y_pred = y_pred, classes = label_encoder.classes)\r\n",
        "\r\n",
        "print (json.dumps(performance['overall'], indent=2))"
      ],
      "execution_count": 743,
      "outputs": [
        {
          "output_type": "stream",
          "text": [
            "{\n",
            "  \"precision\": 0.14217162772922073,\n",
            "  \"recall\": 0.13774763824024908,\n",
            "  \"f1\": 0.10576086280467452,\n",
            "  \"num_samples\": 488.0\n",
            "}\n"
          ],
          "name": "stdout"
        }
      ]
    },
    {
      "cell_type": "code",
      "metadata": {
        "colab": {
          "base_uri": "https://localhost:8080/",
          "height": 920,
          "referenced_widgets": [
            "c8b698b7af8e45db8aec34dea259e02b",
            "74aa174187024859bf6bf998f0c7dec8",
            "9db727a8e5c94d05b9e1165834f817b1",
            "647b77f0dcdc433583874fca8d07344c",
            "657c1ee3430c4a08882fd559687cb7cd",
            "f2bf345c691140148c7bfcdfd35ca783",
            "a058d5569e7a49bcaab2ea80159a1a9d"
          ]
        },
        "id": "EXBtwo2sDD0h",
        "outputId": "44458813-9663-4dad-8040-07ba7b4d6a15"
      },
      "source": [
        "@widgets.interact(tag = list(sorted_tags_by_f1.keys()))\r\n",
        "\r\n",
        "def display_tag_analysis(tag = \"transformers\"):\r\n",
        "\r\n",
        "  # Performance \r\n",
        "  print (json.dumps(performance[\"class\"][tag], indent = 2))\r\n",
        "\r\n",
        "  # TP, FP, FN samples \r\n",
        "  index = label_encoder.class_to_index[tag]\r\n",
        "  tp, fp, fn = [], [], []\r\n",
        "  for i in range(len(y_test)):\r\n",
        "    true = y_test[i][index]\r\n",
        "    pred = y_pred[i][index]\r\n",
        "    if true and pred:\r\n",
        "      tp.append(i)\r\n",
        "    elif not true and pred:\r\n",
        "      fp.append(i)\r\n",
        "    elif true and not pred:\r\n",
        "      fn.append(i)\r\n",
        "\r\n",
        "  # Samples\r\n",
        "  num_samples = 3\r\n",
        "  if len(tp):\r\n",
        "    print (\"\\n=== True positives ===\\n\")\r\n",
        "    for i in tp[:num_samples]:\r\n",
        "      print (f\" {X_test_raw[i]}\")\r\n",
        "      print (f\" true: {label_encoder.decode([y_test[i]])[0]}\")\r\n",
        "      print (f\" pred: {label_encoder.decode([y_pred[i]])[0]}\\n\")\r\n",
        "\r\n",
        "  if len(fp):\r\n",
        "    print (\"=== False postives ===\\n\")\r\n",
        "    for i in fp[:num_samples]:\r\n",
        "      print (f\" {X_test_raw[i]}\")\r\n",
        "      print (f\" true: {label_encoder.decode([y_test[i]])[0]}\")\r\n",
        "      print (f\" pred: {label_encoder.decode([y_pred[i]])[0]}\\n\")\r\n",
        "\r\n",
        "  if len(fn):\r\n",
        "    print (\"=== False negatives ===\\n\")\r\n",
        "    for i in fp[:num_samples]:\r\n",
        "      print (f\" {X_test_raw[i]}\")\r\n",
        "      print (f\" true: {label_encoder.decode([y_test[i]])[0]}\")\r\n",
        "      print (f\" pred: {label_encoder.decode([y_pred[i]])[0]}\\n\")"
      ],
      "execution_count": 744,
      "outputs": [
        {
          "output_type": "display_data",
          "data": {
            "application/vnd.jupyter.widget-view+json": {
              "model_id": "c8b698b7af8e45db8aec34dea259e02b",
              "version_minor": 0,
              "version_major": 2
            },
            "text/plain": [
              "interactive(children=(Dropdown(description='tag', index=20, options=('language-modeling', 'autoencoders', 'tim…"
            ]
          },
          "metadata": {
            "tags": []
          }
        }
      ]
    },
    {
      "cell_type": "code",
      "metadata": {
        "id": "7-2OgST5Dcrj"
      },
      "source": [
        "# Save artifacts \r\n",
        "\r\n",
        "dir = Path(\"rnn\")\r\n",
        "dir.mkdir(parents = True, exist_ok = True)\r\n",
        "tokeniser.save(fp = Path(dir, \"tokeniser.json\"))\r\n",
        "label_encoder.save(fp = Path(dir, \"label_encoder.json\"))\r\n",
        "torch.save(best_model.state_dict(), Path(dir, \"model.pt\"))\r\n",
        "\r\n",
        "with open(Path(dir, \"performance.json\"), \"w\") as fp:\r\n",
        "  json.dump(performance, indent = 2, sort_keys = False, fp = fp)"
      ],
      "execution_count": 745,
      "outputs": []
    },
    {
      "cell_type": "code",
      "metadata": {
        "colab": {
          "base_uri": "https://localhost:8080/"
        },
        "id": "YqAeYimsEUdv",
        "outputId": "c704dd8a-b57e-4ca3-85de-a6a1ba657228"
      },
      "source": [
        "# Inference\r\n",
        "\r\n",
        "# - initialise model \r\n",
        "\r\n",
        "model = RNN(embedding_dim = embedding_dim, vocab_size = vocab_size,\r\n",
        "            rnn_hidden_dim = rnn_hidden_dim, hidden_dim = hidden_dim,\r\n",
        "            dropout_p = dropout_p, num_classes = num_classes)\r\n",
        "\r\n",
        "model = model.to(device)\r\n",
        "\r\n",
        "print (f\"Model: \\n{model.named_parameters}\")"
      ],
      "execution_count": 746,
      "outputs": [
        {
          "output_type": "stream",
          "text": [
            "Model: \n",
            "<bound method Module.named_parameters of RNN(\n",
            "  (embeddings): Embedding(39, 128, padding_idx=0)\n",
            "  (rnn): GRU(128, 128, batch_first=True, bidirectional=True)\n",
            "  (dropout): Dropout(p=0.5, inplace=False)\n",
            "  (fc1): Linear(in_features=256, out_features=128, bias=True)\n",
            "  (fc2): Linear(in_features=128, out_features=35, bias=True)\n",
            ")>\n"
          ],
          "name": "stdout"
        }
      ]
    },
    {
      "cell_type": "code",
      "metadata": {
        "colab": {
          "base_uri": "https://localhost:8080/"
        },
        "id": "ixPOU8oYGSUw",
        "outputId": "1eaeb6a9-232b-4469-ebeb-8056220ae98c"
      },
      "source": [
        "# Load artificats\r\n",
        "\r\n",
        "device = torch.device(\"cpu\")\r\n",
        "tokeniser = Tokeniser.load(fp = Path(dir, \"tokeniser.json\"))\r\n",
        "\r\n",
        "label_encoder = LabelEncoder.load(fp = Path(dir, \"label_encoder.json\"))\r\n",
        "\r\n",
        "model = RNN(embedding_dim = embedding_dim, vocab_size = vocab_size, \r\n",
        "            rnn_hidden_dim = rnn_hidden_dim, hidden_dim = hidden_dim, dropout_p = dropout_p, num_classes = num_classes)\r\n",
        "\r\n",
        "model.load_state_dict(torch.load(Path(dir, \"model.pt\"), map_location = device))\r\n",
        "model.to(device)"
      ],
      "execution_count": 748,
      "outputs": [
        {
          "output_type": "execute_result",
          "data": {
            "text/plain": [
              "RNN(\n",
              "  (embeddings): Embedding(39, 128, padding_idx=0)\n",
              "  (rnn): GRU(128, 128, batch_first=True, bidirectional=True)\n",
              "  (dropout): Dropout(p=0.5, inplace=False)\n",
              "  (fc1): Linear(in_features=256, out_features=128, bias=True)\n",
              "  (fc2): Linear(in_features=128, out_features=35, bias=True)\n",
              ")"
            ]
          },
          "metadata": {
            "tags": []
          },
          "execution_count": 748
        }
      ]
    },
    {
      "cell_type": "code",
      "metadata": {
        "id": "8nAsBRd8HK8g"
      },
      "source": [
        "# Initialise trainer \r\n",
        "\r\n",
        "trainer = Trainer(model = model, device = device)"
      ],
      "execution_count": 749,
      "outputs": []
    },
    {
      "cell_type": "code",
      "metadata": {
        "id": "2yjEqMOLHUHO"
      },
      "source": [
        "# Dataloader\r\n",
        "\r\n",
        "text = \"Transfer learning with BERT for self supervised learning\"\r\n",
        "\r\n",
        "X = np.array(tokeniser.texts_to_sequences([preprocess(text)]))\r\n",
        "y_filler = label_encoder.encode([np.array([label_encoder.classes[0]] * len(X))])\r\n",
        "\r\n",
        "dataset = RNNTextDataset(X = X, y = y_filler)\r\n",
        "\r\n",
        "dataloader = dataset.create_dataloader(batch_size = batch_size)"
      ],
      "execution_count": 750,
      "outputs": []
    },
    {
      "cell_type": "code",
      "metadata": {
        "colab": {
          "base_uri": "https://localhost:8080/"
        },
        "id": "WlmF7K4_H6Q6",
        "outputId": "f4f2b6d9-c1d2-419b-dd23-6b5304b6ab1b"
      },
      "source": [
        "# Inference\r\n",
        "\r\n",
        "y_prob = trainer.predict_step(dataloader)\r\n",
        "\r\n",
        "y_pred = np.array([np.where(prob >= threshold, 1, 0) for prob in y_prob])\r\n",
        "\r\n",
        "label_encoder.decode(y_pred)"
      ],
      "execution_count": 751,
      "outputs": [
        {
          "output_type": "execute_result",
          "data": {
            "text/plain": [
              "[[]]"
            ]
          },
          "metadata": {
            "tags": []
          },
          "execution_count": 751
        }
      ]
    },
    {
      "cell_type": "code",
      "metadata": {
        "id": "-chVdrwJIOf4"
      },
      "source": [
        "### limitations: since we're using character embeddings our encoded sequences are quite long (>100), the RNNs may potentially be suffering from memory issues. \r\n",
        "# We also can't process our tokens in parallel because we're restricted by sequential processing."
      ],
      "execution_count": 752,
      "outputs": []
    },
    {
      "cell_type": "code",
      "metadata": {
        "id": "X9rzD8eWIbJ5"
      },
      "source": [
        ""
      ],
      "execution_count": null,
      "outputs": []
    }
  ]
}