{
  "nbformat": 4,
  "nbformat_minor": 0,
  "metadata": {
    "colab": {
      "name": "Back to Basics: A Refresher...",
      "provenance": [],
      "authorship_tag": "ABX9TyO80e8+wvkwWHrVQL5/EOvi",
      "include_colab_link": true
    },
    "kernelspec": {
      "name": "python3",
      "display_name": "Python 3"
    }
  },
  "cells": [
    {
      "cell_type": "markdown",
      "metadata": {
        "id": "view-in-github",
        "colab_type": "text"
      },
      "source": [
        "<a href=\"https://colab.research.google.com/github/Otobi1/Back-to-Basics-A-Refresher-/blob/master/Back_to_Basics_A_Refresher_.ipynb\" target=\"_parent\"><img src=\"https://colab.research.google.com/assets/colab-badge.svg\" alt=\"Open In Colab\"/></a>"
      ]
    },
    {
      "cell_type": "code",
      "metadata": {
        "colab": {
          "base_uri": "https://localhost:8080/"
        },
        "id": "lRG72cWvwhLJ",
        "outputId": "bbd9f647-fb33-45b1-f3b9-4195d7054a24"
      },
      "source": [
        "## Variables \r\n",
        "# Integer Variable \r\n",
        "\r\n",
        "x = 5\r\n",
        "print(x)\r\n",
        "print (type(x))"
      ],
      "execution_count": 1,
      "outputs": [
        {
          "output_type": "stream",
          "text": [
            "5\n",
            "<class 'int'>\n"
          ],
          "name": "stdout"
        }
      ]
    },
    {
      "cell_type": "code",
      "metadata": {
        "colab": {
          "base_uri": "https://localhost:8080/"
        },
        "id": "5dCJYvDYxeJK",
        "outputId": "a2040829-6554-4f7a-c609-d2e7b2603bf0"
      },
      "source": [
        "# String Variable \r\n",
        "\r\n",
        "x = \"hello\"\r\n",
        "print(x)\r\n",
        "print (type(x))"
      ],
      "execution_count": 2,
      "outputs": [
        {
          "output_type": "stream",
          "text": [
            "hello\n",
            "<class 'str'>\n"
          ],
          "name": "stdout"
        }
      ]
    },
    {
      "cell_type": "code",
      "metadata": {
        "colab": {
          "base_uri": "https://localhost:8080/"
        },
        "id": "X0L_UCnAxpyo",
        "outputId": "47c48778-514e-4de7-ad59-424bd5c05920"
      },
      "source": [
        "# Integer Variable \r\n",
        "\r\n",
        "x = 5\r\n",
        "print (x, type(x))"
      ],
      "execution_count": 3,
      "outputs": [
        {
          "output_type": "stream",
          "text": [
            "5 <class 'int'>\n"
          ],
          "name": "stdout"
        }
      ]
    },
    {
      "cell_type": "code",
      "metadata": {
        "colab": {
          "base_uri": "https://localhost:8080/"
        },
        "id": "yhtosOX0xxCX",
        "outputId": "912685d0-b82c-40fa-8d85-f76b5f0e6da7"
      },
      "source": [
        "# Float Variable \r\n",
        "\r\n",
        "x = 5.0\r\n",
        "print (x, type(x))"
      ],
      "execution_count": 4,
      "outputs": [
        {
          "output_type": "stream",
          "text": [
            "5.0 <class 'float'>\n"
          ],
          "name": "stdout"
        }
      ]
    },
    {
      "cell_type": "code",
      "metadata": {
        "colab": {
          "base_uri": "https://localhost:8080/"
        },
        "id": "Uw278PP7x8Jn",
        "outputId": "34f06ce1-3104-4b29-c847-c6855fb1e522"
      },
      "source": [
        "# Text Variable \r\n",
        "\r\n",
        "x = \"5\"\r\n",
        "print (x, type(x))"
      ],
      "execution_count": 5,
      "outputs": [
        {
          "output_type": "stream",
          "text": [
            "5 <class 'str'>\n"
          ],
          "name": "stdout"
        }
      ]
    },
    {
      "cell_type": "code",
      "metadata": {
        "colab": {
          "base_uri": "https://localhost:8080/"
        },
        "id": "XFaMILPEyBci",
        "outputId": "deb20372-5b0e-4f24-c477-170e709ac652"
      },
      "source": [
        "# Boolean Variable \r\n",
        "\r\n",
        "x = True\r\n",
        "print (x, type(x))"
      ],
      "execution_count": 6,
      "outputs": [
        {
          "output_type": "stream",
          "text": [
            "True <class 'bool'>\n"
          ],
          "name": "stdout"
        }
      ]
    },
    {
      "cell_type": "code",
      "metadata": {
        "colab": {
          "base_uri": "https://localhost:8080/"
        },
        "id": "8eNKACtGyF3D",
        "outputId": "04e3cddf-d9d0-4993-f6f5-91ca8f9f617e"
      },
      "source": [
        "# Operations with variables \r\n",
        "\r\n",
        "a = 1\r\n",
        "b = 2\r\n",
        "c = a + b\r\n",
        "print (c)"
      ],
      "execution_count": 7,
      "outputs": [
        {
          "output_type": "stream",
          "text": [
            "3\n"
          ],
          "name": "stdout"
        }
      ]
    },
    {
      "cell_type": "code",
      "metadata": {
        "colab": {
          "base_uri": "https://localhost:8080/"
        },
        "id": "7fZGM_puyPBy",
        "outputId": "2430c50e-11b0-44d8-8b5c-23aa58ad3252"
      },
      "source": [
        "# It is important to know the variable types we are working with \r\n",
        "# see a common type of mistake below \r\n",
        "\r\n",
        "# these are integer variables \r\n",
        "a = 5\r\n",
        "b = 3\r\n",
        "print (a + b)\r\n",
        "\r\n",
        "# these are string variables \r\n",
        "a = \"5\"\r\n",
        "b = \"3\"\r\n",
        "print (a + b)"
      ],
      "execution_count": 9,
      "outputs": [
        {
          "output_type": "stream",
          "text": [
            "8\n",
            "53\n"
          ],
          "name": "stdout"
        }
      ]
    },
    {
      "cell_type": "code",
      "metadata": {
        "colab": {
          "base_uri": "https://localhost:8080/"
        },
        "id": "BqHY8r0FyjFR",
        "outputId": "53ece71c-4a22-43cb-c6fc-774a2d8f2801"
      },
      "source": [
        "## Lists \r\n",
        "# Lists are ordered, mutable (changeable) collection of values that are comma separated \r\n",
        "# and enclosed with square brackets. A list can have different types of variables \r\n",
        "\r\n",
        "# Creating a list\r\n",
        "\r\n",
        "x = [3, \"hello\", 1.2]\r\n",
        "print (x)"
      ],
      "execution_count": 10,
      "outputs": [
        {
          "output_type": "stream",
          "text": [
            "[3, 'hello', 1.2]\n"
          ],
          "name": "stdout"
        }
      ]
    },
    {
      "cell_type": "code",
      "metadata": {
        "colab": {
          "base_uri": "https://localhost:8080/"
        },
        "id": "ofQXXIDaz-7F",
        "outputId": "14ca2192-17f9-4021-c873-bb1a6dc1713e"
      },
      "source": [
        "# Getting the length of a list \r\n",
        "\r\n",
        "len (x)"
      ],
      "execution_count": 11,
      "outputs": [
        {
          "output_type": "execute_result",
          "data": {
            "text/plain": [
              "3"
            ]
          },
          "metadata": {
            "tags": []
          },
          "execution_count": 11
        }
      ]
    },
    {
      "cell_type": "code",
      "metadata": {
        "colab": {
          "base_uri": "https://localhost:8080/"
        },
        "id": "syYaSP0o0EGF",
        "outputId": "ce6d3cfa-0682-4c1c-dac9-2b79d19645bf"
      },
      "source": [
        "# We can add to a list using the append function \r\n",
        "\r\n",
        "x.append(7)\r\n",
        "print (x)\r\n",
        "print (len(x))"
      ],
      "execution_count": 12,
      "outputs": [
        {
          "output_type": "stream",
          "text": [
            "[3, 'hello', 1.2, 7]\n",
            "4\n"
          ],
          "name": "stdout"
        }
      ]
    },
    {
      "cell_type": "code",
      "metadata": {
        "colab": {
          "base_uri": "https://localhost:8080/"
        },
        "id": "KDmkULl_0QK6",
        "outputId": "796f6f24-6484-40a7-c28b-fce6a41a2e6d"
      },
      "source": [
        "# We can replace existing items on a list \r\n",
        "\r\n",
        "x[1] = \"bye\"\r\n",
        "print (x)"
      ],
      "execution_count": 13,
      "outputs": [
        {
          "output_type": "stream",
          "text": [
            "[3, 'bye', 1.2, 7]\n"
          ],
          "name": "stdout"
        }
      ]
    },
    {
      "cell_type": "code",
      "metadata": {
        "colab": {
          "base_uri": "https://localhost:8080/"
        },
        "id": "5G4-Hbp40alF",
        "outputId": "cbf69e9f-737a-4f0e-bc73-983fb59068d3"
      },
      "source": [
        "# We can perform operations with lists \r\n",
        "\r\n",
        "y = [2.4, \"world\"]\r\n",
        "z = x + y\r\n",
        "print (z)"
      ],
      "execution_count": 14,
      "outputs": [
        {
          "output_type": "stream",
          "text": [
            "[3, 'bye', 1.2, 7, 2.4, 'world']\n"
          ],
          "name": "stdout"
        }
      ]
    },
    {
      "cell_type": "code",
      "metadata": {
        "id": "RS42aU1-0sMx"
      },
      "source": [
        "## Indexing \r\n",
        "# Indexing and slicing from lists allows the retrieval of specific values from the list.\r\n",
        "# Indices can be positive (starting from 0) or negative (-1 and lower, where -1 is the last item in the list)\r\n",
        "\r\n",
        "# Example x = [3, \"hello\", 1.2]\r\n",
        "# -ive indices: -3 = 3, -2 = \"hello\", -1 = 1.2 \r\n",
        "# +ive indices: 0 = 3, 1 = \"hello\", 2 = 1.2 "
      ],
      "execution_count": 15,
      "outputs": []
    },
    {
      "cell_type": "code",
      "metadata": {
        "colab": {
          "base_uri": "https://localhost:8080/"
        },
        "id": "Hch1IWND4XOs",
        "outputId": "6bec438e-4f49-45ff-df9b-dd81bf9a7529"
      },
      "source": [
        "# Indexing \r\n",
        "x = [3, \"hello\", 1.2]\r\n",
        "\r\n",
        "print (\"x[0]:\", x[0])\r\n",
        "print (\"x[1]:\", x[1])\r\n",
        "print (\"x[-1]:\", x[-1]) # last item on the list \r\n",
        "print (\"x[-2]:\", x[-2]) # second to the last item on the list"
      ],
      "execution_count": 16,
      "outputs": [
        {
          "output_type": "stream",
          "text": [
            "x[0]: 3\n",
            "x[1]: hello\n",
            "x[-1]: 1.2\n",
            "x[-2]: hello\n"
          ],
          "name": "stdout"
        }
      ]
    },
    {
      "cell_type": "code",
      "metadata": {
        "colab": {
          "base_uri": "https://localhost:8080/"
        },
        "id": "BgwLdpc04-IU",
        "outputId": "89e3b3c6-aaee-4e7f-b2c1-d00cb00f8d51"
      },
      "source": [
        "# Slicing \r\n",
        "print (\"x[:]:\", x[:]) # all indices\r\n",
        "print (\"x[1:]:\", x[1:]) # index 1 to the end of the list\r\n",
        "print (\"x[1:2]:\", x[1:2]) # index 1 to index 2 (not including the content of index 2)\r\n",
        "print (\"x[:-1]:\", x[:-1]) # index 0 to the last index (not incl., contents of the last index)"
      ],
      "execution_count": 17,
      "outputs": [
        {
          "output_type": "stream",
          "text": [
            "x[:]: [3, 'hello', 1.2]\n",
            "x[1:]: ['hello', 1.2]\n",
            "x[1:2]: ['hello']\n",
            "x[:-1]: [3, 'hello']\n"
          ],
          "name": "stdout"
        }
      ]
    },
    {
      "cell_type": "code",
      "metadata": {
        "colab": {
          "base_uri": "https://localhost:8080/"
        },
        "id": "usUBZCg15pa-",
        "outputId": "1950fc4d-ea83-4f64-c368-a18200dfddb8"
      },
      "source": [
        "## Tuples \r\n",
        "# these are collections that are ordered and immutable (unchangeable). \r\n",
        "# You can use these to store values that will never be changed. \r\n",
        "\r\n",
        "# Creating a tuple \r\n",
        "x = (3.0, \"hello\") # tuples start and ends with ()\r\n",
        "print (x)"
      ],
      "execution_count": 18,
      "outputs": [
        {
          "output_type": "stream",
          "text": [
            "(3.0, 'hello')\n"
          ],
          "name": "stdout"
        }
      ]
    },
    {
      "cell_type": "code",
      "metadata": {
        "colab": {
          "base_uri": "https://localhost:8080/"
        },
        "id": "um9Oy7lQ93cD",
        "outputId": "11fc4086-7126-4daa-9f4b-f5777598463d"
      },
      "source": [
        "# Adding values to a tuple \r\n",
        "x = x + (5.6, 4)\r\n",
        "print (x)"
      ],
      "execution_count": 19,
      "outputs": [
        {
          "output_type": "stream",
          "text": [
            "(3.0, 'hello', 5.6, 4)\n"
          ],
          "name": "stdout"
        }
      ]
    },
    {
      "cell_type": "code",
      "metadata": {
        "colab": {
          "base_uri": "https://localhost:8080/",
          "height": 222
        },
        "id": "Sb8HICXX-CXO",
        "outputId": "91452519-67db-4086-b6e4-adbd58cac739"
      },
      "source": [
        "# Try to change the contents of a tuple, you'll get an error\r\n",
        "\r\n",
        "print (x[0]) # position zero is originally 3.0\r\n",
        "\r\n",
        "# attempting to  change the contents in this position \r\n",
        "\r\n",
        "x[0] = 1.2"
      ],
      "execution_count": 21,
      "outputs": [
        {
          "output_type": "stream",
          "text": [
            "3.0\n"
          ],
          "name": "stdout"
        },
        {
          "output_type": "error",
          "ename": "TypeError",
          "evalue": "ignored",
          "traceback": [
            "\u001b[0;31m---------------------------------------------------------------------------\u001b[0m",
            "\u001b[0;31mTypeError\u001b[0m                                 Traceback (most recent call last)",
            "\u001b[0;32m<ipython-input-21-06349fcdb252>\u001b[0m in \u001b[0;36m<module>\u001b[0;34m()\u001b[0m\n\u001b[1;32m      5\u001b[0m \u001b[0;31m# attempting to  change the contents in this position\u001b[0m\u001b[0;34m\u001b[0m\u001b[0;34m\u001b[0m\u001b[0;34m\u001b[0m\u001b[0m\n\u001b[1;32m      6\u001b[0m \u001b[0;34m\u001b[0m\u001b[0m\n\u001b[0;32m----> 7\u001b[0;31m \u001b[0mx\u001b[0m\u001b[0;34m[\u001b[0m\u001b[0;36m0\u001b[0m\u001b[0;34m]\u001b[0m \u001b[0;34m=\u001b[0m \u001b[0;36m1.2\u001b[0m\u001b[0;34m\u001b[0m\u001b[0;34m\u001b[0m\u001b[0m\n\u001b[0m",
            "\u001b[0;31mTypeError\u001b[0m: 'tuple' object does not support item assignment"
          ]
        }
      ]
    },
    {
      "cell_type": "code",
      "metadata": {
        "id": "3Qm4XP6P-QDf"
      },
      "source": [
        "## Dictionaries \r\n",
        "# These are unordered, mutable and indexed collection of key-value pairs \r\n",
        "# You can retrieve values based on the key. \r\n",
        "# A dictionary cannot have two same keys. \r\n",
        "\r\n",
        "# Example \r\n",
        "# person = {\"name\": \"'tobi\", \r\n",
        "#            \"eye_colour\": \"brown\"}"
      ],
      "execution_count": 22,
      "outputs": []
    },
    {
      "cell_type": "code",
      "metadata": {
        "colab": {
          "base_uri": "https://localhost:8080/"
        },
        "id": "ACsMiq4GBBAj",
        "outputId": "11863b1a-c4f2-4ff7-a8b6-3c2da0243cf7"
      },
      "source": [
        "# Creating a dictionary\r\n",
        "person = {\"name\": \"'tobi\", \r\n",
        "          \"eye_colour\": \"brown\"}\r\n",
        "print (person)\r\n",
        "print (person[\"name\"])\r\n",
        "print (person[\"eye_colour\"])"
      ],
      "execution_count": 23,
      "outputs": [
        {
          "output_type": "stream",
          "text": [
            "{'name': \"'tobi\", 'eye_colour': 'brown'}\n",
            "'tobi\n",
            "brown\n"
          ],
          "name": "stdout"
        }
      ]
    },
    {
      "cell_type": "code",
      "metadata": {
        "colab": {
          "base_uri": "https://localhost:8080/"
        },
        "id": "n1ik8BoMBWWp",
        "outputId": "9fe863a6-c38b-45b4-c85f-51dbc0471418"
      },
      "source": [
        "# Changing the value for a key \r\n",
        "\r\n",
        "person[\"eye_colour\"] = \"dark brown\"\r\n",
        "\r\n",
        "print (person)"
      ],
      "execution_count": 24,
      "outputs": [
        {
          "output_type": "stream",
          "text": [
            "{'name': \"'tobi\", 'eye_colour': 'dark brown'}\n"
          ],
          "name": "stdout"
        }
      ]
    },
    {
      "cell_type": "code",
      "metadata": {
        "colab": {
          "base_uri": "https://localhost:8080/"
        },
        "id": "GjmWO4dzCh9S",
        "outputId": "7c5c9d02-488d-4749-8400-76f2a3acc49a"
      },
      "source": [
        "# Adding a new key-value pair\r\n",
        "person[\"age\"] = 30\r\n",
        "\r\n",
        "print (person)"
      ],
      "execution_count": 25,
      "outputs": [
        {
          "output_type": "stream",
          "text": [
            "{'name': \"'tobi\", 'eye_colour': 'dark brown', 'age': 30}\n"
          ],
          "name": "stdout"
        }
      ]
    },
    {
      "cell_type": "code",
      "metadata": {
        "colab": {
          "base_uri": "https://localhost:8080/"
        },
        "id": "bn16jeERCrVc",
        "outputId": "78ac4a6b-edd9-47aa-8050-b8cf7ca4fb10"
      },
      "source": [
        "# Length of a dictionary\r\n",
        "\r\n",
        "print (len(person))"
      ],
      "execution_count": 26,
      "outputs": [
        {
          "output_type": "stream",
          "text": [
            "3\n"
          ],
          "name": "stdout"
        }
      ]
    },
    {
      "cell_type": "code",
      "metadata": {
        "colab": {
          "base_uri": "https://localhost:8080/",
          "height": 53
        },
        "id": "dPV9dG7jCzrl",
        "outputId": "2185e30c-965f-40b5-e370-6a0108e8a5b6"
      },
      "source": [
        "# If statements \r\n",
        "# if statements in programming as in english is used to imply conditionality. \r\n",
        "# the conditions are defined by words \"if\", \"elif\" (which means else if) and \"else\". \r\n",
        "# there can be as many elif statements as we want. \r\n",
        "\r\n",
        "\"\"\"\r\n",
        "Example \r\n",
        "\r\n",
        "x = 4\r\n",
        "if x < 1:\r\n",
        "  score = \"low\"\r\n",
        "elif x <= 4: \r\n",
        "  score = \"medium\"\r\n",
        "else:\r\n",
        "  score = \"high\"\r\n",
        "print (score)\r\n",
        "\"\"\""
      ],
      "execution_count": 27,
      "outputs": [
        {
          "output_type": "execute_result",
          "data": {
            "application/vnd.google.colaboratory.intrinsic+json": {
              "type": "string"
            },
            "text/plain": [
              "'\\nExample \\n\\nx = 4\\nif x < 1:\\n  score = \"low\"\\nelif x <= 4: \\n  score = \"medium\"\\nelse:\\n  score = \"high\"\\nprint (score)\\n'"
            ]
          },
          "metadata": {
            "tags": []
          },
          "execution_count": 27
        }
      ]
    },
    {
      "cell_type": "code",
      "metadata": {
        "colab": {
          "base_uri": "https://localhost:8080/"
        },
        "id": "XjiY66sVEcO4",
        "outputId": "468f06d7-8d48-41f7-d777-364c7b53d220"
      },
      "source": [
        "# if statement \r\n",
        "x = 4 \r\n",
        "if x < 1:\r\n",
        "  score = \"low\"\r\n",
        "elif x <= 4:\r\n",
        "  score = \"medium\"\r\n",
        "else:\r\n",
        "  score = \"high\"\r\n",
        "\r\n",
        "print (score)"
      ],
      "execution_count": 28,
      "outputs": [
        {
          "output_type": "stream",
          "text": [
            "medium\n"
          ],
          "name": "stdout"
        }
      ]
    },
    {
      "cell_type": "code",
      "metadata": {
        "colab": {
          "base_uri": "https://localhost:8080/"
        },
        "id": "KNAJZKcAE4sj",
        "outputId": "b6ae5dd3-6589-4441-dfe9-f3b5522460c9"
      },
      "source": [
        "# If statement with a boolean\r\n",
        "\r\n",
        "x = True \r\n",
        "if x: \r\n",
        "  print (\"it worked almost like magic\")"
      ],
      "execution_count": 29,
      "outputs": [
        {
          "output_type": "stream",
          "text": [
            "it worked almost like magic\n"
          ],
          "name": "stdout"
        }
      ]
    },
    {
      "cell_type": "code",
      "metadata": {
        "id": "mnFK9326FCi4"
      },
      "source": [
        "## Loops (for loops and while loops)\r\n",
        "# First, \"for loops\"\r\n",
        "# A \"for loop\" can iterate over a collection of values (lists, tuples, dictionaries, etc)\r\n",
        "# The indented code is executed for each item in the collection of values "
      ],
      "execution_count": 30,
      "outputs": []
    },
    {
      "cell_type": "code",
      "metadata": {
        "colab": {
          "base_uri": "https://localhost:8080/"
        },
        "id": "Gt2YxfadGKWc",
        "outputId": "6496dfb1-fe58-4927-f151-6cc5bb27f9aa"
      },
      "source": [
        "# For loop\r\n",
        "\r\n",
        "veggies = [\"carrots\", \"broccoli\", \"beans\", \"efo tete\"]\r\n",
        "for veggie in veggies:\r\n",
        "  print(veggie)"
      ],
      "execution_count": 31,
      "outputs": [
        {
          "output_type": "stream",
          "text": [
            "carrots\n",
            "broccoli\n",
            "beans\n",
            "efo tete\n"
          ],
          "name": "stdout"
        }
      ]
    },
    {
      "cell_type": "code",
      "metadata": {
        "id": "2hF1x4E-GYli"
      },
      "source": [
        "# When the loop encounters a break commmand, the loop will terminate immediately.\r\n",
        "# If there were more items in the list, they will not be processed. "
      ],
      "execution_count": 32,
      "outputs": []
    },
    {
      "cell_type": "code",
      "metadata": {
        "colab": {
          "base_uri": "https://localhost:8080/"
        },
        "id": "NT7Ne36VGpo3",
        "outputId": "3cea9e7c-33e1-48ed-bb39-68044adac646"
      },
      "source": [
        "# break from a for loop \r\n",
        "\r\n",
        "veggies = [\"carrots\", \"broccoli\", \"beans\", \"efo tete\"]\r\n",
        "for veggie in veggies:\r\n",
        "  if veggie == \"broccoli\":\r\n",
        "    break\r\n",
        "  print (veggie)"
      ],
      "execution_count": 33,
      "outputs": [
        {
          "output_type": "stream",
          "text": [
            "carrots\n"
          ],
          "name": "stdout"
        }
      ]
    },
    {
      "cell_type": "code",
      "metadata": {
        "id": "aS9q-7DXG5Z9"
      },
      "source": [
        "# When the loop encounters the continue command, the loop will skip all other operations for that item only in the list. \r\n",
        "# If there were more items in the list, the loop will continue normally. "
      ],
      "execution_count": 34,
      "outputs": []
    },
    {
      "cell_type": "code",
      "metadata": {
        "colab": {
          "base_uri": "https://localhost:8080/"
        },
        "id": "rnMnJKt-HLb4",
        "outputId": "098c141f-b1a7-42c8-daad-2dc872dba1b5"
      },
      "source": [
        "# continue to the next iteration \r\n",
        "\r\n",
        "veggies = [\"carrots\", \"broccoli\", \"beans\", \"efo tete\"]\r\n",
        "for veggie in veggies:\r\n",
        "  if veggie == \"broccoli\":\r\n",
        "    continue\r\n",
        "  print (veggie)"
      ],
      "execution_count": 35,
      "outputs": [
        {
          "output_type": "stream",
          "text": [
            "carrots\n",
            "beans\n",
            "efo tete\n"
          ],
          "name": "stdout"
        }
      ]
    },
    {
      "cell_type": "code",
      "metadata": {
        "id": "IjGUq58xHYcm"
      },
      "source": [
        "# Now, \"while loops\"\r\n",
        "# A while loop can perform repeated as long as the condition is true. \r\n",
        "# We can use \"continue\" and \"break\" commands in while loops as well. "
      ],
      "execution_count": 36,
      "outputs": []
    },
    {
      "cell_type": "code",
      "metadata": {
        "colab": {
          "base_uri": "https://localhost:8080/"
        },
        "id": "4lUszCMOHpK-",
        "outputId": "661b2e38-b34d-4a2b-9a86-720349f0c8f0"
      },
      "source": [
        "# While loop\r\n",
        "x = 3\r\n",
        "while x > 0:\r\n",
        "  x -= 1 # same as x = x -1\r\n",
        "  print (x)"
      ],
      "execution_count": 37,
      "outputs": [
        {
          "output_type": "stream",
          "text": [
            "2\n",
            "1\n",
            "0\n"
          ],
          "name": "stdout"
        }
      ]
    },
    {
      "cell_type": "code",
      "metadata": {
        "colab": {
          "base_uri": "https://localhost:8080/",
          "height": 89
        },
        "id": "E78YEMWZH1Uo",
        "outputId": "2904d2b3-4788-4f27-b450-4d4ea0939c1c"
      },
      "source": [
        "## Functions \r\n",
        "# Functions provides a way to modularise reusable pieces of code\r\n",
        "# They are defined by the keyword \"def\" which stands for definition. \r\n",
        "# They can have the following components \r\n",
        "\r\n",
        "\"\"\"\r\n",
        "def add_two(x): # where \"add_two\" is the function name and \"x\" is the input parameter\r\n",
        "  Increase score by 2. # You can have doc strings within functions for description typically enclosed in the three quotation marks starting and ending the docstring\r\n",
        "  x += 2 # operation\r\n",
        "  return x # output\r\n",
        "\"\"\""
      ],
      "execution_count": 40,
      "outputs": [
        {
          "output_type": "execute_result",
          "data": {
            "application/vnd.google.colaboratory.intrinsic+json": {
              "type": "string"
            },
            "text/plain": [
              "'\\ndef add_two(x): # where \"add_two\" is the function name and \"x\" is the input parameter\\n  Increase score by 2. # You can have doc strings within functions for description typically enclosed in the three quotation marks starting and ending the docstring\\n  x += 2 # operation\\n  return x # output\\n'"
            ]
          },
          "metadata": {
            "tags": []
          },
          "execution_count": 40
        }
      ]
    },
    {
      "cell_type": "code",
      "metadata": {
        "id": "ybNRPVYlJkj8"
      },
      "source": [
        "# Define a function\r\n",
        "def add_two(x):\r\n",
        "  \"\"\"Increase x by 2.\"\"\" # Explains what this function will do\r\n",
        "  x += 2\r\n",
        "  return x"
      ],
      "execution_count": 41,
      "outputs": []
    },
    {
      "cell_type": "code",
      "metadata": {
        "colab": {
          "base_uri": "https://localhost:8080/"
        },
        "id": "Isu_158LLAad",
        "outputId": "291f47e1-5e02-47dd-babe-d3f4d2573616"
      },
      "source": [
        "# Here are the components that may be required when we want to use the function \r\n",
        "# We need to ensure that the function name and input parameters match how we defined the fucntion above \r\n",
        "\r\n",
        "score = 0\r\n",
        "new_score = add_two(x = score)\r\n",
        "print (new_score)"
      ],
      "execution_count": 43,
      "outputs": [
        {
          "output_type": "stream",
          "text": [
            "2\n"
          ],
          "name": "stdout"
        }
      ]
    },
    {
      "cell_type": "code",
      "metadata": {
        "id": "xT9VHdcpLYrJ"
      },
      "source": [
        "# A function can also have many input parameters and outputs as we want\r\n",
        "\r\n",
        "# A function with multiple inputs \r\n",
        "\r\n",
        "def join_name(first_name, last_name):\r\n",
        "  \"\"\"Combine first name and last name.\"\"\"\r\n",
        "  joined_name = first_name + \" \" + last_name\r\n",
        "  return joined_name"
      ],
      "execution_count": 44,
      "outputs": []
    },
    {
      "cell_type": "code",
      "metadata": {
        "colab": {
          "base_uri": "https://localhost:8080/"
        },
        "id": "n69616prMID8",
        "outputId": "912bc81f-473c-4794-d5ab-a3a5d2953744"
      },
      "source": [
        "# Using the function \r\n",
        "fn = \"'tobi\"\r\n",
        "ln = \"OLUTUNMBI\"\r\n",
        "joined_name = join_name(\r\n",
        "    first_name = fn, last_name = ln)\r\n",
        "print (joined_name)"
      ],
      "execution_count": 45,
      "outputs": [
        {
          "output_type": "stream",
          "text": [
            "'tobi OLUTUNMBI\n"
          ],
          "name": "stdout"
        }
      ]
    },
    {
      "cell_type": "code",
      "metadata": {
        "id": "CN5l8S82Mns9"
      },
      "source": [
        "# It is good practice to use keyword arguments when using a function so its clear what input variable belongs to which function input parameter. \r\n",
        "# You may see \"*args\" and \"**kwargs\" which stands for arguments and keyword arguments. \r\n",
        "# You can extract them when they are passed into a function\r\n",
        "# * means that any number of arguments and keyword arguments can be passed into the function"
      ],
      "execution_count": 46,
      "outputs": []
    },
    {
      "cell_type": "code",
      "metadata": {
        "id": "zpT02BXShqFg"
      },
      "source": [
        "def f(*args, **kwargs):\r\n",
        "  x = args[0]\r\n",
        "  y = kwargs.get(\"y\")\r\n",
        "  print(f\"x: {x}, y: {y}\")"
      ],
      "execution_count": 47,
      "outputs": []
    },
    {
      "cell_type": "code",
      "metadata": {
        "colab": {
          "base_uri": "https://localhost:8080/"
        },
        "id": "8zO_g2MCiDYV",
        "outputId": "e0b55c53-8acd-48c4-c609-360a3cadee6b"
      },
      "source": [
        "f(5, y = 2)"
      ],
      "execution_count": 48,
      "outputs": [
        {
          "output_type": "stream",
          "text": [
            "x: 5, y: 2\n"
          ],
          "name": "stdout"
        }
      ]
    },
    {
      "cell_type": "code",
      "metadata": {
        "colab": {
          "base_uri": "https://localhost:8080/",
          "height": 142
        },
        "id": "98VikZbRiHRL",
        "outputId": "4cae31bc-2607-4291-b342-b46654d3ed53"
      },
      "source": [
        "## Classes \r\n",
        "# Classes are object constructors and are a fundamental component of object oriented programming in python. \r\n",
        "# They are made up of a set of functions that define the class and its operations\r\n",
        "\r\n",
        "\"\"\"\r\n",
        "class Pet(object): # Pet here is the class name \r\n",
        "  docstring Class object for a pet\r\n",
        "\r\n",
        "  def __init__(self, species, name): # this is a function \r\n",
        "    docstring Initialise a Pet\r\n",
        "    self.species = species \r\n",
        "    self.name = name \r\n",
        "\r\n",
        "  def __str__(self): # this is a function\r\n",
        "    docstring Output when printing an instance of a Pet\r\n",
        "    return f\"{self.species} named {self.name}\"\r\n",
        "\r\n",
        "  def change_name(self, new_name): # this is a function \r\n",
        "    docstring Change the name of your Pet\r\n",
        "    self.name = new_name \r\n",
        "\"\"\""
      ],
      "execution_count": 49,
      "outputs": [
        {
          "output_type": "execute_result",
          "data": {
            "application/vnd.google.colaboratory.intrinsic+json": {
              "type": "string"
            },
            "text/plain": [
              "'\\nclass Pet(object): # Pet here is the class name \\n  docstring Class object for a pet\\n\\n  def __init__(self, species, name): # this is a function \\n    docstring Initialise a Pet\\n    self.species = species \\n    self.name = name \\n\\n  def __str__(self): # this is a function\\n    docstring Output when printing an instance of a Pet\\n    return f\"{self.species} named {self.name}\"\\n\\n  def change_name(self, new_name): # this is a function \\n    docstring Change the name of your Pet\\n    self.name = new_name \\n'"
            ]
          },
          "metadata": {
            "tags": []
          },
          "execution_count": 49
        }
      ]
    },
    {
      "cell_type": "code",
      "metadata": {
        "id": "spMPVYTMmSZG"
      },
      "source": [
        "## Magic functions \r\n",
        "# Classes can be customised with magic functions like \"__init__\" and \"__str__\" to enable powerful operations\r\n",
        "\r\n",
        "# The __init__ function is used when an instance of the class is initialised"
      ],
      "execution_count": 50,
      "outputs": []
    },
    {
      "cell_type": "code",
      "metadata": {
        "id": "SABxLdDIm0kJ"
      },
      "source": [
        "# Creating the class \r\n",
        "\r\n",
        "class Pet(object):\r\n",
        "  \"\"\"Class object for pet.\"\"\"\r\n",
        "\r\n",
        "  def __init__(self, species, name):\r\n",
        "    \"\"\"Initialise a pet.\"\"\"\r\n",
        "    self.species = species \r\n",
        "    self.name = name"
      ],
      "execution_count": 51,
      "outputs": []
    },
    {
      "cell_type": "code",
      "metadata": {
        "colab": {
          "base_uri": "https://localhost:8080/"
        },
        "id": "Ai5csWnLnUgs",
        "outputId": "127a2756-742e-4985-fa5b-a3b3736d3579"
      },
      "source": [
        "# Creating an instance of a class \r\n",
        "\r\n",
        "my_dog = Pet(species = \"dog\", \r\n",
        "             name = \"Chester\")\r\n",
        "print (my_dog)\r\n",
        "print (my_dog.name)"
      ],
      "execution_count": 52,
      "outputs": [
        {
          "output_type": "stream",
          "text": [
            "<__main__.Pet object at 0x7f4927faa6a0>\n",
            "Chester\n"
          ],
          "name": "stdout"
        }
      ]
    },
    {
      "cell_type": "code",
      "metadata": {
        "id": "9uYXIeZ7nmJL"
      },
      "source": [
        "# Given that the print (my_dog) command returned a statement that is not so relevant, we can fix that with the __str__ function"
      ],
      "execution_count": 53,
      "outputs": []
    },
    {
      "cell_type": "code",
      "metadata": {
        "id": "74U_-wCWn4Q9"
      },
      "source": [
        "# Creating the class \r\n",
        "\r\n",
        "class Pet(object):\r\n",
        "  \"\"\"Class object for pet.\"\"\"\r\n",
        "\r\n",
        "  def __init__(self, species, name):\r\n",
        "    \"\"\"Initialise a pet.\"\"\"\r\n",
        "    self.species = species \r\n",
        "    self.name = name\r\n",
        "\r\n",
        "  def __str__(self):\r\n",
        "    \"\"\"Output when printing an instance of a pet.\"\"\"\r\n",
        "    return f\"my {self.species} is called {self.name}\""
      ],
      "execution_count": 55,
      "outputs": []
    },
    {
      "cell_type": "code",
      "metadata": {
        "colab": {
          "base_uri": "https://localhost:8080/"
        },
        "id": "sLHAnyz0oQL3",
        "outputId": "866edd45-e1be-4360-b1a2-17ffd8fc91d5"
      },
      "source": [
        "# Creating an instance of a class \r\n",
        "\r\n",
        "my_dog = Pet(species = \"dog\", \r\n",
        "             name = \"Chester\")\r\n",
        "print (my_dog)\r\n",
        "print (my_dog.name)"
      ],
      "execution_count": 56,
      "outputs": [
        {
          "output_type": "stream",
          "text": [
            "my dog is called Chester\n",
            "Chester\n"
          ],
          "name": "stdout"
        }
      ]
    },
    {
      "cell_type": "code",
      "metadata": {
        "id": "LDD0NlQGoeYq"
      },
      "source": [
        "# there are additional in_built functions such as __len__, __iter__, __getitem__ etc., "
      ],
      "execution_count": 57,
      "outputs": []
    },
    {
      "cell_type": "code",
      "metadata": {
        "id": "fqFTjPuJotfV"
      },
      "source": [
        "# Object Functions \r\n",
        "# Besides magic functions, classes can also have object functions\r\n",
        "\r\n",
        "# Creating the class \r\n",
        "\r\n",
        "class Pet(object):\r\n",
        "  \"\"\"Class object for pet.\"\"\"\r\n",
        "\r\n",
        "  def __init__(self, species, name):\r\n",
        "    \"\"\"Initialise a pet.\"\"\"\r\n",
        "    self.species = species \r\n",
        "    self.name = name\r\n",
        "\r\n",
        "  def __str__(self):\r\n",
        "    \"\"\"Output when printing an instance of a pet.\"\"\"\r\n",
        "    return f\"my {self.species} is called {self.name}\"\r\n",
        "\r\n",
        "  def change_name(self, new_name):\r\n",
        "    \"\"\"Change the name of your pet.\"\"\"\r\n",
        "    self.name = new_name"
      ],
      "execution_count": 3,
      "outputs": []
    },
    {
      "cell_type": "code",
      "metadata": {
        "colab": {
          "base_uri": "https://localhost:8080/"
        },
        "id": "GrB46RhepFc-",
        "outputId": "e93be749-482a-4b3c-ccd2-8dc5b4d5fb7b"
      },
      "source": [
        "# Creating an instance of a class\r\n",
        "my_dog = Pet(species = \"dog\", name = \"Chester\")\r\n",
        "print (my_dog)\r\n",
        "print (my_dog.name)"
      ],
      "execution_count": 4,
      "outputs": [
        {
          "output_type": "stream",
          "text": [
            "my dog is called Chester\n",
            "Chester\n"
          ],
          "name": "stdout"
        }
      ]
    },
    {
      "cell_type": "code",
      "metadata": {
        "colab": {
          "base_uri": "https://localhost:8080/"
        },
        "id": "Q6sz9GYepXI4",
        "outputId": "17283908-4128-4167-f152-d20255f35f79"
      },
      "source": [
        "# Using a class's function\r\n",
        "my_dog.change_name(new_name = \"Buster\")\r\n",
        "print (my_dog)\r\n",
        "print (my_dog.name)"
      ],
      "execution_count": 5,
      "outputs": [
        {
          "output_type": "stream",
          "text": [
            "my dog is called Buster\n",
            "Buster\n"
          ],
          "name": "stdout"
        }
      ]
    },
    {
      "cell_type": "code",
      "metadata": {
        "id": "mOeH6URfprFw"
      },
      "source": [
        "## Inheritance \r\n",
        "# this allows the building of classes on top of one another by inheriting properties and methods from another class (the parent)\r\n"
      ],
      "execution_count": 1,
      "outputs": []
    },
    {
      "cell_type": "code",
      "metadata": {
        "id": "suA8t1NqNbNw"
      },
      "source": [
        "class Dog(Pet):\r\n",
        "  def __init__(self, species, name, breed):\r\n",
        "    super().__init__(\"dog\", name)\r\n",
        "    self.breed = breed\r\n",
        "\r\n",
        "  def __str__(self):\r\n",
        "    return f\"{self.breed} named {self.name}\""
      ],
      "execution_count": 10,
      "outputs": []
    },
    {
      "cell_type": "code",
      "metadata": {
        "colab": {
          "base_uri": "https://localhost:8080/"
        },
        "id": "jXFjl9fROCdp",
        "outputId": "938011a9-9666-41b0-8a58-b7838ce992be"
      },
      "source": [
        "Buster = Dog(species = \"dog\", breed = \"Caucasian Sheperd\", name = \"Buster\")\r\n",
        "print (Buster)"
      ],
      "execution_count": 11,
      "outputs": [
        {
          "output_type": "stream",
          "text": [
            "Caucasian Sheperd named Buster\n"
          ],
          "name": "stdout"
        }
      ]
    },
    {
      "cell_type": "code",
      "metadata": {
        "colab": {
          "base_uri": "https://localhost:8080/"
        },
        "id": "Cg6g-RTwOc49",
        "outputId": "f681abfd-b93f-401e-8c50-f29f95211dd0"
      },
      "source": [
        "Buster.change_name(\"Chester\")\r\n",
        "print(Buster)"
      ],
      "execution_count": 12,
      "outputs": [
        {
          "output_type": "stream",
          "text": [
            "Caucasian Sheperd named Chester\n"
          ],
          "name": "stdout"
        }
      ]
    },
    {
      "cell_type": "code",
      "metadata": {
        "id": "KuaoyoOTO8pE"
      },
      "source": [
        "### Notice how we inherited the initialised variables form the parent \"Pet\" class like species and name \r\n",
        "# We also inherited the \"change_name\" function. But for the __str__, we define a new version to overwrite the \"Pet\" class's \"__str__ function\""
      ],
      "execution_count": 13,
      "outputs": []
    },
    {
      "cell_type": "code",
      "metadata": {
        "id": "s8DGvlYwPXYv"
      },
      "source": [
        "## Decorators \r\n",
        "# Recall that functions allow us to modularise code and reuse them\r\n",
        "# However, we will often wan to add some functionality before and after the main function executes and we may want to do this for many different functions. \r\n",
        "# Instead of add more code to the original function, we can use decorators\r\n",
        "\r\n",
        "## - Decorators augment a function with pre/post-processing. \r\n",
        "## - They wrap around the main function and allows us to operate on the inputs and or outputs. "
      ],
      "execution_count": 14,
      "outputs": []
    },
    {
      "cell_type": "code",
      "metadata": {
        "id": "l7BefqIsP_a2"
      },
      "source": [
        "# Suppose we have a function called operations which incremenst the input value x by 1\r\n",
        "\r\n",
        "def operations(x):\r\n",
        "  \"\"\"Basic operations. \"\"\"\r\n",
        "  x +=1\r\n",
        "  return x"
      ],
      "execution_count": 15,
      "outputs": []
    },
    {
      "cell_type": "code",
      "metadata": {
        "colab": {
          "base_uri": "https://localhost:8080/"
        },
        "id": "Ugom8HMqQRMv",
        "outputId": "8a80e268-a64a-4c98-b85d-0201a9d447fe"
      },
      "source": [
        "operations(x = 1)"
      ],
      "execution_count": 16,
      "outputs": [
        {
          "output_type": "execute_result",
          "data": {
            "text/plain": [
              "2"
            ]
          },
          "metadata": {
            "tags": []
          },
          "execution_count": 16
        }
      ]
    },
    {
      "cell_type": "code",
      "metadata": {
        "id": "uzg9j3IYQUL9"
      },
      "source": [
        "# if we want to increment our input x by 1 before and after the iperations function executes and to illustrate this, the increments have to be separate steps \r\n",
        "\r\n",
        "# using the original code, here is how this will be done \r\n",
        "\r\n",
        "def operations(x):\r\n",
        "  \"\"\"Basic operations.\"\"\"\r\n",
        "  x += 1\r\n",
        "  x += 1\r\n",
        "  x += 1\r\n",
        "  return x"
      ],
      "execution_count": 17,
      "outputs": []
    },
    {
      "cell_type": "code",
      "metadata": {
        "colab": {
          "base_uri": "https://localhost:8080/"
        },
        "id": "uCEtFfYFQ2Ee",
        "outputId": "514cf65c-915b-4a1f-afb7-592523d74876"
      },
      "source": [
        "operations(x = 1)"
      ],
      "execution_count": 19,
      "outputs": [
        {
          "output_type": "execute_result",
          "data": {
            "text/plain": [
              "4"
            ]
          },
          "metadata": {
            "tags": []
          },
          "execution_count": 19
        }
      ]
    },
    {
      "cell_type": "code",
      "metadata": {
        "id": "siFVjJuaQ4yy"
      },
      "source": [
        "# Using the above, we achieved the result, but we increased the size of the operations function, \r\n",
        "# If we want to do the same elsewhere, we also have to add the additional code.\r\n",
        "# this is not efficient/ \r\n",
        "# to solve this, we can create a decorator called \"add\" which increments x by 1 before and after the main function f executes. \r\n",
        "\r\n",
        "\"\"\"\r\n",
        "Creating a decorator\r\n",
        "\r\n",
        "he decorator function accepts a function f which is the function we wish to wrap around, in our case, it’s operations(). \r\n",
        "The output of the decorator is its wrapper function which receives the arguments and keyword arguments passed to function f.\r\n",
        "\r\n",
        "Inside the wrapper function, we can:\r\n",
        "\r\n",
        "- extract the input parameters passed to function f.\r\n",
        "- make any changes we want to the function inputs.\r\n",
        "- function f is executed\r\n",
        "- make any changes to the function outputs\r\n",
        "- wrapper function returns some value(s), which is what the decorator returns as well since it returns wrapper.\r\n",
        "\"\"\"\r\n"
      ],
      "execution_count": null,
      "outputs": []
    },
    {
      "cell_type": "code",
      "metadata": {
        "id": "ObvxdZ2sRwn1"
      },
      "source": [
        "# Decorator \r\n",
        "\r\n",
        "def add(f):\r\n",
        "  def wrapper(*args, **kwargs):\r\n",
        "    \"\"\"Wrapper function for @add.\"\"\"\r\n",
        "    x = kwargs.pop(\"x\") # .get() if not altering x \r\n",
        "    x += 1 # executes before function f\r\n",
        "    x = f(*args, **kwargs, x = x)\r\n",
        "    x += 1 # executes after function f\r\n",
        "    return x \r\n",
        "  return wrapper"
      ],
      "execution_count": 22,
      "outputs": []
    },
    {
      "cell_type": "code",
      "metadata": {
        "id": "2GDHtVwvTa-1"
      },
      "source": [
        "# We can use this decorator by adding to the top of the main function preceded by the @ symbol \r\n",
        "\r\n",
        "@add\r\n",
        "def operations(x):\r\n",
        "  \"\"\"Basic operations\"\"\"\r\n",
        "  x += 1\r\n",
        "  return x"
      ],
      "execution_count": 23,
      "outputs": []
    },
    {
      "cell_type": "code",
      "metadata": {
        "colab": {
          "base_uri": "https://localhost:8080/"
        },
        "id": "gwR9rbkGTt1c",
        "outputId": "d1e0fd0c-8283-4070-d64a-d6bddff462d9"
      },
      "source": [
        "operations(x = 1)"
      ],
      "execution_count": 24,
      "outputs": [
        {
          "output_type": "execute_result",
          "data": {
            "text/plain": [
              "4"
            ]
          },
          "metadata": {
            "tags": []
          },
          "execution_count": 24
        }
      ]
    },
    {
      "cell_type": "code",
      "metadata": {
        "colab": {
          "base_uri": "https://localhost:8080/"
        },
        "id": "rLlDDnT5TxbC",
        "outputId": "bf04121b-f0fd-41d6-fa44-98f11f2ca085"
      },
      "source": [
        "# Perhaps we want to debug and see which function executed with operations()\r\n",
        "\r\n",
        "operations.__name__, operations.__doc__"
      ],
      "execution_count": 25,
      "outputs": [
        {
          "output_type": "execute_result",
          "data": {
            "text/plain": [
              "('wrapper', 'Wrapper function for @add.')"
            ]
          },
          "metadata": {
            "tags": []
          },
          "execution_count": 25
        }
      ]
    },
    {
      "cell_type": "code",
      "metadata": {
        "id": "_RaIUK_CUCCz"
      },
      "source": [
        "# Ideally this function name and docstring are not what we are looking for. \r\n",
        "# It appears this way because the wrapper function is what was executed\r\n",
        "# Python offers the functools.wraps to show the main functions' metadata"
      ],
      "execution_count": 26,
      "outputs": []
    },
    {
      "cell_type": "code",
      "metadata": {
        "id": "SVRa1_GDUgca"
      },
      "source": [
        "from functools import wraps"
      ],
      "execution_count": 27,
      "outputs": []
    },
    {
      "cell_type": "code",
      "metadata": {
        "id": "xe_yR5c1Uj-m"
      },
      "source": [
        "# Decorator \r\n",
        "\r\n",
        "def add(f):\r\n",
        "  @wraps(f)\r\n",
        "  def wrap(*args, **kwargs):\r\n",
        "    \"\"\"Wrapper function for @add.\"\"\"\r\n",
        "    x = kwargs.pop(\"x\") # .get() if not altering x \r\n",
        "    x += 1 # executes before function f\r\n",
        "    x = f(*args, **kwargs, x = x)\r\n",
        "    x += 1 # executes after function f\r\n",
        "    return x \r\n",
        "  return wrap"
      ],
      "execution_count": 28,
      "outputs": []
    },
    {
      "cell_type": "code",
      "metadata": {
        "id": "_a6T5U3ZU6vn"
      },
      "source": [
        "@add\r\n",
        "def operations(x):\r\n",
        "  \"\"\"Basic operations.\"\"\"\r\n",
        "  x += 1\r\n",
        "  return x"
      ],
      "execution_count": 29,
      "outputs": []
    },
    {
      "cell_type": "code",
      "metadata": {
        "colab": {
          "base_uri": "https://localhost:8080/"
        },
        "id": "OuuOwVIIVDtL",
        "outputId": "2519dfff-57f3-45a5-980a-a2cbc0598d83"
      },
      "source": [
        "operations.__name__, operations.__doc__"
      ],
      "execution_count": 30,
      "outputs": [
        {
          "output_type": "execute_result",
          "data": {
            "text/plain": [
              "('operations', 'Basic operations.')"
            ]
          },
          "metadata": {
            "tags": []
          },
          "execution_count": 30
        }
      ]
    },
    {
      "cell_type": "code",
      "metadata": {
        "id": "LqIrj-38VJba"
      },
      "source": [
        "## In the spirit of modularity, we can use the decorator for other functions that may need the same customisation"
      ],
      "execution_count": 31,
      "outputs": []
    },
    {
      "cell_type": "code",
      "metadata": {
        "id": "waZIyqFoVdHN"
      },
      "source": [
        "## Callbacks \r\n",
        "# Decorators allows the customisation of operations before and after the execution of the main function. \r\n",
        "# WHat about in between this execution. \r\n",
        "# Suppose we want to conditionally/situationally do some operations and instead of writing several if-statements making our functions bulky, we can use callbacks \r\n",
        "# callbacks - conditional processing within a function. \r\n",
        "\r\n",
        "# Callbacks will be classes that have functions with key names that will execute at various periods during the main functions execution. \r\n",
        "# - the function names are up to us, but we need to invoke the callback functions within our function "
      ],
      "execution_count": 32,
      "outputs": []
    },
    {
      "cell_type": "code",
      "metadata": {
        "id": "i9UZp6htWc6l"
      },
      "source": [
        "# Callback\r\n",
        "\r\n",
        "class x_tracker(object):\r\n",
        "  def __init__(self, x):\r\n",
        "    self.history = []\r\n",
        "  def at_start(self, x):\r\n",
        "    self.history.append(x)\r\n",
        "  def at_end(self, x):\r\n",
        "    self.history.append(x)"
      ],
      "execution_count": 33,
      "outputs": []
    },
    {
      "cell_type": "code",
      "metadata": {
        "id": "9fkn2pVoW60g"
      },
      "source": [
        "# We can pass in as many callbacks as we want and because they have appropriately named functions, they will be invokedd at appropriate times \r\n",
        "\r\n",
        "def operations(x, callbacks = []):\r\n",
        "  \"\"\"Basic operations.\"\"\"\r\n",
        "  for callback in callbacks:\r\n",
        "    callback.at_start(x)\r\n",
        "  x += 1\r\n",
        "  for callback in callbacks:\r\n",
        "    callback.at_end(x)\r\n",
        "  return x"
      ],
      "execution_count": 34,
      "outputs": []
    },
    {
      "cell_type": "code",
      "metadata": {
        "colab": {
          "base_uri": "https://localhost:8080/"
        },
        "id": "rSoVw3-DZQrJ",
        "outputId": "42d3e74c-8b66-4b69-c127-17255c7f3cf3"
      },
      "source": [
        "x = 1\r\n",
        "tracker = x_tracker(x = x)\r\n",
        "operations(x = x, callbacks = [tracker])"
      ],
      "execution_count": 35,
      "outputs": [
        {
          "output_type": "execute_result",
          "data": {
            "text/plain": [
              "2"
            ]
          },
          "metadata": {
            "tags": []
          },
          "execution_count": 35
        }
      ]
    },
    {
      "cell_type": "code",
      "metadata": {
        "colab": {
          "base_uri": "https://localhost:8080/"
        },
        "id": "gvbEupzkZ3tT",
        "outputId": "55cf06e7-38db-49bf-e2c5-3301e8b7d895"
      },
      "source": [
        "tracker.history"
      ],
      "execution_count": 36,
      "outputs": [
        {
          "output_type": "execute_result",
          "data": {
            "text/plain": [
              "[1, 2]"
            ]
          },
          "metadata": {
            "tags": []
          },
          "execution_count": 36
        }
      ]
    },
    {
      "cell_type": "code",
      "metadata": {
        "id": "Z3OiRnAyZ8v2"
      },
      "source": [
        "## Putting it all together\r\n",
        "\r\n",
        "# decorators + callbacks = powerful optimisation before, during and after main functions execution without increasing complexity of the function. \r\n",
        "\r\n",
        "from functools import wraps\r\n"
      ],
      "execution_count": 37,
      "outputs": []
    },
    {
      "cell_type": "code",
      "metadata": {
        "id": "jvlEpiiHaSaF"
      },
      "source": [
        "# Decorator \r\n",
        "\r\n",
        "def add(f):\r\n",
        "  @wraps(f)\r\n",
        "  def wrap(*args, **kwargs):\r\n",
        "    \"\"\"Wrapper function for @add.\"\"\"\r\n",
        "    x = kwargs.pop(\"x\") # .get() if not altering x \r\n",
        "    x += 1 # executes before function f\r\n",
        "    x = f(*args, **kwargs, x = x)\r\n",
        "    # can do things post function f as well\r\n",
        "    return x \r\n",
        "  return wrap"
      ],
      "execution_count": 38,
      "outputs": []
    },
    {
      "cell_type": "code",
      "metadata": {
        "id": "GY0cDdreafkg"
      },
      "source": [
        "# Callback\r\n",
        "\r\n",
        "class x_tracker(object):\r\n",
        "  def __init__(self, x):\r\n",
        "    self.history = []\r\n",
        "  def at_start(self, x):\r\n",
        "    self.history.append(x)\r\n",
        "  def at_end(self, x):\r\n",
        "    self.history.append(x)"
      ],
      "execution_count": 39,
      "outputs": []
    },
    {
      "cell_type": "code",
      "metadata": {
        "id": "O-aHokVkalIG"
      },
      "source": [
        "# Main function\r\n",
        "\r\n",
        "@add\r\n",
        "def operations(x, callbacks = []):\r\n",
        "  \"\"\"Basic operations.\"\"\"\r\n",
        "  for callback in callbacks:\r\n",
        "    callback.at_start(x)\r\n",
        "  x += 1\r\n",
        "  for callback in callbacks:\r\n",
        "    callback.at_end(x)\r\n",
        "  return x"
      ],
      "execution_count": 41,
      "outputs": []
    },
    {
      "cell_type": "code",
      "metadata": {
        "colab": {
          "base_uri": "https://localhost:8080/"
        },
        "id": "iXuKpS_favun",
        "outputId": "416af87c-7dfc-4b64-cd32-c8908de91b4d"
      },
      "source": [
        "x = 1\r\n",
        "tracker = x_tracker(x = x)\r\n",
        "operations(x = x, callbacks = [tracker])"
      ],
      "execution_count": 42,
      "outputs": [
        {
          "output_type": "execute_result",
          "data": {
            "text/plain": [
              "3"
            ]
          },
          "metadata": {
            "tags": []
          },
          "execution_count": 42
        }
      ]
    },
    {
      "cell_type": "code",
      "metadata": {
        "colab": {
          "base_uri": "https://localhost:8080/"
        },
        "id": "ygjE2PALa_g-",
        "outputId": "24dd5602-f053-4338-d34a-589e6bb8385f"
      },
      "source": [
        "tracker.history"
      ],
      "execution_count": 43,
      "outputs": [
        {
          "output_type": "execute_result",
          "data": {
            "text/plain": [
              "[2, 3]"
            ]
          },
          "metadata": {
            "tags": []
          },
          "execution_count": 43
        }
      ]
    },
    {
      "cell_type": "code",
      "metadata": {
        "id": "wI4Ewv-YbCGe"
      },
      "source": [
        ""
      ],
      "execution_count": null,
      "outputs": []
    }
  ]
}