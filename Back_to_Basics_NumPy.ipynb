{
  "nbformat": 4,
  "nbformat_minor": 0,
  "metadata": {
    "colab": {
      "name": "Back to Basics: NumPy",
      "provenance": [],
      "authorship_tag": "ABX9TyMXvJzvv6SwRK7zcXf4CXbG",
      "include_colab_link": true
    },
    "kernelspec": {
      "name": "python3",
      "display_name": "Python 3"
    }
  },
  "cells": [
    {
      "cell_type": "markdown",
      "metadata": {
        "id": "view-in-github",
        "colab_type": "text"
      },
      "source": [
        "<a href=\"https://colab.research.google.com/github/Otobi1/Back-to-Basics-A-Refresher-/blob/master/Back_to_Basics_NumPy.ipynb\" target=\"_parent\"><img src=\"https://colab.research.google.com/assets/colab-badge.svg\" alt=\"Open In Colab\"/></a>"
      ]
    },
    {
      "cell_type": "code",
      "metadata": {
        "id": "2WTvw9OxbzLv"
      },
      "source": [
        "import numpy as np"
      ],
      "execution_count": 1,
      "outputs": []
    },
    {
      "cell_type": "code",
      "metadata": {
        "id": "VQpwJCPTNnEh"
      },
      "source": [
        "# Set seed for reproducibility (so that we receive the exact same results every time)\r\n",
        "\r\n",
        "np.random.seed(seed = 1234)"
      ],
      "execution_count": 2,
      "outputs": []
    },
    {
      "cell_type": "code",
      "metadata": {
        "colab": {
          "base_uri": "https://localhost:8080/"
        },
        "id": "4GM7cO5mNzKk",
        "outputId": "c3587e1b-3566-4990-bf7a-a17ab94902ba"
      },
      "source": [
        "# Scalar \r\n",
        "\r\n",
        "x = np.array(6)\r\n",
        "\r\n",
        "print (\"x: \", x)\r\n",
        "print (\"x ndim: \", x.ndim) # Number of dimensions\r\n",
        "print (\"x shape: \", x.shape) # dimensions\r\n",
        "print (\"x size: \", x.size) # size of elements\r\n",
        "print (\"x dtype: \", x.dtype) # data type"
      ],
      "execution_count": 4,
      "outputs": [
        {
          "output_type": "stream",
          "text": [
            "x:  6\n",
            "x ndim:  0\n",
            "x shape:  ()\n",
            "x size:  1\n",
            "x dtype:  int64\n"
          ],
          "name": "stdout"
        }
      ]
    },
    {
      "cell_type": "code",
      "metadata": {
        "colab": {
          "base_uri": "https://localhost:8080/"
        },
        "id": "SvVkGewCVemZ",
        "outputId": "491f563c-a0ea-4ec1-e082-c6c79f36b004"
      },
      "source": [
        "# Vector \r\n",
        "\r\n",
        "x = np.array([1.3, 2.2, 1.7])\r\n",
        "\r\n",
        "print (\"x: \", x)\r\n",
        "print (\"x ndim: \", x.ndim) # Number of dimensions\r\n",
        "print (\"x shape: \", x.shape) # dimensions\r\n",
        "print (\"x size: \", x.size) # size of elements\r\n",
        "print (\"x dtype: \", x.dtype) # data type (notice the float data type)"
      ],
      "execution_count": 5,
      "outputs": [
        {
          "output_type": "stream",
          "text": [
            "x:  [1.3 2.2 1.7]\n",
            "x ndim:  1\n",
            "x shape:  (3,)\n",
            "x size:  3\n",
            "x dtype:  float64\n"
          ],
          "name": "stdout"
        }
      ]
    },
    {
      "cell_type": "code",
      "metadata": {
        "colab": {
          "base_uri": "https://localhost:8080/"
        },
        "id": "nVEWICoqVy0Y",
        "outputId": "4b299067-da35-4e84-8ae2-a66cda2058c1"
      },
      "source": [
        "# Matrix \r\n",
        "\r\n",
        "x = np.array([[1,2], [3, 4]])\r\n",
        "\r\n",
        "print (\"x:\\n\", x)\r\n",
        "print (\"x ndim: \", x.ndim) # Number of dimensions\r\n",
        "print (\"x shape: \", x.shape) # dimensions\r\n",
        "print (\"x size: \", x.size) # size of elements\r\n",
        "print (\"x dtype: \", x.dtype) # data type"
      ],
      "execution_count": 6,
      "outputs": [
        {
          "output_type": "stream",
          "text": [
            "x:\n",
            " [[1 2]\n",
            " [3 4]]\n",
            "x ndim:  2\n",
            "x shape:  (2, 2)\n",
            "x size:  4\n",
            "x dtype:  int64\n"
          ],
          "name": "stdout"
        }
      ]
    },
    {
      "cell_type": "code",
      "metadata": {
        "id": "BLuvu69VdJR2"
      },
      "source": [
        "# Tensor"
      ],
      "execution_count": null,
      "outputs": []
    }
  ]
}