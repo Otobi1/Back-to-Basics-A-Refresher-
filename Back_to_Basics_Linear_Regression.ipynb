{
  "nbformat": 4,
  "nbformat_minor": 0,
  "metadata": {
    "colab": {
      "name": "Back to Basics: Linear Regression ",
      "provenance": [],
      "authorship_tag": "ABX9TyMInUioOgs7PrJzburoeW+a",
      "include_colab_link": true
    },
    "kernelspec": {
      "name": "python3",
      "display_name": "Python 3"
    }
  },
  "cells": [
    {
      "cell_type": "markdown",
      "metadata": {
        "id": "view-in-github",
        "colab_type": "text"
      },
      "source": [
        "<a href=\"https://colab.research.google.com/github/Otobi1/Back-to-Basics-A-Refresher-/blob/master/Back_to_Basics_Linear_Regression.ipynb\" target=\"_parent\"><img src=\"https://colab.research.google.com/assets/colab-badge.svg\" alt=\"Open In Colab\"/></a>"
      ]
    },
    {
      "cell_type": "code",
      "metadata": {
        "id": "Jhus7YXztS9o"
      },
      "source": [
        "## Understanding linear regression, the math, NumPy and PyTorch implementation \r\n",
        "\r\n",
        "# y = XW + b (linear model)\r\n",
        "\r\n",
        "# where y is the prediction, X is the input(s), W is the weight and b is the bias"
      ],
      "execution_count": 7,
      "outputs": []
    },
    {
      "cell_type": "code",
      "metadata": {
        "id": "lt3KwLZQWHvH"
      },
      "source": [
        "# the objective is to use the input X to predict the output y using a linear model.\r\n",
        "# the model will be a line of best fit that minimises the distance between the predicted (model output) and the target (ground truth) values \r\n",
        "\r\n",
        "# Training data (X, y) is used to train the model and learn the weights W using gradient descent."
      ],
      "execution_count": 8,
      "outputs": []
    },
    {
      "cell_type": "code",
      "metadata": {
        "id": "y2hEOiSdWnmf"
      },
      "source": [
        "# Generating the data\r\n",
        "\r\n",
        "# - for this exercise, we will generate some dummy data to apply linear regression on. \r\n",
        "# - it will create roughly linear data (y = 3.5x + noise)\r\n",
        "# - the random noise will be added to create realistic data that doesn't perfectly align in a line.\r\n",
        "# - there will be slight variance since we added some noise "
      ],
      "execution_count": 9,
      "outputs": []
    },
    {
      "cell_type": "code",
      "metadata": {
        "colab": {
          "base_uri": "https://localhost:8080/"
        },
        "id": "QsBIA_YlXN4d",
        "outputId": "8430c546-dc79-4463-c1e1-fc09b7554710"
      },
      "source": [
        "# Importing the necessary libraries \r\n",
        "\r\n",
        "import numpy as np\r\n",
        "import pandas as pd \r\n",
        "import matplotlib.pyplot as plt\r\n",
        "print (\"Libraries successfully imported\")"
      ],
      "execution_count": 18,
      "outputs": [
        {
          "output_type": "stream",
          "text": [
            "Libraries successfully imported\n"
          ],
          "name": "stdout"
        }
      ]
    },
    {
      "cell_type": "code",
      "metadata": {
        "id": "FTYLonQrXe1z"
      },
      "source": [
        "# set seed for reproducibility \r\n",
        "SEED = 1234\r\n",
        "NUM_SAMPLES = 50\r\n",
        "\r\n",
        "np.random.seed(SEED)"
      ],
      "execution_count": 19,
      "outputs": []
    },
    {
      "cell_type": "code",
      "metadata": {
        "id": "bntHexWeXsQ_"
      },
      "source": [
        "# Generating dummy data\r\n",
        "\r\n",
        "def generate_data(num_samples):\r\n",
        "  \"\"\"Generate dummy data for linear regression\"\"\"\r\n",
        "  X = np.array(range(num_samples))\r\n",
        "  random_noise = np.random.uniform(-10,20,size = num_samples)\r\n",
        "  y = 3.5 * X + random_noise # add some noise\r\n",
        "  return X, y"
      ],
      "execution_count": 20,
      "outputs": []
    },
    {
      "cell_type": "code",
      "metadata": {
        "id": "EBeaC_GUYY6h",
        "colab": {
          "base_uri": "https://localhost:8080/"
        },
        "outputId": "5bff2da4-ce06-4f44-ed92-5f3f4c990644"
      },
      "source": [
        "# Generate random (linear) data\r\n",
        "\r\n",
        "X, y = generate_data(num_samples = NUM_SAMPLES)\r\n",
        "data = np.vstack([X, y]).T\r\n",
        "print (data[:5])"
      ],
      "execution_count": 21,
      "outputs": [
        {
          "output_type": "stream",
          "text": [
            "[[ 0.         -4.25441649]\n",
            " [ 1.         12.16326313]\n",
            " [ 2.         10.13183217]\n",
            " [ 3.         24.06075751]\n",
            " [ 4.         27.39927424]]\n"
          ],
          "name": "stdout"
        }
      ]
    },
    {
      "cell_type": "code",
      "metadata": {
        "colab": {
          "base_uri": "https://localhost:8080/",
          "height": 200
        },
        "id": "4byZ4RdscYJs",
        "outputId": "777bb47a-e0ad-42cc-8744-5c4629f91f4b"
      },
      "source": [
        "# Loading data into the Pandas DataFrame\r\n",
        "\r\n",
        "df = pd.DataFrame(data, columns = [\"X\", \"y\"])\r\n",
        "X = df[[\"X\"]].values\r\n",
        "y = df[[\"y\"]].values\r\n",
        "df.head()"
      ],
      "execution_count": 23,
      "outputs": [
        {
          "output_type": "execute_result",
          "data": {
            "text/html": [
              "<div>\n",
              "<style scoped>\n",
              "    .dataframe tbody tr th:only-of-type {\n",
              "        vertical-align: middle;\n",
              "    }\n",
              "\n",
              "    .dataframe tbody tr th {\n",
              "        vertical-align: top;\n",
              "    }\n",
              "\n",
              "    .dataframe thead th {\n",
              "        text-align: right;\n",
              "    }\n",
              "</style>\n",
              "<table border=\"1\" class=\"dataframe\">\n",
              "  <thead>\n",
              "    <tr style=\"text-align: right;\">\n",
              "      <th></th>\n",
              "      <th>X</th>\n",
              "      <th>y</th>\n",
              "    </tr>\n",
              "  </thead>\n",
              "  <tbody>\n",
              "    <tr>\n",
              "      <th>0</th>\n",
              "      <td>0.0</td>\n",
              "      <td>-4.254416</td>\n",
              "    </tr>\n",
              "    <tr>\n",
              "      <th>1</th>\n",
              "      <td>1.0</td>\n",
              "      <td>12.163263</td>\n",
              "    </tr>\n",
              "    <tr>\n",
              "      <th>2</th>\n",
              "      <td>2.0</td>\n",
              "      <td>10.131832</td>\n",
              "    </tr>\n",
              "    <tr>\n",
              "      <th>3</th>\n",
              "      <td>3.0</td>\n",
              "      <td>24.060758</td>\n",
              "    </tr>\n",
              "    <tr>\n",
              "      <th>4</th>\n",
              "      <td>4.0</td>\n",
              "      <td>27.399274</td>\n",
              "    </tr>\n",
              "  </tbody>\n",
              "</table>\n",
              "</div>"
            ],
            "text/plain": [
              "     X          y\n",
              "0  0.0  -4.254416\n",
              "1  1.0  12.163263\n",
              "2  2.0  10.131832\n",
              "3  3.0  24.060758\n",
              "4  4.0  27.399274"
            ]
          },
          "metadata": {
            "tags": []
          },
          "execution_count": 23
        }
      ]
    },
    {
      "cell_type": "code",
      "metadata": {
        "colab": {
          "base_uri": "https://localhost:8080/",
          "height": 281
        },
        "id": "JPPeCW0Ac0FK",
        "outputId": "2a1048fa-263a-4adc-f0cb-d4daf9d7b5d1"
      },
      "source": [
        "# Making a scatter plot \r\n",
        "plt.title(\"Generated data\")\r\n",
        "plt.scatter(x = df[\"X\"], y = df[\"y\"])\r\n",
        "plt.show()"
      ],
      "execution_count": 24,
      "outputs": [
        {
          "output_type": "display_data",
          "data": {
            "image/png": "[encoded data removed]",
            "text/plain": [
              "<Figure size 432x288 with 1 Axes>"
            ]
          },
          "metadata": {
            "tags": [],
            "needs_background": "light"
          }
        }
      ]
    },
    {
      "cell_type": "code",
      "metadata": {
        "id": "WOKxe8OYdrpp"
      },
      "source": [
        "## Numpy implementation \r\n",
        "# - Splitting the data \r\n",
        "# -- Here, we will randomly split the dataset into three sets: train, validation and test data\r\n",
        "# train - used to train the model \r\n",
        "# val - used to validate models performance during training \r\n",
        "# test - used to evaluate the fully trained model"
      ],
      "execution_count": 25,
      "outputs": []
    },
    {
      "cell_type": "code",
      "metadata": {
        "id": "7XBUha_vgrf5"
      },
      "source": [
        "TRAIN_SIZE = 0.7\r\n",
        "VAL_SIZE = 0.15\r\n",
        "TEST_SIZE = 0.15"
      ],
      "execution_count": 26,
      "outputs": []
    },
    {
      "cell_type": "code",
      "metadata": {
        "id": "oj18BNGYh8uj"
      },
      "source": [
        "# Shuffling the data \r\n",
        "# be care not to shuffle X and y separately because then the inputs will not correspond to the outputs\r\n",
        "\r\n",
        "indices = list(range(NUM_SAMPLES))\r\n",
        "np.random.shuffle(indices)\r\n",
        "\r\n",
        "X = X[indices]\r\n",
        "y = y[indices]"
      ],
      "execution_count": 28,
      "outputs": []
    },
    {
      "cell_type": "code",
      "metadata": {
        "id": "HJbKie78iOrl"
      },
      "source": [
        "# Split indices \r\n",
        "\r\n",
        "train_start = 0\r\n",
        "train_end = int(0.7 * NUM_SAMPLES)\r\n",
        "val_start = train_end\r\n",
        "val_end = int((TRAIN_SIZE + VAL_SIZE) * NUM_SAMPLES)\r\n",
        "test_start = val_end"
      ],
      "execution_count": 29,
      "outputs": []
    },
    {
      "cell_type": "code",
      "metadata": {
        "colab": {
          "base_uri": "https://localhost:8080/"
        },
        "id": "qK8nYPU-j7xS",
        "outputId": "339c2a7c-036b-4b77-89bb-3a974243ddb7"
      },
      "source": [
        "# Splitting data \r\n",
        "\r\n",
        "X_train = X[train_start:train_end]\r\n",
        "y_train = y[train_start:train_end]\r\n",
        "\r\n",
        "X_val = X[val_start:val_end]\r\n",
        "y_val = y[val_start:val_end]\r\n",
        "\r\n",
        "X_test = X[test_start:]\r\n",
        "y_test = y[test_start:]\r\n",
        "\r\n",
        "print (f\"X_train: {X_train.shape}, y_train: {y_train.shape}\")\r\n",
        "print (f\"X_val: {X_val.shape}, y_val: {y_val.shape}\")\r\n",
        "print (f\"X_test: {X_test.shape}, y_test: {y_test.shape}\")"
      ],
      "execution_count": 31,
      "outputs": [
        {
          "output_type": "stream",
          "text": [
            "X_train: (35, 1), y_train: (35, 1)\n",
            "X_val: (7, 1), y_val: (7, 1)\n",
            "X_test: (8, 1), y_test: (8, 1)\n"
          ],
          "name": "stdout"
        }
      ]
    },
    {
      "cell_type": "code",
      "metadata": {
        "id": "uMDakBznlGKJ"
      },
      "source": [
        "# Standardising the data\r\n",
        "# - this implies making it have a zero mean and unit magnitude such that the magnitude of a specific feature will not affect how the model learns its weights.\r\n",
        "\r\n",
        "# Using the formular (standardised value = (inputs - mean)/standard deviation)\r\n",
        "\r\n",
        "def standardise_data(data, mean, std):\r\n",
        "  return(data - mean)/std"
      ],
      "execution_count": 32,
      "outputs": []
    },
    {
      "cell_type": "code",
      "metadata": {
        "colab": {
          "base_uri": "https://localhost:8080/"
        },
        "id": "Tp4bnwG1l9NB",
        "outputId": "6d28169e-2d82-4e51-d956-96224bba57ae"
      },
      "source": [
        "# Determining the means and the stds \r\n",
        "# We need to treat the validation and test datasets as it they are hidden \r\n",
        "# - So we only use the train set to determing the mean and std to avoid biasing the training process\r\n",
        "\r\n",
        "X_mean = np.mean(X_train)\r\n",
        "X_std = np.std(X_train)\r\n",
        "y_mean = np.mean(y_train)\r\n",
        "y_std = np.std(y_train)\r\n",
        "\r\n",
        "print (X_mean, X_std, y_mean, y_std)"
      ],
      "execution_count": 34,
      "outputs": [
        {
          "output_type": "stream",
          "text": [
            "23.742857142857144 14.263525625360167 90.0159460487698 49.02826239495899\n"
          ],
          "name": "stdout"
        }
      ]
    },
    {
      "cell_type": "code",
      "metadata": {
        "id": "-O9RHzC_mnqm"
      },
      "source": [
        "# Standardise \r\n",
        "\r\n",
        "X_train = standardise_data(X_train, X_mean, X_std)\r\n",
        "y_train = standardise_data(y_train, y_mean, y_std)\r\n",
        "\r\n",
        "X_val = standardise_data(X_val, X_mean, X_std)\r\n",
        "y_val = standardise_data(y_val, y_mean, y_std)\r\n",
        "\r\n",
        "X_test = standardise_data(X_test, X_mean, X_std)\r\n",
        "y_test = standardise_data(y_test, y_mean, y_std)"
      ],
      "execution_count": 35,
      "outputs": []
    },
    {
      "cell_type": "code",
      "metadata": {
        "colab": {
          "base_uri": "https://localhost:8080/"
        },
        "id": "RNHTZOeko1Bl",
        "outputId": "7b774417-2a72-4c52-f6da-a58e8bdcdc28"
      },
      "source": [
        "# Check (mean should be approx 0 and std should be approx 1)\r\n",
        "\r\n",
        "print (f\"mean: {np.mean(X_test, axis = 0)[0]:.1f}, std: {np.std(X_test, axis = 0)[0]:.1f}\")\r\n",
        "print (f\"mean: {np.mean(y_test, axis = 0)[0]:.1f}, std: {np.std(y_test, axis = 0)[0]:.1f}\")"
      ],
      "execution_count": 37,
      "outputs": [
        {
          "output_type": "stream",
          "text": [
            "mean: 0.9, std: 0.5\n",
            "mean: 0.8, std: 0.4\n"
          ],
          "name": "stdout"
        }
      ]
    },
    {
      "cell_type": "code",
      "metadata": {
        "id": "0hVlomDzpwKI"
      },
      "source": [
        "# Weights \r\n",
        "# the goal is to learn a linear model that predicts y given X using weights W and bias b\r\n",
        "\r\n",
        "# Step 1 - Randomly initialise the models weights W\r\n",
        "\r\n",
        "INPUT_DIM = X_train.shape[1] # X is 1-dimensional\r\n",
        "OUTPUT_DIM = y_train.shape[1] # y is 1-dimensional"
      ],
      "execution_count": 38,
      "outputs": []
    },
    {
      "cell_type": "code",
      "metadata": {
        "colab": {
          "base_uri": "https://localhost:8080/"
        },
        "id": "QnZdXK-0rHmP",
        "outputId": "a1181327-e9e6-4a72-87d3-3baa07a1b22a"
      },
      "source": [
        "# Initialise random weights \r\n",
        "\r\n",
        "W = 0.01 * np.random.randn(INPUT_DIM, OUTPUT_DIM)\r\n",
        "b = np.zeros((1,1))\r\n",
        "\r\n",
        "print (f\"W: {W.shape}\")\r\n",
        "print (f\"b: {b.shape}\")"
      ],
      "execution_count": 39,
      "outputs": [
        {
          "output_type": "stream",
          "text": [
            "W: (1, 1)\n",
            "b: (1, 1)\n"
          ],
          "name": "stdout"
        }
      ]
    },
    {
      "cell_type": "code",
      "metadata": {
        "colab": {
          "base_uri": "https://localhost:8080/"
        },
        "id": "ghUBhR5Ere4p",
        "outputId": "24882d88-7441-420d-a683-fd6056c597bf"
      },
      "source": [
        "# Model \r\n",
        "# Step 2 - feed inputs X into the model to receive predictions y\r\n",
        "\r\n",
        "# Forward pass [NX1] * [1X1] = [NX1]\r\n",
        "\r\n",
        "y_pred = np.dot(X_train, W) + b\r\n",
        "\r\n",
        "print (f\"y_pred: {y_pred.shape}\")"
      ],
      "execution_count": 40,
      "outputs": [
        {
          "output_type": "stream",
          "text": [
            "y_pred: (35, 1)\n"
          ],
          "name": "stdout"
        }
      ]
    },
    {
      "cell_type": "code",
      "metadata": {
        "colab": {
          "base_uri": "https://localhost:8080/"
        },
        "id": "BHVnUA3ZsBkP",
        "outputId": "259eefa9-5500-4c02-91d4-946fe6e5ea32"
      },
      "source": [
        "# Loss \r\n",
        "# Step 3 -  compare predictions y wiht the actual target values y using the objective (cost) function to determne the loss J.\r\n",
        "# - A common objective function for linear regression is the mean squarred error (MSE)\r\n",
        "# - this function calculates the difference between the predicted and the target values and squares it\r\n",
        "\r\n",
        "N = len(y_train)\r\n",
        "loss = (1/N) * np.sum((y_train - y_pred) ** 2)\r\n",
        "\r\n",
        "print (f\"loss: {loss:.2f}\")"
      ],
      "execution_count": 41,
      "outputs": [
        {
          "output_type": "stream",
          "text": [
            "loss: 0.98\n"
          ],
          "name": "stdout"
        }
      ]
    },
    {
      "cell_type": "code",
      "metadata": {
        "colab": {
          "base_uri": "https://localhost:8080/"
        },
        "id": "kpI4GPDhsslp",
        "outputId": "0f989bdc-1fc4-424b-819f-04fc68073dff"
      },
      "source": [
        "# Gradients \r\n",
        "# Step 4 - calculate the gradient of the loss w.r.t the models weights \r\n",
        "# - the gradient is a derivative or the rate of change of a function. \r\n",
        "# - it is a vector that points in the direction of greatest increase of a function. \r\n",
        "# - For e.g, the gradient of our loss function (J) w.r.t the weights (W) will inform how to change W so we can maximise J\r\n",
        "# - However, we want to minimise the loss so we subtract the gradient from W\r\n",
        "\r\n",
        "# Backpropagation \r\n",
        "\r\n",
        "dW = -(2/N) * np.sum((y_train - y_pred) * X_train)\r\n",
        "db = -(2/N) * np.sum((y_train - y_pred) * 1)\r\n",
        "\r\n",
        "print (dW, db)"
      ],
      "execution_count": 43,
      "outputs": [
        {
          "output_type": "stream",
          "text": [
            "-1.9551728358043143 -7.612957883143931e-17\n"
          ],
          "name": "stdout"
        }
      ]
    },
    {
      "cell_type": "code",
      "metadata": {
        "id": "xAYYELvjw8Yz"
      },
      "source": [
        "# Update weights \r\n",
        "# Step 5 - Update the weights using a small learning rate alpha*\r\n",
        "# - the learning rate is a way to control how much we update the weights by. \r\n",
        "# - choosing a small learning rate means a longer time for the model to train \r\n",
        "# - choosing a large learning rate could lead to an overshoot and the traing may never converge\r\n",
        "# the specific learning rate depends on the data and the type of model being used.\r\n",
        "# typically, learning rate ranges around 1e-8 to 1e-1\r\n",
        "\r\n",
        "LEARNING_RATE = 1e-1"
      ],
      "execution_count": 44,
      "outputs": []
    },
    {
      "cell_type": "code",
      "metadata": {
        "id": "2AX-IcGJxOhF"
      },
      "source": [
        "# Update weight -- \r\n",
        "W += - LEARNING_RATE * dW\r\n",
        "b += - LEARNING_RATE * db"
      ],
      "execution_count": 45,
      "outputs": []
    },
    {
      "cell_type": "code",
      "metadata": {
        "id": "tG_iuB5fxb63"
      },
      "source": [
        "# Training \r\n",
        "# Step 6 - Repeat steps 2 - 5 to minimise the loss and train the model\r\n",
        "\r\n",
        "NUM_EPOCHS = 100"
      ],
      "execution_count": 46,
      "outputs": []
    },
    {
      "cell_type": "code",
      "metadata": {
        "colab": {
          "base_uri": "https://localhost:8080/"
        },
        "id": "7ZtPkGK2ySMc",
        "outputId": "f3e58359-9be4-46f7-a50c-2111e23cd9f3"
      },
      "source": [
        "# Initialise random weights \r\n",
        "\r\n",
        "W = 0.01 * np.random.randn(INPUT_DIM, OUTPUT_DIM)\r\n",
        "b = np.zeros((1,))\r\n",
        "\r\n",
        "# Training Loop\r\n",
        "\r\n",
        "for epoch_num in range (NUM_EPOCHS):\r\n",
        "\r\n",
        "  # Forward pass [NX1] * [1X1] = [NX1]\r\n",
        "  y_pred = np.dot(X_train, W) + b\r\n",
        "\r\n",
        "  # Loss\r\n",
        "  loss = (1/len(y_train)) * np.sum((y_train - y_pred) ** 2)\r\n",
        "\r\n",
        "  # Show progress \r\n",
        "  if epoch_num%10 == 0:\r\n",
        "    print (f\"Epoch: {epoch_num}, loss:{loss:.3f}\")\r\n",
        "\r\n",
        "  # Backpropagation \r\n",
        "  dW = -(2/N) * np.sum((y_train - y_pred) * X_train)\r\n",
        "  db = -(2/N) * np.sum((y_train - y_pred) * 1)\r\n",
        "\r\n",
        "  # Update weights \r\n",
        "  W += - LEARNING_RATE * dW\r\n",
        "  b += - LEARNING_RATE * db"
      ],
      "execution_count": 50,
      "outputs": [
        {
          "output_type": "stream",
          "text": [
            "Epoch: 0, loss:0.996\n",
            "Epoch: 10, loss:0.035\n",
            "Epoch: 20, loss:0.024\n",
            "Epoch: 30, loss:0.024\n",
            "Epoch: 40, loss:0.024\n",
            "Epoch: 50, loss:0.024\n",
            "Epoch: 60, loss:0.024\n",
            "Epoch: 70, loss:0.024\n",
            "Epoch: 80, loss:0.024\n",
            "Epoch: 90, loss:0.024\n"
          ],
          "name": "stdout"
        }
      ]
    },
    {
      "cell_type": "code",
      "metadata": {
        "colab": {
          "base_uri": "https://localhost:8080/"
        },
        "id": "bmCliCTjy5dk",
        "outputId": "cd32b2a8-db60-4976-a8c6-65ab1257a00d"
      },
      "source": [
        "# Evaluation \r\n",
        "# - Here we explore how well the trained model will perform on the test dataset\r\n",
        "# - this will be the best measure on how well the model will perform in the real world as our test datset is close to unseen data\r\n",
        "\r\n",
        "# Predictions\r\n",
        " \r\n",
        "pred_train = W * X_train + b\r\n",
        "pred_test = W * X_test + b \r\n",
        "\r\n",
        "print (pred_train, pred_test)"
      ],
      "execution_count": 55,
      "outputs": [
        {
          "output_type": "stream",
          "text": [
            "[[ 0.36412141]\n",
            " [-0.67481196]\n",
            " [ 0.08707251]\n",
            " [ 1.61084146]\n",
            " [-1.09038531]\n",
            " [ 0.50264586]\n",
            " [ 1.74936591]\n",
            " [-0.74407419]\n",
            " [ 1.26453033]\n",
            " [-0.88259864]\n",
            " [-0.46702529]\n",
            " [-0.25923861]\n",
            " [-1.50595866]\n",
            " [ 0.01781029]\n",
            " [ 1.68010368]\n",
            " [-0.81333641]\n",
            " [ 0.84895699]\n",
            " [ 0.64117031]\n",
            " [-0.12071416]\n",
            " [ 0.77969476]\n",
            " [-0.18997639]\n",
            " [-1.36743421]\n",
            " [-0.53628751]\n",
            " [ 1.47231701]\n",
            " [-0.60554974]\n",
            " [-0.95186086]\n",
            " [ 0.91821921]\n",
            " [-1.02112309]\n",
            " [ 1.40305478]\n",
            " [-0.32850084]\n",
            " [-1.57522089]\n",
            " [-0.39776306]\n",
            " [ 1.05674366]\n",
            " [ 0.57190809]\n",
            " [-1.43669644]] [[1.54157923]\n",
            " [1.19526811]\n",
            " [0.43338364]\n",
            " [0.22559696]\n",
            " [0.29485919]\n",
            " [1.12600588]\n",
            " [1.33379256]\n",
            " [0.98748143]]\n"
          ],
          "name": "stdout"
        }
      ]
    },
    {
      "cell_type": "code",
      "metadata": {
        "colab": {
          "base_uri": "https://localhost:8080/"
        },
        "id": "Xp5NUhhT2Vgo",
        "outputId": "d9923cba-20a1-4adc-b9e8-354f4f1a05ea"
      },
      "source": [
        "# Train and test MSE\r\n",
        "\r\n",
        "train_mse = np.mean((y_train - pred_train) ** 2)\r\n",
        "test_mse = np.mean((y_test - pred_test) ** 2)\r\n",
        "\r\n",
        "print(f\"train_MSE: {train_mse: .2f}, test_MSE: {test_mse:.2f}\")"
      ],
      "execution_count": 56,
      "outputs": [
        {
          "output_type": "stream",
          "text": [
            "train_MSE:  0.02, test_MSE: 0.04\n"
          ],
          "name": "stdout"
        }
      ]
    },
    {
      "cell_type": "code",
      "metadata": {
        "colab": {
          "base_uri": "https://localhost:8080/",
          "height": 244
        },
        "id": "e5odZ9eH3LY8",
        "outputId": "5bc83477-6495-419b-d1ac-71d7647ad259"
      },
      "source": [
        "# Plotting the train and test data \r\n",
        "\r\n",
        "plt.figure(figsize = (15, 5))\r\n",
        "\r\n",
        "# plot train data \r\n",
        "plt.subplot(1,2,1)\r\n",
        "plt.title(\"Train\")\r\n",
        "plt.scatter(X_train, y_train, label = \"y_train\")\r\n",
        "plt.plot(X_train,pred_train, color = \"red\", linewidth = 1, linestyle = \"-\", label = \"model\")\r\n",
        "plt.legend(loc = \"lower right\")\r\n",
        "\r\n",
        "# plot test data\r\n",
        "plt.subplot(1,2,2)\r\n",
        "plt.title(\"Test\")\r\n",
        "plt.scatter(X_test, y_test, label = \"y_test\")\r\n",
        "plt.plot(X_test, pred_test, color = \"red\", linewidth = 1, linestyle = \"-\", label = \"model\")\r\n",
        "plt.legend(loc = \"lower right\")\r\n",
        "\r\n",
        "# Show plots \r\n",
        "plt.show()"
      ],
      "execution_count": 59,
      "outputs": [
        {
          "output_type": "display_data",
          "data": {
            "image/png": "[encoded data removed]",
            "text/plain": [
              "<Figure size 1080x360 with 2 Axes>"
            ]
          },
          "metadata": {
            "tags": [],
            "needs_background": "light"
          }
        }
      ]
    },
    {
      "cell_type": "code",
      "metadata": {
        "colab": {
          "base_uri": "https://localhost:8080/"
        },
        "id": "BOvNhh6i67_O",
        "outputId": "cdca3fae-c8de-4caf-e704-642356e32c8b"
      },
      "source": [
        "# Unscaled weights\r\n",
        "W_unscaled = W * (y_std/X_std)\r\n",
        "b_unscaled = b * y_std + y_mean - np.sum(W_unscaled * X_mean)\r\n",
        "\r\n",
        "print (\"[actual] y = 3.5X + noise\")\r\n",
        "print (f\"[model] y_hat = {W_unscaled[0][0]:.1f} X + {b_unscaled[0]:.1f}\")"
      ],
      "execution_count": 60,
      "outputs": [
        {
          "output_type": "stream",
          "text": [
            "[actual] y = 3.5X + noise\n",
            "[model] y_hat = 3.4 X + 9.4\n"
          ],
          "name": "stdout"
        }
      ]
    },
    {
      "cell_type": "code",
      "metadata": {
        "id": "28avPofa71M8"
      },
      "source": [
        ""
      ],
      "execution_count": null,
      "outputs": []
    }
  ]
}