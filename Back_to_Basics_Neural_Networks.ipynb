{
  "nbformat": 4,
  "nbformat_minor": 0,
  "metadata": {
    "colab": {
      "name": "Back to Basics: Neural Networks",
      "provenance": [],
      "collapsed_sections": [],
      "authorship_tag": "ABX9TyP5ZVs5Sa/NLt/O3PvLwzkm",
      "include_colab_link": true
    },
    "kernelspec": {
      "name": "python3",
      "display_name": "Python 3"
    }
  },
  "cells": [
    {
      "cell_type": "markdown",
      "metadata": {
        "id": "view-in-github",
        "colab_type": "text"
      },
      "source": [
        "<a href=\"https://colab.research.google.com/github/Otobi1/Back-to-Basics-A-Refresher-/blob/master/Back_to_Basics_Neural_Networks.ipynb\" target=\"_parent\"><img src=\"https://colab.research.google.com/assets/colab-badge.svg\" alt=\"Open In Colab\"/></a>"
      ]
    },
    {
      "cell_type": "code",
      "metadata": {
        "id": "oiByUSr58CYZ"
      },
      "source": [
        "## Neural Networks \r\n",
        "\r\n",
        "# - Here, we will explore Multi Layer Perceptrons (MLPs), which are a basic type of neural network\r\n",
        "\r\n",
        "# - First, we attempt to motivate non-linear activation functions (fcl) by trying to fit a linear model (logistic regression) on our non-linear spiral data\r\n",
        "# - Then we'll implement an MLP using just NumPy and then later on PyTorch\r\n",
        "# REF - https://madewithml.com/courses/ml-foundations/neural-networks/ \r\n",
        "\r\n",
        "# Objective - predict the probability of class y given the inputs X. Non-linearity is introduced to model the complex, non-linear data"
      ],
      "execution_count": 26,
      "outputs": []
    },
    {
      "cell_type": "code",
      "metadata": {
        "id": "1wpRyFC90Pa_"
      },
      "source": [
        "# Importing the necessary libraries \r\n",
        "\r\n",
        "import numpy as np\r\n",
        "import random\r\n",
        "import pandas as pd\r\n",
        "import matplotlib.pyplot as plt"
      ],
      "execution_count": 27,
      "outputs": []
    },
    {
      "cell_type": "code",
      "metadata": {
        "id": "9UllI9IZ0_x6"
      },
      "source": [
        "SEED = 1234"
      ],
      "execution_count": 28,
      "outputs": []
    },
    {
      "cell_type": "code",
      "metadata": {
        "id": "41SxHEtm1B-q"
      },
      "source": [
        "# Set seed for reproducibility \r\n",
        "\r\n",
        "np.random.seed(SEED)\r\n",
        "\r\n",
        "random.seed(SEED)"
      ],
      "execution_count": 29,
      "outputs": []
    },
    {
      "cell_type": "code",
      "metadata": {
        "colab": {
          "base_uri": "https://localhost:8080/",
          "height": 200
        },
        "id": "2s-_yTJN1Jon",
        "outputId": "114e968b-2252-46e9-e98a-c404d851dc61"
      },
      "source": [
        "# Loading the data \r\n",
        "\r\n",
        "url = \"https://raw.githubusercontent.com/GokuMohandas/madewithml/main/datasets/spiral.csv\"\r\n",
        "df = pd.read_csv(url, header = 0) # loading the data\r\n",
        "df = df.sample(frac = 1).reset_index(drop = True) # Shuffle the data\r\n",
        "df.head()"
      ],
      "execution_count": 30,
      "outputs": [
        {
          "output_type": "execute_result",
          "data": {
            "text/html": [
              "<div>\n",
              "<style scoped>\n",
              "    .dataframe tbody tr th:only-of-type {\n",
              "        vertical-align: middle;\n",
              "    }\n",
              "\n",
              "    .dataframe tbody tr th {\n",
              "        vertical-align: top;\n",
              "    }\n",
              "\n",
              "    .dataframe thead th {\n",
              "        text-align: right;\n",
              "    }\n",
              "</style>\n",
              "<table border=\"1\" class=\"dataframe\">\n",
              "  <thead>\n",
              "    <tr style=\"text-align: right;\">\n",
              "      <th></th>\n",
              "      <th>X1</th>\n",
              "      <th>X2</th>\n",
              "      <th>color</th>\n",
              "    </tr>\n",
              "  </thead>\n",
              "  <tbody>\n",
              "    <tr>\n",
              "      <th>0</th>\n",
              "      <td>0.106737</td>\n",
              "      <td>0.114197</td>\n",
              "      <td>c1</td>\n",
              "    </tr>\n",
              "    <tr>\n",
              "      <th>1</th>\n",
              "      <td>0.311513</td>\n",
              "      <td>-0.664028</td>\n",
              "      <td>c1</td>\n",
              "    </tr>\n",
              "    <tr>\n",
              "      <th>2</th>\n",
              "      <td>0.019870</td>\n",
              "      <td>-0.703126</td>\n",
              "      <td>c1</td>\n",
              "    </tr>\n",
              "    <tr>\n",
              "      <th>3</th>\n",
              "      <td>-0.054017</td>\n",
              "      <td>0.508159</td>\n",
              "      <td>c3</td>\n",
              "    </tr>\n",
              "    <tr>\n",
              "      <th>4</th>\n",
              "      <td>-0.127751</td>\n",
              "      <td>-0.011382</td>\n",
              "      <td>c3</td>\n",
              "    </tr>\n",
              "  </tbody>\n",
              "</table>\n",
              "</div>"
            ],
            "text/plain": [
              "         X1        X2 color\n",
              "0  0.106737  0.114197    c1\n",
              "1  0.311513 -0.664028    c1\n",
              "2  0.019870 -0.703126    c1\n",
              "3 -0.054017  0.508159    c3\n",
              "4 -0.127751 -0.011382    c3"
            ]
          },
          "metadata": {
            "tags": []
          },
          "execution_count": 30
        }
      ]
    },
    {
      "cell_type": "code",
      "metadata": {
        "colab": {
          "base_uri": "https://localhost:8080/"
        },
        "id": "JgvrZqT01wbz",
        "outputId": "aab4a589-bf1f-41b3-8b24-627e3bdd5b12"
      },
      "source": [
        "# Exploring the data shapes \r\n",
        "\r\n",
        "X = df[[\"X1\", \"X2\"]].values\r\n",
        "y = df[\"color\"].values\r\n",
        "\r\n",
        "print (f\"X: \", np.shape(X))\r\n",
        "print (f\"y: \", np.shape(y))"
      ],
      "execution_count": 31,
      "outputs": [
        {
          "output_type": "stream",
          "text": [
            "X:  (1500, 2)\n",
            "y:  (1500,)\n"
          ],
          "name": "stdout"
        }
      ]
    },
    {
      "cell_type": "code",
      "metadata": {
        "colab": {
          "base_uri": "https://localhost:8080/",
          "height": 281
        },
        "id": "OJpu38A_2Kf7",
        "outputId": "01583d59-751b-4855-f703-4497ae6bd052"
      },
      "source": [
        "# Visualising the data \r\n",
        "\r\n",
        "plt.title(\"Generated non-linear data\")\r\n",
        "colors = {\"c1\": \"orange\", \"c2\": \"green\", \"c3\": \"black\"} # c1, c2, c3 are the classes within the colors column; this line just gives them some fun colors \r\n",
        "plt.scatter(X[:, 0], X[:, 1], c = [colors[_y] for _y in y], edgecolors = \"k\", s = 25)\r\n",
        "plt.show()"
      ],
      "execution_count": 32,
      "outputs": [
        {
          "output_type": "display_data",
          "data": {
            "image/png": "[encoded data removed]",
            "text/plain": [
              "<Figure size 432x288 with 1 Axes>"
            ]
          },
          "metadata": {
            "tags": [],
            "needs_background": "light"
          }
        }
      ]
    },
    {
      "cell_type": "code",
      "metadata": {
        "id": "lcwHrjcj3DIp"
      },
      "source": [
        "# Splitting the data \r\n",
        "\r\n",
        "import collections \r\n",
        "from sklearn.model_selection import train_test_split"
      ],
      "execution_count": 33,
      "outputs": []
    },
    {
      "cell_type": "code",
      "metadata": {
        "id": "4IvflWua3QOL"
      },
      "source": [
        "TRAIN_SIZE = 0.7 \r\n",
        "VAL_SIZE = 0.15\r\n",
        "TEST_SIZE = 0.15"
      ],
      "execution_count": 34,
      "outputs": []
    },
    {
      "cell_type": "code",
      "metadata": {
        "id": "PhX4aRt83WKj"
      },
      "source": [
        "def train_val_test_split(X, y, train_size):\r\n",
        "  \"\"\"Split dataset into data splits.\"\"\"\r\n",
        "  X_train, X_, y_train, y_ = train_test_split(X, y, train_size = TRAIN_SIZE, stratify = y)\r\n",
        "  X_val, X_test, y_val, y_test = train_test_split(X_, y_, train_size = 0.5, stratify = y_)\r\n",
        "  return (X_train, X_val, X_test, y_train, y_val, y_test)"
      ],
      "execution_count": 35,
      "outputs": []
    },
    {
      "cell_type": "code",
      "metadata": {
        "colab": {
          "base_uri": "https://localhost:8080/"
        },
        "id": "6NsjJ7Ak4LJL",
        "outputId": "691a7092-ade0-4167-8156-ca3eac333f60"
      },
      "source": [
        "# Creating the data splits using the function above \r\n",
        "\r\n",
        "X_train, X_val, X_test, y_train, y_val, y_test = train_val_test_split(\r\n",
        "    X = X, y = y, train_size = TRAIN_SIZE)\r\n",
        "\r\n",
        "print (f\"X_train: {X_train.shape}, y_train: {y_train.shape}\") # Ensure you add (.shape) after so as not to print out the actual data (555 in Thai)\r\n",
        "print (f\"X_val: {X_val.shape}, y_val: {y_val.shape}\")\r\n",
        "print (f\"X_test: {X_test.shape}, y_test: {y_test.shape}\")\r\n",
        "print (f\"Sample point: {X_train[0]} -> {y_train[0]}\")"
      ],
      "execution_count": 36,
      "outputs": [
        {
          "output_type": "stream",
          "text": [
            "X_train: (1050, 2), y_train: (1050,)\n",
            "X_val: (225, 2), y_val: (225,)\n",
            "X_test: (225, 2), y_test: (225,)\n",
            "Sample point: [-0.63919105 -0.69724176] -> c1\n"
          ],
          "name": "stdout"
        }
      ]
    },
    {
      "cell_type": "code",
      "metadata": {
        "id": "pZrvn0u545nV"
      },
      "source": [
        "# Label Encoding \r\n",
        "\r\n",
        "# in previous lessons, we wrote the complete label encoder to check under the hood. For this lesson we'll use sklearns LabelEncoder class \r\n",
        "\r\n",
        "from sklearn.preprocessing import LabelEncoder"
      ],
      "execution_count": 37,
      "outputs": []
    },
    {
      "cell_type": "code",
      "metadata": {
        "id": "CXcUir6V53vm"
      },
      "source": [
        "# Output vectoriser \r\n",
        "\r\n",
        "label_encoder = LabelEncoder()"
      ],
      "execution_count": 38,
      "outputs": []
    },
    {
      "cell_type": "code",
      "metadata": {
        "colab": {
          "base_uri": "https://localhost:8080/"
        },
        "id": "knLyECRF59RL",
        "outputId": "48b05a02-6a10-4229-8228-1e1a9b2c9b0a"
      },
      "source": [
        "# Fitting it on the train data \r\n",
        "\r\n",
        "label_encoder = label_encoder.fit(y_train)\r\n",
        "classes = list(label_encoder.classes_)\r\n",
        "print (f\"classes: {classes}\")"
      ],
      "execution_count": 39,
      "outputs": [
        {
          "output_type": "stream",
          "text": [
            "classes: ['c1', 'c2', 'c3']\n"
          ],
          "name": "stdout"
        }
      ]
    },
    {
      "cell_type": "code",
      "metadata": {
        "colab": {
          "base_uri": "https://localhost:8080/"
        },
        "id": "UdH26kS16QPq",
        "outputId": "bcda69f4-dc47-40d8-c8e2-51c86b57a449"
      },
      "source": [
        "# Convert labels to tokens \r\n",
        "\r\n",
        "print (f\"y_train[0]: {y_train[0]}\") # Here we are checking the first color (class/label in the training set before applying the label transformer)\r\n",
        "\r\n",
        "y_train = label_encoder.transform(y_train) # Here for each, we are transforming the labels in each of the data splits \r\n",
        "y_val = label_encoder.transform(y_val)\r\n",
        "y_test = label_encoder.transform(y_test)\r\n",
        "\r\n",
        "print (f\"y_train[0]: {y_train[0]}\") # Here, we want to check the transformed first color (class/label) in the training set\r\n",
        "\r\n",
        "print (f\"y_train[0:5]: {y_train[0:5]}\") # Lets see the first 5 entries "
      ],
      "execution_count": 40,
      "outputs": [
        {
          "output_type": "stream",
          "text": [
            "y_train[0]: c1\n",
            "y_train[0]: 0\n",
            "y_train[0:5]: [0 0 0 2 1]\n"
          ],
          "name": "stdout"
        }
      ]
    },
    {
      "cell_type": "code",
      "metadata": {
        "colab": {
          "base_uri": "https://localhost:8080/"
        },
        "id": "8m7rCVKr8aKM",
        "outputId": "00c48217-6f9e-40b3-b6a6-890033812dc2"
      },
      "source": [
        "# Class weights \r\n",
        "\r\n",
        "# - Here, we check how equal the different categories are distributed within the datset\r\n",
        "\r\n",
        "counts = np.bincount(y_train) # Replace y_train here with y_val, or y_test to see the class distribution \r\n",
        "\r\n",
        "class_weights = {i: 1.0/count for i, count in enumerate(counts)}\r\n",
        "\r\n",
        "print (f\"counts: {counts}\\nweights: {class_weights}\")"
      ],
      "execution_count": 52,
      "outputs": [
        {
          "output_type": "stream",
          "text": [
            "counts: [350 350 350]\n",
            "weights: {0: 0.002857142857142857, 1: 0.002857142857142857, 2: 0.002857142857142857}\n"
          ],
          "name": "stdout"
        }
      ]
    },
    {
      "cell_type": "code",
      "metadata": {
        "id": "ZTzgn0ZX9II4"
      },
      "source": [
        "# Standardising the data \r\n",
        "\r\n",
        "# Standardising (achieving zero mean and unit variance) such that a specific feature's magnitude doesnt affect how the model learns its weights\r\n",
        "# We will only standardise the inputs X because our outputs y are class values\r\n",
        "\r\n",
        "from sklearn.preprocessing import StandardScaler"
      ],
      "execution_count": 53,
      "outputs": []
    },
    {
      "cell_type": "code",
      "metadata": {
        "id": "4aqNbapU-9Eh"
      },
      "source": [
        "# Standardise the data (mean = 0, std = 1) using training data\r\n",
        "\r\n",
        "X_scaler = StandardScaler().fit(X_train)"
      ],
      "execution_count": 54,
      "outputs": []
    },
    {
      "cell_type": "code",
      "metadata": {
        "id": "kEdFy3qT_PnP"
      },
      "source": [
        "# Apply scaler on training and test (do not standardise outputs for classification projects)\r\n",
        "\r\n",
        "X_train = X_scaler.transform(X_train)\r\n",
        "X_val = X_scaler.transform(X_val)\r\n",
        "X_test = X_scaler.transform(X_test)"
      ],
      "execution_count": 55,
      "outputs": []
    },
    {
      "cell_type": "code",
      "metadata": {
        "colab": {
          "base_uri": "https://localhost:8080/"
        },
        "id": "OSfbM_OMAt7u",
        "outputId": "0be32616-d2d4-441e-e3d1-dc59d7b49571"
      },
      "source": [
        "# Check, the mean should be approx 0 and std should be approx 1\r\n",
        "\r\n",
        "print (f\"X_test[0]: mean: {np.mean(X_test[:, 0], axis = 0):.1f}, std: {np.std(X_test[:, 0], axis = 0):.1f}\")\r\n",
        "print (f\"X_test[0]: mean: {np.mean(X_test[:, 1], axis = 0):.1f}, std: {np.std(X_test[:, 1], axis = 0):.1f}\")"
      ],
      "execution_count": 56,
      "outputs": [
        {
          "output_type": "stream",
          "text": [
            "X_test[0]: mean: 0.1, std: 0.9\n",
            "X_test[0]: mean: 0.0, std: 1.0\n"
          ],
          "name": "stdout"
        }
      ]
    },
    {
      "cell_type": "code",
      "metadata": {
        "id": "vLyX2R5MB7jm"
      },
      "source": [
        ""
      ],
      "execution_count": null,
      "outputs": []
    }
  ]
}