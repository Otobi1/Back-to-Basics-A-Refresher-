{
  "nbformat": 4,
  "nbformat_minor": 0,
  "metadata": {
    "colab": {
      "name": "Back to Basics: A Refresher...",
      "provenance": [],
      "authorship_tag": "ABX9TyNZT+4c6Kw6M3y+IGKFF/bg",
      "include_colab_link": true
    },
    "kernelspec": {
      "name": "python3",
      "display_name": "Python 3"
    }
  },
  "cells": [
    {
      "cell_type": "markdown",
      "metadata": {
        "id": "view-in-github",
        "colab_type": "text"
      },
      "source": [
        "<a href=\"https://colab.research.google.com/github/Otobi1/Back-to-Basics-A-Refresher-/blob/master/Back_to_Basics_A_Refresher_.ipynb\" target=\"_parent\"><img src=\"https://colab.research.google.com/assets/colab-badge.svg\" alt=\"Open In Colab\"/></a>"
      ]
    },
    {
      "cell_type": "code",
      "metadata": {
        "colab": {
          "base_uri": "https://localhost:8080/"
        },
        "id": "lRG72cWvwhLJ",
        "outputId": "bbd9f647-fb33-45b1-f3b9-4195d7054a24"
      },
      "source": [
        "## Variables \r\n",
        "# Integer Variable \r\n",
        "\r\n",
        "x = 5\r\n",
        "print(x)\r\n",
        "print (type(x))"
      ],
      "execution_count": 1,
      "outputs": [
        {
          "output_type": "stream",
          "text": [
            "5\n",
            "<class 'int'>\n"
          ],
          "name": "stdout"
        }
      ]
    },
    {
      "cell_type": "code",
      "metadata": {
        "colab": {
          "base_uri": "https://localhost:8080/"
        },
        "id": "5dCJYvDYxeJK",
        "outputId": "a2040829-6554-4f7a-c609-d2e7b2603bf0"
      },
      "source": [
        "# String Variable \r\n",
        "\r\n",
        "x = \"hello\"\r\n",
        "print(x)\r\n",
        "print (type(x))"
      ],
      "execution_count": 2,
      "outputs": [
        {
          "output_type": "stream",
          "text": [
            "hello\n",
            "<class 'str'>\n"
          ],
          "name": "stdout"
        }
      ]
    },
    {
      "cell_type": "code",
      "metadata": {
        "colab": {
          "base_uri": "https://localhost:8080/"
        },
        "id": "X0L_UCnAxpyo",
        "outputId": "47c48778-514e-4de7-ad59-424bd5c05920"
      },
      "source": [
        "# Integer Variable \r\n",
        "\r\n",
        "x = 5\r\n",
        "print (x, type(x))"
      ],
      "execution_count": 3,
      "outputs": [
        {
          "output_type": "stream",
          "text": [
            "5 <class 'int'>\n"
          ],
          "name": "stdout"
        }
      ]
    },
    {
      "cell_type": "code",
      "metadata": {
        "colab": {
          "base_uri": "https://localhost:8080/"
        },
        "id": "yhtosOX0xxCX",
        "outputId": "912685d0-b82c-40fa-8d85-f76b5f0e6da7"
      },
      "source": [
        "# Float Variable \r\n",
        "\r\n",
        "x = 5.0\r\n",
        "print (x, type(x))"
      ],
      "execution_count": 4,
      "outputs": [
        {
          "output_type": "stream",
          "text": [
            "5.0 <class 'float'>\n"
          ],
          "name": "stdout"
        }
      ]
    },
    {
      "cell_type": "code",
      "metadata": {
        "colab": {
          "base_uri": "https://localhost:8080/"
        },
        "id": "Uw278PP7x8Jn",
        "outputId": "34f06ce1-3104-4b29-c847-c6855fb1e522"
      },
      "source": [
        "# Text Variable \r\n",
        "\r\n",
        "x = \"5\"\r\n",
        "print (x, type(x))"
      ],
      "execution_count": 5,
      "outputs": [
        {
          "output_type": "stream",
          "text": [
            "5 <class 'str'>\n"
          ],
          "name": "stdout"
        }
      ]
    },
    {
      "cell_type": "code",
      "metadata": {
        "colab": {
          "base_uri": "https://localhost:8080/"
        },
        "id": "XFaMILPEyBci",
        "outputId": "deb20372-5b0e-4f24-c477-170e709ac652"
      },
      "source": [
        "# Boolean Variable \r\n",
        "\r\n",
        "x = True\r\n",
        "print (x, type(x))"
      ],
      "execution_count": 6,
      "outputs": [
        {
          "output_type": "stream",
          "text": [
            "True <class 'bool'>\n"
          ],
          "name": "stdout"
        }
      ]
    },
    {
      "cell_type": "code",
      "metadata": {
        "colab": {
          "base_uri": "https://localhost:8080/"
        },
        "id": "8eNKACtGyF3D",
        "outputId": "04e3cddf-d9d0-4993-f6f5-91ca8f9f617e"
      },
      "source": [
        "# Operations with variables \r\n",
        "\r\n",
        "a = 1\r\n",
        "b = 2\r\n",
        "c = a + b\r\n",
        "print (c)"
      ],
      "execution_count": 7,
      "outputs": [
        {
          "output_type": "stream",
          "text": [
            "3\n"
          ],
          "name": "stdout"
        }
      ]
    },
    {
      "cell_type": "code",
      "metadata": {
        "colab": {
          "base_uri": "https://localhost:8080/"
        },
        "id": "7fZGM_puyPBy",
        "outputId": "2430c50e-11b0-44d8-8b5c-23aa58ad3252"
      },
      "source": [
        "# It is important to know the variable types we are working with \r\n",
        "# see a common type of mistake below \r\n",
        "\r\n",
        "# these are integer variables \r\n",
        "a = 5\r\n",
        "b = 3\r\n",
        "print (a + b)\r\n",
        "\r\n",
        "# these are string variables \r\n",
        "a = \"5\"\r\n",
        "b = \"3\"\r\n",
        "print (a + b)"
      ],
      "execution_count": 9,
      "outputs": [
        {
          "output_type": "stream",
          "text": [
            "8\n",
            "53\n"
          ],
          "name": "stdout"
        }
      ]
    },
    {
      "cell_type": "code",
      "metadata": {
        "colab": {
          "base_uri": "https://localhost:8080/"
        },
        "id": "BqHY8r0FyjFR",
        "outputId": "53ece71c-4a22-43cb-c6fc-774a2d8f2801"
      },
      "source": [
        "## Lists \r\n",
        "# Lists are ordered, mutable (changeable) collection of values that are comma separated \r\n",
        "# and enclosed with square brackets. A list can have different types of variables \r\n",
        "\r\n",
        "# Creating a list\r\n",
        "\r\n",
        "x = [3, \"hello\", 1.2]\r\n",
        "print (x)"
      ],
      "execution_count": 10,
      "outputs": [
        {
          "output_type": "stream",
          "text": [
            "[3, 'hello', 1.2]\n"
          ],
          "name": "stdout"
        }
      ]
    },
    {
      "cell_type": "code",
      "metadata": {
        "colab": {
          "base_uri": "https://localhost:8080/"
        },
        "id": "ofQXXIDaz-7F",
        "outputId": "14ca2192-17f9-4021-c873-bb1a6dc1713e"
      },
      "source": [
        "# Getting the length of a list \r\n",
        "\r\n",
        "len (x)"
      ],
      "execution_count": 11,
      "outputs": [
        {
          "output_type": "execute_result",
          "data": {
            "text/plain": [
              "3"
            ]
          },
          "metadata": {
            "tags": []
          },
          "execution_count": 11
        }
      ]
    },
    {
      "cell_type": "code",
      "metadata": {
        "colab": {
          "base_uri": "https://localhost:8080/"
        },
        "id": "syYaSP0o0EGF",
        "outputId": "ce6d3cfa-0682-4c1c-dac9-2b79d19645bf"
      },
      "source": [
        "# We can add to a list using the append function \r\n",
        "\r\n",
        "x.append(7)\r\n",
        "print (x)\r\n",
        "print (len(x))"
      ],
      "execution_count": 12,
      "outputs": [
        {
          "output_type": "stream",
          "text": [
            "[3, 'hello', 1.2, 7]\n",
            "4\n"
          ],
          "name": "stdout"
        }
      ]
    },
    {
      "cell_type": "code",
      "metadata": {
        "colab": {
          "base_uri": "https://localhost:8080/"
        },
        "id": "KDmkULl_0QK6",
        "outputId": "796f6f24-6484-40a7-c28b-fce6a41a2e6d"
      },
      "source": [
        "# We can replace existing items on a list \r\n",
        "\r\n",
        "x[1] = \"bye\"\r\n",
        "print (x)"
      ],
      "execution_count": 13,
      "outputs": [
        {
          "output_type": "stream",
          "text": [
            "[3, 'bye', 1.2, 7]\n"
          ],
          "name": "stdout"
        }
      ]
    },
    {
      "cell_type": "code",
      "metadata": {
        "colab": {
          "base_uri": "https://localhost:8080/"
        },
        "id": "5G4-Hbp40alF",
        "outputId": "cbf69e9f-737a-4f0e-bc73-983fb59068d3"
      },
      "source": [
        "# We can perform operations with lists \r\n",
        "\r\n",
        "y = [2.4, \"world\"]\r\n",
        "z = x + y\r\n",
        "print (z)"
      ],
      "execution_count": 14,
      "outputs": [
        {
          "output_type": "stream",
          "text": [
            "[3, 'bye', 1.2, 7, 2.4, 'world']\n"
          ],
          "name": "stdout"
        }
      ]
    },
    {
      "cell_type": "code",
      "metadata": {
        "id": "RS42aU1-0sMx"
      },
      "source": [
        "## Indexing \r\n",
        "# Indexing and slicing from lists allows the retrieval of specific values from the list.\r\n",
        "# Indices can be positive (starting from 0) or negative (-1 and lower, where -1 is the last item in the list)\r\n",
        "\r\n",
        "# Example x = [3, \"hello\", 1.2]\r\n",
        "# -ive indices: -3 = 3, -2 = \"hello\", -1 = 1.2 \r\n",
        "# +ive indices: 0 = 3, 1 = \"hello\", 2 = 1.2 "
      ],
      "execution_count": 15,
      "outputs": []
    },
    {
      "cell_type": "code",
      "metadata": {
        "colab": {
          "base_uri": "https://localhost:8080/"
        },
        "id": "Hch1IWND4XOs",
        "outputId": "6bec438e-4f49-45ff-df9b-dd81bf9a7529"
      },
      "source": [
        "# Indexing \r\n",
        "x = [3, \"hello\", 1.2]\r\n",
        "\r\n",
        "print (\"x[0]:\", x[0])\r\n",
        "print (\"x[1]:\", x[1])\r\n",
        "print (\"x[-1]:\", x[-1]) # last item on the list \r\n",
        "print (\"x[-2]:\", x[-2]) # second to the last item on the list"
      ],
      "execution_count": 16,
      "outputs": [
        {
          "output_type": "stream",
          "text": [
            "x[0]: 3\n",
            "x[1]: hello\n",
            "x[-1]: 1.2\n",
            "x[-2]: hello\n"
          ],
          "name": "stdout"
        }
      ]
    },
    {
      "cell_type": "code",
      "metadata": {
        "colab": {
          "base_uri": "https://localhost:8080/"
        },
        "id": "BgwLdpc04-IU",
        "outputId": "89e3b3c6-aaee-4e7f-b2c1-d00cb00f8d51"
      },
      "source": [
        "# Slicing \r\n",
        "print (\"x[:]:\", x[:]) # all indices\r\n",
        "print (\"x[1:]:\", x[1:]) # index 1 to the end of the list\r\n",
        "print (\"x[1:2]:\", x[1:2]) # index 1 to index 2 (not including the content of index 2)\r\n",
        "print (\"x[:-1]:\", x[:-1]) # index 0 to the last index (not incl., contents of the last index)"
      ],
      "execution_count": 17,
      "outputs": [
        {
          "output_type": "stream",
          "text": [
            "x[:]: [3, 'hello', 1.2]\n",
            "x[1:]: ['hello', 1.2]\n",
            "x[1:2]: ['hello']\n",
            "x[:-1]: [3, 'hello']\n"
          ],
          "name": "stdout"
        }
      ]
    },
    {
      "cell_type": "code",
      "metadata": {
        "colab": {
          "base_uri": "https://localhost:8080/"
        },
        "id": "usUBZCg15pa-",
        "outputId": "1950fc4d-ea83-4f64-c368-a18200dfddb8"
      },
      "source": [
        "## Tuples \r\n",
        "# these are collections that are ordered and immutable (unchangeable). \r\n",
        "# You can use these to store values that will never be changed. \r\n",
        "\r\n",
        "# Creating a tuple \r\n",
        "x = (3.0, \"hello\") # tuples start and ends with ()\r\n",
        "print (x)"
      ],
      "execution_count": 18,
      "outputs": [
        {
          "output_type": "stream",
          "text": [
            "(3.0, 'hello')\n"
          ],
          "name": "stdout"
        }
      ]
    },
    {
      "cell_type": "code",
      "metadata": {
        "colab": {
          "base_uri": "https://localhost:8080/"
        },
        "id": "um9Oy7lQ93cD",
        "outputId": "11fc4086-7126-4daa-9f4b-f5777598463d"
      },
      "source": [
        "# Adding values to a tuple \r\n",
        "x = x + (5.6, 4)\r\n",
        "print (x)"
      ],
      "execution_count": 19,
      "outputs": [
        {
          "output_type": "stream",
          "text": [
            "(3.0, 'hello', 5.6, 4)\n"
          ],
          "name": "stdout"
        }
      ]
    },
    {
      "cell_type": "code",
      "metadata": {
        "colab": {
          "base_uri": "https://localhost:8080/",
          "height": 222
        },
        "id": "Sb8HICXX-CXO",
        "outputId": "91452519-67db-4086-b6e4-adbd58cac739"
      },
      "source": [
        "# Try to change the contents of a tuple, you'll get an error\r\n",
        "\r\n",
        "print (x[0]) # position zero is originally 3.0\r\n",
        "\r\n",
        "# attempting to  change the contents in this position \r\n",
        "\r\n",
        "x[0] = 1.2"
      ],
      "execution_count": 21,
      "outputs": [
        {
          "output_type": "stream",
          "text": [
            "3.0\n"
          ],
          "name": "stdout"
        },
        {
          "output_type": "error",
          "ename": "TypeError",
          "evalue": "ignored",
          "traceback": [
            "\u001b[0;31m---------------------------------------------------------------------------\u001b[0m",
            "\u001b[0;31mTypeError\u001b[0m                                 Traceback (most recent call last)",
            "\u001b[0;32m<ipython-input-21-06349fcdb252>\u001b[0m in \u001b[0;36m<module>\u001b[0;34m()\u001b[0m\n\u001b[1;32m      5\u001b[0m \u001b[0;31m# attempting to  change the contents in this position\u001b[0m\u001b[0;34m\u001b[0m\u001b[0;34m\u001b[0m\u001b[0;34m\u001b[0m\u001b[0m\n\u001b[1;32m      6\u001b[0m \u001b[0;34m\u001b[0m\u001b[0m\n\u001b[0;32m----> 7\u001b[0;31m \u001b[0mx\u001b[0m\u001b[0;34m[\u001b[0m\u001b[0;36m0\u001b[0m\u001b[0;34m]\u001b[0m \u001b[0;34m=\u001b[0m \u001b[0;36m1.2\u001b[0m\u001b[0;34m\u001b[0m\u001b[0;34m\u001b[0m\u001b[0m\n\u001b[0m",
            "\u001b[0;31mTypeError\u001b[0m: 'tuple' object does not support item assignment"
          ]
        }
      ]
    },
    {
      "cell_type": "code",
      "metadata": {
        "id": "3Qm4XP6P-QDf"
      },
      "source": [
        "## Dictionaries \r\n",
        "# These are unordered, mutable and indexed collection of key-value pairs \r\n",
        "# You can retrieve values based on the key. \r\n",
        "# A dictionary cannot have two same keys. \r\n",
        "\r\n",
        "# Example \r\n",
        "# person = {\"name\": \"'tobi\", \r\n",
        "#            \"eye_colour\": \"brown\"}"
      ],
      "execution_count": 22,
      "outputs": []
    },
    {
      "cell_type": "code",
      "metadata": {
        "colab": {
          "base_uri": "https://localhost:8080/"
        },
        "id": "ACsMiq4GBBAj",
        "outputId": "11863b1a-c4f2-4ff7-a8b6-3c2da0243cf7"
      },
      "source": [
        "# Creating a dictionary\r\n",
        "person = {\"name\": \"'tobi\", \r\n",
        "          \"eye_colour\": \"brown\"}\r\n",
        "print (person)\r\n",
        "print (person[\"name\"])\r\n",
        "print (person[\"eye_colour\"])"
      ],
      "execution_count": 23,
      "outputs": [
        {
          "output_type": "stream",
          "text": [
            "{'name': \"'tobi\", 'eye_colour': 'brown'}\n",
            "'tobi\n",
            "brown\n"
          ],
          "name": "stdout"
        }
      ]
    },
    {
      "cell_type": "code",
      "metadata": {
        "colab": {
          "base_uri": "https://localhost:8080/"
        },
        "id": "n1ik8BoMBWWp",
        "outputId": "9fe863a6-c38b-45b4-c85f-51dbc0471418"
      },
      "source": [
        "# Changing the value for a key \r\n",
        "\r\n",
        "person[\"eye_colour\"] = \"dark brown\"\r\n",
        "\r\n",
        "print (person)"
      ],
      "execution_count": 24,
      "outputs": [
        {
          "output_type": "stream",
          "text": [
            "{'name': \"'tobi\", 'eye_colour': 'dark brown'}\n"
          ],
          "name": "stdout"
        }
      ]
    },
    {
      "cell_type": "code",
      "metadata": {
        "colab": {
          "base_uri": "https://localhost:8080/"
        },
        "id": "GjmWO4dzCh9S",
        "outputId": "7c5c9d02-488d-4749-8400-76f2a3acc49a"
      },
      "source": [
        "# Adding a new key-value pair\r\n",
        "person[\"age\"] = 30\r\n",
        "\r\n",
        "print (person)"
      ],
      "execution_count": 25,
      "outputs": [
        {
          "output_type": "stream",
          "text": [
            "{'name': \"'tobi\", 'eye_colour': 'dark brown', 'age': 30}\n"
          ],
          "name": "stdout"
        }
      ]
    },
    {
      "cell_type": "code",
      "metadata": {
        "colab": {
          "base_uri": "https://localhost:8080/"
        },
        "id": "bn16jeERCrVc",
        "outputId": "78ac4a6b-edd9-47aa-8050-b8cf7ca4fb10"
      },
      "source": [
        "# Length of a dictionary\r\n",
        "\r\n",
        "print (len(person))"
      ],
      "execution_count": 26,
      "outputs": [
        {
          "output_type": "stream",
          "text": [
            "3\n"
          ],
          "name": "stdout"
        }
      ]
    },
    {
      "cell_type": "code",
      "metadata": {
        "id": "dPV9dG7jCzrl"
      },
      "source": [
        ""
      ],
      "execution_count": null,
      "outputs": []
    }
  ]
}