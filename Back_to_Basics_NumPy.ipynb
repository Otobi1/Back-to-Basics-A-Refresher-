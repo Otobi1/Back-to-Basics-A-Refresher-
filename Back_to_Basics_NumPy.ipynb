{
  "nbformat": 4,
  "nbformat_minor": 0,
  "metadata": {
    "colab": {
      "name": "Back to Basics: NumPy",
      "provenance": [],
      "authorship_tag": "ABX9TyNBgHSwNQ+IZMY+hwy+q1lo",
      "include_colab_link": true
    },
    "kernelspec": {
      "name": "python3",
      "display_name": "Python 3"
    }
  },
  "cells": [
    {
      "cell_type": "markdown",
      "metadata": {
        "id": "view-in-github",
        "colab_type": "text"
      },
      "source": [
        "<a href=\"https://colab.research.google.com/github/Otobi1/Back-to-Basics-A-Refresher-/blob/master/Back_to_Basics_NumPy.ipynb\" target=\"_parent\"><img src=\"https://colab.research.google.com/assets/colab-badge.svg\" alt=\"Open In Colab\"/></a>"
      ]
    },
    {
      "cell_type": "code",
      "metadata": {
        "id": "2WTvw9OxbzLv"
      },
      "source": [
        "import numpy as np"
      ],
      "execution_count": 1,
      "outputs": []
    },
    {
      "cell_type": "code",
      "metadata": {
        "id": "VQpwJCPTNnEh"
      },
      "source": [
        "# Set seed for reproducibility (so that we receive the exact same results every time)\r\n",
        "\r\n",
        "np.random.seed(seed = 1234)"
      ],
      "execution_count": 2,
      "outputs": []
    },
    {
      "cell_type": "code",
      "metadata": {
        "colab": {
          "base_uri": "https://localhost:8080/"
        },
        "id": "4GM7cO5mNzKk",
        "outputId": "c3587e1b-3566-4990-bf7a-a17ab94902ba"
      },
      "source": [
        "# Scalar: a scalar is a 0-D (zero dimension)  tensor. Its a single value\r\n",
        "\r\n",
        "x = np.array(6)\r\n",
        "\r\n",
        "print (\"x: \", x)\r\n",
        "print (\"x ndim: \", x.ndim) # Number of dimensions\r\n",
        "print (\"x shape: \", x.shape) # dimensions\r\n",
        "print (\"x size: \", x.size) # size of elements\r\n",
        "print (\"x dtype: \", x.dtype) # data type"
      ],
      "execution_count": 4,
      "outputs": [
        {
          "output_type": "stream",
          "text": [
            "x:  6\n",
            "x ndim:  0\n",
            "x shape:  ()\n",
            "x size:  1\n",
            "x dtype:  int64\n"
          ],
          "name": "stdout"
        }
      ]
    },
    {
      "cell_type": "code",
      "metadata": {
        "colab": {
          "base_uri": "https://localhost:8080/"
        },
        "id": "SvVkGewCVemZ",
        "outputId": "491f563c-a0ea-4ec1-e082-c6c79f36b004"
      },
      "source": [
        "# Vector : its a 1-D (1 dimension) tensor. It is a row or column of values\r\n",
        "\r\n",
        "x = np.array([1.3, 2.2, 1.7])\r\n",
        "\r\n",
        "print (\"x: \", x)\r\n",
        "print (\"x ndim: \", x.ndim) # Number of dimensions\r\n",
        "print (\"x shape: \", x.shape) # dimensions\r\n",
        "print (\"x size: \", x.size) # size of elements\r\n",
        "print (\"x dtype: \", x.dtype) # data type (notice the float data type)"
      ],
      "execution_count": 5,
      "outputs": [
        {
          "output_type": "stream",
          "text": [
            "x:  [1.3 2.2 1.7]\n",
            "x ndim:  1\n",
            "x shape:  (3,)\n",
            "x size:  3\n",
            "x dtype:  float64\n"
          ],
          "name": "stdout"
        }
      ]
    },
    {
      "cell_type": "code",
      "metadata": {
        "colab": {
          "base_uri": "https://localhost:8080/"
        },
        "id": "nVEWICoqVy0Y",
        "outputId": "4b299067-da35-4e84-8ae2-a66cda2058c1"
      },
      "source": [
        "# Matrix: it is a 2-D tensor(2 dimension tensor). It is an array of rows and columns of values\r\n",
        "\r\n",
        "x = np.array([[1,2], [3, 4]])\r\n",
        "\r\n",
        "print (\"x:\\n\", x)\r\n",
        "print (\"x ndim: \", x.ndim) # Number of dimensions\r\n",
        "print (\"x shape: \", x.shape) # dimensions\r\n",
        "print (\"x size: \", x.size) # size of elements\r\n",
        "print (\"x dtype: \", x.dtype) # data type"
      ],
      "execution_count": 6,
      "outputs": [
        {
          "output_type": "stream",
          "text": [
            "x:\n",
            " [[1 2]\n",
            " [3 4]]\n",
            "x ndim:  2\n",
            "x shape:  (2, 2)\n",
            "x size:  4\n",
            "x dtype:  int64\n"
          ],
          "name": "stdout"
        }
      ]
    },
    {
      "cell_type": "code",
      "metadata": {
        "colab": {
          "base_uri": "https://localhost:8080/"
        },
        "id": "BLuvu69VdJR2",
        "outputId": "0043dbae-5acd-4fef-e622-ae902206c8f8"
      },
      "source": [
        "# 3-D Tensor\r\n",
        "\r\n",
        "x = np.array([[[1, 2], [3, 4]], [[5, 6], [7,8]]])\r\n",
        "\r\n",
        "print (\"x:\\n\", x)\r\n",
        "print (\"x ndim: \", x.ndim) # Number of dimensions\r\n",
        "print (\"x shape: \", x.shape) # dimensions\r\n",
        "print (\"x size: \", x.size) # size of elements\r\n",
        "print (\"x dtype: \", x.dtype) # data type"
      ],
      "execution_count": 7,
      "outputs": [
        {
          "output_type": "stream",
          "text": [
            "x:\n",
            " [[[1 2]\n",
            "  [3 4]]\n",
            "\n",
            " [[5 6]\n",
            "  [7 8]]]\n",
            "x ndim:  3\n",
            "x shape:  (2, 2, 2)\n",
            "x size:  8\n",
            "x dtype:  int64\n"
          ],
          "name": "stdout"
        }
      ]
    },
    {
      "cell_type": "code",
      "metadata": {
        "colab": {
          "base_uri": "https://localhost:8080/"
        },
        "id": "5dGhMy0Ed0zN",
        "outputId": "cc32bec6-ac92-4fb0-db02-38ba61a6f025"
      },
      "source": [
        "## Functions \r\n",
        "# NumPy also comes with some functions that facilitate the creation of tensors quickly \r\n",
        "\r\n",
        "print (\"np.zeros((2,2)):\\n\", np.zeros((2,2)))\r\n",
        "print (\"np.ones((2,2)): \\n\", np.ones((2,2)))\r\n",
        "print (\"np.eye((2)): \\n\", np.eye((2))) # identity matrix\r\n",
        "print (\"np.random.random((2,2)): \\n\", np.random.random((2,2)))"
      ],
      "execution_count": 8,
      "outputs": [
        {
          "output_type": "stream",
          "text": [
            "np.zeros((2,2)):\n",
            " [[0. 0.]\n",
            " [0. 0.]]\n",
            "np.ones((2,2)): \n",
            " [[1. 1.]\n",
            " [1. 1.]]\n",
            "np.eye((2)): \n",
            " [[1. 0.]\n",
            " [0. 1.]]\n",
            "np.random.random((2,2)): \n",
            " [[0.19151945 0.62210877]\n",
            " [0.43772774 0.78535858]]\n"
          ],
          "name": "stdout"
        }
      ]
    },
    {
      "cell_type": "code",
      "metadata": {
        "colab": {
          "base_uri": "https://localhost:8080/"
        },
        "id": "Ig8K94p5fYw_",
        "outputId": "5045a7e2-b035-4f23-8be7-b69e84d1712d"
      },
      "source": [
        "## Indexing \r\n",
        "# We can extract specific values from our tensors using indexing\r\n",
        "# Keep in mind that when indexing, the row and column indices start at 0. \r\n",
        "# Also we can use negative indices as we have lists (where -1, is the last item on the list)\r\n",
        "\r\n",
        "# indexing \r\n",
        "\r\n",
        "x = np.array([1,2,3])\r\n",
        "print (\"x: \", x)\r\n",
        "print (\"x[0]: \", x[0])\r\n",
        "x[0] = 0\r\n",
        "print (\"x: \", x)"
      ],
      "execution_count": 9,
      "outputs": [
        {
          "output_type": "stream",
          "text": [
            "x:  [1 2 3]\n",
            "x[0]:  1\n",
            "x:  [0 2 3]\n"
          ],
          "name": "stdout"
        }
      ]
    },
    {
      "cell_type": "code",
      "metadata": {
        "colab": {
          "base_uri": "https://localhost:8080/"
        },
        "id": "0yPP-gvWgKNQ",
        "outputId": "d60e22f4-307a-468b-f0f6-b2410c508fa4"
      },
      "source": [
        "# Slicing \r\n",
        "\r\n",
        "x = np.array([[1,2,3,4], [5,6,7,8], [9,10,11,12]])\r\n",
        "\r\n",
        "print (x)\r\n",
        "print (\"x column 1: \", x[:,1])\r\n",
        "print (\"x row 0: \", x[0, :])\r\n",
        "print (\"x rows 0,1 & cols 1,2: \\n\", x[0:2, 1:3])"
      ],
      "execution_count": 10,
      "outputs": [
        {
          "output_type": "stream",
          "text": [
            "[[ 1  2  3  4]\n",
            " [ 5  6  7  8]\n",
            " [ 9 10 11 12]]\n",
            "x column 1:  [ 2  6 10]\n",
            "x row 0:  [1 2 3 4]\n",
            "x rows 0,1 & cols 1,2: \n",
            " [[2 3]\n",
            " [6 7]]\n"
          ],
          "name": "stdout"
        }
      ]
    },
    {
      "cell_type": "code",
      "metadata": {
        "colab": {
          "base_uri": "https://localhost:8080/"
        },
        "id": "hopDDG1yhF9x",
        "outputId": "82e89aba-5686-4007-cce8-d32b3f1f23ba"
      },
      "source": [
        "# Integer array indexing \r\n",
        "\r\n",
        "print (x)\r\n",
        "rows_to_get = np.array([0,1,2])\r\n",
        "print (\"rows_to_get: \", rows_to_get)\r\n",
        "cols_to_get = np.array([0, 2, 1])\r\n",
        "print (\"cols_to_get: \", cols_to_get)\r\n",
        "# combine sequences above to get values to get\r\n",
        "print (\"indexed values: \", x[rows_to_get, cols_to_get])"
      ],
      "execution_count": 11,
      "outputs": [
        {
          "output_type": "stream",
          "text": [
            "[[ 1  2  3  4]\n",
            " [ 5  6  7  8]\n",
            " [ 9 10 11 12]]\n",
            "rows_to_get:  [0 1 2]\n",
            "cols_to_get:  [0 2 1]\n",
            "indexed values:  [ 1  7 10]\n"
          ],
          "name": "stdout"
        }
      ]
    },
    {
      "cell_type": "code",
      "metadata": {
        "colab": {
          "base_uri": "https://localhost:8080/"
        },
        "id": "zqmOD_w7iSLF",
        "outputId": "7463cbbe-85cc-4124-e021-42dbc7c84a11"
      },
      "source": [
        "# Boolean array indexing \r\n",
        "\r\n",
        "x = np.array([[1, 2], [3,4], [5, 6]])\r\n",
        "\r\n",
        "print (\"x: \\n\", x)\r\n",
        "print (\"x > 2: \\n \", x > 2)\r\n",
        "print (\"x[x > 2]: \\n\", x[x > 2])"
      ],
      "execution_count": 12,
      "outputs": [
        {
          "output_type": "stream",
          "text": [
            "x: \n",
            " [[1 2]\n",
            " [3 4]\n",
            " [5 6]]\n",
            "x > 2: \n",
            "  [[False False]\n",
            " [ True  True]\n",
            " [ True  True]]\n",
            "x[x > 2]: \n",
            " [3 4 5 6]\n"
          ],
          "name": "stdout"
        }
      ]
    },
    {
      "cell_type": "code",
      "metadata": {
        "colab": {
          "base_uri": "https://localhost:8080/"
        },
        "id": "YqK4NX9Pjwn1",
        "outputId": "bba32051-22ff-4cc4-b5c8-25b215852020"
      },
      "source": [
        "## Arithmetic \r\n",
        "\r\n",
        "# Basic math\r\n",
        "\r\n",
        "x = np.array([[1, 2], [3, 4]], dtype = np.float64)\r\n",
        "y = np.array([[1, 2], [3, 4]], dtype = np.float64)\r\n",
        "\r\n",
        "print (\"x + y: \\n\", np.add(x, y)) # or x + y\r\n",
        "print (\"x - y: \\n\", np.subtract(x, y)) # or x - y\r\n",
        "print (\"x * y: \\n\", np.multiply(x, y)) # or x * y"
      ],
      "execution_count": 14,
      "outputs": [
        {
          "output_type": "stream",
          "text": [
            "x + y: \n",
            " [[2. 4.]\n",
            " [6. 8.]]\n",
            "x - y: \n",
            " [[0. 0.]\n",
            " [0. 0.]]\n",
            "x * y: \n",
            " [[ 1.  4.]\n",
            " [ 9. 16.]]\n"
          ],
          "name": "stdout"
        }
      ]
    },
    {
      "cell_type": "code",
      "metadata": {
        "id": "3PTOU68Bk3Ml"
      },
      "source": [
        "# Dot product \r\n",
        "# - Common NumPy operation with uses in ML is the matrix multiplication using the dot product.\r\n",
        "# - we take the first row of the first matrix and the columns of the second matrix to determine the dot product\r\n",
        "# -- the only requirement is that the inside dimensions match, in this case the first matrix has 3 columns and the second matrix has 3 rows"
      ],
      "execution_count": 15,
      "outputs": []
    },
    {
      "cell_type": "code",
      "metadata": {
        "colab": {
          "base_uri": "https://localhost:8080/"
        },
        "id": "TpeFfn2UmPDP",
        "outputId": "0fdd70ae-e289-467f-8590-63f119895e3c"
      },
      "source": [
        "# Dot product \r\n",
        "\r\n",
        "a = np.array([[1,2,3], [4,5,6]], dtype = np.float64) # we can specify the data type\r\n",
        "b = np.array([[7,8], [9,10], [11,12]], dtype = np.float64)\r\n",
        "c = a.dot(b)\r\n",
        "\r\n",
        "print (f\"{a.shape} . {b.shape} = {c.shape}\")\r\n",
        "print (c)"
      ],
      "execution_count": 16,
      "outputs": [
        {
          "output_type": "stream",
          "text": [
            "(2, 3) . (3, 2) = (2, 2)\n",
            "[[ 58.  64.]\n",
            " [139. 154.]]\n"
          ],
          "name": "stdout"
        }
      ]
    },
    {
      "cell_type": "code",
      "metadata": {
        "colab": {
          "base_uri": "https://localhost:8080/"
        },
        "id": "xhf3K8IonCTy",
        "outputId": "d4364fa5-db28-4299-e7d6-79b04ad0959b"
      },
      "source": [
        "# Axis operations \r\n",
        "# - we can also do operations across a specific axis \r\n",
        "\r\n",
        "# sum across a dimension\r\n",
        "\r\n",
        "x = np.array([[1,2], [3,4]])\r\n",
        "\r\n",
        "print (x)\r\n",
        "print (\"sum all: \", np.sum(x)) # adds all the elements\r\n",
        "print (\"sum axis = 0: \", np.sum(x, axis = 0)) # sums across rows\r\n",
        "print (\"sum axis = 1: \", np.sum(x, axis = 1)) # sums across column\r\n"
      ],
      "execution_count": 17,
      "outputs": [
        {
          "output_type": "stream",
          "text": [
            "[[1 2]\n",
            " [3 4]]\n",
            "sum all:  10\n",
            "sum axis = 0:  [4 6]\n",
            "sum axis = 1:  [3 7]\n"
          ],
          "name": "stdout"
        }
      ]
    },
    {
      "cell_type": "code",
      "metadata": {
        "colab": {
          "base_uri": "https://localhost:8080/"
        },
        "id": "XTGoEZv1oZ9A",
        "outputId": "8fdc6198-733c-40a4-d397-29473dc177a4"
      },
      "source": [
        "# Min/Max \r\n",
        "\r\n",
        "x = np.array([[1,2,3], [4,5,6]])\r\n",
        "\r\n",
        "print (\"min: \", x.min())\r\n",
        "print (\"max: \", x.max())\r\n",
        "print (\"min axis = 0: \", x.min(axis = 0))\r\n",
        "print (\"mix axis = 1: \", x.min(axis = 1))"
      ],
      "execution_count": 18,
      "outputs": [
        {
          "output_type": "stream",
          "text": [
            "min:  1\n",
            "max:  6\n",
            "min axis = 0:  [1 2 3]\n",
            "mix axis = 1:  [1 4]\n"
          ],
          "name": "stdout"
        }
      ]
    },
    {
      "cell_type": "code",
      "metadata": {
        "colab": {
          "base_uri": "https://localhost:8080/"
        },
        "id": "uqClrPDapG3l",
        "outputId": "a1a0b2d5-a60d-46ad-f034-fcd17c777c17"
      },
      "source": [
        "# Broadcast \r\n",
        "\r\n",
        "# in adding a vector to a scalar, note that the dimensions are not compatible. How does NumPy give us the right answer?\r\n",
        "\r\n",
        "# - the scalar broadcasts across the vector so that they have compatible shapes.\r\n",
        "\r\n",
        "x = np.array([1,2]) # vector\r\n",
        "y = np.array(3) # scalar\r\n",
        "z = x + y\r\n",
        "print (\"z: \\n\", z)"
      ],
      "execution_count": 19,
      "outputs": [
        {
          "output_type": "stream",
          "text": [
            "z: \n",
            " [4 5]\n"
          ],
          "name": "stdout"
        }
      ]
    },
    {
      "cell_type": "code",
      "metadata": {
        "colab": {
          "base_uri": "https://localhost:8080/"
        },
        "id": "fNv4gKyRqxkK",
        "outputId": "06e319ef-c274-48a9-f8c4-d4f135a1a3ab"
      },
      "source": [
        "# Transpose \r\n",
        "# required for changing the dimensions of tensors for operations like dot product\r\n",
        "\r\n",
        "x = np.array([[1,2,3], [4,5,6]])\r\n",
        "\r\n",
        "print (\"x: \\n\", x)\r\n",
        "print (\"x.shape: \", x.shape)\r\n",
        "y = np.transpose(x, (1,0)) # flip dimensions at index 0 and 1\r\n",
        "print (\"y: \\n\", y)\r\n",
        "print (\"y.shape: \", y.shape)"
      ],
      "execution_count": 20,
      "outputs": [
        {
          "output_type": "stream",
          "text": [
            "x: \n",
            " [[1 2 3]\n",
            " [4 5 6]]\n",
            "x.shape:  (2, 3)\n",
            "y: \n",
            " [[1 4]\n",
            " [2 5]\n",
            " [3 6]]\n",
            "y.shape:  (3, 2)\n"
          ],
          "name": "stdout"
        }
      ]
    },
    {
      "cell_type": "code",
      "metadata": {
        "colab": {
          "base_uri": "https://localhost:8080/"
        },
        "id": "3WEufHk6rmwB",
        "outputId": "5f25a186-b59a-4902-f256-0f0b29bf1a43"
      },
      "source": [
        "# Reshape \r\n",
        "# used to alter the dimensions of the matrix\r\n",
        "# = it allows the transformation of a tensor into different permissible shapes \r\n",
        "# - reshape checks each dimension of the new tensor and separates the original tensor into that many units]\r\n",
        "\r\n",
        "x = np.array([[1, 2, 3, 4 , 5, 6]])\r\n",
        "print (x)\r\n",
        "\r\n",
        "print (\"x.shape: \", x.shape)\r\n",
        "y = np.reshape(x, (2, 3))\r\n",
        "\r\n",
        "print (\"y: \\n\", y)\r\n",
        "print (\"y.shape: \", y.shape)\r\n",
        "z = np.reshape(x, (2, -1))\r\n",
        "print (\"z: \\n\", z)\r\n",
        "print (\"z.shape: \", z.shape)"
      ],
      "execution_count": 23,
      "outputs": [
        {
          "output_type": "stream",
          "text": [
            "[[1 2 3 4 5 6]]\n",
            "x.shape:  (1, 6)\n",
            "y: \n",
            " [[1 2 3]\n",
            " [4 5 6]]\n",
            "y.shape:  (2, 3)\n",
            "z: \n",
            " [[1 2 3]\n",
            " [4 5 6]]\n",
            "z.shape:  (2, 3)\n"
          ],
          "name": "stdout"
        }
      ]
    },
    {
      "cell_type": "code",
      "metadata": {
        "id": "PXpwsVE8uSj3"
      },
      "source": [
        "# although reshaping is very convenient to use in manipulating tensors, there are considerable pitfalls in its usage\r\n",
        "\r\n",
        "# https://madewithml.com/courses/ml-foundations/numpy/"
      ],
      "execution_count": null,
      "outputs": []
    }
  ]
}