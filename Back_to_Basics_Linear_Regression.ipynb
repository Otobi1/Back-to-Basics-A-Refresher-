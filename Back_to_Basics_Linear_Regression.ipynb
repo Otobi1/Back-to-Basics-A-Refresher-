{
  "nbformat": 4,
  "nbformat_minor": 0,
  "metadata": {
    "colab": {
      "name": "Back to Basics: Linear Regression ",
      "provenance": [],
      "authorship_tag": "ABX9TyOO6mCyTAh8Hm01LR/Gd2W8",
      "include_colab_link": true
    },
    "kernelspec": {
      "name": "python3",
      "display_name": "Python 3"
    }
  },
  "cells": [
    {
      "cell_type": "markdown",
      "metadata": {
        "id": "view-in-github",
        "colab_type": "text"
      },
      "source": [
        "<a href=\"https://colab.research.google.com/github/Otobi1/Back-to-Basics-A-Refresher-/blob/master/Back_to_Basics_Linear_Regression.ipynb\" target=\"_parent\"><img src=\"https://colab.research.google.com/assets/colab-badge.svg\" alt=\"Open In Colab\"/></a>"
      ]
    },
    {
      "cell_type": "code",
      "metadata": {
        "id": "Jhus7YXztS9o"
      },
      "source": [
        "## Understanding linear regression, the math, NumPy and PyTorch implementation \r\n",
        "\r\n",
        "# y = XW + b (linear model)\r\n",
        "\r\n",
        "# where y is the prediction, X is the input(s), W is the weight and b is the bias"
      ],
      "execution_count": 7,
      "outputs": []
    },
    {
      "cell_type": "code",
      "metadata": {
        "id": "lt3KwLZQWHvH"
      },
      "source": [
        "# the objective is to use the input X to predict the output y using a linear model.\r\n",
        "# the model will be a line of best fit that minimises the distance between the predicted (model output) and the target (ground truth) values \r\n",
        "\r\n",
        "# Training data (X, y) is used to train the model and learn the weights W using gradient descent."
      ],
      "execution_count": 8,
      "outputs": []
    },
    {
      "cell_type": "code",
      "metadata": {
        "id": "y2hEOiSdWnmf"
      },
      "source": [
        "# Generating the data\r\n",
        "\r\n",
        "# - for this exercise, we will generate some dummy data to apply linear regression on. \r\n",
        "# - it will create roughly linear data (y = 3.5x + noise)\r\n",
        "# - the random noise will be added to create realistic data that doesn't perfectly align in a line.\r\n",
        "# - there will be slight variance since we added some noise "
      ],
      "execution_count": 9,
      "outputs": []
    },
    {
      "cell_type": "code",
      "metadata": {
        "colab": {
          "base_uri": "https://localhost:8080/"
        },
        "id": "QsBIA_YlXN4d",
        "outputId": "8430c546-dc79-4463-c1e1-fc09b7554710"
      },
      "source": [
        "# Importing the necessary libraries \r\n",
        "\r\n",
        "import numpy as np\r\n",
        "import pandas as pd \r\n",
        "import matplotlib.pyplot as plt\r\n",
        "print (\"Libraries successfully imported\")"
      ],
      "execution_count": 18,
      "outputs": [
        {
          "output_type": "stream",
          "text": [
            "Libraries successfully imported\n"
          ],
          "name": "stdout"
        }
      ]
    },
    {
      "cell_type": "code",
      "metadata": {
        "id": "FTYLonQrXe1z"
      },
      "source": [
        "# set seed for reproducibility \r\n",
        "SEED = 1234\r\n",
        "NUM_SAMPLES = 50\r\n",
        "\r\n",
        "np.random.seed(SEED)"
      ],
      "execution_count": 19,
      "outputs": []
    },
    {
      "cell_type": "code",
      "metadata": {
        "id": "bntHexWeXsQ_"
      },
      "source": [
        "# Generating dummy data\r\n",
        "\r\n",
        "def generate_data(num_samples):\r\n",
        "  \"\"\"Generate dummy data for linear regression\"\"\"\r\n",
        "  X = np.array(range(num_samples))\r\n",
        "  random_noise = np.random.uniform(-10,20,size = num_samples)\r\n",
        "  y = 3.5 * X + random_noise # add some noise\r\n",
        "  return X, y"
      ],
      "execution_count": 20,
      "outputs": []
    },
    {
      "cell_type": "code",
      "metadata": {
        "id": "EBeaC_GUYY6h",
        "colab": {
          "base_uri": "https://localhost:8080/"
        },
        "outputId": "5bff2da4-ce06-4f44-ed92-5f3f4c990644"
      },
      "source": [
        "# Generate random (linear) data\r\n",
        "\r\n",
        "X, y = generate_data(num_samples = NUM_SAMPLES)\r\n",
        "data = np.vstack([X, y]).T\r\n",
        "print (data[:5])"
      ],
      "execution_count": 21,
      "outputs": [
        {
          "output_type": "stream",
          "text": [
            "[[ 0.         -4.25441649]\n",
            " [ 1.         12.16326313]\n",
            " [ 2.         10.13183217]\n",
            " [ 3.         24.06075751]\n",
            " [ 4.         27.39927424]]\n"
          ],
          "name": "stdout"
        }
      ]
    },
    {
      "cell_type": "code",
      "metadata": {
        "colab": {
          "base_uri": "https://localhost:8080/",
          "height": 200
        },
        "id": "4byZ4RdscYJs",
        "outputId": "777bb47a-e0ad-42cc-8744-5c4629f91f4b"
      },
      "source": [
        "# Loading data into the Pandas DataFrame\r\n",
        "\r\n",
        "df = pd.DataFrame(data, columns = [\"X\", \"y\"])\r\n",
        "X = df[[\"X\"]].values\r\n",
        "y = df[[\"y\"]].values\r\n",
        "df.head()"
      ],
      "execution_count": 23,
      "outputs": [
        {
          "output_type": "execute_result",
          "data": {
            "text/html": [
              "<div>\n",
              "<style scoped>\n",
              "    .dataframe tbody tr th:only-of-type {\n",
              "        vertical-align: middle;\n",
              "    }\n",
              "\n",
              "    .dataframe tbody tr th {\n",
              "        vertical-align: top;\n",
              "    }\n",
              "\n",
              "    .dataframe thead th {\n",
              "        text-align: right;\n",
              "    }\n",
              "</style>\n",
              "<table border=\"1\" class=\"dataframe\">\n",
              "  <thead>\n",
              "    <tr style=\"text-align: right;\">\n",
              "      <th></th>\n",
              "      <th>X</th>\n",
              "      <th>y</th>\n",
              "    </tr>\n",
              "  </thead>\n",
              "  <tbody>\n",
              "    <tr>\n",
              "      <th>0</th>\n",
              "      <td>0.0</td>\n",
              "      <td>-4.254416</td>\n",
              "    </tr>\n",
              "    <tr>\n",
              "      <th>1</th>\n",
              "      <td>1.0</td>\n",
              "      <td>12.163263</td>\n",
              "    </tr>\n",
              "    <tr>\n",
              "      <th>2</th>\n",
              "      <td>2.0</td>\n",
              "      <td>10.131832</td>\n",
              "    </tr>\n",
              "    <tr>\n",
              "      <th>3</th>\n",
              "      <td>3.0</td>\n",
              "      <td>24.060758</td>\n",
              "    </tr>\n",
              "    <tr>\n",
              "      <th>4</th>\n",
              "      <td>4.0</td>\n",
              "      <td>27.399274</td>\n",
              "    </tr>\n",
              "  </tbody>\n",
              "</table>\n",
              "</div>"
            ],
            "text/plain": [
              "     X          y\n",
              "0  0.0  -4.254416\n",
              "1  1.0  12.163263\n",
              "2  2.0  10.131832\n",
              "3  3.0  24.060758\n",
              "4  4.0  27.399274"
            ]
          },
          "metadata": {
            "tags": []
          },
          "execution_count": 23
        }
      ]
    },
    {
      "cell_type": "code",
      "metadata": {
        "colab": {
          "base_uri": "https://localhost:8080/",
          "height": 281
        },
        "id": "JPPeCW0Ac0FK",
        "outputId": "2a1048fa-263a-4adc-f0cb-d4daf9d7b5d1"
      },
      "source": [
        "# Making a scatter plot \r\n",
        "plt.title(\"Generated data\")\r\n",
        "plt.scatter(x = df[\"X\"], y = df[\"y\"])\r\n",
        "plt.show()"
      ],
      "execution_count": 24,
      "outputs": [
        {
          "output_type": "display_data",
          "data": {
            "image/png": "[encoded data removed]",
            "text/plain": [
              "<Figure size 432x288 with 1 Axes>"
            ]
          },
          "metadata": {
            "tags": [],
            "needs_background": "light"
          }
        }
      ]
    },
    {
      "cell_type": "code",
      "metadata": {
        "id": "WOKxe8OYdrpp"
      },
      "source": [
        "## Numpy implementation "
      ],
      "execution_count": null,
      "outputs": []
    }
  ]
}