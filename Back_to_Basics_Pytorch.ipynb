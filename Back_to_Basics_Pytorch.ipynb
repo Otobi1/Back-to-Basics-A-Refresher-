{
  "nbformat": 4,
  "nbformat_minor": 0,
  "metadata": {
    "colab": {
      "name": "Back to Basics: Pytorch",
      "provenance": [],
      "authorship_tag": "ABX9TyM92PcFBrWhlJDjUD19ydgx",
      "include_colab_link": true
    },
    "kernelspec": {
      "name": "python3",
      "display_name": "Python 3"
    }
  },
  "cells": [
    {
      "cell_type": "markdown",
      "metadata": {
        "id": "view-in-github",
        "colab_type": "text"
      },
      "source": [
        "<a href=\"https://colab.research.google.com/github/Otobi1/Back-to-Basics-A-Refresher-/blob/master/Back_to_Basics_Pytorch.ipynb\" target=\"_parent\"><img src=\"https://colab.research.google.com/assets/colab-badge.svg\" alt=\"Open In Colab\"/></a>"
      ]
    },
    {
      "cell_type": "code",
      "metadata": {
        "id": "9Kw8KMAaGe3_",
        "colab": {
          "base_uri": "https://localhost:8080/"
        },
        "outputId": "4414a4c0-9b79-461c-926b-2eaefcaaa79b"
      },
      "source": [
        "# Importing the needed libraries \r\n",
        "\r\n",
        "import numpy as np\r\n",
        "import torch \r\n",
        "\r\n",
        "print (\"Libraries successfully imported!\")"
      ],
      "execution_count": 1,
      "outputs": [
        {
          "output_type": "stream",
          "text": [
            "Libraries successfully imported!\n"
          ],
          "name": "stdout"
        }
      ]
    },
    {
      "cell_type": "code",
      "metadata": {
        "colab": {
          "base_uri": "https://localhost:8080/"
        },
        "id": "nhdAyzfKgJWR",
        "outputId": "972c36b3-6b51-4448-c375-1660c312e487"
      },
      "source": [
        "# Set seed for reproducibility \r\n",
        "\r\n",
        "SEED = 1234\r\n",
        "np.random.seed(seed = SEED)\r\n",
        "torch.manual_seed(SEED)"
      ],
      "execution_count": 2,
      "outputs": [
        {
          "output_type": "execute_result",
          "data": {
            "text/plain": [
              "<torch._C.Generator at 0x7f5ae9692b70>"
            ]
          },
          "metadata": {
            "tags": []
          },
          "execution_count": 2
        }
      ]
    },
    {
      "cell_type": "code",
      "metadata": {
        "colab": {
          "base_uri": "https://localhost:8080/"
        },
        "id": "VRDnoRqfgbYI",
        "outputId": "e38923b6-b0d9-4abb-b13e-c0581e0fe1f6"
      },
      "source": [
        "# Creating a random tensor \r\n",
        "\r\n",
        "x = torch.randn(2,3) # normal distribution (rand(2,3) -> uniform distribution)\r\n",
        "\r\n",
        "print (f\"Type: {x.type()}\")\r\n",
        "print (f\"Size: {x.shape}\")\r\n",
        "print (f\"Values: \\n{x}\")"
      ],
      "execution_count": 3,
      "outputs": [
        {
          "output_type": "stream",
          "text": [
            "Type: torch.FloatTensor\n",
            "Size: torch.Size([2, 3])\n",
            "Values: \n",
            "tensor([[ 0.0461,  0.4024, -1.0115],\n",
            "        [ 0.2167, -0.6123,  0.5036]])\n"
          ],
          "name": "stdout"
        }
      ]
    },
    {
      "cell_type": "code",
      "metadata": {
        "colab": {
          "base_uri": "https://localhost:8080/"
        },
        "id": "dYzdq6nPg99G",
        "outputId": "ea044c39-375f-41a9-9ef6-2aeb6bbce469"
      },
      "source": [
        "# Zero and ones tensor \r\n",
        "\r\n",
        "x = torch.zeros(2,3)\r\n",
        "print(x)\r\n",
        "x = torch.ones(2,3)\r\n",
        "print (x)"
      ],
      "execution_count": 4,
      "outputs": [
        {
          "output_type": "stream",
          "text": [
            "tensor([[0., 0., 0.],\n",
            "        [0., 0., 0.]])\n",
            "tensor([[1., 1., 1.],\n",
            "        [1., 1., 1.]])\n"
          ],
          "name": "stdout"
        }
      ]
    },
    {
      "cell_type": "code",
      "metadata": {
        "colab": {
          "base_uri": "https://localhost:8080/"
        },
        "id": "Ii2_nSydhMYz",
        "outputId": "dcd49ba9-ffb3-4224-fbec-21cc751cb68f"
      },
      "source": [
        "# List -> Tensor\r\n",
        "x = torch.Tensor([[1,2,3], [4,5,6]])\r\n",
        "\r\n",
        "print (f\"Size: {x.shape}\")\r\n",
        "print (f\"Values: \\n{x}\")"
      ],
      "execution_count": 5,
      "outputs": [
        {
          "output_type": "stream",
          "text": [
            "Size: torch.Size([2, 3])\n",
            "Values: \n",
            "tensor([[1., 2., 3.],\n",
            "        [4., 5., 6.]])\n"
          ],
          "name": "stdout"
        }
      ]
    },
    {
      "cell_type": "code",
      "metadata": {
        "colab": {
          "base_uri": "https://localhost:8080/"
        },
        "id": "5jzYGrsJhjcA",
        "outputId": "9212ad25-9753-4da2-e554-0e7a33d15e82"
      },
      "source": [
        "# Numpy array -> Tensor\r\n",
        "\r\n",
        "x = torch.Tensor(np.random.rand(2,3))\r\n",
        "\r\n",
        "print (f\"Size: {x.shape}\")\r\n",
        "print (f\"Values: \\n{x}\")"
      ],
      "execution_count": 6,
      "outputs": [
        {
          "output_type": "stream",
          "text": [
            "Size: torch.Size([2, 3])\n",
            "Values: \n",
            "tensor([[0.1915, 0.6221, 0.4377],\n",
            "        [0.7854, 0.7800, 0.2726]])\n"
          ],
          "name": "stdout"
        }
      ]
    },
    {
      "cell_type": "code",
      "metadata": {
        "colab": {
          "base_uri": "https://localhost:8080/"
        },
        "id": "KUTlNVvziZYT",
        "outputId": "cff34e76-0804-40aa-cc37-0ec6c0ebab00"
      },
      "source": [
        "# Changing tensor type\r\n",
        "\r\n",
        "x = torch.Tensor(3,4)\r\n",
        "print (f\"Type: {x.type()}\")\r\n",
        "x = x.long()\r\n",
        "print (f\"Type: {x.type()}\")"
      ],
      "execution_count": 7,
      "outputs": [
        {
          "output_type": "stream",
          "text": [
            "Type: torch.FloatTensor\n",
            "Type: torch.LongTensor\n"
          ],
          "name": "stdout"
        }
      ]
    },
    {
      "cell_type": "code",
      "metadata": {
        "id": "xbY2oZqLi4Yx"
      },
      "source": [
        "## Operations "
      ],
      "execution_count": null,
      "outputs": []
    }
  ]
}